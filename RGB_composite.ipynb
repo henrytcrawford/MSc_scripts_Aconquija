{
 "cells": [
  {
   "cell_type": "code",
   "execution_count": null,
   "id": "40fa4d4f-adde-4a3d-8771-2b11ad3366b9",
   "metadata": {},
   "outputs": [],
   "source": [
    "# create 3-band RGB composit from multiband raster. \n",
    "# manual input of target bands and sensor name (e.g. Landsat, Prisma, WV3) in code block #2\n",
    "\n",
    "## if image composite alrady exists there will be an error"
   ]
  },
  {
   "cell_type": "code",
   "execution_count": 31,
   "id": "e47d9404-55aa-4621-ae9d-ac6a148238de",
   "metadata": {},
   "outputs": [],
   "source": [
    "# load libraries\n",
    "\n",
    "import geopandas as gpd\n",
    "import rasterio as rio\n",
    "from rasterio.plot import show\n",
    "from rasterio.plot import show_hist\n",
    "from rasterio.mask import mask\n",
    "import rasterstats\n",
    "import matplotlib.pyplot as plt\n",
    "import numpy as np\n",
    "import pandas as pd\n",
    "import os\n",
    "from os import path\n",
    "\n",
    "current_dir = os.getcwd() # current directory for scripts/git\n",
    "parent_dir = os.path.dirname(current_dir) # one level up for exports\n",
    "#parent_dir = os.path.dirname(parent_dir) # two levels up for exports"
   ]
  },
  {
   "cell_type": "code",
   "execution_count": 40,
   "id": "c7371c5b-70b9-4202-b985-60073c453610",
   "metadata": {},
   "outputs": [],
   "source": [
    "## MANUAL INPUT ##\n",
    "target_data_file = r'C:\\Users\\htccr\\Documents\\Aconquija\\imagery\\landsat8\\export\\clipped\\Landsat8_SR_stacked_clipped-surfaces_BCET.tif'\n",
    "sensor = 'Landsat'\n",
    "R = 6\n",
    "G = 4\n",
    "B = 2"
   ]
  },
  {
   "cell_type": "code",
   "execution_count": 41,
   "id": "6096830e-a907-4ec4-bed5-94566aaf347e",
   "metadata": {},
   "outputs": [
    {
     "data": {
      "image/png": "[encoded data removed]",
      "text/plain": [
       "<Figure size 432x288 with 1 Axes>"
      ]
     },
     "metadata": {
      "needs_background": "light"
     },
     "output_type": "display_data"
    },
    {
     "data": {
      "image/png": "[encoded data removed]",
      "text/plain": [
       "<Figure size 432x288 with 111 Axes>"
      ]
     },
     "metadata": {
      "needs_background": "light"
     },
     "output_type": "display_data"
    },
    {
     "data": {
      "text/plain": [
       "<AxesSubplot:>"
      ]
     },
     "execution_count": 41,
     "metadata": {},
     "output_type": "execute_result"
    }
   ],
   "source": [
    "## \n",
    "data_src = rio.open(target_data_file, 'r')\n",
    "data_profile = data_src.profile\n",
    "\n",
    "rgb_file = parent_dir + '\\outputs\\\\aconquija_{}{}{}{}.tif'.format(sensor, R,G,B)\n",
    "\n",
    "# create RGB file flor plotting\n",
    "# Conacate RRGB bands\n",
    "rgb = data_src.read([R,G,B])\n",
    "rgb = (rgb * (255 / np.max(rgb))).astype(rio.uint8) # normalize to 0-255 range\n",
    "#rgb[rgb==0] = np.max(rgb) #put nodata as max value so backround plots white... \n",
    "\n",
    "## Save RGB Image and load in for plotting\n",
    "# Register GDAL format drivers and configuration options with a\n",
    "# context manager.\n",
    "with rio.Env():\n",
    "\n",
    "    # Write an array as a raster band to a new 8-bit file. For\n",
    "    # the new file's profile, we start with the profile of the source\n",
    "    profile = data_src.profile\n",
    "\n",
    "    # And then change the band count to 1, set the\n",
    "    # dtype to uint8, and specify LZW compression.\n",
    "    profile.update(\n",
    "        dtype=rio.uint8,\n",
    "        count=3,\n",
    "        nodata = 0,\n",
    "        compress='lzw')\n",
    "    \n",
    "    with rio.open(rgb_file,'w',**profile) as dst:\n",
    "        dst.write(rgb)\n",
    "\n",
    "# Read in RGB image\n",
    "rgb_src = rio.open(rgb_file, 'r')\n",
    "rgb_profile = rgb_src.profile\n",
    "\n",
    "plt.plot(figsize = (10,10))\n",
    "show(rgb_src)"
   ]
  }
 ],
 "metadata": {
  "kernelspec": {
   "display_name": "geo_env",
   "language": "python",
   "name": "geo_env"
  },
  "language_info": {
   "codemirror_mode": {
    "name": "ipython",
    "version": 3
   },
   "file_extension": ".py",
   "mimetype": "text/x-python",
   "name": "python",
   "nbconvert_exporter": "python",
   "pygments_lexer": "ipython3",
   "version": "3.9.6"
  }
 },
 "nbformat": 4,
 "nbformat_minor": 5
}
