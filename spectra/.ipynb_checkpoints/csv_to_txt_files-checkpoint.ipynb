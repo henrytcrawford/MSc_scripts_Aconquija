{
 "cells": [
  {
   "cell_type": "code",
   "execution_count": 2,
   "id": "d2932cb6-6ca1-421d-b9e1-43bb47780cf4",
   "metadata": {},
   "outputs": [],
   "source": [
    "# import libraries\n",
    "import os\n",
    "import numpy as np\n",
    "import pandas as pd"
   ]
  },
  {
   "cell_type": "code",
   "execution_count": 30,
   "id": "7abfef7e-6997-4c69-ac15-3ee055b1bb43",
   "metadata": {},
   "outputs": [],
   "source": [
    "# save each column in .csv file as individual ACSII files\n",
    "# column names as .txt file name\n",
    "\n",
    "df = pd.read_csv(r'c:\\Users\\htccr\\Documents\\Aconquija\\Terraspec\\spec_libs\\Crete_Greece_soil-spectra.csv') # read in file\n",
    "\n",
    "#df = df[0:230] # for PRISMA!\n",
    "nm = np.round(df[\"nm\"],1).tolist()\n",
    "df = df.drop(['nm'], axis=1)\n",
    "names = df.columns.tolist()\n",
    "#names = np.array(names).astype(float)\n",
    "#names = np.round(names,2)\n",
    "\n",
    "n = len(names)\n",
    "\n",
    "for i in range(n):\n",
    "    sample = np.array(df.iloc[:, i])\n",
    "    sample_name = names[i]\n",
    "    to_save = pd.DataFrame(nm)\n",
    "    to_save.insert(1, '{}'.format(sample_name), sample, False)\n",
    "    to_save.to_csv('crete_greece_profiles/{}.txt'.format(sample_name), sep='\\t', index=False, header = None) # save to specified folder"
   ]
  }
 ],
 "metadata": {
  "kernelspec": {
   "display_name": "p3.6_spectral",
   "language": "python",
   "name": "p3.6_spectral"
  },
  "language_info": {
   "codemirror_mode": {
    "name": "ipython",
    "version": 3
   },
   "file_extension": ".py",
   "mimetype": "text/x-python",
   "name": "python",
   "nbconvert_exporter": "python",
   "pygments_lexer": "ipython3",
   "version": "3.6.15"
  }
 },
 "nbformat": 4,
 "nbformat_minor": 5
}
