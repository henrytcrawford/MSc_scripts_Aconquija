{
 "cells": [
  {
   "cell_type": "code",
   "execution_count": 4,
   "id": "d2932cb6-6ca1-421d-b9e1-43bb47780cf4",
   "metadata": {},
   "outputs": [],
   "source": [
    "# import libraries\n",
    "import os\n",
    "import numpy as np\n",
    "import pandas as pd\n",
    "import openpyxl # must include as engine when opening .xlsx files in p3.6\n",
    "from openpyxl.workbook import Workbook "
   ]
  },
  {
   "cell_type": "code",
   "execution_count": 20,
   "id": "e46ae5a9-c7da-445c-ae3f-f37de844755e",
   "metadata": {},
   "outputs": [],
   "source": [
    "### PREP DATA ###\n",
    "\n",
    "## MANUAL INPUT ## -- locate file\n",
    "sensor = 'terraspec'\n",
    "target_file = 'C:/Users/htccr/Documents/Aconquija/python_scripts/outputs/' + sensor + '_sc_spots.xlsx'\n",
    "sensor_meta = pd.read_csv('C:/Users/htccr/Documents/Aconquija/python_scripts/keep/'+ sensor + '_meta.csv', header = 0, index_col = None)\n",
    " \n",
    "data = pd.read_excel(target_file, sheet_name = 'band_mean', header = None, index_col = None, engine='openpyxl')\n",
    "#data_std = pd.read_excel(target_file, sheet_name = 'band_std', header = None, index_col = None, engine='openpyxl')\n",
    "data_vars = pd.read_excel(target_file, sheet_name = 'variables', header = 0, index_col = None, engine='openpyxl')\n",
    "spots_meta = pd.read_excel('C:/Users/htccr/Documents/Aconquija/python_scripts/outputs/spots_meta.xlsx',sheet_name = 'Sheet1', header = 0, index_col = None, engine='openpyxl')\n",
    "\n",
    "# decompact data_vars\n",
    "age = np.array(data_vars['age'])\n",
    "age_sd = np.array(data_vars['age_sd'])\n",
    "age_n = np.array(data_vars['age_n'])\n",
    "fan = np.array(data_vars['fan'])\n",
    "unit = np.array(data_vars['unit'])\n",
    "unique = np.array(data_vars['unique'])\n",
    "pix_count = np.array(data_vars['pix_count'])\n",
    "\n",
    "# decompact sensor metadata (e.g. nm, band names) and create dictionaries\n",
    "band_names = sensor_meta.Band\n",
    "nm_names = sensor_meta.nm.values\n",
    "nm_names = np.round(nm_names,1)\n",
    "band_dict_nm = pd.Series(sensor_meta.Name.values,index=nm_names).to_dict()\n",
    "band_dict_idx  = pd.Series(sensor_meta.Name.values,index=sensor_meta.index.values).to_dict() # create dictionary of band names to wavelength\n",
    "nm_dict = pd.Series(sensor_meta.nm.values,index=sensor_meta.Band).to_dict() # create dictionary of band names to wavelength\n",
    "\n",
    "data = data.T"
   ]
  },
  {
   "cell_type": "code",
   "execution_count": 23,
   "id": "46383c08-3f97-4cd3-a01f-b6365e0878be",
   "metadata": {},
   "outputs": [],
   "source": [
    "# save as .txt with age as file name\n",
    "\n",
    "n = len(age)\n",
    "\n",
    "for i in range(n):\n",
    "    sample = np.array(data.iloc[:, i])\n",
    "    sample_name = age[i]\n",
    "    to_save = pd.DataFrame(nm_names)\n",
    "    to_save.insert(1, '{}'.format(sample_name), sample, False)\n",
    "    to_save.to_csv('terraspec_sc_profiles/{}.txt'.format(sample_name), sep='\\t', index=False, header = None) # save to specified folder"
   ]
  }
 ],
 "metadata": {
  "kernelspec": {
   "display_name": "p3.6_spectral",
   "language": "python",
   "name": "p3.6_spectral"
  },
  "language_info": {
   "codemirror_mode": {
    "name": "ipython",
    "version": 3
   },
   "file_extension": ".py",
   "mimetype": "text/x-python",
   "name": "python",
   "nbconvert_exporter": "python",
   "pygments_lexer": "ipython3",
   "version": "3.6.15"
  }
 },
 "nbformat": 4,
 "nbformat_minor": 5
}
