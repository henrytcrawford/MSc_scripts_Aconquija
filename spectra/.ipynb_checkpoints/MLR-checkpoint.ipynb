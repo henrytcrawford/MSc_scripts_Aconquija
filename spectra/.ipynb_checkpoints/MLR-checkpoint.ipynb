{
 "cells": [
  {
   "cell_type": "code",
   "execution_count": 25,
   "id": "b98bf5b0-1f6f-48f9-9fce-11100d295fc2",
   "metadata": {},
   "outputs": [],
   "source": [
    "#import all required libraries etc\n",
    "\n",
    "from scipy.io import loadmat\n",
    "import pandas as pd\n",
    "import numpy as np\n",
    "import matplotlib.pyplot as plt\n",
    "from sklearn import linear_model\n",
    "import statsmodels.api as sm\n",
    "import itertools\n",
    "\n",
    "#run notebook with functions we'll need\n",
    "%run ./Lab2_2020_functions.ipynb"
   ]
  },
  {
   "cell_type": "code",
   "execution_count": 33,
   "id": "ce49fdf7-e196-4267-8739-82a8d3844c83",
   "metadata": {},
   "outputs": [],
   "source": [
    "#run stepwise regression function\n",
    "#NOTE: stepwise_selection function used from: \n",
    "#https://datascience.stackexchange.com/questions/24405/how-to-do-stepwise-regression-using-sklearn/24447#24447\n",
    "\n",
    "def stepwise_selection(X, y, \n",
    "                       initial_list=[], \n",
    "                       threshold_in=0.01, \n",
    "                       threshold_out = 0.05, \n",
    "                       verbose=True):\n",
    "    \n",
    "    \"\"\" Perform a forward-backward feature selection \n",
    "    based on p-value from statsmodels.api.OLS\n",
    "    Arguments:\n",
    "        X - pandas.DataFrame with candidate features\n",
    "        y - list-like with the target\n",
    "        initial_list - list of features to start with (column names of X)\n",
    "        threshold_in - include a feature if its p-value < threshold_in\n",
    "        threshold_out - exclude a feature if its p-value > threshold_out\n",
    "        verbose - whether to print the sequence of inclusions and exclusions\n",
    "    Returns: list of selected features \n",
    "    Always set threshold_in < threshold_out to avoid infinite looping.\n",
    "    See https://en.wikipedia.org/wiki/Stepwise_regression for the details\n",
    "    \"\"\"\n",
    "    \n",
    "    included = list(initial_list)\n",
    "    while True:\n",
    "        changed=False\n",
    "        # forward step\n",
    "        excluded = list(set(X.columns)-set(included))\n",
    "#         print(excluded)\n",
    "        new_pval = pd.Series(index=excluded, dtype = 'float64')\n",
    "        for new_column in excluded:\n",
    "#             print(included, new_column)\n",
    "            model = sm.OLS(y, sm.add_constant(pd.DataFrame(X[included+[new_column]]))).fit()\n",
    "            new_pval[new_column] = model.pvalues[new_column]\n",
    "        best_pval = new_pval.min()\n",
    "        if best_pval < threshold_in:\n",
    "            best_feature = excluded[new_pval.argmin()]\n",
    "#             print(best_feature, included)\n",
    "            included.append(best_feature)\n",
    "            changed=True\n",
    "            if verbose:\n",
    "                print('Add  {:30} with p-value {:.6}'.format(best_feature, best_pval))\n",
    "\n",
    "        # backward step\n",
    "        model = sm.OLS(y, sm.add_constant(pd.DataFrame(X[included]))).fit()\n",
    "        # use all coefs except intercept\n",
    "        pvalues = model.pvalues.iloc[1:]\n",
    "        worst_pval = pvalues.max() # null if pvalues is empty\n",
    "        if worst_pval > threshold_out:\n",
    "            changed=True\n",
    "            worst_feature = pvalues.idxmax()\n",
    "            included.remove(worst_feature)\n",
    "            if verbose:\n",
    "                print('Drop {:30} with p-value {:.6}'.format(X.columns[worst_feature], worst_pval))\n",
    "        if not changed:\n",
    "            break\n",
    "    return included"
   ]
  },
  {
   "cell_type": "code",
   "execution_count": null,
   "id": "60978170-9bff-4402-a649-190f2338cda6",
   "metadata": {},
   "outputs": [],
   "source": []
  },
  {
   "cell_type": "code",
   "execution_count": 124,
   "id": "b082d88d-9f31-40fc-a152-d883f1c7c741",
   "metadata": {},
   "outputs": [],
   "source": [
    "data = pd.read_csv('terraspec_crs_MLR.csv')\n",
    "data['age'] = np.round(data['age'],2)\n",
    "age = data['age']\n",
    "data = data.drop(['age'], axis = 1)\n",
    "data = ((data - data.mean())/data.std())\n",
    "data = data.dropna(axis=1) # drop columns whichcontain NaN\n",
    "\n",
    "# create training and testing dataset\n",
    "data_test = data.loc[[12]]\n",
    "data = data.drop(labels = [12], axis = 0)\n",
    "\n",
    "age_test = age.loc[[12]]\n",
    "age = age.drop(labels = [12], axis = 0)\n",
    "\n",
    "y_train = age\n",
    "X_train = data # drop columns whichcontain NaN\n",
    "\n",
    "y_test = age_test\n",
    "X_test = data_test\n",
    "# check"
   ]
  },
  {
   "cell_type": "code",
   "execution_count": 125,
   "id": "9ad628f8-16b9-4d42-b108-7c0f62e4d105",
   "metadata": {},
   "outputs": [
    {
     "name": "stdout",
     "output_type": "stream",
     "text": [
      "MLR results:\n",
      "a0 = 63.56883723367199\n",
      "a1 = 0.499590644783378\n",
      "a2 = -0.0833126874892125\n",
      "a3 = -0.031154649733521556\n",
      "a4 = 0.4379219984773904\n",
      "a5 = 0.46247844345283484\n",
      "a6 = 0.2699171049344331\n",
      "etc...\n"
     ]
    },
    {
     "data": {
      "text/plain": [
       "1.0"
      ]
     },
     "execution_count": 125,
     "metadata": {},
     "output_type": "execute_result"
    }
   ],
   "source": [
    "lm_MLR = linear_model.LinearRegression()\n",
    "model = lm_MLR.fit(X_train,y_train)\n",
    "ypred_MLR = lm_MLR.predict(X_train) #y predicted by MLR\n",
    "intercept_MLR = lm_MLR.intercept_ #intercept predicted by MLR\n",
    "coef_MLR = lm_MLR.coef_ #regression coefficients in MLR model\n",
    "R2_MLR = lm_MLR.score(X_train,y_train) #R-squared value from MLR model\n",
    "\n",
    "print('MLR results:')\n",
    "print('a0 = ' + str(intercept_MLR))\n",
    "print('a1 = ' + str(coef_MLR[0]))\n",
    "print('a2 = ' + str(coef_MLR[1]))\n",
    "print('a3 = ' + str(coef_MLR[2]))\n",
    "print('a4 = ' + str(coef_MLR[3]))\n",
    "print('a5 = ' + str(coef_MLR[4]))\n",
    "print('a6 = ' + str(coef_MLR[5]))\n",
    "print('etc...')\n",
    "R2_MLR"
   ]
  },
  {
   "cell_type": "code",
   "execution_count": 126,
   "id": "107991b8-d1f9-432b-a59d-c8f3466503d7",
   "metadata": {},
   "outputs": [
    {
     "name": "stdout",
     "output_type": "stream",
     "text": [
      "[-5.59511596]\n",
      "12    319.22\n",
      "Name: age, dtype: float64\n"
     ]
    },
    {
     "data": {
      "image/png": "[encoded data removed]",
      "text/plain": [
       "<Figure size 432x288 with 1 Axes>"
      ]
     },
     "metadata": {
      "needs_background": "light"
     },
     "output_type": "display_data"
    }
   ],
   "source": [
    "age_mod = lm_MLR.predict(X_train)\n",
    "\n",
    "age_mod_test = lm_MLR.predict(X_test)\n",
    "\n",
    "plt.scatter(y_train, age_mod, c = 'blue')\n",
    "plt.scatter(y_test, age_mod_test, c = 'red')\n",
    "\n",
    "print(age_mod_test)\n",
    "print(y_test)"
   ]
  },
  {
   "cell_type": "code",
   "execution_count": 127,
   "id": "af5b4bba-b987-4937-b4bc-5c8b747e0833",
   "metadata": {},
   "outputs": [
    {
     "name": "stdout",
     "output_type": "stream",
     "text": [
      "Add  641.0                          with p-value 0.00822729\n",
      "Add  2478.0                         with p-value 0.00158559\n",
      "Add  653.0                          with p-value 0.00623839\n",
      "resulting features:\n",
      "['641.0', '2478.0', '653.0']\n"
     ]
    }
   ],
   "source": [
    "import warnings\n",
    "warnings.filterwarnings('ignore')\n",
    "#now, use stepwise regression to find which predictors to use\n",
    "\n",
    "result = stepwise_selection(X_train, y_train)\n",
    "\n",
    "print('resulting features:')\n",
    "print(result)"
   ]
  },
  {
   "cell_type": "code",
   "execution_count": 128,
   "id": "83406866-8028-4d81-afa9-aded35f2caa9",
   "metadata": {},
   "outputs": [
    {
     "name": "stdout",
     "output_type": "stream",
     "text": [
      "stepwise MLR results:\n",
      "a0 = 62.82865223960157\n",
      "a1 = -65.44953549314647\n"
     ]
    },
    {
     "data": {
      "text/plain": [
       "Text(0.5, 1.0, 'MLR data')"
      ]
     },
     "execution_count": 128,
     "metadata": {},
     "output_type": "execute_result"
    },
    {
     "data": {
      "image/png": "[encoded data removed]",
      "text/plain": [
       "<Figure size 2880x360 with 1 Axes>"
      ]
     },
     "metadata": {
      "needs_background": "light"
     },
     "output_type": "display_data"
    }
   ],
   "source": [
    "#do MLR using predictors chosen from stepwise regression\n",
    "lm_step = linear_model.LinearRegression()\n",
    "model_step = lm_step.fit(X_train[result],y_train)\n",
    "ypred_step = lm_step.predict(X_train[result]) #y predicted by MLR\n",
    "intercept_step = lm_step.intercept_ #intercept predicted by MLR\n",
    "coef_step = lm_step.coef_ #regression coefficients in MLR model\n",
    "R2_step = lm_step.score(X_train[result],y_train) #R-squared value from MLR model\n",
    "\n",
    "print('stepwise MLR results:')\n",
    "print('a0 = ' + str(intercept_step))\n",
    "print('a1 = ' + str(coef_step[0]))\n",
    "#print('a2 = ' + str(coef_step[1]))\n",
    "#print('a3 = ' + str(coef_step[2]))\n",
    "\n",
    "#visualize model (ADD y pred to legend!)\n",
    "\n",
    "plt.figure(figsize=[40,5])\n",
    "\n",
    "plt.subplot(1,2,1)\n",
    "plt.plot(X_train, '--', linewidth = 0.7)\n",
    "plt.plot(y_train, color = 'black')\n",
    "plt.plot(ypred_step, color = 'red')\n",
    "#plt.legend(X + y)\n",
    "plt.ylabel('Value')\n",
    "plt.xlabel('Time')\n",
    "plt.title('MLR data')"
   ]
  },
  {
   "cell_type": "code",
   "execution_count": 72,
   "id": "1943c742-197c-432f-ac70-9c6bed8f77a1",
   "metadata": {},
   "outputs": [
    {
     "data": {
      "text/plain": [
       "'2159.2878'"
      ]
     },
     "execution_count": 72,
     "metadata": {},
     "output_type": "execute_result"
    }
   ],
   "source": [
    "result[0]"
   ]
  },
  {
   "cell_type": "code",
   "execution_count": 112,
   "id": "12cb164d-03f8-4550-b48d-600d4f6294fb",
   "metadata": {},
   "outputs": [
    {
     "ename": "IndexError",
     "evalue": "index 2 is out of bounds for axis 0 with size 2",
     "output_type": "error",
     "traceback": [
      "\u001b[1;31m---------------------------------------------------------------------------\u001b[0m",
      "\u001b[1;31mIndexError\u001b[0m                                Traceback (most recent call last)",
      "\u001b[1;32m~\\AppData\\Local\\Temp/ipykernel_2988/3393115812.py\u001b[0m in \u001b[0;36m<module>\u001b[1;34m\u001b[0m\n\u001b[0;32m      2\u001b[0m \u001b[0ma1\u001b[0m \u001b[1;33m=\u001b[0m \u001b[0mcoef_step\u001b[0m\u001b[1;33m[\u001b[0m\u001b[1;36m0\u001b[0m\u001b[1;33m]\u001b[0m\u001b[1;33m\u001b[0m\u001b[1;33m\u001b[0m\u001b[0m\n\u001b[0;32m      3\u001b[0m \u001b[0ma2\u001b[0m \u001b[1;33m=\u001b[0m\u001b[0mcoef_step\u001b[0m\u001b[1;33m[\u001b[0m\u001b[1;36m1\u001b[0m\u001b[1;33m]\u001b[0m\u001b[1;33m\u001b[0m\u001b[1;33m\u001b[0m\u001b[0m\n\u001b[1;32m----> 4\u001b[1;33m \u001b[0ma3\u001b[0m \u001b[1;33m=\u001b[0m \u001b[0mcoef_step\u001b[0m\u001b[1;33m[\u001b[0m\u001b[1;36m2\u001b[0m\u001b[1;33m]\u001b[0m\u001b[1;33m\u001b[0m\u001b[1;33m\u001b[0m\u001b[0m\n\u001b[0m\u001b[0;32m      5\u001b[0m \u001b[1;33m\u001b[0m\u001b[0m\n\u001b[0;32m      6\u001b[0m \u001b[0mx1\u001b[0m \u001b[1;33m=\u001b[0m \u001b[0mX_train\u001b[0m\u001b[1;33m[\u001b[0m\u001b[0mresult\u001b[0m\u001b[1;33m[\u001b[0m\u001b[1;36m0\u001b[0m\u001b[1;33m]\u001b[0m\u001b[1;33m]\u001b[0m\u001b[1;33m\u001b[0m\u001b[1;33m\u001b[0m\u001b[0m\n",
      "\u001b[1;31mIndexError\u001b[0m: index 2 is out of bounds for axis 0 with size 2"
     ]
    }
   ],
   "source": [
    "a0 =  intercept_step\n",
    "a1 = coef_step[0]\n",
    "a2 =coef_step[1]\n",
    "a3 = coef_step[2]\n",
    "\n",
    "x1 = X_train[result[0]]\n",
    "x2 = X_train[result[1]]\n",
    "x3 = X_train[result[2]]\n",
    "\n",
    "age_mod = a1*x1 + a2*x2 + a3*x3 + a0\n",
    "\n",
    "x1_test = X_test[result[0]]\n",
    "x2_test = X_test[result[1]]\n",
    "x3_test = X_test[result[2]]\n",
    "\n",
    "age_mod_test = a1*x1_test + a2*x2_test + a3*x3_test + a0\n",
    "\n",
    "plt.scatter(y_train, age_mod, c = 'blue')\n",
    "plt.scatter(y_test, age_mod_test, c = 'red')\n",
    "\n",
    "print(age_mod_test)\n",
    "print(y_test)"
   ]
  },
  {
   "cell_type": "code",
   "execution_count": 57,
   "id": "650e5a09-e0b8-4585-b863-5b8491e897de",
   "metadata": {},
   "outputs": [
    {
     "data": {
      "text/html": [
       "<div>\n",
       "<style scoped>\n",
       "    .dataframe tbody tr th:only-of-type {\n",
       "        vertical-align: middle;\n",
       "    }\n",
       "\n",
       "    .dataframe tbody tr th {\n",
       "        vertical-align: top;\n",
       "    }\n",
       "\n",
       "    .dataframe thead th {\n",
       "        text-align: right;\n",
       "    }\n",
       "</style>\n",
       "<table border=\"1\" class=\"dataframe\">\n",
       "  <thead>\n",
       "    <tr style=\"text-align: right;\">\n",
       "      <th></th>\n",
       "      <th>402.4402</th>\n",
       "      <th>411.3164</th>\n",
       "      <th>419.3725</th>\n",
       "      <th>426.9674</th>\n",
       "      <th>434.3084</th>\n",
       "      <th>441.6589</th>\n",
       "      <th>449.0336</th>\n",
       "      <th>456.3773</th>\n",
       "      <th>463.731</th>\n",
       "      <th>470.9489</th>\n",
       "      <th>...</th>\n",
       "      <th>2407.3386</th>\n",
       "      <th>2414.1565</th>\n",
       "      <th>2420.9873</th>\n",
       "      <th>2428.4001</th>\n",
       "      <th>2435.3269</th>\n",
       "      <th>2442.1877</th>\n",
       "      <th>2448.9236</th>\n",
       "      <th>2456.3296</th>\n",
       "      <th>2462.813</th>\n",
       "      <th>2469.4155</th>\n",
       "    </tr>\n",
       "  </thead>\n",
       "  <tbody>\n",
       "    <tr>\n",
       "      <th>0</th>\n",
       "      <td>NaN</td>\n",
       "      <td>0.518408</td>\n",
       "      <td>0.825841</td>\n",
       "      <td>0.880763</td>\n",
       "      <td>1.166920</td>\n",
       "      <td>1.365999</td>\n",
       "      <td>1.283478</td>\n",
       "      <td>1.198478</td>\n",
       "      <td>1.058769</td>\n",
       "      <td>1.021751</td>\n",
       "      <td>...</td>\n",
       "      <td>-1.136405</td>\n",
       "      <td>-1.026819</td>\n",
       "      <td>0.309065</td>\n",
       "      <td>0.039222</td>\n",
       "      <td>-0.280010</td>\n",
       "      <td>-0.429627</td>\n",
       "      <td>-1.018336</td>\n",
       "      <td>0.717409</td>\n",
       "      <td>0.360307</td>\n",
       "      <td>NaN</td>\n",
       "    </tr>\n",
       "    <tr>\n",
       "      <th>1</th>\n",
       "      <td>NaN</td>\n",
       "      <td>0.312938</td>\n",
       "      <td>-0.219383</td>\n",
       "      <td>0.038627</td>\n",
       "      <td>-0.646533</td>\n",
       "      <td>-0.566582</td>\n",
       "      <td>0.093221</td>\n",
       "      <td>0.293357</td>\n",
       "      <td>0.463938</td>\n",
       "      <td>0.469078</td>\n",
       "      <td>...</td>\n",
       "      <td>0.327004</td>\n",
       "      <td>1.073372</td>\n",
       "      <td>-1.298958</td>\n",
       "      <td>-1.407720</td>\n",
       "      <td>-1.047343</td>\n",
       "      <td>-0.265180</td>\n",
       "      <td>1.178246</td>\n",
       "      <td>-1.526111</td>\n",
       "      <td>0.360307</td>\n",
       "      <td>NaN</td>\n",
       "    </tr>\n",
       "    <tr>\n",
       "      <th>2</th>\n",
       "      <td>NaN</td>\n",
       "      <td>0.730008</td>\n",
       "      <td>0.834922</td>\n",
       "      <td>0.890697</td>\n",
       "      <td>0.963795</td>\n",
       "      <td>1.273866</td>\n",
       "      <td>1.422370</td>\n",
       "      <td>1.492120</td>\n",
       "      <td>1.358019</td>\n",
       "      <td>1.206416</td>\n",
       "      <td>...</td>\n",
       "      <td>-0.269683</td>\n",
       "      <td>-0.253698</td>\n",
       "      <td>-0.104953</td>\n",
       "      <td>0.894096</td>\n",
       "      <td>0.225675</td>\n",
       "      <td>1.219951</td>\n",
       "      <td>-0.334789</td>\n",
       "      <td>-0.092994</td>\n",
       "      <td>0.360307</td>\n",
       "      <td>NaN</td>\n",
       "    </tr>\n",
       "    <tr>\n",
       "      <th>3</th>\n",
       "      <td>NaN</td>\n",
       "      <td>0.609924</td>\n",
       "      <td>0.794242</td>\n",
       "      <td>0.706371</td>\n",
       "      <td>0.939956</td>\n",
       "      <td>0.860722</td>\n",
       "      <td>0.775893</td>\n",
       "      <td>0.457870</td>\n",
       "      <td>0.410038</td>\n",
       "      <td>0.397040</td>\n",
       "      <td>...</td>\n",
       "      <td>-0.975140</td>\n",
       "      <td>-1.031942</td>\n",
       "      <td>0.528900</td>\n",
       "      <td>-0.330082</td>\n",
       "      <td>-0.328238</td>\n",
       "      <td>-0.681287</td>\n",
       "      <td>-1.226100</td>\n",
       "      <td>1.010403</td>\n",
       "      <td>0.360307</td>\n",
       "      <td>NaN</td>\n",
       "    </tr>\n",
       "    <tr>\n",
       "      <th>4</th>\n",
       "      <td>NaN</td>\n",
       "      <td>0.844942</td>\n",
       "      <td>0.884229</td>\n",
       "      <td>0.885223</td>\n",
       "      <td>0.558308</td>\n",
       "      <td>0.198235</td>\n",
       "      <td>0.112954</td>\n",
       "      <td>0.139576</td>\n",
       "      <td>0.256383</td>\n",
       "      <td>0.032777</td>\n",
       "      <td>...</td>\n",
       "      <td>-0.887392</td>\n",
       "      <td>-0.777421</td>\n",
       "      <td>-1.203251</td>\n",
       "      <td>-1.097189</td>\n",
       "      <td>-0.933458</td>\n",
       "      <td>0.222507</td>\n",
       "      <td>-0.319456</td>\n",
       "      <td>-0.869453</td>\n",
       "      <td>0.360307</td>\n",
       "      <td>NaN</td>\n",
       "    </tr>\n",
       "  </tbody>\n",
       "</table>\n",
       "<p>5 rows × 230 columns</p>\n",
       "</div>"
      ],
      "text/plain": [
       "   402.4402  411.3164  419.3725  426.9674  434.3084  441.6589  449.0336  \\\n",
       "0       NaN  0.518408  0.825841  0.880763  1.166920  1.365999  1.283478   \n",
       "1       NaN  0.312938 -0.219383  0.038627 -0.646533 -0.566582  0.093221   \n",
       "2       NaN  0.730008  0.834922  0.890697  0.963795  1.273866  1.422370   \n",
       "3       NaN  0.609924  0.794242  0.706371  0.939956  0.860722  0.775893   \n",
       "4       NaN  0.844942  0.884229  0.885223  0.558308  0.198235  0.112954   \n",
       "\n",
       "   456.3773   463.731  470.9489  ...  2407.3386  2414.1565  2420.9873  \\\n",
       "0  1.198478  1.058769  1.021751  ...  -1.136405  -1.026819   0.309065   \n",
       "1  0.293357  0.463938  0.469078  ...   0.327004   1.073372  -1.298958   \n",
       "2  1.492120  1.358019  1.206416  ...  -0.269683  -0.253698  -0.104953   \n",
       "3  0.457870  0.410038  0.397040  ...  -0.975140  -1.031942   0.528900   \n",
       "4  0.139576  0.256383  0.032777  ...  -0.887392  -0.777421  -1.203251   \n",
       "\n",
       "   2428.4001  2435.3269  2442.1877  2448.9236  2456.3296  2462.813  2469.4155  \n",
       "0   0.039222  -0.280010  -0.429627  -1.018336   0.717409  0.360307        NaN  \n",
       "1  -1.407720  -1.047343  -0.265180   1.178246  -1.526111  0.360307        NaN  \n",
       "2   0.894096   0.225675   1.219951  -0.334789  -0.092994  0.360307        NaN  \n",
       "3  -0.330082  -0.328238  -0.681287  -1.226100   1.010403  0.360307        NaN  \n",
       "4  -1.097189  -0.933458   0.222507  -0.319456  -0.869453  0.360307        NaN  \n",
       "\n",
       "[5 rows x 230 columns]"
      ]
     },
     "execution_count": 57,
     "metadata": {},
     "output_type": "execute_result"
    }
   ],
   "source": [
    "#load the data and check it out\n",
    "data = pd.read_csv('prisma_crs_MLR.csv')\n",
    "age = data['age']\n",
    "data = data.drop(['age'], axis = 1)\n",
    "names = data.columns\n",
    "#normalize data and check it out\n",
    "data = ((data - data.mean())/data.std())\n",
    "\n",
    "data.head()"
   ]
  },
  {
   "cell_type": "code",
   "execution_count": null,
   "id": "975fabbd-f13c-4724-8758-586dbbdc90a1",
   "metadata": {},
   "outputs": [],
   "source": [
    "y = age\n",
    "X = data.dropna(axis=1) # drop columns whichcontain NaN"
   ]
  },
  {
   "cell_type": "code",
   "execution_count": null,
   "id": "e8b1cbb1-08bf-4810-8390-55a29aa1a1f9",
   "metadata": {},
   "outputs": [],
   "source": [
    "\n",
    "plt.figure(figsize=[30,5])\n",
    "\n",
    "plt.subplot(1,2,1)\n",
    "plt.plot(X, '--', linewidth = 0.7)\n",
    "plt.plot(y, color = 'black')\n",
    "#plt.legend(X + y)\n",
    "plt.ylabel('Value')\n",
    "plt.xlabel('Time')\n",
    "plt.title('MLR data')\n"
   ]
  },
  {
   "cell_type": "code",
   "execution_count": null,
   "id": "1a6b2e90-7461-4c3e-9bec-d5f274a72d3e",
   "metadata": {},
   "outputs": [],
   "source": [
    "lm_MLR = linear_model.LinearRegression()\n",
    "model = lm_MLR.fit(X,y)\n",
    "ypred_MLR = lm_MLR.predict(X) #y predicted by MLR\n",
    "intercept_MLR = lm_MLR.intercept_ #intercept predicted by MLR\n",
    "coef_MLR = lm_MLR.coef_ #regression coefficients in MLR model\n",
    "R2_MLR = lm_MLR.score(X,y) #R-squared value from MLR model\n",
    "\n",
    "print('MLR results:')\n",
    "print('a0 = ' + str(intercept_MLR))\n",
    "print('a1 = ' + str(coef_MLR[0]))\n",
    "print('a2 = ' + str(coef_MLR[1]))\n",
    "print('a3 = ' + str(coef_MLR[2]))\n",
    "print('a4 = ' + str(coef_MLR[3]))\n",
    "print('a5 = ' + str(coef_MLR[4]))\n",
    "print('a6 = ' + str(coef_MLR[5]))\n",
    "print('etc...')\n",
    "R2_MLR"
   ]
  },
  {
   "cell_type": "code",
   "execution_count": null,
   "id": "95fff66f-a478-4e95-bf71-92850b950bea",
   "metadata": {},
   "outputs": [],
   "source": [
    "fs = 14\n",
    "ax1 = plt.subplot(111)\n",
    "ax1.scatter(y,ypred_MLR, c = 'darkblue')\n",
    "l1 = np.min(ax1.get_xlim())\n",
    "l2 = np.max(ax1.get_xlim())\n",
    "ax1.plot([l1,l2], [l1,l2], ls=\"--\", c=\"lightblue\", label = \"1:1 perfect match\")\n",
    "plt.xlabel('Y')\n",
    "plt.ylabel('Y_MLR')\n",
    "plt.title('MLR: R^2 = ' + str(R2_MLR)[:5], fontsize = fs)\n",
    "plt.legend()\n",
    "\n",
    "plt.show()"
   ]
  },
  {
   "cell_type": "code",
   "execution_count": null,
   "id": "b41524f8-ff7b-46f5-9969-2ac796403af4",
   "metadata": {},
   "outputs": [],
   "source": []
  },
  {
   "cell_type": "code",
   "execution_count": null,
   "id": "4b9eef15-22e0-4d5f-8c25-152e47bb6b0a",
   "metadata": {},
   "outputs": [],
   "source": [
    "import warnings\n",
    "warnings.filterwarnings('ignore')\n",
    "#now, use stepwise regression to find which predictors to use\n",
    "\n",
    "result = stepwise_selection(X, y)\n",
    "\n",
    "print('resulting features:')\n",
    "print(result)"
   ]
  },
  {
   "cell_type": "code",
   "execution_count": null,
   "id": "14852926-ae5f-4593-a423-fef13615db5f",
   "metadata": {},
   "outputs": [],
   "source": [
    "#do MLR using predictors chosen from stepwise regression\n",
    "lm_step = linear_model.LinearRegression()\n",
    "model_step = lm_step.fit(X[result],y)\n",
    "ypred_step = lm_step.predict(X[result]) #y predicted by MLR\n",
    "intercept_step = lm_step.intercept_ #intercept predicted by MLR\n",
    "coef_step = lm_step.coef_ #regression coefficients in MLR model\n",
    "R2_step = lm_step.score(X[result],y) #R-squared value from MLR model\n",
    "\n",
    "print('stepwise MLR results:')\n",
    "print('a0 = ' + str(intercept_step))\n",
    "print('a1 = ' + str(coef_step[0]))\n",
    "print('a2 = ' + str(coef_step[1]))\n",
    "print('a3 = ' + str(coef_step[2]))\n"
   ]
  },
  {
   "cell_type": "code",
   "execution_count": null,
   "id": "2b8b5d30-1b75-4eee-9d15-745a0aa3b0ec",
   "metadata": {},
   "outputs": [],
   "source": [
    "#which predictor is most important?\n",
    "print('Most important variable index for stepwise: ', np.argmax(np.abs(coef_step)))\n",
    "\n",
    "print('Most important variable for stepwise: ', result[np.argmax(np.abs(coef_step))])\n",
    "\n",
    "print(result)\n",
    "print(coef_step)"
   ]
  },
  {
   "cell_type": "code",
   "execution_count": null,
   "id": "0d09bc8d-ade3-43ed-9909-2a100cb767fd",
   "metadata": {},
   "outputs": [],
   "source": [
    "ypred_step"
   ]
  },
  {
   "cell_type": "code",
   "execution_count": null,
   "id": "c823823b-32de-442a-9c11-59a5e2d0f67f",
   "metadata": {},
   "outputs": [],
   "source": [
    "ax2 = plt.subplot(111)\n",
    "ax2.scatter(y,ypred_step, c = 'darkblue')\n",
    "l1 = np.min(ax2.get_xlim())\n",
    "l2 = np.max(ax2.get_xlim())\n",
    "ax2.plot([l1,l2], [l1,l2], ls=\"--\", c=\"lightblue\", label = \"1:1 perfect match\")\n",
    "plt.xlabel('Y')\n",
    "plt.ylabel('Y_step')\n",
    "plt.legend()\n",
    "plt.title('Stepwise: R^2 = ' + str(R2_step)[:5], fontsize = fs)\n",
    "\n",
    "plt.tight_layout()\n",
    "plt.show()"
   ]
  },
  {
   "cell_type": "code",
   "execution_count": null,
   "id": "f48838ed-677d-4a46-832d-1cb26c55f48b",
   "metadata": {},
   "outputs": [],
   "source": [
    "#visualize model (ADD y pred to legend!)\n",
    "\n",
    "plt.figure(figsize=[40,5])\n",
    "\n",
    "plt.subplot(1,2,1)\n",
    "plt.plot(X, '--', linewidth = 0.7)\n",
    "plt.plot(y, color = 'black')\n",
    "plt.plot(ypred_step, color = 'red')\n",
    "#plt.legend(X + y)\n",
    "plt.ylabel('Value')\n",
    "plt.xlabel('Time')\n",
    "plt.title('MLR data')"
   ]
  },
  {
   "cell_type": "code",
   "execution_count": null,
   "id": "68a52943-7c70-4160-ac50-6e5e1ed4f2ab",
   "metadata": {},
   "outputs": [],
   "source": [
    "import warnings\n",
    "warnings.filterwarnings('ignore')\n",
    "#MLR, stepwise, and MLR with kept predictors\n",
    "\n",
    "#MLR\n",
    "lm_MLR = linear_model.LinearRegression()\n",
    "model = lm_MLR.fit(X,y)\n",
    "ypred_MLR = lm_MLR.predict(X) #y predicted by MLR\n",
    "intercept_MLR = lm_MLR.intercept_ #intercept predicted by MLR\n",
    "coef_MLR = lm_MLR.coef_ #regression coefficients in MLR model\n",
    "R2_MLR = lm_MLR.score(X,y) #R-squared value from MLR model\n",
    "\n",
    "print('MLR results:')\n",
    "print('a0 = ' + str(intercept_MLR))\n",
    "print('a1 = ' + str(coef_MLR[0]))\n",
    "print('a2 = ' + str(coef_MLR[1]))\n",
    "print('a3 = ' + str(coef_MLR[2]))\n",
    "print('a4 = ' + str(coef_MLR[3]))\n",
    "print('')\n",
    "\n",
    "#stepwise\n",
    "print('Stepwise results:')\n",
    "result = stepwise_selection(X, y,threshold_in=0.05,threshold_out=0.1)\n",
    "\n",
    "print('Resulting features:')\n",
    "print(result)\n",
    "\n",
    "lm_step = linear_model.LinearRegression()\n",
    "model_step = lm_step.fit(X[result],y)\n",
    "ypred_step = lm_step.predict(X[result]) #y predicted by MLR\n",
    "intercept_step = lm_step.intercept_ #intercept predicted by MLR\n",
    "coef_step = lm_step.coef_ #regression coefficients in MLR model\n",
    "R2_step = lm_step.score(X[result],y) #R-squared value from MLR model"
   ]
  },
  {
   "cell_type": "code",
   "execution_count": null,
   "id": "a5eb9bdf-d67b-4a44-8400-ffef8e72af6c",
   "metadata": {},
   "outputs": [],
   "source": [
    "saveIt = 0\n",
    "fs = 12\n",
    "fig, axes = plt.subplots(nrows = 1, ncols = 2, figsize = (10,5))\n",
    "\n",
    "axes[0].scatter(y, ypred_MLR, edgecolor = 'k')\n",
    "axes[0].plot([-2,4],[-2,4],'k--')\n",
    "axes[0].set_xlabel('y', fontsize = fs)\n",
    "axes[0].set_ylabel('y_predicted', fontsize = fs)\n",
    "axes[0].set_title('MLR with normalized predictors: $R^2 = $' + str(np.round(R2_MLR, decimals = 2)), fontsize = fs)\n",
    "axes[0].set_aspect('equal')\n",
    "axes[0].tick_params(labelsize = fs-2)\n",
    "\n",
    "axes[1].scatter(y, ypred_step, edgecolor = 'k')\n",
    "axes[1].plot([-2,4],[-2,4],'k--')\n",
    "axes[1].set_xlabel('y', fontsize = fs)\n",
    "axes[1].set_ylabel('y_predicted', fontsize = fs)\n",
    "axes[1].set_title('Stepwise with normalized predictors: $R^2 = $' + str(np.round(R2_step, decimals = 2)), fontsize = fs)\n",
    "axes[1].set_aspect('equal')\n",
    "axes[1].tick_params(labelsize = fs-2)\n",
    "\n",
    "plt.tight_layout()\n",
    "\n",
    "if saveIt:\n",
    "    plt.savefig('example5_fig3.png', dpi = 300, bbox_inches = 'tight')"
   ]
  },
  {
   "cell_type": "code",
   "execution_count": null,
   "id": "e04d8d22-6800-4346-b5a4-62c4ef5226ed",
   "metadata": {},
   "outputs": [],
   "source": [
    "#which predictor is most important?\n",
    "print('Most important variable index for MLR: ', np.argmax(np.abs(coef_MLR)))\n",
    "print('Most important variable index for stepwise: ', np.argmax(np.abs(coef_step)))\n",
    "print()\n",
    "print('Most important variable for MLR: ', X.columns[np.argmax(np.abs(coef_MLR))])\n",
    "print('Most important variable for stepwise: ', result[np.argmax(np.abs(coef_step))])"
   ]
  },
  {
   "cell_type": "code",
   "execution_count": null,
   "id": "634387f4-fd76-4c11-9750-ba6cc1409db2",
   "metadata": {},
   "outputs": [],
   "source": [
    "#make MLR model, fit to the data, and predict y\n",
    "\n",
    "lm_MLR = linear_model.LinearRegression()\n",
    "model = lm_MLR.fit(X,y)\n",
    "ypred_MLR = lm_MLR.predict(X) #y predicted by MLR\n",
    "intercept_MLR = lm_MLR.intercept_ #intercept predicted by MLR\n",
    "coef_MLR = lm_MLR.coef_ #regression coefficients in MLR model\n",
    "R2_MLR = lm_MLR.score(X,y) #R-squared value from MLR model"
   ]
  },
  {
   "cell_type": "code",
   "execution_count": null,
   "id": "317a23cb-736e-400c-b9a4-fa2c385380f8",
   "metadata": {},
   "outputs": [],
   "source": [
    "#visualize MLR model performance\n",
    "\n",
    "ax = plt.subplot(111)\n",
    "ax.scatter(y,ypred_MLR)\n",
    "l1 = np.min(ax.get_xlim())\n",
    "l2 = np.max(ax.get_xlim())\n",
    "ax.plot([l1,l2], [l1,l2], ls=\"--\", c=\".3\")\n",
    "plt.xlabel('Measured g')\n",
    "plt.ylabel('Modelled g')\n",
    "plt.title('MLR Model Results: R^2 = ' + str(R2_MLR)[:4])"
   ]
  },
  {
   "cell_type": "code",
   "execution_count": null,
   "id": "d52d6529-3c0a-456a-bda6-9adee0d36384",
   "metadata": {},
   "outputs": [],
   "source": [
    "#use stepwise regression to find which predictors to use\n",
    "\n",
    "result = stepwise_selection(X, y)\n",
    "\n",
    "print('resulting features:')\n",
    "print(result)"
   ]
  },
  {
   "cell_type": "code",
   "execution_count": null,
   "id": "c24d0b9b-b946-44d0-8f01-f2806b794f61",
   "metadata": {},
   "outputs": [],
   "source": []
  },
  {
   "cell_type": "code",
   "execution_count": null,
   "id": "445a8764-a1c4-439c-a139-b87e40923a3a",
   "metadata": {},
   "outputs": [],
   "source": [
    "#do MLR using predictors chosen from stepwise regression\n",
    "\n",
    "lm_step = linear_model.LinearRegression()\n",
    "model_step = lm_step.fit(X[result],y)\n",
    "ypred_step = lm_step.predict(X[result]) #y predicted by MLR\n",
    "intercept_step = lm_step.intercept_ #intercept predicted by MLR\n",
    "coef_step = lm_step.coef_ #regression coefficients in MLR model\n",
    "R2_step = lm_step.score(X[result],y) #R-squared value from MLR model"
   ]
  },
  {
   "cell_type": "code",
   "execution_count": null,
   "id": "c7347578-d1a3-4301-950f-76cd2b773a60",
   "metadata": {},
   "outputs": [],
   "source": [
    "#visualize stepwise model performance\n",
    "\n",
    "ax = plt.subplot(111)\n",
    "ax.scatter(y,ypred_step)\n",
    "l1 = np.min(ax.get_xlim())\n",
    "l2 = np.max(ax.get_xlim())\n",
    "ax.plot([l1,l2], [l1,l2], ls=\"--\", c=\".3\")\n",
    "plt.xlabel('Measured g')\n",
    "plt.ylabel('Modelled g')\n",
    "plt.title('Stepwise Model Results: R^2 = ' + str(R2_step)[:4])\n",
    "plt.show()"
   ]
  },
  {
   "cell_type": "code",
   "execution_count": null,
   "id": "d73ec878-1418-43ef-a10d-ad0bb69c2238",
   "metadata": {},
   "outputs": [],
   "source": [
    "#goal: loop through every combination of normalized predictors, make linear model, and find one with best performance\n",
    "\n",
    "R2_best = []\n",
    "combo_best = []\n",
    "\n",
    "for kk in range(1,10): #for each total number of predictors to use in model (from 1 predictor to 9 predictors)\n",
    "    \n",
    "    v0 = range(np.shape(X)[1])\n",
    "    combinations = list(itertools.combinations(range(np.shape(X)[1]),kk)) #all possible combinations of kk total predictors \n",
    "    R2_test = []\n",
    "    \n",
    "    for ind in range(len(combinations)): #for each combination of predictors, make MLR model and compute R^2\n",
    "\n",
    "        test_vars = np.array(combinations[ind])\n",
    "        X_test = X.iloc[::2,test_vars]  # calibation sample consists of all odd indices in the data\n",
    "        y_test = y.iloc[::2]\n",
    "        \n",
    "        X_valid = X.iloc[1::2,test_vars]  # validation sample consists of all even indices in the data\n",
    "        y_valid = y.iloc[1::2]\n",
    "\n",
    "        lm_test = linear_model.LinearRegression()\n",
    "        model_test = lm_test.fit(X_test,y_test)\n",
    "        ypred_test = lm_test.predict(X_test) #y predicted by MLR\n",
    "        R2_test.append(lm_test.score(X_valid,y_valid)) #R-squared value from MLR model\n",
    "\n",
    "    R2_best.append(np.max(R2_test))\n",
    "    combo_best.append(combinations[np.argmax(R2_test)])\n",
    "    \n",
    "R2_best_final = np.max(R2_best)\n",
    "combo_best_final = combo_best[np.argmax(R2_best)]\n",
    "\n",
    "print('The best combination of predictors is: ' )\n",
    "print(list(X.columns[np.asarray(combo_best_final)]))"
   ]
  },
  {
   "cell_type": "code",
   "execution_count": null,
   "id": "c004db30-7c21-4e5f-8234-76f4b4c0080b",
   "metadata": {},
   "outputs": [],
   "source": [
    "#build linear model using the best combination of predictors\n",
    "\n",
    "X_calib_valid = X.iloc[:,np.asarray(combo_best_final)]\n",
    "\n",
    "lm_calib_valid = linear_model.LinearRegression()\n",
    "model_calib_valid = lm_calib_valid.fit(X_calib_valid,y)\n",
    "ypred_calib_valid = lm_calib_valid.predict(X_calib_valid) #y predicted by MLR\n",
    "intercept_calib_valid = lm_calib_valid.intercept_ #intercept predicted by MLR\n",
    "coef_calib_valid = lm_calib_valid.coef_ #regression coefficients in MLR model\n",
    "R2_calib_valid = lm_calib_valid.score(X_calib_valid,y) #R-squared value from MLR model"
   ]
  },
  {
   "cell_type": "code",
   "execution_count": null,
   "id": "3e8f8c6f-ac9f-4ce0-a1ef-c518ca6cd3aa",
   "metadata": {},
   "outputs": [],
   "source": [
    "#visualize calibration-validation model performance\n",
    "\n",
    "ax = plt.subplot(111)\n",
    "ax.scatter(y,ypred_calib_valid)\n",
    "l1 = np.min(ax.get_xlim())\n",
    "l2 = np.max(ax.get_xlim())\n",
    "ax.plot([l1,l2], [l1,l2], ls=\"--\", c=\".3\")\n",
    "plt.xlabel('Measured g')\n",
    "plt.ylabel('Modelled g')\n",
    "plt.title('Calibration-Validation Model Results: R^2 = ' + str(R2_calib_valid)[:4])"
   ]
  }
 ],
 "metadata": {
  "kernelspec": {
   "display_name": "env_eosc510",
   "language": "python",
   "name": "env_eosc510"
  },
  "language_info": {
   "codemirror_mode": {
    "name": "ipython",
    "version": 3
   },
   "file_extension": ".py",
   "mimetype": "text/x-python",
   "name": "python",
   "nbconvert_exporter": "python",
   "pygments_lexer": "ipython3",
   "version": "3.8.10"
  }
 },
 "nbformat": 4,
 "nbformat_minor": 5
}
