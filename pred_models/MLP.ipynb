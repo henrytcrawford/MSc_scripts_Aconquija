{
 "cells": [
  {
   "cell_type": "code",
   "execution_count": 1,
   "id": "9847e561-e904-4aba-8deb-2c75c32e1432",
   "metadata": {},
   "outputs": [],
   "source": [
    "import numpy as np\n",
    "from numpy import asarray\n",
    "import pandas as pd\n",
    "import matplotlib.pyplot as plt\n",
    "from netCDF4 import Dataset\n",
    "from sklearn.decomposition import PCA\n",
    "import os\n",
    "from os import path\n",
    "from sklearn.decomposition import PCA\n",
    "from sklearn.neural_network import MLPRegressor\n",
    "from sklearn.preprocessing import MinMaxScaler\n",
    "from sklearn.preprocessing import StandardScaler\n",
    "\n",
    "#define RMSE as a function, since we'll use this in the NN model \n",
    "def rmse(target,prediction):\n",
    "    return(np.sqrt(((target - prediction)**2).sum()/len(target)))\n",
    "\n",
    "cwd = os.getcwd()\n",
    "cwd\n",
    "\n",
    "import joblib"
   ]
  },
  {
   "cell_type": "code",
   "execution_count": 18,
   "id": "7b54591e-d0b0-403e-a158-88c7ffbf153f",
   "metadata": {},
   "outputs": [
    {
     "name": "stdout",
     "output_type": "stream",
     "text": [
      "some ages dropped\n",
      "some bands dropped\n",
      "(20, 230)\n"
     ]
    }
   ],
   "source": [
    "### PREP DATA ###\n",
    "\n",
    "## MANUAL INPUT ## -- locate file\n",
    "sensor = 'PRISMA' #'PRISMA', 'WV3', 'Landsat8', 'terraspec'\n",
    "target_file = 'C:/Users/htccr/Documents/Aconquija/python_scripts/outputs/' + sensor + '_spots.xlsx'\n",
    "sensor_meta = pd.read_csv('C:/Users/htccr/Documents/Aconquija/python_scripts/keep/'+ sensor + '_meta.csv', header = 0, index_col = None)\n",
    " \n",
    "data = pd.read_excel(target_file, sheet_name = 'band_mean', header = None, index_col = None) # choose sheet: 'band_mean', 'continuum', 'continuum_removed'\n",
    "data_std = pd.read_excel(target_file, sheet_name = 'band_std', header = None, index_col = None)\n",
    "data_vars = pd.read_excel(target_file, sheet_name = 'variables', header = 0, index_col = None)\n",
    "spots_meta = pd.read_excel('C:/Users/htccr/Documents/Aconquija/python_scripts/outputs/spots_meta.xlsx',sheet_name = 'Sheet1', header = 0, index_col = None)\n",
    "\n",
    "# decompact data_vars\n",
    "age = np.array(data_vars['age'])\n",
    "age_sd = np.array(data_vars['age_sd'])\n",
    "age_n = np.array(data_vars['age_n'])\n",
    "fan = np.array(data_vars['fan'])\n",
    "unit = np.array(data_vars['unit'])\n",
    "unique = np.array(data_vars['unique'])\n",
    "pix_count = np.array(data_vars['pix_count'])\n",
    "\n",
    "# decompact sensor metadata (e.g. nm, band names) and create dictionaries\n",
    "band_names = sensor_meta.Band\n",
    "nm_names = sensor_meta.nm.values\n",
    "nm_names = np.round(nm_names,1)\n",
    "band_dict_nm = pd.Series(sensor_meta.Name.values,index=nm_names).to_dict()\n",
    "band_dict_idx  = pd.Series(sensor_meta.Name.values,index=sensor_meta.index.values).to_dict() # create dictionary of band names to wavelength\n",
    "nm_dict = pd.Series(sensor_meta.nm.values,index=sensor_meta.Band).to_dict() # create dictionary of band names to wavelength\n",
    "\n",
    "if 'bad_age_idx' in locals():\n",
    "    del bad_age_idx\n",
    "if 'bad_band_idx' in locals():\n",
    "    del bad_band_idx\n",
    "\n",
    "## MANUAL INPUT ## -- set bands and/or ages to drop\n",
    "bad_band_idx = np.r_[97:110,141:169,226:230] # choose bands to drop by index\n",
    "bad_age_idx = np.where((pix_count == 0) | (pix_count <10))# (age == 3.37) | (age == 16.48) | (age == 78.5) | (age == 314.48) )# | (unit == 'Q2.5a') | (unit == 'Q2.5b')) #  choose age to drop (two decimels)\n",
    "if 'bad_age_idx' in locals():\n",
    "    data = data.drop(np.r_[bad_age_idx], axis=0)\n",
    "    data_std = data_std.drop(np.r_[bad_age_idx], axis=0)\n",
    "    age = np.delete(age, bad_age_idx)\n",
    "    age_sd = np.delete(age_sd, bad_age_idx)\n",
    "    age_n = np.delete(age_n, bad_age_idx)\n",
    "    fan = np.delete(fan, bad_age_idx)\n",
    "    unit = np.delete(unit, bad_age_idx)\n",
    "    unique = np.delete(unique, bad_age_idx)\n",
    "    pix_count = np.delete(pix_count, bad_age_idx)\n",
    "    spots_meta = spots_meta.drop(np.r_[bad_age_idx], axis=0)\n",
    "    \n",
    "    data_plot = data.copy()\n",
    "    data_std_plot = data_std.copy()\n",
    "    print('some ages dropped')\n",
    "else:\n",
    "    data_plot = data.copy()\n",
    "    data_std_plot = data_std.copy()\n",
    "    print('No ages dropped')\n",
    "    \n",
    "# drop chosen values from dataset(s)\n",
    "if 'bad_band_idx' in locals():\n",
    "    #data = data.drop(np.r_[bad_band_idx], axis=1)\n",
    "    #nm_names = np.delete(nm_names, bad_band_idx)\n",
    "    data.iloc[:,bad_band_idx] = np.nan # if bad bands chosen, set band bands as 0 for PCA` #!!change to 0 if NOT normalizign first!!!\n",
    "    data_std.iloc[:,bad_band_idx] = np.nan #!!change to 0 if NOT normalizign first!!!\n",
    "    \n",
    "    # data for plotting (nan instead of 0 for bad bands)\n",
    "    data_plot = data.copy()\n",
    "    data_std_plot = data_std.copy()\n",
    "    data_plot.iloc[:,bad_band_idx] = np.nan\n",
    "    data_std_plot.iloc[:,bad_band_idx] = np.nan\n",
    "    print('some bands dropped')\n",
    "else:\n",
    "    # data for plotting (nan instead of 0 for bad bands)\n",
    "    data_plot = data.copy()\n",
    "    data_std_plot = data_std.copy()\n",
    "    print('No bands dropped')\n",
    "\n",
    "print(np.shape(data))"
   ]
  },
  {
   "cell_type": "code",
   "execution_count": 19,
   "id": "5a0b622f-7565-4794-8449-63d67614b3b6",
   "metadata": {},
   "outputs": [
    {
     "name": "stdout",
     "output_type": "stream",
     "text": [
      "        0         1         2         3         4         5         6    \\\n",
      "0  0.095016  0.087031  0.086043  0.092358  0.097595  0.104654  0.110789   \n",
      "1  0.072552  0.066371  0.066350  0.070230  0.074420  0.080428  0.086002   \n",
      "2  0.092628  0.084281  0.082825  0.088585  0.095247  0.103068  0.108866   \n",
      "3  0.076524  0.071851  0.070685  0.075591  0.079310  0.085356  0.090487   \n",
      "4  0.077176  0.071142  0.070311  0.074786  0.078883  0.084782  0.090278   \n",
      "\n",
      "        7         8         9    ...       216       217       218       219  \\\n",
      "0  0.113885  0.115541  0.120763  ...  0.223382  0.205818  0.205955  0.233426   \n",
      "1  0.088019  0.089246  0.093221  ...  0.178489  0.164673  0.162031  0.184269   \n",
      "2  0.111967  0.113537  0.119765  ...  0.231434  0.212615  0.216693  0.238236   \n",
      "3  0.093323  0.095023  0.099331  ...  0.208660  0.193258  0.187744  0.215425   \n",
      "4  0.092662  0.094946  0.099416  ...  0.206747  0.190891  0.185394  0.210658   \n",
      "\n",
      "        220       221       222       223       224       225  \n",
      "0  0.201663  0.216025  0.164424  0.206316  0.219955  0.211810  \n",
      "1  0.160523  0.173540  0.132066  0.157797  0.173261  0.163852  \n",
      "2  0.205556  0.223030  0.167886  0.215340  0.225796  0.224041  \n",
      "3  0.185074  0.202293  0.156610  0.183150  0.206299  0.192420  \n",
      "4  0.182139  0.199880  0.152988  0.179091  0.202842  0.190318  \n",
      "\n",
      "[5 rows x 185 columns]\n",
      "    age\n",
      "0  0.00\n",
      "1  5.11\n",
      "2  5.30\n",
      "3  5.40\n",
      "4  7.69\n"
     ]
    }
   ],
   "source": [
    "# import model data\n",
    "# x_data\n",
    "x_dat = pd.DataFrame(data)\n",
    "x_dat = x_dat.reset_index(drop=True)\n",
    "x_dat = x_dat.dropna(axis='columns').reset_index(drop=True)\n",
    "\n",
    "scaler_x = StandardScaler()\n",
    "x_dat_norm = scaler_x.fit_transform(x_dat)\n",
    "print(x_dat.head())\n",
    "\n",
    "# y data\n",
    "y_dat = pd.DataFrame({'age':age})\n",
    "print(y_dat.head())"
   ]
  },
  {
   "cell_type": "markdown",
   "id": "90f07ae7-2cde-441a-81d3-01dcd7fd87ca",
   "metadata": {},
   "source": [
    "### Load data for modeled y locations"
   ]
  },
  {
   "cell_type": "code",
   "execution_count": 5,
   "id": "1a261e82-714e-4513-8d4d-ea1c511cf4f7",
   "metadata": {},
   "outputs": [],
   "source": [
    "#log(0) # stopper for kernal reset\n",
    "\n",
    "# Load data at all locations (i.e. andes) where exhumation (y) will be predicted using the model\n",
    "# merge with exisitng x data, normalize, then seperate\n",
    "# train and test model using known x,y data\n",
    "# predict new x data using trained model\n",
    "# un-normalize data to get physical exhumation values"
   ]
  },
  {
   "cell_type": "code",
   "execution_count": 20,
   "id": "a6b22f80-3a03-49df-b694-ad4faf7462a6",
   "metadata": {},
   "outputs": [],
   "source": [
    "# organize data for MLP nueral network model\n",
    "xy = x_dat\n",
    "xy['age'] = y_dat\n",
    "\n",
    "xy = xy.sample(frac=1).reset_index(drop=True)\n",
    "xy = xy.sample(frac=1).reset_index(drop=True) # shuffle again\n",
    "\n",
    "x = xy.drop(labels = 'age', axis=1)\n",
    "y = xy['age']"
   ]
  },
  {
   "cell_type": "code",
   "execution_count": 21,
   "id": "c403d49e-f971-49e8-b2f2-038b2418a5cb",
   "metadata": {},
   "outputs": [
    {
     "name": "stdout",
     "output_type": "stream",
     "text": [
      "(16, 185)\n",
      "(4, 185)\n"
     ]
    }
   ],
   "source": [
    "# SEQUENTIAL SELECTION OF TRAIN/TEST & STANDARDIZED\n",
    "\n",
    "fracTrain = 0.8 #fraction of data to use for training\n",
    "ntrain = int(len(y)*fracTrain)\n",
    "\n",
    "x_train = x[:ntrain] #train on n observations\n",
    "y_train = y[:ntrain]\n",
    "\n",
    "x_test = x[ntrain:] #test on remaining observations\n",
    "y_test = y[ntrain:]\n",
    "\n",
    "print(np.shape(x_train))\n",
    "print(np.shape(x_test))"
   ]
  },
  {
   "cell_type": "code",
   "execution_count": 12,
   "id": "e049099a-3e7e-4859-b050-26b59d06f680",
   "metadata": {},
   "outputs": [
    {
     "name": "stdout",
     "output_type": "stream",
     "text": [
      "Model Number: 0\n",
      "\t # Hidden Layers = 1\n",
      "\t\t # hidden neurons = 1\n",
      "\t\t # hidden neurons = 2\n",
      "\t\t # hidden neurons = 3\n",
      "\t\t # hidden neurons = 4\n"
     ]
    },
    {
     "name": "stderr",
     "output_type": "stream",
     "text": [
      "C:\\Anaconda\\envs\\env_eosc510\\lib\\site-packages\\sklearn\\neural_network\\_multilayer_perceptron.py:542: UserWarning: Got `batch_size` less than 1 or larger than sample size. It is going to be clipped\n",
      "  warnings.warn(\"Got `batch_size` less than 1 or larger than \"\n",
      "C:\\Anaconda\\envs\\env_eosc510\\lib\\site-packages\\sklearn\\neural_network\\_multilayer_perceptron.py:542: UserWarning: Got `batch_size` less than 1 or larger than sample size. It is going to be clipped\n",
      "  warnings.warn(\"Got `batch_size` less than 1 or larger than \"\n",
      "C:\\Anaconda\\envs\\env_eosc510\\lib\\site-packages\\sklearn\\neural_network\\_multilayer_perceptron.py:542: UserWarning: Got `batch_size` less than 1 or larger than sample size. It is going to be clipped\n",
      "  warnings.warn(\"Got `batch_size` less than 1 or larger than \"\n",
      "C:\\Anaconda\\envs\\env_eosc510\\lib\\site-packages\\sklearn\\neural_network\\_multilayer_perceptron.py:542: UserWarning: Got `batch_size` less than 1 or larger than sample size. It is going to be clipped\n",
      "  warnings.warn(\"Got `batch_size` less than 1 or larger than \"\n"
     ]
    },
    {
     "name": "stdout",
     "output_type": "stream",
     "text": [
      "\t\t # hidden neurons = 5\n",
      "\t\t # hidden neurons = 6\n",
      "\t\t # hidden neurons = 7\n",
      "\t\t # hidden neurons = 8\n",
      "\t\t # hidden neurons = 9\n",
      "\t\t # hidden neurons = 10\n"
     ]
    },
    {
     "name": "stderr",
     "output_type": "stream",
     "text": [
      "C:\\Anaconda\\envs\\env_eosc510\\lib\\site-packages\\sklearn\\neural_network\\_multilayer_perceptron.py:542: UserWarning: Got `batch_size` less than 1 or larger than sample size. It is going to be clipped\n",
      "  warnings.warn(\"Got `batch_size` less than 1 or larger than \"\n",
      "C:\\Anaconda\\envs\\env_eosc510\\lib\\site-packages\\sklearn\\neural_network\\_multilayer_perceptron.py:542: UserWarning: Got `batch_size` less than 1 or larger than sample size. It is going to be clipped\n",
      "  warnings.warn(\"Got `batch_size` less than 1 or larger than \"\n",
      "C:\\Anaconda\\envs\\env_eosc510\\lib\\site-packages\\sklearn\\neural_network\\_multilayer_perceptron.py:542: UserWarning: Got `batch_size` less than 1 or larger than sample size. It is going to be clipped\n",
      "  warnings.warn(\"Got `batch_size` less than 1 or larger than \"\n",
      "C:\\Anaconda\\envs\\env_eosc510\\lib\\site-packages\\sklearn\\neural_network\\_multilayer_perceptron.py:542: UserWarning: Got `batch_size` less than 1 or larger than sample size. It is going to be clipped\n",
      "  warnings.warn(\"Got `batch_size` less than 1 or larger than \"\n",
      "C:\\Anaconda\\envs\\env_eosc510\\lib\\site-packages\\sklearn\\neural_network\\_multilayer_perceptron.py:542: UserWarning: Got `batch_size` less than 1 or larger than sample size. It is going to be clipped\n",
      "  warnings.warn(\"Got `batch_size` less than 1 or larger than \"\n",
      "C:\\Anaconda\\envs\\env_eosc510\\lib\\site-packages\\sklearn\\neural_network\\_multilayer_perceptron.py:542: UserWarning: Got `batch_size` less than 1 or larger than sample size. It is going to be clipped\n",
      "  warnings.warn(\"Got `batch_size` less than 1 or larger than \"\n"
     ]
    },
    {
     "name": "stdout",
     "output_type": "stream",
     "text": [
      "\t\t # hidden neurons = 11\n",
      "\t # Hidden Layers = 2\n",
      "\t\t # hidden neurons = 1\n"
     ]
    },
    {
     "name": "stderr",
     "output_type": "stream",
     "text": [
      "C:\\Anaconda\\envs\\env_eosc510\\lib\\site-packages\\sklearn\\neural_network\\_multilayer_perceptron.py:542: UserWarning: Got `batch_size` less than 1 or larger than sample size. It is going to be clipped\n",
      "  warnings.warn(\"Got `batch_size` less than 1 or larger than \"\n",
      "C:\\Anaconda\\envs\\env_eosc510\\lib\\site-packages\\sklearn\\neural_network\\_multilayer_perceptron.py:542: UserWarning: Got `batch_size` less than 1 or larger than sample size. It is going to be clipped\n",
      "  warnings.warn(\"Got `batch_size` less than 1 or larger than \"\n"
     ]
    },
    {
     "name": "stdout",
     "output_type": "stream",
     "text": [
      "\t\t # hidden neurons = 2\n"
     ]
    },
    {
     "name": "stderr",
     "output_type": "stream",
     "text": [
      "C:\\Anaconda\\envs\\env_eosc510\\lib\\site-packages\\sklearn\\neural_network\\_multilayer_perceptron.py:542: UserWarning: Got `batch_size` less than 1 or larger than sample size. It is going to be clipped\n",
      "  warnings.warn(\"Got `batch_size` less than 1 or larger than \"\n"
     ]
    },
    {
     "name": "stdout",
     "output_type": "stream",
     "text": [
      "\t\t # hidden neurons = 3\n"
     ]
    },
    {
     "name": "stderr",
     "output_type": "stream",
     "text": [
      "C:\\Anaconda\\envs\\env_eosc510\\lib\\site-packages\\sklearn\\neural_network\\_multilayer_perceptron.py:542: UserWarning: Got `batch_size` less than 1 or larger than sample size. It is going to be clipped\n",
      "  warnings.warn(\"Got `batch_size` less than 1 or larger than \"\n"
     ]
    },
    {
     "name": "stdout",
     "output_type": "stream",
     "text": [
      "\t\t # hidden neurons = 4\n"
     ]
    },
    {
     "name": "stderr",
     "output_type": "stream",
     "text": [
      "C:\\Anaconda\\envs\\env_eosc510\\lib\\site-packages\\sklearn\\neural_network\\_multilayer_perceptron.py:542: UserWarning: Got `batch_size` less than 1 or larger than sample size. It is going to be clipped\n",
      "  warnings.warn(\"Got `batch_size` less than 1 or larger than \"\n"
     ]
    },
    {
     "name": "stdout",
     "output_type": "stream",
     "text": [
      "\t\t # hidden neurons = 5\n",
      "\t\t # hidden neurons = 6\n"
     ]
    },
    {
     "name": "stderr",
     "output_type": "stream",
     "text": [
      "C:\\Anaconda\\envs\\env_eosc510\\lib\\site-packages\\sklearn\\neural_network\\_multilayer_perceptron.py:542: UserWarning: Got `batch_size` less than 1 or larger than sample size. It is going to be clipped\n",
      "  warnings.warn(\"Got `batch_size` less than 1 or larger than \"\n",
      "C:\\Anaconda\\envs\\env_eosc510\\lib\\site-packages\\sklearn\\neural_network\\_multilayer_perceptron.py:542: UserWarning: Got `batch_size` less than 1 or larger than sample size. It is going to be clipped\n",
      "  warnings.warn(\"Got `batch_size` less than 1 or larger than \"\n"
     ]
    },
    {
     "name": "stdout",
     "output_type": "stream",
     "text": [
      "\t\t # hidden neurons = 7\n",
      "\t\t # hidden neurons = 8\n",
      "\t\t # hidden neurons = 9\n",
      "\t\t # hidden neurons = 10\n"
     ]
    },
    {
     "name": "stderr",
     "output_type": "stream",
     "text": [
      "C:\\Anaconda\\envs\\env_eosc510\\lib\\site-packages\\sklearn\\neural_network\\_multilayer_perceptron.py:542: UserWarning: Got `batch_size` less than 1 or larger than sample size. It is going to be clipped\n",
      "  warnings.warn(\"Got `batch_size` less than 1 or larger than \"\n",
      "C:\\Anaconda\\envs\\env_eosc510\\lib\\site-packages\\sklearn\\neural_network\\_multilayer_perceptron.py:542: UserWarning: Got `batch_size` less than 1 or larger than sample size. It is going to be clipped\n",
      "  warnings.warn(\"Got `batch_size` less than 1 or larger than \"\n",
      "C:\\Anaconda\\envs\\env_eosc510\\lib\\site-packages\\sklearn\\neural_network\\_multilayer_perceptron.py:542: UserWarning: Got `batch_size` less than 1 or larger than sample size. It is going to be clipped\n",
      "  warnings.warn(\"Got `batch_size` less than 1 or larger than \"\n",
      "C:\\Anaconda\\envs\\env_eosc510\\lib\\site-packages\\sklearn\\neural_network\\_multilayer_perceptron.py:542: UserWarning: Got `batch_size` less than 1 or larger than sample size. It is going to be clipped\n",
      "  warnings.warn(\"Got `batch_size` less than 1 or larger than \"\n"
     ]
    },
    {
     "name": "stdout",
     "output_type": "stream",
     "text": [
      "\t\t # hidden neurons = 11\n",
      "\t # Hidden Layers = 3\n",
      "\t\t # hidden neurons = 1\n"
     ]
    },
    {
     "name": "stderr",
     "output_type": "stream",
     "text": [
      "C:\\Anaconda\\envs\\env_eosc510\\lib\\site-packages\\sklearn\\neural_network\\_multilayer_perceptron.py:542: UserWarning: Got `batch_size` less than 1 or larger than sample size. It is going to be clipped\n",
      "  warnings.warn(\"Got `batch_size` less than 1 or larger than \"\n",
      "C:\\Anaconda\\envs\\env_eosc510\\lib\\site-packages\\sklearn\\neural_network\\_multilayer_perceptron.py:542: UserWarning: Got `batch_size` less than 1 or larger than sample size. It is going to be clipped\n",
      "  warnings.warn(\"Got `batch_size` less than 1 or larger than \"\n"
     ]
    },
    {
     "name": "stdout",
     "output_type": "stream",
     "text": [
      "\t\t # hidden neurons = 2\n",
      "\t\t # hidden neurons = 3\n",
      "\t\t # hidden neurons = 4\n"
     ]
    },
    {
     "name": "stderr",
     "output_type": "stream",
     "text": [
      "C:\\Anaconda\\envs\\env_eosc510\\lib\\site-packages\\sklearn\\neural_network\\_multilayer_perceptron.py:542: UserWarning: Got `batch_size` less than 1 or larger than sample size. It is going to be clipped\n",
      "  warnings.warn(\"Got `batch_size` less than 1 or larger than \"\n",
      "C:\\Anaconda\\envs\\env_eosc510\\lib\\site-packages\\sklearn\\neural_network\\_multilayer_perceptron.py:542: UserWarning: Got `batch_size` less than 1 or larger than sample size. It is going to be clipped\n",
      "  warnings.warn(\"Got `batch_size` less than 1 or larger than \"\n",
      "C:\\Anaconda\\envs\\env_eosc510\\lib\\site-packages\\sklearn\\neural_network\\_multilayer_perceptron.py:542: UserWarning: Got `batch_size` less than 1 or larger than sample size. It is going to be clipped\n",
      "  warnings.warn(\"Got `batch_size` less than 1 or larger than \"\n"
     ]
    },
    {
     "name": "stdout",
     "output_type": "stream",
     "text": [
      "\t\t # hidden neurons = 5\n"
     ]
    },
    {
     "name": "stderr",
     "output_type": "stream",
     "text": [
      "C:\\Anaconda\\envs\\env_eosc510\\lib\\site-packages\\sklearn\\neural_network\\_multilayer_perceptron.py:542: UserWarning: Got `batch_size` less than 1 or larger than sample size. It is going to be clipped\n",
      "  warnings.warn(\"Got `batch_size` less than 1 or larger than \"\n"
     ]
    },
    {
     "name": "stdout",
     "output_type": "stream",
     "text": [
      "\t\t # hidden neurons = 6\n",
      "\t\t # hidden neurons = 7\n",
      "\t\t # hidden neurons = 8\n"
     ]
    },
    {
     "name": "stderr",
     "output_type": "stream",
     "text": [
      "C:\\Anaconda\\envs\\env_eosc510\\lib\\site-packages\\sklearn\\neural_network\\_multilayer_perceptron.py:542: UserWarning: Got `batch_size` less than 1 or larger than sample size. It is going to be clipped\n",
      "  warnings.warn(\"Got `batch_size` less than 1 or larger than \"\n",
      "C:\\Anaconda\\envs\\env_eosc510\\lib\\site-packages\\sklearn\\neural_network\\_multilayer_perceptron.py:542: UserWarning: Got `batch_size` less than 1 or larger than sample size. It is going to be clipped\n",
      "  warnings.warn(\"Got `batch_size` less than 1 or larger than \"\n",
      "C:\\Anaconda\\envs\\env_eosc510\\lib\\site-packages\\sklearn\\neural_network\\_multilayer_perceptron.py:542: UserWarning: Got `batch_size` less than 1 or larger than sample size. It is going to be clipped\n",
      "  warnings.warn(\"Got `batch_size` less than 1 or larger than \"\n"
     ]
    },
    {
     "name": "stdout",
     "output_type": "stream",
     "text": [
      "\t\t # hidden neurons = 9\n",
      "\t\t # hidden neurons = 10\n"
     ]
    },
    {
     "name": "stderr",
     "output_type": "stream",
     "text": [
      "C:\\Anaconda\\envs\\env_eosc510\\lib\\site-packages\\sklearn\\neural_network\\_multilayer_perceptron.py:542: UserWarning: Got `batch_size` less than 1 or larger than sample size. It is going to be clipped\n",
      "  warnings.warn(\"Got `batch_size` less than 1 or larger than \"\n",
      "C:\\Anaconda\\envs\\env_eosc510\\lib\\site-packages\\sklearn\\neural_network\\_multilayer_perceptron.py:542: UserWarning: Got `batch_size` less than 1 or larger than sample size. It is going to be clipped\n",
      "  warnings.warn(\"Got `batch_size` less than 1 or larger than \"\n"
     ]
    },
    {
     "name": "stdout",
     "output_type": "stream",
     "text": [
      "\t\t # hidden neurons = 11\n",
      "\t # Hidden Layers = 4\n",
      "\t\t # hidden neurons = 1\n"
     ]
    },
    {
     "name": "stderr",
     "output_type": "stream",
     "text": [
      "C:\\Anaconda\\envs\\env_eosc510\\lib\\site-packages\\sklearn\\neural_network\\_multilayer_perceptron.py:542: UserWarning: Got `batch_size` less than 1 or larger than sample size. It is going to be clipped\n",
      "  warnings.warn(\"Got `batch_size` less than 1 or larger than \"\n",
      "C:\\Anaconda\\envs\\env_eosc510\\lib\\site-packages\\sklearn\\neural_network\\_multilayer_perceptron.py:542: UserWarning: Got `batch_size` less than 1 or larger than sample size. It is going to be clipped\n",
      "  warnings.warn(\"Got `batch_size` less than 1 or larger than \"\n"
     ]
    },
    {
     "name": "stdout",
     "output_type": "stream",
     "text": [
      "\t\t # hidden neurons = 2\n",
      "\t\t # hidden neurons = 3\n",
      "\t\t # hidden neurons = 4\n",
      "\t\t # hidden neurons = 5\n"
     ]
    },
    {
     "name": "stderr",
     "output_type": "stream",
     "text": [
      "C:\\Anaconda\\envs\\env_eosc510\\lib\\site-packages\\sklearn\\neural_network\\_multilayer_perceptron.py:542: UserWarning: Got `batch_size` less than 1 or larger than sample size. It is going to be clipped\n",
      "  warnings.warn(\"Got `batch_size` less than 1 or larger than \"\n",
      "C:\\Anaconda\\envs\\env_eosc510\\lib\\site-packages\\sklearn\\neural_network\\_multilayer_perceptron.py:542: UserWarning: Got `batch_size` less than 1 or larger than sample size. It is going to be clipped\n",
      "  warnings.warn(\"Got `batch_size` less than 1 or larger than \"\n",
      "C:\\Anaconda\\envs\\env_eosc510\\lib\\site-packages\\sklearn\\neural_network\\_multilayer_perceptron.py:542: UserWarning: Got `batch_size` less than 1 or larger than sample size. It is going to be clipped\n",
      "  warnings.warn(\"Got `batch_size` less than 1 or larger than \"\n",
      "C:\\Anaconda\\envs\\env_eosc510\\lib\\site-packages\\sklearn\\neural_network\\_multilayer_perceptron.py:542: UserWarning: Got `batch_size` less than 1 or larger than sample size. It is going to be clipped\n",
      "  warnings.warn(\"Got `batch_size` less than 1 or larger than \"\n"
     ]
    },
    {
     "name": "stdout",
     "output_type": "stream",
     "text": [
      "\t\t # hidden neurons = 6\n",
      "\t\t # hidden neurons = 7\n"
     ]
    },
    {
     "name": "stderr",
     "output_type": "stream",
     "text": [
      "C:\\Anaconda\\envs\\env_eosc510\\lib\\site-packages\\sklearn\\neural_network\\_multilayer_perceptron.py:542: UserWarning: Got `batch_size` less than 1 or larger than sample size. It is going to be clipped\n",
      "  warnings.warn(\"Got `batch_size` less than 1 or larger than \"\n",
      "C:\\Anaconda\\envs\\env_eosc510\\lib\\site-packages\\sklearn\\neural_network\\_multilayer_perceptron.py:542: UserWarning: Got `batch_size` less than 1 or larger than sample size. It is going to be clipped\n",
      "  warnings.warn(\"Got `batch_size` less than 1 or larger than \"\n"
     ]
    },
    {
     "name": "stdout",
     "output_type": "stream",
     "text": [
      "\t\t # hidden neurons = 8\n"
     ]
    },
    {
     "name": "stderr",
     "output_type": "stream",
     "text": [
      "C:\\Anaconda\\envs\\env_eosc510\\lib\\site-packages\\sklearn\\neural_network\\_multilayer_perceptron.py:542: UserWarning: Got `batch_size` less than 1 or larger than sample size. It is going to be clipped\n",
      "  warnings.warn(\"Got `batch_size` less than 1 or larger than \"\n"
     ]
    },
    {
     "name": "stdout",
     "output_type": "stream",
     "text": [
      "\t\t # hidden neurons = 9\n",
      "\t\t # hidden neurons = 10\n",
      "\t\t # hidden neurons = 11\n",
      "\t # Hidden Layers = 5\n",
      "\t\t # hidden neurons = 1\n"
     ]
    },
    {
     "name": "stderr",
     "output_type": "stream",
     "text": [
      "C:\\Anaconda\\envs\\env_eosc510\\lib\\site-packages\\sklearn\\neural_network\\_multilayer_perceptron.py:542: UserWarning: Got `batch_size` less than 1 or larger than sample size. It is going to be clipped\n",
      "  warnings.warn(\"Got `batch_size` less than 1 or larger than \"\n",
      "C:\\Anaconda\\envs\\env_eosc510\\lib\\site-packages\\sklearn\\neural_network\\_multilayer_perceptron.py:542: UserWarning: Got `batch_size` less than 1 or larger than sample size. It is going to be clipped\n",
      "  warnings.warn(\"Got `batch_size` less than 1 or larger than \"\n",
      "C:\\Anaconda\\envs\\env_eosc510\\lib\\site-packages\\sklearn\\neural_network\\_multilayer_perceptron.py:542: UserWarning: Got `batch_size` less than 1 or larger than sample size. It is going to be clipped\n",
      "  warnings.warn(\"Got `batch_size` less than 1 or larger than \"\n",
      "C:\\Anaconda\\envs\\env_eosc510\\lib\\site-packages\\sklearn\\neural_network\\_multilayer_perceptron.py:542: UserWarning: Got `batch_size` less than 1 or larger than sample size. It is going to be clipped\n",
      "  warnings.warn(\"Got `batch_size` less than 1 or larger than \"\n"
     ]
    },
    {
     "name": "stdout",
     "output_type": "stream",
     "text": [
      "\t\t # hidden neurons = 2\n",
      "\t\t # hidden neurons = 3\n"
     ]
    },
    {
     "name": "stderr",
     "output_type": "stream",
     "text": [
      "C:\\Anaconda\\envs\\env_eosc510\\lib\\site-packages\\sklearn\\neural_network\\_multilayer_perceptron.py:542: UserWarning: Got `batch_size` less than 1 or larger than sample size. It is going to be clipped\n",
      "  warnings.warn(\"Got `batch_size` less than 1 or larger than \"\n",
      "C:\\Anaconda\\envs\\env_eosc510\\lib\\site-packages\\sklearn\\neural_network\\_multilayer_perceptron.py:542: UserWarning: Got `batch_size` less than 1 or larger than sample size. It is going to be clipped\n",
      "  warnings.warn(\"Got `batch_size` less than 1 or larger than \"\n"
     ]
    },
    {
     "name": "stdout",
     "output_type": "stream",
     "text": [
      "\t\t # hidden neurons = 4\n",
      "\t\t # hidden neurons = 5\n"
     ]
    },
    {
     "name": "stderr",
     "output_type": "stream",
     "text": [
      "C:\\Anaconda\\envs\\env_eosc510\\lib\\site-packages\\sklearn\\neural_network\\_multilayer_perceptron.py:542: UserWarning: Got `batch_size` less than 1 or larger than sample size. It is going to be clipped\n",
      "  warnings.warn(\"Got `batch_size` less than 1 or larger than \"\n",
      "C:\\Anaconda\\envs\\env_eosc510\\lib\\site-packages\\sklearn\\neural_network\\_multilayer_perceptron.py:542: UserWarning: Got `batch_size` less than 1 or larger than sample size. It is going to be clipped\n",
      "  warnings.warn(\"Got `batch_size` less than 1 or larger than \"\n"
     ]
    },
    {
     "name": "stdout",
     "output_type": "stream",
     "text": [
      "\t\t # hidden neurons = 6\n",
      "\t\t # hidden neurons = 7\n"
     ]
    },
    {
     "name": "stderr",
     "output_type": "stream",
     "text": [
      "C:\\Anaconda\\envs\\env_eosc510\\lib\\site-packages\\sklearn\\neural_network\\_multilayer_perceptron.py:542: UserWarning: Got `batch_size` less than 1 or larger than sample size. It is going to be clipped\n",
      "  warnings.warn(\"Got `batch_size` less than 1 or larger than \"\n",
      "C:\\Anaconda\\envs\\env_eosc510\\lib\\site-packages\\sklearn\\neural_network\\_multilayer_perceptron.py:542: UserWarning: Got `batch_size` less than 1 or larger than sample size. It is going to be clipped\n",
      "  warnings.warn(\"Got `batch_size` less than 1 or larger than \"\n"
     ]
    },
    {
     "name": "stdout",
     "output_type": "stream",
     "text": [
      "\t\t # hidden neurons = 8\n",
      "\t\t # hidden neurons = 9\n",
      "\t\t # hidden neurons = 10\n"
     ]
    },
    {
     "name": "stderr",
     "output_type": "stream",
     "text": [
      "C:\\Anaconda\\envs\\env_eosc510\\lib\\site-packages\\sklearn\\neural_network\\_multilayer_perceptron.py:542: UserWarning: Got `batch_size` less than 1 or larger than sample size. It is going to be clipped\n",
      "  warnings.warn(\"Got `batch_size` less than 1 or larger than \"\n",
      "C:\\Anaconda\\envs\\env_eosc510\\lib\\site-packages\\sklearn\\neural_network\\_multilayer_perceptron.py:542: UserWarning: Got `batch_size` less than 1 or larger than sample size. It is going to be clipped\n",
      "  warnings.warn(\"Got `batch_size` less than 1 or larger than \"\n",
      "C:\\Anaconda\\envs\\env_eosc510\\lib\\site-packages\\sklearn\\neural_network\\_multilayer_perceptron.py:542: UserWarning: Got `batch_size` less than 1 or larger than sample size. It is going to be clipped\n",
      "  warnings.warn(\"Got `batch_size` less than 1 or larger than \"\n"
     ]
    },
    {
     "name": "stdout",
     "output_type": "stream",
     "text": [
      "\t\t # hidden neurons = 11\n",
      "\t # Hidden Layers = 6\n",
      "\t\t # hidden neurons = 1\n"
     ]
    },
    {
     "name": "stderr",
     "output_type": "stream",
     "text": [
      "C:\\Anaconda\\envs\\env_eosc510\\lib\\site-packages\\sklearn\\neural_network\\_multilayer_perceptron.py:542: UserWarning: Got `batch_size` less than 1 or larger than sample size. It is going to be clipped\n",
      "  warnings.warn(\"Got `batch_size` less than 1 or larger than \"\n",
      "C:\\Anaconda\\envs\\env_eosc510\\lib\\site-packages\\sklearn\\neural_network\\_multilayer_perceptron.py:542: UserWarning: Got `batch_size` less than 1 or larger than sample size. It is going to be clipped\n",
      "  warnings.warn(\"Got `batch_size` less than 1 or larger than \"\n"
     ]
    },
    {
     "name": "stdout",
     "output_type": "stream",
     "text": [
      "\t\t # hidden neurons = 2\n",
      "\t\t # hidden neurons = 3\n",
      "\t\t # hidden neurons = 4\n"
     ]
    },
    {
     "name": "stderr",
     "output_type": "stream",
     "text": [
      "C:\\Anaconda\\envs\\env_eosc510\\lib\\site-packages\\sklearn\\neural_network\\_multilayer_perceptron.py:542: UserWarning: Got `batch_size` less than 1 or larger than sample size. It is going to be clipped\n",
      "  warnings.warn(\"Got `batch_size` less than 1 or larger than \"\n",
      "C:\\Anaconda\\envs\\env_eosc510\\lib\\site-packages\\sklearn\\neural_network\\_multilayer_perceptron.py:542: UserWarning: Got `batch_size` less than 1 or larger than sample size. It is going to be clipped\n",
      "  warnings.warn(\"Got `batch_size` less than 1 or larger than \"\n",
      "C:\\Anaconda\\envs\\env_eosc510\\lib\\site-packages\\sklearn\\neural_network\\_multilayer_perceptron.py:542: UserWarning: Got `batch_size` less than 1 or larger than sample size. It is going to be clipped\n",
      "  warnings.warn(\"Got `batch_size` less than 1 or larger than \"\n"
     ]
    },
    {
     "name": "stdout",
     "output_type": "stream",
     "text": [
      "\t\t # hidden neurons = 5\n",
      "\t\t # hidden neurons = 6\n"
     ]
    },
    {
     "name": "stderr",
     "output_type": "stream",
     "text": [
      "C:\\Anaconda\\envs\\env_eosc510\\lib\\site-packages\\sklearn\\neural_network\\_multilayer_perceptron.py:542: UserWarning: Got `batch_size` less than 1 or larger than sample size. It is going to be clipped\n",
      "  warnings.warn(\"Got `batch_size` less than 1 or larger than \"\n",
      "C:\\Anaconda\\envs\\env_eosc510\\lib\\site-packages\\sklearn\\neural_network\\_multilayer_perceptron.py:542: UserWarning: Got `batch_size` less than 1 or larger than sample size. It is going to be clipped\n",
      "  warnings.warn(\"Got `batch_size` less than 1 or larger than \"\n"
     ]
    },
    {
     "name": "stdout",
     "output_type": "stream",
     "text": [
      "\t\t # hidden neurons = 7\n"
     ]
    },
    {
     "name": "stderr",
     "output_type": "stream",
     "text": [
      "C:\\Anaconda\\envs\\env_eosc510\\lib\\site-packages\\sklearn\\neural_network\\_multilayer_perceptron.py:542: UserWarning: Got `batch_size` less than 1 or larger than sample size. It is going to be clipped\n",
      "  warnings.warn(\"Got `batch_size` less than 1 or larger than \"\n",
      "C:\\Anaconda\\envs\\env_eosc510\\lib\\site-packages\\sklearn\\neural_network\\_multilayer_perceptron.py:614: ConvergenceWarning: Stochastic Optimizer: Maximum iterations (3000) reached and the optimization hasn't converged yet.\n",
      "  warnings.warn(\n",
      "C:\\Anaconda\\envs\\env_eosc510\\lib\\site-packages\\sklearn\\neural_network\\_multilayer_perceptron.py:542: UserWarning: Got `batch_size` less than 1 or larger than sample size. It is going to be clipped\n",
      "  warnings.warn(\"Got `batch_size` less than 1 or larger than \"\n"
     ]
    },
    {
     "name": "stdout",
     "output_type": "stream",
     "text": [
      "\t\t # hidden neurons = 8\n",
      "\t\t # hidden neurons = 9\n"
     ]
    },
    {
     "name": "stderr",
     "output_type": "stream",
     "text": [
      "C:\\Anaconda\\envs\\env_eosc510\\lib\\site-packages\\sklearn\\neural_network\\_multilayer_perceptron.py:542: UserWarning: Got `batch_size` less than 1 or larger than sample size. It is going to be clipped\n",
      "  warnings.warn(\"Got `batch_size` less than 1 or larger than \"\n"
     ]
    },
    {
     "name": "stdout",
     "output_type": "stream",
     "text": [
      "\t\t # hidden neurons = 10\n",
      "\t\t # hidden neurons = 11\n",
      "\t # Hidden Layers = 7\n",
      "\t\t # hidden neurons = 1\n"
     ]
    },
    {
     "name": "stderr",
     "output_type": "stream",
     "text": [
      "C:\\Anaconda\\envs\\env_eosc510\\lib\\site-packages\\sklearn\\neural_network\\_multilayer_perceptron.py:542: UserWarning: Got `batch_size` less than 1 or larger than sample size. It is going to be clipped\n",
      "  warnings.warn(\"Got `batch_size` less than 1 or larger than \"\n",
      "C:\\Anaconda\\envs\\env_eosc510\\lib\\site-packages\\sklearn\\neural_network\\_multilayer_perceptron.py:542: UserWarning: Got `batch_size` less than 1 or larger than sample size. It is going to be clipped\n",
      "  warnings.warn(\"Got `batch_size` less than 1 or larger than \"\n",
      "C:\\Anaconda\\envs\\env_eosc510\\lib\\site-packages\\sklearn\\neural_network\\_multilayer_perceptron.py:542: UserWarning: Got `batch_size` less than 1 or larger than sample size. It is going to be clipped\n",
      "  warnings.warn(\"Got `batch_size` less than 1 or larger than \"\n",
      "C:\\Anaconda\\envs\\env_eosc510\\lib\\site-packages\\sklearn\\neural_network\\_multilayer_perceptron.py:614: ConvergenceWarning: Stochastic Optimizer: Maximum iterations (3000) reached and the optimization hasn't converged yet.\n",
      "  warnings.warn(\n",
      "C:\\Anaconda\\envs\\env_eosc510\\lib\\site-packages\\sklearn\\neural_network\\_multilayer_perceptron.py:542: UserWarning: Got `batch_size` less than 1 or larger than sample size. It is going to be clipped\n",
      "  warnings.warn(\"Got `batch_size` less than 1 or larger than \"\n",
      "C:\\Anaconda\\envs\\env_eosc510\\lib\\site-packages\\sklearn\\neural_network\\_multilayer_perceptron.py:542: UserWarning: Got `batch_size` less than 1 or larger than sample size. It is going to be clipped\n",
      "  warnings.warn(\"Got `batch_size` less than 1 or larger than \"\n",
      "C:\\Anaconda\\envs\\env_eosc510\\lib\\site-packages\\sklearn\\neural_network\\_multilayer_perceptron.py:542: UserWarning: Got `batch_size` less than 1 or larger than sample size. It is going to be clipped\n",
      "  warnings.warn(\"Got `batch_size` less than 1 or larger than \"\n",
      "C:\\Anaconda\\envs\\env_eosc510\\lib\\site-packages\\sklearn\\neural_network\\_multilayer_perceptron.py:542: UserWarning: Got `batch_size` less than 1 or larger than sample size. It is going to be clipped\n",
      "  warnings.warn(\"Got `batch_size` less than 1 or larger than \"\n"
     ]
    },
    {
     "name": "stdout",
     "output_type": "stream",
     "text": [
      "\t\t # hidden neurons = 2\n",
      "\t\t # hidden neurons = 3\n",
      "\t\t # hidden neurons = 4\n",
      "\t\t # hidden neurons = 5\n",
      "\t\t # hidden neurons = 6\n"
     ]
    },
    {
     "name": "stderr",
     "output_type": "stream",
     "text": [
      "C:\\Anaconda\\envs\\env_eosc510\\lib\\site-packages\\sklearn\\neural_network\\_multilayer_perceptron.py:542: UserWarning: Got `batch_size` less than 1 or larger than sample size. It is going to be clipped\n",
      "  warnings.warn(\"Got `batch_size` less than 1 or larger than \"\n"
     ]
    },
    {
     "name": "stdout",
     "output_type": "stream",
     "text": [
      "\t\t # hidden neurons = 7\n",
      "\t\t # hidden neurons = 8\n",
      "\t\t # hidden neurons = 9\n"
     ]
    },
    {
     "name": "stderr",
     "output_type": "stream",
     "text": [
      "C:\\Anaconda\\envs\\env_eosc510\\lib\\site-packages\\sklearn\\neural_network\\_multilayer_perceptron.py:542: UserWarning: Got `batch_size` less than 1 or larger than sample size. It is going to be clipped\n",
      "  warnings.warn(\"Got `batch_size` less than 1 or larger than \"\n",
      "C:\\Anaconda\\envs\\env_eosc510\\lib\\site-packages\\sklearn\\neural_network\\_multilayer_perceptron.py:542: UserWarning: Got `batch_size` less than 1 or larger than sample size. It is going to be clipped\n",
      "  warnings.warn(\"Got `batch_size` less than 1 or larger than \"\n",
      "C:\\Anaconda\\envs\\env_eosc510\\lib\\site-packages\\sklearn\\neural_network\\_multilayer_perceptron.py:542: UserWarning: Got `batch_size` less than 1 or larger than sample size. It is going to be clipped\n",
      "  warnings.warn(\"Got `batch_size` less than 1 or larger than \"\n"
     ]
    },
    {
     "name": "stdout",
     "output_type": "stream",
     "text": [
      "\t\t # hidden neurons = 10\n"
     ]
    },
    {
     "name": "stderr",
     "output_type": "stream",
     "text": [
      "C:\\Anaconda\\envs\\env_eosc510\\lib\\site-packages\\sklearn\\neural_network\\_multilayer_perceptron.py:542: UserWarning: Got `batch_size` less than 1 or larger than sample size. It is going to be clipped\n",
      "  warnings.warn(\"Got `batch_size` less than 1 or larger than \"\n"
     ]
    },
    {
     "name": "stdout",
     "output_type": "stream",
     "text": [
      "\t\t # hidden neurons = 11\n",
      "\t # Hidden Layers = 8\n",
      "\t\t # hidden neurons = 1\n"
     ]
    },
    {
     "name": "stderr",
     "output_type": "stream",
     "text": [
      "C:\\Anaconda\\envs\\env_eosc510\\lib\\site-packages\\sklearn\\neural_network\\_multilayer_perceptron.py:542: UserWarning: Got `batch_size` less than 1 or larger than sample size. It is going to be clipped\n",
      "  warnings.warn(\"Got `batch_size` less than 1 or larger than \"\n",
      "C:\\Anaconda\\envs\\env_eosc510\\lib\\site-packages\\sklearn\\neural_network\\_multilayer_perceptron.py:542: UserWarning: Got `batch_size` less than 1 or larger than sample size. It is going to be clipped\n",
      "  warnings.warn(\"Got `batch_size` less than 1 or larger than \"\n"
     ]
    },
    {
     "name": "stdout",
     "output_type": "stream",
     "text": [
      "\t\t # hidden neurons = 2\n",
      "\t\t # hidden neurons = 3\n"
     ]
    },
    {
     "name": "stderr",
     "output_type": "stream",
     "text": [
      "C:\\Anaconda\\envs\\env_eosc510\\lib\\site-packages\\sklearn\\neural_network\\_multilayer_perceptron.py:542: UserWarning: Got `batch_size` less than 1 or larger than sample size. It is going to be clipped\n",
      "  warnings.warn(\"Got `batch_size` less than 1 or larger than \"\n",
      "C:\\Anaconda\\envs\\env_eosc510\\lib\\site-packages\\sklearn\\neural_network\\_multilayer_perceptron.py:542: UserWarning: Got `batch_size` less than 1 or larger than sample size. It is going to be clipped\n",
      "  warnings.warn(\"Got `batch_size` less than 1 or larger than \"\n",
      "C:\\Anaconda\\envs\\env_eosc510\\lib\\site-packages\\sklearn\\neural_network\\_multilayer_perceptron.py:614: ConvergenceWarning: Stochastic Optimizer: Maximum iterations (3000) reached and the optimization hasn't converged yet.\n",
      "  warnings.warn(\n",
      "C:\\Anaconda\\envs\\env_eosc510\\lib\\site-packages\\sklearn\\neural_network\\_multilayer_perceptron.py:542: UserWarning: Got `batch_size` less than 1 or larger than sample size. It is going to be clipped\n",
      "  warnings.warn(\"Got `batch_size` less than 1 or larger than \"\n",
      "C:\\Anaconda\\envs\\env_eosc510\\lib\\site-packages\\sklearn\\neural_network\\_multilayer_perceptron.py:542: UserWarning: Got `batch_size` less than 1 or larger than sample size. It is going to be clipped\n",
      "  warnings.warn(\"Got `batch_size` less than 1 or larger than \"\n"
     ]
    },
    {
     "name": "stdout",
     "output_type": "stream",
     "text": [
      "\t\t # hidden neurons = 4\n",
      "\t\t # hidden neurons = 5\n",
      "\t\t # hidden neurons = 6\n",
      "\t\t # hidden neurons = 7\n"
     ]
    },
    {
     "name": "stderr",
     "output_type": "stream",
     "text": [
      "C:\\Anaconda\\envs\\env_eosc510\\lib\\site-packages\\sklearn\\neural_network\\_multilayer_perceptron.py:542: UserWarning: Got `batch_size` less than 1 or larger than sample size. It is going to be clipped\n",
      "  warnings.warn(\"Got `batch_size` less than 1 or larger than \"\n",
      "C:\\Anaconda\\envs\\env_eosc510\\lib\\site-packages\\sklearn\\neural_network\\_multilayer_perceptron.py:542: UserWarning: Got `batch_size` less than 1 or larger than sample size. It is going to be clipped\n",
      "  warnings.warn(\"Got `batch_size` less than 1 or larger than \"\n"
     ]
    },
    {
     "name": "stdout",
     "output_type": "stream",
     "text": [
      "\t\t # hidden neurons = 8\n",
      "\t\t # hidden neurons = 9\n"
     ]
    },
    {
     "name": "stderr",
     "output_type": "stream",
     "text": [
      "C:\\Anaconda\\envs\\env_eosc510\\lib\\site-packages\\sklearn\\neural_network\\_multilayer_perceptron.py:542: UserWarning: Got `batch_size` less than 1 or larger than sample size. It is going to be clipped\n",
      "  warnings.warn(\"Got `batch_size` less than 1 or larger than \"\n",
      "C:\\Anaconda\\envs\\env_eosc510\\lib\\site-packages\\sklearn\\neural_network\\_multilayer_perceptron.py:542: UserWarning: Got `batch_size` less than 1 or larger than sample size. It is going to be clipped\n",
      "  warnings.warn(\"Got `batch_size` less than 1 or larger than \"\n"
     ]
    },
    {
     "name": "stdout",
     "output_type": "stream",
     "text": [
      "\t\t # hidden neurons = 10\n",
      "\t\t # hidden neurons = 11\n"
     ]
    },
    {
     "name": "stderr",
     "output_type": "stream",
     "text": [
      "C:\\Anaconda\\envs\\env_eosc510\\lib\\site-packages\\sklearn\\neural_network\\_multilayer_perceptron.py:542: UserWarning: Got `batch_size` less than 1 or larger than sample size. It is going to be clipped\n",
      "  warnings.warn(\"Got `batch_size` less than 1 or larger than \"\n",
      "C:\\Anaconda\\envs\\env_eosc510\\lib\\site-packages\\sklearn\\neural_network\\_multilayer_perceptron.py:542: UserWarning: Got `batch_size` less than 1 or larger than sample size. It is going to be clipped\n",
      "  warnings.warn(\"Got `batch_size` less than 1 or larger than \"\n"
     ]
    },
    {
     "name": "stdout",
     "output_type": "stream",
     "text": [
      "\t BEST: 8 hidden layers, 3 hidden neurons\n",
      "Model Number: 1\n",
      "\t # Hidden Layers = 1\n",
      "\t\t # hidden neurons = 1\n",
      "\t\t # hidden neurons = 2\n"
     ]
    },
    {
     "name": "stderr",
     "output_type": "stream",
     "text": [
      "C:\\Anaconda\\envs\\env_eosc510\\lib\\site-packages\\sklearn\\neural_network\\_multilayer_perceptron.py:542: UserWarning: Got `batch_size` less than 1 or larger than sample size. It is going to be clipped\n",
      "  warnings.warn(\"Got `batch_size` less than 1 or larger than \"\n",
      "C:\\Anaconda\\envs\\env_eosc510\\lib\\site-packages\\sklearn\\neural_network\\_multilayer_perceptron.py:542: UserWarning: Got `batch_size` less than 1 or larger than sample size. It is going to be clipped\n",
      "  warnings.warn(\"Got `batch_size` less than 1 or larger than \"\n",
      "C:\\Anaconda\\envs\\env_eosc510\\lib\\site-packages\\sklearn\\neural_network\\_multilayer_perceptron.py:614: ConvergenceWarning: Stochastic Optimizer: Maximum iterations (3000) reached and the optimization hasn't converged yet.\n",
      "  warnings.warn(\n",
      "C:\\Anaconda\\envs\\env_eosc510\\lib\\site-packages\\sklearn\\neural_network\\_multilayer_perceptron.py:542: UserWarning: Got `batch_size` less than 1 or larger than sample size. It is going to be clipped\n",
      "  warnings.warn(\"Got `batch_size` less than 1 or larger than \"\n"
     ]
    },
    {
     "name": "stdout",
     "output_type": "stream",
     "text": [
      "\t\t # hidden neurons = 3\n",
      "\t\t # hidden neurons = 4\n",
      "\t\t # hidden neurons = 5\n"
     ]
    },
    {
     "name": "stderr",
     "output_type": "stream",
     "text": [
      "C:\\Anaconda\\envs\\env_eosc510\\lib\\site-packages\\sklearn\\neural_network\\_multilayer_perceptron.py:542: UserWarning: Got `batch_size` less than 1 or larger than sample size. It is going to be clipped\n",
      "  warnings.warn(\"Got `batch_size` less than 1 or larger than \"\n",
      "C:\\Anaconda\\envs\\env_eosc510\\lib\\site-packages\\sklearn\\neural_network\\_multilayer_perceptron.py:542: UserWarning: Got `batch_size` less than 1 or larger than sample size. It is going to be clipped\n",
      "  warnings.warn(\"Got `batch_size` less than 1 or larger than \"\n",
      "C:\\Anaconda\\envs\\env_eosc510\\lib\\site-packages\\sklearn\\neural_network\\_multilayer_perceptron.py:614: ConvergenceWarning: Stochastic Optimizer: Maximum iterations (3000) reached and the optimization hasn't converged yet.\n",
      "  warnings.warn(\n",
      "C:\\Anaconda\\envs\\env_eosc510\\lib\\site-packages\\sklearn\\neural_network\\_multilayer_perceptron.py:542: UserWarning: Got `batch_size` less than 1 or larger than sample size. It is going to be clipped\n",
      "  warnings.warn(\"Got `batch_size` less than 1 or larger than \"\n",
      "C:\\Anaconda\\envs\\env_eosc510\\lib\\site-packages\\sklearn\\neural_network\\_multilayer_perceptron.py:542: UserWarning: Got `batch_size` less than 1 or larger than sample size. It is going to be clipped\n",
      "  warnings.warn(\"Got `batch_size` less than 1 or larger than \"\n",
      "C:\\Anaconda\\envs\\env_eosc510\\lib\\site-packages\\sklearn\\neural_network\\_multilayer_perceptron.py:542: UserWarning: Got `batch_size` less than 1 or larger than sample size. It is going to be clipped\n",
      "  warnings.warn(\"Got `batch_size` less than 1 or larger than \"\n",
      "C:\\Anaconda\\envs\\env_eosc510\\lib\\site-packages\\sklearn\\neural_network\\_multilayer_perceptron.py:542: UserWarning: Got `batch_size` less than 1 or larger than sample size. It is going to be clipped\n",
      "  warnings.warn(\"Got `batch_size` less than 1 or larger than \"\n",
      "C:\\Anaconda\\envs\\env_eosc510\\lib\\site-packages\\sklearn\\neural_network\\_multilayer_perceptron.py:542: UserWarning: Got `batch_size` less than 1 or larger than sample size. It is going to be clipped\n",
      "  warnings.warn(\"Got `batch_size` less than 1 or larger than \"\n",
      "C:\\Anaconda\\envs\\env_eosc510\\lib\\site-packages\\sklearn\\neural_network\\_multilayer_perceptron.py:542: UserWarning: Got `batch_size` less than 1 or larger than sample size. It is going to be clipped\n",
      "  warnings.warn(\"Got `batch_size` less than 1 or larger than \"\n",
      "C:\\Anaconda\\envs\\env_eosc510\\lib\\site-packages\\sklearn\\neural_network\\_multilayer_perceptron.py:542: UserWarning: Got `batch_size` less than 1 or larger than sample size. It is going to be clipped\n",
      "  warnings.warn(\"Got `batch_size` less than 1 or larger than \"\n",
      "C:\\Anaconda\\envs\\env_eosc510\\lib\\site-packages\\sklearn\\neural_network\\_multilayer_perceptron.py:542: UserWarning: Got `batch_size` less than 1 or larger than sample size. It is going to be clipped\n",
      "  warnings.warn(\"Got `batch_size` less than 1 or larger than \"\n"
     ]
    },
    {
     "name": "stdout",
     "output_type": "stream",
     "text": [
      "\t\t # hidden neurons = 6\n",
      "\t\t # hidden neurons = 7\n",
      "\t\t # hidden neurons = 8\n",
      "\t\t # hidden neurons = 9\n",
      "\t\t # hidden neurons = 10\n",
      "\t\t # hidden neurons = 11\n",
      "\t # Hidden Layers = 2\n",
      "\t\t # hidden neurons = 1\n",
      "\t\t # hidden neurons = 2\n",
      "\t\t # hidden neurons = 3\n"
     ]
    },
    {
     "name": "stderr",
     "output_type": "stream",
     "text": [
      "C:\\Anaconda\\envs\\env_eosc510\\lib\\site-packages\\sklearn\\neural_network\\_multilayer_perceptron.py:542: UserWarning: Got `batch_size` less than 1 or larger than sample size. It is going to be clipped\n",
      "  warnings.warn(\"Got `batch_size` less than 1 or larger than \"\n",
      "C:\\Anaconda\\envs\\env_eosc510\\lib\\site-packages\\sklearn\\neural_network\\_multilayer_perceptron.py:614: ConvergenceWarning: Stochastic Optimizer: Maximum iterations (3000) reached and the optimization hasn't converged yet.\n",
      "  warnings.warn(\n",
      "C:\\Anaconda\\envs\\env_eosc510\\lib\\site-packages\\sklearn\\neural_network\\_multilayer_perceptron.py:542: UserWarning: Got `batch_size` less than 1 or larger than sample size. It is going to be clipped\n",
      "  warnings.warn(\"Got `batch_size` less than 1 or larger than \"\n",
      "C:\\Anaconda\\envs\\env_eosc510\\lib\\site-packages\\sklearn\\neural_network\\_multilayer_perceptron.py:542: UserWarning: Got `batch_size` less than 1 or larger than sample size. It is going to be clipped\n",
      "  warnings.warn(\"Got `batch_size` less than 1 or larger than \"\n"
     ]
    },
    {
     "name": "stdout",
     "output_type": "stream",
     "text": [
      "\t\t # hidden neurons = 4\n",
      "\t\t # hidden neurons = 5\n",
      "\t\t # hidden neurons = 6\n",
      "\t\t # hidden neurons = 7\n",
      "\t\t # hidden neurons = 8\n",
      "\t\t # hidden neurons = 9\n",
      "\t\t # hidden neurons = 10\n",
      "\t\t # hidden neurons = 11\n",
      "\t # Hidden Layers = 3\n",
      "\t\t # hidden neurons = 1\n"
     ]
    },
    {
     "name": "stderr",
     "output_type": "stream",
     "text": [
      "C:\\Anaconda\\envs\\env_eosc510\\lib\\site-packages\\sklearn\\neural_network\\_multilayer_perceptron.py:542: UserWarning: Got `batch_size` less than 1 or larger than sample size. It is going to be clipped\n",
      "  warnings.warn(\"Got `batch_size` less than 1 or larger than \"\n",
      "C:\\Anaconda\\envs\\env_eosc510\\lib\\site-packages\\sklearn\\neural_network\\_multilayer_perceptron.py:542: UserWarning: Got `batch_size` less than 1 or larger than sample size. It is going to be clipped\n",
      "  warnings.warn(\"Got `batch_size` less than 1 or larger than \"\n",
      "C:\\Anaconda\\envs\\env_eosc510\\lib\\site-packages\\sklearn\\neural_network\\_multilayer_perceptron.py:542: UserWarning: Got `batch_size` less than 1 or larger than sample size. It is going to be clipped\n",
      "  warnings.warn(\"Got `batch_size` less than 1 or larger than \"\n",
      "C:\\Anaconda\\envs\\env_eosc510\\lib\\site-packages\\sklearn\\neural_network\\_multilayer_perceptron.py:542: UserWarning: Got `batch_size` less than 1 or larger than sample size. It is going to be clipped\n",
      "  warnings.warn(\"Got `batch_size` less than 1 or larger than \"\n",
      "C:\\Anaconda\\envs\\env_eosc510\\lib\\site-packages\\sklearn\\neural_network\\_multilayer_perceptron.py:542: UserWarning: Got `batch_size` less than 1 or larger than sample size. It is going to be clipped\n",
      "  warnings.warn(\"Got `batch_size` less than 1 or larger than \"\n",
      "C:\\Anaconda\\envs\\env_eosc510\\lib\\site-packages\\sklearn\\neural_network\\_multilayer_perceptron.py:542: UserWarning: Got `batch_size` less than 1 or larger than sample size. It is going to be clipped\n",
      "  warnings.warn(\"Got `batch_size` less than 1 or larger than \"\n",
      "C:\\Anaconda\\envs\\env_eosc510\\lib\\site-packages\\sklearn\\neural_network\\_multilayer_perceptron.py:542: UserWarning: Got `batch_size` less than 1 or larger than sample size. It is going to be clipped\n",
      "  warnings.warn(\"Got `batch_size` less than 1 or larger than \"\n"
     ]
    },
    {
     "name": "stdout",
     "output_type": "stream",
     "text": [
      "\t\t # hidden neurons = 2\n",
      "\t\t # hidden neurons = 3\n",
      "\t\t # hidden neurons = 4\n"
     ]
    },
    {
     "name": "stderr",
     "output_type": "stream",
     "text": [
      "C:\\Anaconda\\envs\\env_eosc510\\lib\\site-packages\\sklearn\\neural_network\\_multilayer_perceptron.py:542: UserWarning: Got `batch_size` less than 1 or larger than sample size. It is going to be clipped\n",
      "  warnings.warn(\"Got `batch_size` less than 1 or larger than \"\n",
      "C:\\Anaconda\\envs\\env_eosc510\\lib\\site-packages\\sklearn\\neural_network\\_multilayer_perceptron.py:542: UserWarning: Got `batch_size` less than 1 or larger than sample size. It is going to be clipped\n",
      "  warnings.warn(\"Got `batch_size` less than 1 or larger than \"\n",
      "C:\\Anaconda\\envs\\env_eosc510\\lib\\site-packages\\sklearn\\neural_network\\_multilayer_perceptron.py:542: UserWarning: Got `batch_size` less than 1 or larger than sample size. It is going to be clipped\n",
      "  warnings.warn(\"Got `batch_size` less than 1 or larger than \"\n"
     ]
    },
    {
     "name": "stdout",
     "output_type": "stream",
     "text": [
      "\t\t # hidden neurons = 5\n",
      "\t\t # hidden neurons = 6\n"
     ]
    },
    {
     "name": "stderr",
     "output_type": "stream",
     "text": [
      "C:\\Anaconda\\envs\\env_eosc510\\lib\\site-packages\\sklearn\\neural_network\\_multilayer_perceptron.py:542: UserWarning: Got `batch_size` less than 1 or larger than sample size. It is going to be clipped\n",
      "  warnings.warn(\"Got `batch_size` less than 1 or larger than \"\n",
      "C:\\Anaconda\\envs\\env_eosc510\\lib\\site-packages\\sklearn\\neural_network\\_multilayer_perceptron.py:542: UserWarning: Got `batch_size` less than 1 or larger than sample size. It is going to be clipped\n",
      "  warnings.warn(\"Got `batch_size` less than 1 or larger than \"\n"
     ]
    },
    {
     "name": "stdout",
     "output_type": "stream",
     "text": [
      "\t\t # hidden neurons = 7\n"
     ]
    },
    {
     "name": "stderr",
     "output_type": "stream",
     "text": [
      "C:\\Anaconda\\envs\\env_eosc510\\lib\\site-packages\\sklearn\\neural_network\\_multilayer_perceptron.py:542: UserWarning: Got `batch_size` less than 1 or larger than sample size. It is going to be clipped\n",
      "  warnings.warn(\"Got `batch_size` less than 1 or larger than \"\n"
     ]
    },
    {
     "name": "stdout",
     "output_type": "stream",
     "text": [
      "\t\t # hidden neurons = 8\n",
      "\t\t # hidden neurons = 9\n"
     ]
    },
    {
     "name": "stderr",
     "output_type": "stream",
     "text": [
      "C:\\Anaconda\\envs\\env_eosc510\\lib\\site-packages\\sklearn\\neural_network\\_multilayer_perceptron.py:542: UserWarning: Got `batch_size` less than 1 or larger than sample size. It is going to be clipped\n",
      "  warnings.warn(\"Got `batch_size` less than 1 or larger than \"\n",
      "C:\\Anaconda\\envs\\env_eosc510\\lib\\site-packages\\sklearn\\neural_network\\_multilayer_perceptron.py:542: UserWarning: Got `batch_size` less than 1 or larger than sample size. It is going to be clipped\n",
      "  warnings.warn(\"Got `batch_size` less than 1 or larger than \"\n"
     ]
    },
    {
     "name": "stdout",
     "output_type": "stream",
     "text": [
      "\t\t # hidden neurons = 10\n",
      "\t\t # hidden neurons = 11\n",
      "\t # Hidden Layers = 4\n",
      "\t\t # hidden neurons = 1\n"
     ]
    },
    {
     "name": "stderr",
     "output_type": "stream",
     "text": [
      "C:\\Anaconda\\envs\\env_eosc510\\lib\\site-packages\\sklearn\\neural_network\\_multilayer_perceptron.py:542: UserWarning: Got `batch_size` less than 1 or larger than sample size. It is going to be clipped\n",
      "  warnings.warn(\"Got `batch_size` less than 1 or larger than \"\n",
      "C:\\Anaconda\\envs\\env_eosc510\\lib\\site-packages\\sklearn\\neural_network\\_multilayer_perceptron.py:542: UserWarning: Got `batch_size` less than 1 or larger than sample size. It is going to be clipped\n",
      "  warnings.warn(\"Got `batch_size` less than 1 or larger than \"\n",
      "C:\\Anaconda\\envs\\env_eosc510\\lib\\site-packages\\sklearn\\neural_network\\_multilayer_perceptron.py:542: UserWarning: Got `batch_size` less than 1 or larger than sample size. It is going to be clipped\n",
      "  warnings.warn(\"Got `batch_size` less than 1 or larger than \"\n"
     ]
    },
    {
     "name": "stdout",
     "output_type": "stream",
     "text": [
      "\t\t # hidden neurons = 2\n",
      "\t\t # hidden neurons = 3\n",
      "\t\t # hidden neurons = 4\n",
      "\t\t # hidden neurons = 5\n"
     ]
    },
    {
     "name": "stderr",
     "output_type": "stream",
     "text": [
      "C:\\Anaconda\\envs\\env_eosc510\\lib\\site-packages\\sklearn\\neural_network\\_multilayer_perceptron.py:542: UserWarning: Got `batch_size` less than 1 or larger than sample size. It is going to be clipped\n",
      "  warnings.warn(\"Got `batch_size` less than 1 or larger than \"\n",
      "C:\\Anaconda\\envs\\env_eosc510\\lib\\site-packages\\sklearn\\neural_network\\_multilayer_perceptron.py:542: UserWarning: Got `batch_size` less than 1 or larger than sample size. It is going to be clipped\n",
      "  warnings.warn(\"Got `batch_size` less than 1 or larger than \"\n",
      "C:\\Anaconda\\envs\\env_eosc510\\lib\\site-packages\\sklearn\\neural_network\\_multilayer_perceptron.py:542: UserWarning: Got `batch_size` less than 1 or larger than sample size. It is going to be clipped\n",
      "  warnings.warn(\"Got `batch_size` less than 1 or larger than \"\n",
      "C:\\Anaconda\\envs\\env_eosc510\\lib\\site-packages\\sklearn\\neural_network\\_multilayer_perceptron.py:542: UserWarning: Got `batch_size` less than 1 or larger than sample size. It is going to be clipped\n",
      "  warnings.warn(\"Got `batch_size` less than 1 or larger than \"\n"
     ]
    },
    {
     "name": "stdout",
     "output_type": "stream",
     "text": [
      "\t\t # hidden neurons = 6\n",
      "\t\t # hidden neurons = 7\n",
      "\t\t # hidden neurons = 8\n"
     ]
    },
    {
     "name": "stderr",
     "output_type": "stream",
     "text": [
      "C:\\Anaconda\\envs\\env_eosc510\\lib\\site-packages\\sklearn\\neural_network\\_multilayer_perceptron.py:542: UserWarning: Got `batch_size` less than 1 or larger than sample size. It is going to be clipped\n",
      "  warnings.warn(\"Got `batch_size` less than 1 or larger than \"\n",
      "C:\\Anaconda\\envs\\env_eosc510\\lib\\site-packages\\sklearn\\neural_network\\_multilayer_perceptron.py:542: UserWarning: Got `batch_size` less than 1 or larger than sample size. It is going to be clipped\n",
      "  warnings.warn(\"Got `batch_size` less than 1 or larger than \"\n",
      "C:\\Anaconda\\envs\\env_eosc510\\lib\\site-packages\\sklearn\\neural_network\\_multilayer_perceptron.py:542: UserWarning: Got `batch_size` less than 1 or larger than sample size. It is going to be clipped\n",
      "  warnings.warn(\"Got `batch_size` less than 1 or larger than \"\n"
     ]
    },
    {
     "name": "stdout",
     "output_type": "stream",
     "text": [
      "\t\t # hidden neurons = 9\n",
      "\t\t # hidden neurons = 10\n"
     ]
    },
    {
     "name": "stderr",
     "output_type": "stream",
     "text": [
      "C:\\Anaconda\\envs\\env_eosc510\\lib\\site-packages\\sklearn\\neural_network\\_multilayer_perceptron.py:542: UserWarning: Got `batch_size` less than 1 or larger than sample size. It is going to be clipped\n",
      "  warnings.warn(\"Got `batch_size` less than 1 or larger than \"\n",
      "C:\\Anaconda\\envs\\env_eosc510\\lib\\site-packages\\sklearn\\neural_network\\_multilayer_perceptron.py:542: UserWarning: Got `batch_size` less than 1 or larger than sample size. It is going to be clipped\n",
      "  warnings.warn(\"Got `batch_size` less than 1 or larger than \"\n"
     ]
    },
    {
     "name": "stdout",
     "output_type": "stream",
     "text": [
      "\t\t # hidden neurons = 11\n",
      "\t # Hidden Layers = 5\n",
      "\t\t # hidden neurons = 1\n"
     ]
    },
    {
     "name": "stderr",
     "output_type": "stream",
     "text": [
      "C:\\Anaconda\\envs\\env_eosc510\\lib\\site-packages\\sklearn\\neural_network\\_multilayer_perceptron.py:542: UserWarning: Got `batch_size` less than 1 or larger than sample size. It is going to be clipped\n",
      "  warnings.warn(\"Got `batch_size` less than 1 or larger than \"\n",
      "C:\\Anaconda\\envs\\env_eosc510\\lib\\site-packages\\sklearn\\neural_network\\_multilayer_perceptron.py:542: UserWarning: Got `batch_size` less than 1 or larger than sample size. It is going to be clipped\n",
      "  warnings.warn(\"Got `batch_size` less than 1 or larger than \"\n"
     ]
    },
    {
     "name": "stdout",
     "output_type": "stream",
     "text": [
      "\t\t # hidden neurons = 2\n"
     ]
    },
    {
     "name": "stderr",
     "output_type": "stream",
     "text": [
      "C:\\Anaconda\\envs\\env_eosc510\\lib\\site-packages\\sklearn\\neural_network\\_multilayer_perceptron.py:542: UserWarning: Got `batch_size` less than 1 or larger than sample size. It is going to be clipped\n",
      "  warnings.warn(\"Got `batch_size` less than 1 or larger than \"\n"
     ]
    },
    {
     "name": "stdout",
     "output_type": "stream",
     "text": [
      "\t\t # hidden neurons = 3\n",
      "\t\t # hidden neurons = 4\n",
      "\t\t # hidden neurons = 5\n"
     ]
    },
    {
     "name": "stderr",
     "output_type": "stream",
     "text": [
      "C:\\Anaconda\\envs\\env_eosc510\\lib\\site-packages\\sklearn\\neural_network\\_multilayer_perceptron.py:542: UserWarning: Got `batch_size` less than 1 or larger than sample size. It is going to be clipped\n",
      "  warnings.warn(\"Got `batch_size` less than 1 or larger than \"\n",
      "C:\\Anaconda\\envs\\env_eosc510\\lib\\site-packages\\sklearn\\neural_network\\_multilayer_perceptron.py:542: UserWarning: Got `batch_size` less than 1 or larger than sample size. It is going to be clipped\n",
      "  warnings.warn(\"Got `batch_size` less than 1 or larger than \"\n",
      "C:\\Anaconda\\envs\\env_eosc510\\lib\\site-packages\\sklearn\\neural_network\\_multilayer_perceptron.py:542: UserWarning: Got `batch_size` less than 1 or larger than sample size. It is going to be clipped\n",
      "  warnings.warn(\"Got `batch_size` less than 1 or larger than \"\n",
      "C:\\Anaconda\\envs\\env_eosc510\\lib\\site-packages\\sklearn\\neural_network\\_multilayer_perceptron.py:542: UserWarning: Got `batch_size` less than 1 or larger than sample size. It is going to be clipped\n",
      "  warnings.warn(\"Got `batch_size` less than 1 or larger than \"\n",
      "C:\\Anaconda\\envs\\env_eosc510\\lib\\site-packages\\sklearn\\neural_network\\_multilayer_perceptron.py:542: UserWarning: Got `batch_size` less than 1 or larger than sample size. It is going to be clipped\n",
      "  warnings.warn(\"Got `batch_size` less than 1 or larger than \"\n"
     ]
    },
    {
     "name": "stdout",
     "output_type": "stream",
     "text": [
      "\t\t # hidden neurons = 6\n",
      "\t\t # hidden neurons = 7\n",
      "\t\t # hidden neurons = 8\n",
      "\t\t # hidden neurons = 9\n"
     ]
    },
    {
     "name": "stderr",
     "output_type": "stream",
     "text": [
      "C:\\Anaconda\\envs\\env_eosc510\\lib\\site-packages\\sklearn\\neural_network\\_multilayer_perceptron.py:542: UserWarning: Got `batch_size` less than 1 or larger than sample size. It is going to be clipped\n",
      "  warnings.warn(\"Got `batch_size` less than 1 or larger than \"\n",
      "C:\\Anaconda\\envs\\env_eosc510\\lib\\site-packages\\sklearn\\neural_network\\_multilayer_perceptron.py:542: UserWarning: Got `batch_size` less than 1 or larger than sample size. It is going to be clipped\n",
      "  warnings.warn(\"Got `batch_size` less than 1 or larger than \"\n",
      "C:\\Anaconda\\envs\\env_eosc510\\lib\\site-packages\\sklearn\\neural_network\\_multilayer_perceptron.py:614: ConvergenceWarning: Stochastic Optimizer: Maximum iterations (3000) reached and the optimization hasn't converged yet.\n",
      "  warnings.warn(\n",
      "C:\\Anaconda\\envs\\env_eosc510\\lib\\site-packages\\sklearn\\neural_network\\_multilayer_perceptron.py:542: UserWarning: Got `batch_size` less than 1 or larger than sample size. It is going to be clipped\n",
      "  warnings.warn(\"Got `batch_size` less than 1 or larger than \"\n",
      "C:\\Anaconda\\envs\\env_eosc510\\lib\\site-packages\\sklearn\\neural_network\\_multilayer_perceptron.py:542: UserWarning: Got `batch_size` less than 1 or larger than sample size. It is going to be clipped\n",
      "  warnings.warn(\"Got `batch_size` less than 1 or larger than \"\n",
      "C:\\Anaconda\\envs\\env_eosc510\\lib\\site-packages\\sklearn\\neural_network\\_multilayer_perceptron.py:542: UserWarning: Got `batch_size` less than 1 or larger than sample size. It is going to be clipped\n",
      "  warnings.warn(\"Got `batch_size` less than 1 or larger than \"\n",
      "C:\\Anaconda\\envs\\env_eosc510\\lib\\site-packages\\sklearn\\neural_network\\_multilayer_perceptron.py:542: UserWarning: Got `batch_size` less than 1 or larger than sample size. It is going to be clipped\n",
      "  warnings.warn(\"Got `batch_size` less than 1 or larger than \"\n",
      "C:\\Anaconda\\envs\\env_eosc510\\lib\\site-packages\\sklearn\\neural_network\\_multilayer_perceptron.py:542: UserWarning: Got `batch_size` less than 1 or larger than sample size. It is going to be clipped\n",
      "  warnings.warn(\"Got `batch_size` less than 1 or larger than \"\n"
     ]
    },
    {
     "name": "stdout",
     "output_type": "stream",
     "text": [
      "\t\t # hidden neurons = 10\n",
      "\t\t # hidden neurons = 11\n",
      "\t # Hidden Layers = 6\n",
      "\t\t # hidden neurons = 1\n",
      "\t\t # hidden neurons = 2\n",
      "\t\t # hidden neurons = 3\n",
      "\t\t # hidden neurons = 4\n",
      "\t\t # hidden neurons = 5\n",
      "\t\t # hidden neurons = 6\n"
     ]
    },
    {
     "name": "stderr",
     "output_type": "stream",
     "text": [
      "C:\\Anaconda\\envs\\env_eosc510\\lib\\site-packages\\sklearn\\neural_network\\_multilayer_perceptron.py:542: UserWarning: Got `batch_size` less than 1 or larger than sample size. It is going to be clipped\n",
      "  warnings.warn(\"Got `batch_size` less than 1 or larger than \"\n",
      "C:\\Anaconda\\envs\\env_eosc510\\lib\\site-packages\\sklearn\\neural_network\\_multilayer_perceptron.py:542: UserWarning: Got `batch_size` less than 1 or larger than sample size. It is going to be clipped\n",
      "  warnings.warn(\"Got `batch_size` less than 1 or larger than \"\n",
      "C:\\Anaconda\\envs\\env_eosc510\\lib\\site-packages\\sklearn\\neural_network\\_multilayer_perceptron.py:542: UserWarning: Got `batch_size` less than 1 or larger than sample size. It is going to be clipped\n",
      "  warnings.warn(\"Got `batch_size` less than 1 or larger than \"\n"
     ]
    },
    {
     "name": "stdout",
     "output_type": "stream",
     "text": [
      "\t\t # hidden neurons = 7\n",
      "\t\t # hidden neurons = 8\n"
     ]
    },
    {
     "name": "stderr",
     "output_type": "stream",
     "text": [
      "C:\\Anaconda\\envs\\env_eosc510\\lib\\site-packages\\sklearn\\neural_network\\_multilayer_perceptron.py:542: UserWarning: Got `batch_size` less than 1 or larger than sample size. It is going to be clipped\n",
      "  warnings.warn(\"Got `batch_size` less than 1 or larger than \"\n",
      "C:\\Anaconda\\envs\\env_eosc510\\lib\\site-packages\\sklearn\\neural_network\\_multilayer_perceptron.py:542: UserWarning: Got `batch_size` less than 1 or larger than sample size. It is going to be clipped\n",
      "  warnings.warn(\"Got `batch_size` less than 1 or larger than \"\n"
     ]
    },
    {
     "name": "stdout",
     "output_type": "stream",
     "text": [
      "\t\t # hidden neurons = 9\n",
      "\t\t # hidden neurons = 10\n",
      "\t\t # hidden neurons = 11\n",
      "\t # Hidden Layers = 7\n",
      "\t\t # hidden neurons = 1\n"
     ]
    },
    {
     "name": "stderr",
     "output_type": "stream",
     "text": [
      "C:\\Anaconda\\envs\\env_eosc510\\lib\\site-packages\\sklearn\\neural_network\\_multilayer_perceptron.py:542: UserWarning: Got `batch_size` less than 1 or larger than sample size. It is going to be clipped\n",
      "  warnings.warn(\"Got `batch_size` less than 1 or larger than \"\n",
      "C:\\Anaconda\\envs\\env_eosc510\\lib\\site-packages\\sklearn\\neural_network\\_multilayer_perceptron.py:542: UserWarning: Got `batch_size` less than 1 or larger than sample size. It is going to be clipped\n",
      "  warnings.warn(\"Got `batch_size` less than 1 or larger than \"\n",
      "C:\\Anaconda\\envs\\env_eosc510\\lib\\site-packages\\sklearn\\neural_network\\_multilayer_perceptron.py:542: UserWarning: Got `batch_size` less than 1 or larger than sample size. It is going to be clipped\n",
      "  warnings.warn(\"Got `batch_size` less than 1 or larger than \"\n",
      "C:\\Anaconda\\envs\\env_eosc510\\lib\\site-packages\\sklearn\\neural_network\\_multilayer_perceptron.py:542: UserWarning: Got `batch_size` less than 1 or larger than sample size. It is going to be clipped\n",
      "  warnings.warn(\"Got `batch_size` less than 1 or larger than \"\n"
     ]
    },
    {
     "name": "stdout",
     "output_type": "stream",
     "text": [
      "\t\t # hidden neurons = 2\n"
     ]
    },
    {
     "name": "stderr",
     "output_type": "stream",
     "text": [
      "C:\\Anaconda\\envs\\env_eosc510\\lib\\site-packages\\sklearn\\neural_network\\_multilayer_perceptron.py:542: UserWarning: Got `batch_size` less than 1 or larger than sample size. It is going to be clipped\n",
      "  warnings.warn(\"Got `batch_size` less than 1 or larger than \"\n"
     ]
    },
    {
     "name": "stdout",
     "output_type": "stream",
     "text": [
      "\t\t # hidden neurons = 3\n",
      "\t\t # hidden neurons = 4\n",
      "\t\t # hidden neurons = 5\n"
     ]
    },
    {
     "name": "stderr",
     "output_type": "stream",
     "text": [
      "C:\\Anaconda\\envs\\env_eosc510\\lib\\site-packages\\sklearn\\neural_network\\_multilayer_perceptron.py:542: UserWarning: Got `batch_size` less than 1 or larger than sample size. It is going to be clipped\n",
      "  warnings.warn(\"Got `batch_size` less than 1 or larger than \"\n",
      "C:\\Anaconda\\envs\\env_eosc510\\lib\\site-packages\\sklearn\\neural_network\\_multilayer_perceptron.py:542: UserWarning: Got `batch_size` less than 1 or larger than sample size. It is going to be clipped\n",
      "  warnings.warn(\"Got `batch_size` less than 1 or larger than \"\n",
      "C:\\Anaconda\\envs\\env_eosc510\\lib\\site-packages\\sklearn\\neural_network\\_multilayer_perceptron.py:542: UserWarning: Got `batch_size` less than 1 or larger than sample size. It is going to be clipped\n",
      "  warnings.warn(\"Got `batch_size` less than 1 or larger than \"\n",
      "C:\\Anaconda\\envs\\env_eosc510\\lib\\site-packages\\sklearn\\neural_network\\_multilayer_perceptron.py:542: UserWarning: Got `batch_size` less than 1 or larger than sample size. It is going to be clipped\n",
      "  warnings.warn(\"Got `batch_size` less than 1 or larger than \"\n"
     ]
    },
    {
     "name": "stdout",
     "output_type": "stream",
     "text": [
      "\t\t # hidden neurons = 6\n",
      "\t\t # hidden neurons = 7\n",
      "\t\t # hidden neurons = 8\n"
     ]
    },
    {
     "name": "stderr",
     "output_type": "stream",
     "text": [
      "C:\\Anaconda\\envs\\env_eosc510\\lib\\site-packages\\sklearn\\neural_network\\_multilayer_perceptron.py:542: UserWarning: Got `batch_size` less than 1 or larger than sample size. It is going to be clipped\n",
      "  warnings.warn(\"Got `batch_size` less than 1 or larger than \"\n",
      "C:\\Anaconda\\envs\\env_eosc510\\lib\\site-packages\\sklearn\\neural_network\\_multilayer_perceptron.py:542: UserWarning: Got `batch_size` less than 1 or larger than sample size. It is going to be clipped\n",
      "  warnings.warn(\"Got `batch_size` less than 1 or larger than \"\n"
     ]
    },
    {
     "name": "stdout",
     "output_type": "stream",
     "text": [
      "\t\t # hidden neurons = 9\n",
      "\t\t # hidden neurons = 10\n",
      "\t\t # hidden neurons = 11\n"
     ]
    },
    {
     "name": "stderr",
     "output_type": "stream",
     "text": [
      "C:\\Anaconda\\envs\\env_eosc510\\lib\\site-packages\\sklearn\\neural_network\\_multilayer_perceptron.py:542: UserWarning: Got `batch_size` less than 1 or larger than sample size. It is going to be clipped\n",
      "  warnings.warn(\"Got `batch_size` less than 1 or larger than \"\n",
      "C:\\Anaconda\\envs\\env_eosc510\\lib\\site-packages\\sklearn\\neural_network\\_multilayer_perceptron.py:542: UserWarning: Got `batch_size` less than 1 or larger than sample size. It is going to be clipped\n",
      "  warnings.warn(\"Got `batch_size` less than 1 or larger than \"\n",
      "C:\\Anaconda\\envs\\env_eosc510\\lib\\site-packages\\sklearn\\neural_network\\_multilayer_perceptron.py:542: UserWarning: Got `batch_size` less than 1 or larger than sample size. It is going to be clipped\n",
      "  warnings.warn(\"Got `batch_size` less than 1 or larger than \"\n"
     ]
    },
    {
     "name": "stdout",
     "output_type": "stream",
     "text": [
      "\t # Hidden Layers = 8\n",
      "\t\t # hidden neurons = 1\n"
     ]
    },
    {
     "name": "stderr",
     "output_type": "stream",
     "text": [
      "C:\\Anaconda\\envs\\env_eosc510\\lib\\site-packages\\sklearn\\neural_network\\_multilayer_perceptron.py:542: UserWarning: Got `batch_size` less than 1 or larger than sample size. It is going to be clipped\n",
      "  warnings.warn(\"Got `batch_size` less than 1 or larger than \"\n",
      "C:\\Anaconda\\envs\\env_eosc510\\lib\\site-packages\\sklearn\\neural_network\\_multilayer_perceptron.py:614: ConvergenceWarning: Stochastic Optimizer: Maximum iterations (3000) reached and the optimization hasn't converged yet.\n",
      "  warnings.warn(\n",
      "C:\\Anaconda\\envs\\env_eosc510\\lib\\site-packages\\sklearn\\neural_network\\_multilayer_perceptron.py:542: UserWarning: Got `batch_size` less than 1 or larger than sample size. It is going to be clipped\n",
      "  warnings.warn(\"Got `batch_size` less than 1 or larger than \"\n"
     ]
    },
    {
     "name": "stdout",
     "output_type": "stream",
     "text": [
      "\t\t # hidden neurons = 2\n",
      "\t\t # hidden neurons = 3\n"
     ]
    },
    {
     "name": "stderr",
     "output_type": "stream",
     "text": [
      "C:\\Anaconda\\envs\\env_eosc510\\lib\\site-packages\\sklearn\\neural_network\\_multilayer_perceptron.py:542: UserWarning: Got `batch_size` less than 1 or larger than sample size. It is going to be clipped\n",
      "  warnings.warn(\"Got `batch_size` less than 1 or larger than \"\n"
     ]
    },
    {
     "name": "stdout",
     "output_type": "stream",
     "text": [
      "\t\t # hidden neurons = 4\n",
      "\t\t # hidden neurons = 5\n",
      "\t\t # hidden neurons = 6\n"
     ]
    },
    {
     "name": "stderr",
     "output_type": "stream",
     "text": [
      "C:\\Anaconda\\envs\\env_eosc510\\lib\\site-packages\\sklearn\\neural_network\\_multilayer_perceptron.py:542: UserWarning: Got `batch_size` less than 1 or larger than sample size. It is going to be clipped\n",
      "  warnings.warn(\"Got `batch_size` less than 1 or larger than \"\n",
      "C:\\Anaconda\\envs\\env_eosc510\\lib\\site-packages\\sklearn\\neural_network\\_multilayer_perceptron.py:542: UserWarning: Got `batch_size` less than 1 or larger than sample size. It is going to be clipped\n",
      "  warnings.warn(\"Got `batch_size` less than 1 or larger than \"\n",
      "C:\\Anaconda\\envs\\env_eosc510\\lib\\site-packages\\sklearn\\neural_network\\_multilayer_perceptron.py:542: UserWarning: Got `batch_size` less than 1 or larger than sample size. It is going to be clipped\n",
      "  warnings.warn(\"Got `batch_size` less than 1 or larger than \"\n"
     ]
    },
    {
     "name": "stdout",
     "output_type": "stream",
     "text": [
      "\t\t # hidden neurons = 7\n",
      "\t\t # hidden neurons = 8\n",
      "\t\t # hidden neurons = 9\n"
     ]
    },
    {
     "name": "stderr",
     "output_type": "stream",
     "text": [
      "C:\\Anaconda\\envs\\env_eosc510\\lib\\site-packages\\sklearn\\neural_network\\_multilayer_perceptron.py:542: UserWarning: Got `batch_size` less than 1 or larger than sample size. It is going to be clipped\n",
      "  warnings.warn(\"Got `batch_size` less than 1 or larger than \"\n",
      "C:\\Anaconda\\envs\\env_eosc510\\lib\\site-packages\\sklearn\\neural_network\\_multilayer_perceptron.py:542: UserWarning: Got `batch_size` less than 1 or larger than sample size. It is going to be clipped\n",
      "  warnings.warn(\"Got `batch_size` less than 1 or larger than \"\n",
      "C:\\Anaconda\\envs\\env_eosc510\\lib\\site-packages\\sklearn\\neural_network\\_multilayer_perceptron.py:542: UserWarning: Got `batch_size` less than 1 or larger than sample size. It is going to be clipped\n",
      "  warnings.warn(\"Got `batch_size` less than 1 or larger than \"\n"
     ]
    },
    {
     "name": "stdout",
     "output_type": "stream",
     "text": [
      "\t\t # hidden neurons = 10\n"
     ]
    },
    {
     "name": "stderr",
     "output_type": "stream",
     "text": [
      "C:\\Anaconda\\envs\\env_eosc510\\lib\\site-packages\\sklearn\\neural_network\\_multilayer_perceptron.py:542: UserWarning: Got `batch_size` less than 1 or larger than sample size. It is going to be clipped\n",
      "  warnings.warn(\"Got `batch_size` less than 1 or larger than \"\n"
     ]
    },
    {
     "name": "stdout",
     "output_type": "stream",
     "text": [
      "\t\t # hidden neurons = 11\n"
     ]
    },
    {
     "name": "stderr",
     "output_type": "stream",
     "text": [
      "C:\\Anaconda\\envs\\env_eosc510\\lib\\site-packages\\sklearn\\neural_network\\_multilayer_perceptron.py:542: UserWarning: Got `batch_size` less than 1 or larger than sample size. It is going to be clipped\n",
      "  warnings.warn(\"Got `batch_size` less than 1 or larger than \"\n"
     ]
    },
    {
     "name": "stdout",
     "output_type": "stream",
     "text": [
      "\t BEST: 2 hidden layers, 3 hidden neurons\n",
      "Model Number: 2\n",
      "\t # Hidden Layers = 1\n",
      "\t\t # hidden neurons = 1\n",
      "\t\t # hidden neurons = 2\n"
     ]
    },
    {
     "name": "stderr",
     "output_type": "stream",
     "text": [
      "C:\\Anaconda\\envs\\env_eosc510\\lib\\site-packages\\sklearn\\neural_network\\_multilayer_perceptron.py:542: UserWarning: Got `batch_size` less than 1 or larger than sample size. It is going to be clipped\n",
      "  warnings.warn(\"Got `batch_size` less than 1 or larger than \"\n",
      "C:\\Anaconda\\envs\\env_eosc510\\lib\\site-packages\\sklearn\\neural_network\\_multilayer_perceptron.py:542: UserWarning: Got `batch_size` less than 1 or larger than sample size. It is going to be clipped\n",
      "  warnings.warn(\"Got `batch_size` less than 1 or larger than \"\n"
     ]
    },
    {
     "name": "stdout",
     "output_type": "stream",
     "text": [
      "\t\t # hidden neurons = 3\n",
      "\t\t # hidden neurons = 4\n",
      "\t\t # hidden neurons = 5\n",
      "\t\t # hidden neurons = 6\n",
      "\t\t # hidden neurons = 7\n",
      "\t\t # hidden neurons = 8\n",
      "\t\t # hidden neurons = 9\n",
      "\t\t # hidden neurons = 10\n"
     ]
    },
    {
     "name": "stderr",
     "output_type": "stream",
     "text": [
      "C:\\Anaconda\\envs\\env_eosc510\\lib\\site-packages\\sklearn\\neural_network\\_multilayer_perceptron.py:542: UserWarning: Got `batch_size` less than 1 or larger than sample size. It is going to be clipped\n",
      "  warnings.warn(\"Got `batch_size` less than 1 or larger than \"\n",
      "C:\\Anaconda\\envs\\env_eosc510\\lib\\site-packages\\sklearn\\neural_network\\_multilayer_perceptron.py:542: UserWarning: Got `batch_size` less than 1 or larger than sample size. It is going to be clipped\n",
      "  warnings.warn(\"Got `batch_size` less than 1 or larger than \"\n",
      "C:\\Anaconda\\envs\\env_eosc510\\lib\\site-packages\\sklearn\\neural_network\\_multilayer_perceptron.py:542: UserWarning: Got `batch_size` less than 1 or larger than sample size. It is going to be clipped\n",
      "  warnings.warn(\"Got `batch_size` less than 1 or larger than \"\n",
      "C:\\Anaconda\\envs\\env_eosc510\\lib\\site-packages\\sklearn\\neural_network\\_multilayer_perceptron.py:542: UserWarning: Got `batch_size` less than 1 or larger than sample size. It is going to be clipped\n",
      "  warnings.warn(\"Got `batch_size` less than 1 or larger than \"\n",
      "C:\\Anaconda\\envs\\env_eosc510\\lib\\site-packages\\sklearn\\neural_network\\_multilayer_perceptron.py:542: UserWarning: Got `batch_size` less than 1 or larger than sample size. It is going to be clipped\n",
      "  warnings.warn(\"Got `batch_size` less than 1 or larger than \"\n",
      "C:\\Anaconda\\envs\\env_eosc510\\lib\\site-packages\\sklearn\\neural_network\\_multilayer_perceptron.py:542: UserWarning: Got `batch_size` less than 1 or larger than sample size. It is going to be clipped\n",
      "  warnings.warn(\"Got `batch_size` less than 1 or larger than \"\n",
      "C:\\Anaconda\\envs\\env_eosc510\\lib\\site-packages\\sklearn\\neural_network\\_multilayer_perceptron.py:542: UserWarning: Got `batch_size` less than 1 or larger than sample size. It is going to be clipped\n",
      "  warnings.warn(\"Got `batch_size` less than 1 or larger than \"\n",
      "C:\\Anaconda\\envs\\env_eosc510\\lib\\site-packages\\sklearn\\neural_network\\_multilayer_perceptron.py:542: UserWarning: Got `batch_size` less than 1 or larger than sample size. It is going to be clipped\n",
      "  warnings.warn(\"Got `batch_size` less than 1 or larger than \"\n",
      "C:\\Anaconda\\envs\\env_eosc510\\lib\\site-packages\\sklearn\\neural_network\\_multilayer_perceptron.py:614: ConvergenceWarning: Stochastic Optimizer: Maximum iterations (3000) reached and the optimization hasn't converged yet.\n",
      "  warnings.warn(\n",
      "C:\\Anaconda\\envs\\env_eosc510\\lib\\site-packages\\sklearn\\neural_network\\_multilayer_perceptron.py:542: UserWarning: Got `batch_size` less than 1 or larger than sample size. It is going to be clipped\n",
      "  warnings.warn(\"Got `batch_size` less than 1 or larger than \"\n",
      "C:\\Anaconda\\envs\\env_eosc510\\lib\\site-packages\\sklearn\\neural_network\\_multilayer_perceptron.py:542: UserWarning: Got `batch_size` less than 1 or larger than sample size. It is going to be clipped\n",
      "  warnings.warn(\"Got `batch_size` less than 1 or larger than \"\n",
      "C:\\Anaconda\\envs\\env_eosc510\\lib\\site-packages\\sklearn\\neural_network\\_multilayer_perceptron.py:542: UserWarning: Got `batch_size` less than 1 or larger than sample size. It is going to be clipped\n",
      "  warnings.warn(\"Got `batch_size` less than 1 or larger than \"\n",
      "C:\\Anaconda\\envs\\env_eosc510\\lib\\site-packages\\sklearn\\neural_network\\_multilayer_perceptron.py:542: UserWarning: Got `batch_size` less than 1 or larger than sample size. It is going to be clipped\n",
      "  warnings.warn(\"Got `batch_size` less than 1 or larger than \"\n",
      "C:\\Anaconda\\envs\\env_eosc510\\lib\\site-packages\\sklearn\\neural_network\\_multilayer_perceptron.py:542: UserWarning: Got `batch_size` less than 1 or larger than sample size. It is going to be clipped\n",
      "  warnings.warn(\"Got `batch_size` less than 1 or larger than \"\n",
      "C:\\Anaconda\\envs\\env_eosc510\\lib\\site-packages\\sklearn\\neural_network\\_multilayer_perceptron.py:542: UserWarning: Got `batch_size` less than 1 or larger than sample size. It is going to be clipped\n",
      "  warnings.warn(\"Got `batch_size` less than 1 or larger than \"\n"
     ]
    },
    {
     "name": "stdout",
     "output_type": "stream",
     "text": [
      "\t\t # hidden neurons = 11\n",
      "\t # Hidden Layers = 2\n",
      "\t\t # hidden neurons = 1\n",
      "\t\t # hidden neurons = 2\n",
      "\t\t # hidden neurons = 3\n",
      "\t\t # hidden neurons = 4\n",
      "\t\t # hidden neurons = 5\n",
      "\t\t # hidden neurons = 6\n"
     ]
    },
    {
     "name": "stderr",
     "output_type": "stream",
     "text": [
      "C:\\Anaconda\\envs\\env_eosc510\\lib\\site-packages\\sklearn\\neural_network\\_multilayer_perceptron.py:542: UserWarning: Got `batch_size` less than 1 or larger than sample size. It is going to be clipped\n",
      "  warnings.warn(\"Got `batch_size` less than 1 or larger than \"\n"
     ]
    },
    {
     "name": "stdout",
     "output_type": "stream",
     "text": [
      "\t\t # hidden neurons = 7\n"
     ]
    },
    {
     "name": "stderr",
     "output_type": "stream",
     "text": [
      "C:\\Anaconda\\envs\\env_eosc510\\lib\\site-packages\\sklearn\\neural_network\\_multilayer_perceptron.py:542: UserWarning: Got `batch_size` less than 1 or larger than sample size. It is going to be clipped\n",
      "  warnings.warn(\"Got `batch_size` less than 1 or larger than \"\n"
     ]
    },
    {
     "name": "stdout",
     "output_type": "stream",
     "text": [
      "\t\t # hidden neurons = 8\n"
     ]
    },
    {
     "name": "stderr",
     "output_type": "stream",
     "text": [
      "C:\\Anaconda\\envs\\env_eosc510\\lib\\site-packages\\sklearn\\neural_network\\_multilayer_perceptron.py:542: UserWarning: Got `batch_size` less than 1 or larger than sample size. It is going to be clipped\n",
      "  warnings.warn(\"Got `batch_size` less than 1 or larger than \"\n"
     ]
    },
    {
     "name": "stdout",
     "output_type": "stream",
     "text": [
      "\t\t # hidden neurons = 9\n",
      "\t\t # hidden neurons = 10\n"
     ]
    },
    {
     "name": "stderr",
     "output_type": "stream",
     "text": [
      "C:\\Anaconda\\envs\\env_eosc510\\lib\\site-packages\\sklearn\\neural_network\\_multilayer_perceptron.py:542: UserWarning: Got `batch_size` less than 1 or larger than sample size. It is going to be clipped\n",
      "  warnings.warn(\"Got `batch_size` less than 1 or larger than \"\n",
      "C:\\Anaconda\\envs\\env_eosc510\\lib\\site-packages\\sklearn\\neural_network\\_multilayer_perceptron.py:542: UserWarning: Got `batch_size` less than 1 or larger than sample size. It is going to be clipped\n",
      "  warnings.warn(\"Got `batch_size` less than 1 or larger than \"\n"
     ]
    },
    {
     "name": "stdout",
     "output_type": "stream",
     "text": [
      "\t\t # hidden neurons = 11\n",
      "\t # Hidden Layers = 3\n",
      "\t\t # hidden neurons = 1\n"
     ]
    },
    {
     "name": "stderr",
     "output_type": "stream",
     "text": [
      "C:\\Anaconda\\envs\\env_eosc510\\lib\\site-packages\\sklearn\\neural_network\\_multilayer_perceptron.py:542: UserWarning: Got `batch_size` less than 1 or larger than sample size. It is going to be clipped\n",
      "  warnings.warn(\"Got `batch_size` less than 1 or larger than \"\n",
      "C:\\Anaconda\\envs\\env_eosc510\\lib\\site-packages\\sklearn\\neural_network\\_multilayer_perceptron.py:542: UserWarning: Got `batch_size` less than 1 or larger than sample size. It is going to be clipped\n",
      "  warnings.warn(\"Got `batch_size` less than 1 or larger than \"\n"
     ]
    },
    {
     "name": "stdout",
     "output_type": "stream",
     "text": [
      "\t\t # hidden neurons = 2\n",
      "\t\t # hidden neurons = 3\n",
      "\t\t # hidden neurons = 4\n"
     ]
    },
    {
     "name": "stderr",
     "output_type": "stream",
     "text": [
      "C:\\Anaconda\\envs\\env_eosc510\\lib\\site-packages\\sklearn\\neural_network\\_multilayer_perceptron.py:542: UserWarning: Got `batch_size` less than 1 or larger than sample size. It is going to be clipped\n",
      "  warnings.warn(\"Got `batch_size` less than 1 or larger than \"\n",
      "C:\\Anaconda\\envs\\env_eosc510\\lib\\site-packages\\sklearn\\neural_network\\_multilayer_perceptron.py:542: UserWarning: Got `batch_size` less than 1 or larger than sample size. It is going to be clipped\n",
      "  warnings.warn(\"Got `batch_size` less than 1 or larger than \"\n",
      "C:\\Anaconda\\envs\\env_eosc510\\lib\\site-packages\\sklearn\\neural_network\\_multilayer_perceptron.py:542: UserWarning: Got `batch_size` less than 1 or larger than sample size. It is going to be clipped\n",
      "  warnings.warn(\"Got `batch_size` less than 1 or larger than \"\n"
     ]
    },
    {
     "name": "stdout",
     "output_type": "stream",
     "text": [
      "\t\t # hidden neurons = 5\n"
     ]
    },
    {
     "name": "stderr",
     "output_type": "stream",
     "text": [
      "C:\\Anaconda\\envs\\env_eosc510\\lib\\site-packages\\sklearn\\neural_network\\_multilayer_perceptron.py:542: UserWarning: Got `batch_size` less than 1 or larger than sample size. It is going to be clipped\n",
      "  warnings.warn(\"Got `batch_size` less than 1 or larger than \"\n"
     ]
    },
    {
     "name": "stdout",
     "output_type": "stream",
     "text": [
      "\t\t # hidden neurons = 6\n"
     ]
    },
    {
     "name": "stderr",
     "output_type": "stream",
     "text": [
      "C:\\Anaconda\\envs\\env_eosc510\\lib\\site-packages\\sklearn\\neural_network\\_multilayer_perceptron.py:542: UserWarning: Got `batch_size` less than 1 or larger than sample size. It is going to be clipped\n",
      "  warnings.warn(\"Got `batch_size` less than 1 or larger than \"\n"
     ]
    },
    {
     "name": "stdout",
     "output_type": "stream",
     "text": [
      "\t\t # hidden neurons = 7\n",
      "\t\t # hidden neurons = 8\n"
     ]
    },
    {
     "name": "stderr",
     "output_type": "stream",
     "text": [
      "C:\\Anaconda\\envs\\env_eosc510\\lib\\site-packages\\sklearn\\neural_network\\_multilayer_perceptron.py:542: UserWarning: Got `batch_size` less than 1 or larger than sample size. It is going to be clipped\n",
      "  warnings.warn(\"Got `batch_size` less than 1 or larger than \"\n",
      "C:\\Anaconda\\envs\\env_eosc510\\lib\\site-packages\\sklearn\\neural_network\\_multilayer_perceptron.py:542: UserWarning: Got `batch_size` less than 1 or larger than sample size. It is going to be clipped\n",
      "  warnings.warn(\"Got `batch_size` less than 1 or larger than \"\n"
     ]
    },
    {
     "name": "stdout",
     "output_type": "stream",
     "text": [
      "\t\t # hidden neurons = 9\n",
      "\t\t # hidden neurons = 10\n"
     ]
    },
    {
     "name": "stderr",
     "output_type": "stream",
     "text": [
      "C:\\Anaconda\\envs\\env_eosc510\\lib\\site-packages\\sklearn\\neural_network\\_multilayer_perceptron.py:542: UserWarning: Got `batch_size` less than 1 or larger than sample size. It is going to be clipped\n",
      "  warnings.warn(\"Got `batch_size` less than 1 or larger than \"\n",
      "C:\\Anaconda\\envs\\env_eosc510\\lib\\site-packages\\sklearn\\neural_network\\_multilayer_perceptron.py:542: UserWarning: Got `batch_size` less than 1 or larger than sample size. It is going to be clipped\n",
      "  warnings.warn(\"Got `batch_size` less than 1 or larger than \"\n"
     ]
    },
    {
     "name": "stdout",
     "output_type": "stream",
     "text": [
      "\t\t # hidden neurons = 11\n",
      "\t # Hidden Layers = 4\n",
      "\t\t # hidden neurons = 1\n",
      "\t\t # hidden neurons = 2\n",
      "\t\t # hidden neurons = 3\n",
      "\t\t # hidden neurons = 4\n"
     ]
    },
    {
     "name": "stderr",
     "output_type": "stream",
     "text": [
      "C:\\Anaconda\\envs\\env_eosc510\\lib\\site-packages\\sklearn\\neural_network\\_multilayer_perceptron.py:542: UserWarning: Got `batch_size` less than 1 or larger than sample size. It is going to be clipped\n",
      "  warnings.warn(\"Got `batch_size` less than 1 or larger than \"\n",
      "C:\\Anaconda\\envs\\env_eosc510\\lib\\site-packages\\sklearn\\neural_network\\_multilayer_perceptron.py:542: UserWarning: Got `batch_size` less than 1 or larger than sample size. It is going to be clipped\n",
      "  warnings.warn(\"Got `batch_size` less than 1 or larger than \"\n",
      "C:\\Anaconda\\envs\\env_eosc510\\lib\\site-packages\\sklearn\\neural_network\\_multilayer_perceptron.py:542: UserWarning: Got `batch_size` less than 1 or larger than sample size. It is going to be clipped\n",
      "  warnings.warn(\"Got `batch_size` less than 1 or larger than \"\n",
      "C:\\Anaconda\\envs\\env_eosc510\\lib\\site-packages\\sklearn\\neural_network\\_multilayer_perceptron.py:542: UserWarning: Got `batch_size` less than 1 or larger than sample size. It is going to be clipped\n",
      "  warnings.warn(\"Got `batch_size` less than 1 or larger than \"\n",
      "C:\\Anaconda\\envs\\env_eosc510\\lib\\site-packages\\sklearn\\neural_network\\_multilayer_perceptron.py:542: UserWarning: Got `batch_size` less than 1 or larger than sample size. It is going to be clipped\n",
      "  warnings.warn(\"Got `batch_size` less than 1 or larger than \"\n",
      "C:\\Anaconda\\envs\\env_eosc510\\lib\\site-packages\\sklearn\\neural_network\\_multilayer_perceptron.py:542: UserWarning: Got `batch_size` less than 1 or larger than sample size. It is going to be clipped\n",
      "  warnings.warn(\"Got `batch_size` less than 1 or larger than \"\n"
     ]
    },
    {
     "name": "stdout",
     "output_type": "stream",
     "text": [
      "\t\t # hidden neurons = 5\n",
      "\t\t # hidden neurons = 6\n"
     ]
    },
    {
     "name": "stderr",
     "output_type": "stream",
     "text": [
      "C:\\Anaconda\\envs\\env_eosc510\\lib\\site-packages\\sklearn\\neural_network\\_multilayer_perceptron.py:542: UserWarning: Got `batch_size` less than 1 or larger than sample size. It is going to be clipped\n",
      "  warnings.warn(\"Got `batch_size` less than 1 or larger than \"\n"
     ]
    },
    {
     "name": "stdout",
     "output_type": "stream",
     "text": [
      "\t\t # hidden neurons = 7\n"
     ]
    },
    {
     "name": "stderr",
     "output_type": "stream",
     "text": [
      "C:\\Anaconda\\envs\\env_eosc510\\lib\\site-packages\\sklearn\\neural_network\\_multilayer_perceptron.py:542: UserWarning: Got `batch_size` less than 1 or larger than sample size. It is going to be clipped\n",
      "  warnings.warn(\"Got `batch_size` less than 1 or larger than \"\n"
     ]
    },
    {
     "name": "stdout",
     "output_type": "stream",
     "text": [
      "\t\t # hidden neurons = 8\n"
     ]
    },
    {
     "name": "stderr",
     "output_type": "stream",
     "text": [
      "C:\\Anaconda\\envs\\env_eosc510\\lib\\site-packages\\sklearn\\neural_network\\_multilayer_perceptron.py:542: UserWarning: Got `batch_size` less than 1 or larger than sample size. It is going to be clipped\n",
      "  warnings.warn(\"Got `batch_size` less than 1 or larger than \"\n"
     ]
    },
    {
     "name": "stdout",
     "output_type": "stream",
     "text": [
      "\t\t # hidden neurons = 9\n"
     ]
    },
    {
     "name": "stderr",
     "output_type": "stream",
     "text": [
      "C:\\Anaconda\\envs\\env_eosc510\\lib\\site-packages\\sklearn\\neural_network\\_multilayer_perceptron.py:542: UserWarning: Got `batch_size` less than 1 or larger than sample size. It is going to be clipped\n",
      "  warnings.warn(\"Got `batch_size` less than 1 or larger than \"\n",
      "C:\\Anaconda\\envs\\env_eosc510\\lib\\site-packages\\sklearn\\neural_network\\_multilayer_perceptron.py:614: ConvergenceWarning: Stochastic Optimizer: Maximum iterations (3000) reached and the optimization hasn't converged yet.\n",
      "  warnings.warn(\n",
      "C:\\Anaconda\\envs\\env_eosc510\\lib\\site-packages\\sklearn\\neural_network\\_multilayer_perceptron.py:542: UserWarning: Got `batch_size` less than 1 or larger than sample size. It is going to be clipped\n",
      "  warnings.warn(\"Got `batch_size` less than 1 or larger than \"\n"
     ]
    },
    {
     "name": "stdout",
     "output_type": "stream",
     "text": [
      "\t\t # hidden neurons = 10\n",
      "\t\t # hidden neurons = 11\n",
      "\t # Hidden Layers = 5\n",
      "\t\t # hidden neurons = 1\n"
     ]
    },
    {
     "name": "stderr",
     "output_type": "stream",
     "text": [
      "C:\\Anaconda\\envs\\env_eosc510\\lib\\site-packages\\sklearn\\neural_network\\_multilayer_perceptron.py:542: UserWarning: Got `batch_size` less than 1 or larger than sample size. It is going to be clipped\n",
      "  warnings.warn(\"Got `batch_size` less than 1 or larger than \"\n",
      "C:\\Anaconda\\envs\\env_eosc510\\lib\\site-packages\\sklearn\\neural_network\\_multilayer_perceptron.py:542: UserWarning: Got `batch_size` less than 1 or larger than sample size. It is going to be clipped\n",
      "  warnings.warn(\"Got `batch_size` less than 1 or larger than \"\n"
     ]
    },
    {
     "name": "stdout",
     "output_type": "stream",
     "text": [
      "\t\t # hidden neurons = 2\n",
      "\t\t # hidden neurons = 3\n",
      "\t\t # hidden neurons = 4\n"
     ]
    },
    {
     "name": "stderr",
     "output_type": "stream",
     "text": [
      "C:\\Anaconda\\envs\\env_eosc510\\lib\\site-packages\\sklearn\\neural_network\\_multilayer_perceptron.py:542: UserWarning: Got `batch_size` less than 1 or larger than sample size. It is going to be clipped\n",
      "  warnings.warn(\"Got `batch_size` less than 1 or larger than \"\n",
      "C:\\Anaconda\\envs\\env_eosc510\\lib\\site-packages\\sklearn\\neural_network\\_multilayer_perceptron.py:542: UserWarning: Got `batch_size` less than 1 or larger than sample size. It is going to be clipped\n",
      "  warnings.warn(\"Got `batch_size` less than 1 or larger than \"\n",
      "C:\\Anaconda\\envs\\env_eosc510\\lib\\site-packages\\sklearn\\neural_network\\_multilayer_perceptron.py:542: UserWarning: Got `batch_size` less than 1 or larger than sample size. It is going to be clipped\n",
      "  warnings.warn(\"Got `batch_size` less than 1 or larger than \"\n"
     ]
    },
    {
     "name": "stdout",
     "output_type": "stream",
     "text": [
      "\t\t # hidden neurons = 5\n",
      "\t\t # hidden neurons = 6\n"
     ]
    },
    {
     "name": "stderr",
     "output_type": "stream",
     "text": [
      "C:\\Anaconda\\envs\\env_eosc510\\lib\\site-packages\\sklearn\\neural_network\\_multilayer_perceptron.py:542: UserWarning: Got `batch_size` less than 1 or larger than sample size. It is going to be clipped\n",
      "  warnings.warn(\"Got `batch_size` less than 1 or larger than \"\n",
      "C:\\Anaconda\\envs\\env_eosc510\\lib\\site-packages\\sklearn\\neural_network\\_multilayer_perceptron.py:542: UserWarning: Got `batch_size` less than 1 or larger than sample size. It is going to be clipped\n",
      "  warnings.warn(\"Got `batch_size` less than 1 or larger than \"\n"
     ]
    },
    {
     "name": "stdout",
     "output_type": "stream",
     "text": [
      "\t\t # hidden neurons = 7\n",
      "\t\t # hidden neurons = 8\n",
      "\t\t # hidden neurons = 9\n"
     ]
    },
    {
     "name": "stderr",
     "output_type": "stream",
     "text": [
      "C:\\Anaconda\\envs\\env_eosc510\\lib\\site-packages\\sklearn\\neural_network\\_multilayer_perceptron.py:542: UserWarning: Got `batch_size` less than 1 or larger than sample size. It is going to be clipped\n",
      "  warnings.warn(\"Got `batch_size` less than 1 or larger than \"\n",
      "C:\\Anaconda\\envs\\env_eosc510\\lib\\site-packages\\sklearn\\neural_network\\_multilayer_perceptron.py:542: UserWarning: Got `batch_size` less than 1 or larger than sample size. It is going to be clipped\n",
      "  warnings.warn(\"Got `batch_size` less than 1 or larger than \"\n",
      "C:\\Anaconda\\envs\\env_eosc510\\lib\\site-packages\\sklearn\\neural_network\\_multilayer_perceptron.py:542: UserWarning: Got `batch_size` less than 1 or larger than sample size. It is going to be clipped\n",
      "  warnings.warn(\"Got `batch_size` less than 1 or larger than \"\n"
     ]
    },
    {
     "name": "stdout",
     "output_type": "stream",
     "text": [
      "\t\t # hidden neurons = 10\n",
      "\t\t # hidden neurons = 11\n"
     ]
    },
    {
     "name": "stderr",
     "output_type": "stream",
     "text": [
      "C:\\Anaconda\\envs\\env_eosc510\\lib\\site-packages\\sklearn\\neural_network\\_multilayer_perceptron.py:542: UserWarning: Got `batch_size` less than 1 or larger than sample size. It is going to be clipped\n",
      "  warnings.warn(\"Got `batch_size` less than 1 or larger than \"\n",
      "C:\\Anaconda\\envs\\env_eosc510\\lib\\site-packages\\sklearn\\neural_network\\_multilayer_perceptron.py:542: UserWarning: Got `batch_size` less than 1 or larger than sample size. It is going to be clipped\n",
      "  warnings.warn(\"Got `batch_size` less than 1 or larger than \"\n"
     ]
    },
    {
     "name": "stdout",
     "output_type": "stream",
     "text": [
      "\t # Hidden Layers = 6\n",
      "\t\t # hidden neurons = 1\n"
     ]
    },
    {
     "name": "stderr",
     "output_type": "stream",
     "text": [
      "C:\\Anaconda\\envs\\env_eosc510\\lib\\site-packages\\sklearn\\neural_network\\_multilayer_perceptron.py:542: UserWarning: Got `batch_size` less than 1 or larger than sample size. It is going to be clipped\n",
      "  warnings.warn(\"Got `batch_size` less than 1 or larger than \"\n"
     ]
    },
    {
     "name": "stdout",
     "output_type": "stream",
     "text": [
      "\t\t # hidden neurons = 2\n",
      "\t\t # hidden neurons = 3\n"
     ]
    },
    {
     "name": "stderr",
     "output_type": "stream",
     "text": [
      "C:\\Anaconda\\envs\\env_eosc510\\lib\\site-packages\\sklearn\\neural_network\\_multilayer_perceptron.py:542: UserWarning: Got `batch_size` less than 1 or larger than sample size. It is going to be clipped\n",
      "  warnings.warn(\"Got `batch_size` less than 1 or larger than \"\n",
      "C:\\Anaconda\\envs\\env_eosc510\\lib\\site-packages\\sklearn\\neural_network\\_multilayer_perceptron.py:542: UserWarning: Got `batch_size` less than 1 or larger than sample size. It is going to be clipped\n",
      "  warnings.warn(\"Got `batch_size` less than 1 or larger than \"\n"
     ]
    },
    {
     "name": "stdout",
     "output_type": "stream",
     "text": [
      "\t\t # hidden neurons = 4\n"
     ]
    },
    {
     "name": "stderr",
     "output_type": "stream",
     "text": [
      "C:\\Anaconda\\envs\\env_eosc510\\lib\\site-packages\\sklearn\\neural_network\\_multilayer_perceptron.py:542: UserWarning: Got `batch_size` less than 1 or larger than sample size. It is going to be clipped\n",
      "  warnings.warn(\"Got `batch_size` less than 1 or larger than \"\n"
     ]
    },
    {
     "name": "stdout",
     "output_type": "stream",
     "text": [
      "\t\t # hidden neurons = 5\n",
      "\t\t # hidden neurons = 6\n"
     ]
    },
    {
     "name": "stderr",
     "output_type": "stream",
     "text": [
      "C:\\Anaconda\\envs\\env_eosc510\\lib\\site-packages\\sklearn\\neural_network\\_multilayer_perceptron.py:542: UserWarning: Got `batch_size` less than 1 or larger than sample size. It is going to be clipped\n",
      "  warnings.warn(\"Got `batch_size` less than 1 or larger than \"\n",
      "C:\\Anaconda\\envs\\env_eosc510\\lib\\site-packages\\sklearn\\neural_network\\_multilayer_perceptron.py:542: UserWarning: Got `batch_size` less than 1 or larger than sample size. It is going to be clipped\n",
      "  warnings.warn(\"Got `batch_size` less than 1 or larger than \"\n"
     ]
    },
    {
     "name": "stdout",
     "output_type": "stream",
     "text": [
      "\t\t # hidden neurons = 7\n",
      "\t\t # hidden neurons = 8\n"
     ]
    },
    {
     "name": "stderr",
     "output_type": "stream",
     "text": [
      "C:\\Anaconda\\envs\\env_eosc510\\lib\\site-packages\\sklearn\\neural_network\\_multilayer_perceptron.py:542: UserWarning: Got `batch_size` less than 1 or larger than sample size. It is going to be clipped\n",
      "  warnings.warn(\"Got `batch_size` less than 1 or larger than \"\n"
     ]
    },
    {
     "name": "stdout",
     "output_type": "stream",
     "text": [
      "\t\t # hidden neurons = 9\n",
      "\t\t # hidden neurons = 10\n"
     ]
    },
    {
     "name": "stderr",
     "output_type": "stream",
     "text": [
      "C:\\Anaconda\\envs\\env_eosc510\\lib\\site-packages\\sklearn\\neural_network\\_multilayer_perceptron.py:542: UserWarning: Got `batch_size` less than 1 or larger than sample size. It is going to be clipped\n",
      "  warnings.warn(\"Got `batch_size` less than 1 or larger than \"\n",
      "C:\\Anaconda\\envs\\env_eosc510\\lib\\site-packages\\sklearn\\neural_network\\_multilayer_perceptron.py:542: UserWarning: Got `batch_size` less than 1 or larger than sample size. It is going to be clipped\n",
      "  warnings.warn(\"Got `batch_size` less than 1 or larger than \"\n",
      "C:\\Anaconda\\envs\\env_eosc510\\lib\\site-packages\\sklearn\\neural_network\\_multilayer_perceptron.py:542: UserWarning: Got `batch_size` less than 1 or larger than sample size. It is going to be clipped\n",
      "  warnings.warn(\"Got `batch_size` less than 1 or larger than \"\n"
     ]
    },
    {
     "name": "stdout",
     "output_type": "stream",
     "text": [
      "\t\t # hidden neurons = 11\n"
     ]
    },
    {
     "name": "stderr",
     "output_type": "stream",
     "text": [
      "C:\\Anaconda\\envs\\env_eosc510\\lib\\site-packages\\sklearn\\neural_network\\_multilayer_perceptron.py:542: UserWarning: Got `batch_size` less than 1 or larger than sample size. It is going to be clipped\n",
      "  warnings.warn(\"Got `batch_size` less than 1 or larger than \"\n"
     ]
    },
    {
     "name": "stdout",
     "output_type": "stream",
     "text": [
      "\t # Hidden Layers = 7\n",
      "\t\t # hidden neurons = 1\n"
     ]
    },
    {
     "name": "stderr",
     "output_type": "stream",
     "text": [
      "C:\\Anaconda\\envs\\env_eosc510\\lib\\site-packages\\sklearn\\neural_network\\_multilayer_perceptron.py:542: UserWarning: Got `batch_size` less than 1 or larger than sample size. It is going to be clipped\n",
      "  warnings.warn(\"Got `batch_size` less than 1 or larger than \"\n",
      "C:\\Anaconda\\envs\\env_eosc510\\lib\\site-packages\\sklearn\\neural_network\\_multilayer_perceptron.py:614: ConvergenceWarning: Stochastic Optimizer: Maximum iterations (3000) reached and the optimization hasn't converged yet.\n",
      "  warnings.warn(\n",
      "C:\\Anaconda\\envs\\env_eosc510\\lib\\site-packages\\sklearn\\neural_network\\_multilayer_perceptron.py:542: UserWarning: Got `batch_size` less than 1 or larger than sample size. It is going to be clipped\n",
      "  warnings.warn(\"Got `batch_size` less than 1 or larger than \"\n",
      "C:\\Anaconda\\envs\\env_eosc510\\lib\\site-packages\\sklearn\\neural_network\\_multilayer_perceptron.py:542: UserWarning: Got `batch_size` less than 1 or larger than sample size. It is going to be clipped\n",
      "  warnings.warn(\"Got `batch_size` less than 1 or larger than \"\n"
     ]
    },
    {
     "name": "stdout",
     "output_type": "stream",
     "text": [
      "\t\t # hidden neurons = 2\n",
      "\t\t # hidden neurons = 3\n",
      "\t\t # hidden neurons = 4\n",
      "\t\t # hidden neurons = 5\n",
      "\t\t # hidden neurons = 6\n"
     ]
    },
    {
     "name": "stderr",
     "output_type": "stream",
     "text": [
      "C:\\Anaconda\\envs\\env_eosc510\\lib\\site-packages\\sklearn\\neural_network\\_multilayer_perceptron.py:542: UserWarning: Got `batch_size` less than 1 or larger than sample size. It is going to be clipped\n",
      "  warnings.warn(\"Got `batch_size` less than 1 or larger than \"\n",
      "C:\\Anaconda\\envs\\env_eosc510\\lib\\site-packages\\sklearn\\neural_network\\_multilayer_perceptron.py:542: UserWarning: Got `batch_size` less than 1 or larger than sample size. It is going to be clipped\n",
      "  warnings.warn(\"Got `batch_size` less than 1 or larger than \"\n",
      "C:\\Anaconda\\envs\\env_eosc510\\lib\\site-packages\\sklearn\\neural_network\\_multilayer_perceptron.py:542: UserWarning: Got `batch_size` less than 1 or larger than sample size. It is going to be clipped\n",
      "  warnings.warn(\"Got `batch_size` less than 1 or larger than \"\n"
     ]
    },
    {
     "name": "stdout",
     "output_type": "stream",
     "text": [
      "\t\t # hidden neurons = 7\n"
     ]
    },
    {
     "name": "stderr",
     "output_type": "stream",
     "text": [
      "C:\\Anaconda\\envs\\env_eosc510\\lib\\site-packages\\sklearn\\neural_network\\_multilayer_perceptron.py:542: UserWarning: Got `batch_size` less than 1 or larger than sample size. It is going to be clipped\n",
      "  warnings.warn(\"Got `batch_size` less than 1 or larger than \"\n"
     ]
    },
    {
     "name": "stdout",
     "output_type": "stream",
     "text": [
      "\t\t # hidden neurons = 8\n"
     ]
    },
    {
     "name": "stderr",
     "output_type": "stream",
     "text": [
      "C:\\Anaconda\\envs\\env_eosc510\\lib\\site-packages\\sklearn\\neural_network\\_multilayer_perceptron.py:542: UserWarning: Got `batch_size` less than 1 or larger than sample size. It is going to be clipped\n",
      "  warnings.warn(\"Got `batch_size` less than 1 or larger than \"\n"
     ]
    },
    {
     "name": "stdout",
     "output_type": "stream",
     "text": [
      "\t\t # hidden neurons = 9\n",
      "\t\t # hidden neurons = 10\n"
     ]
    },
    {
     "name": "stderr",
     "output_type": "stream",
     "text": [
      "C:\\Anaconda\\envs\\env_eosc510\\lib\\site-packages\\sklearn\\neural_network\\_multilayer_perceptron.py:542: UserWarning: Got `batch_size` less than 1 or larger than sample size. It is going to be clipped\n",
      "  warnings.warn(\"Got `batch_size` less than 1 or larger than \"\n",
      "C:\\Anaconda\\envs\\env_eosc510\\lib\\site-packages\\sklearn\\neural_network\\_multilayer_perceptron.py:542: UserWarning: Got `batch_size` less than 1 or larger than sample size. It is going to be clipped\n",
      "  warnings.warn(\"Got `batch_size` less than 1 or larger than \"\n",
      "C:\\Anaconda\\envs\\env_eosc510\\lib\\site-packages\\sklearn\\neural_network\\_multilayer_perceptron.py:542: UserWarning: Got `batch_size` less than 1 or larger than sample size. It is going to be clipped\n",
      "  warnings.warn(\"Got `batch_size` less than 1 or larger than \"\n"
     ]
    },
    {
     "name": "stdout",
     "output_type": "stream",
     "text": [
      "\t\t # hidden neurons = 11\n",
      "\t # Hidden Layers = 8\n",
      "\t\t # hidden neurons = 1\n"
     ]
    },
    {
     "name": "stderr",
     "output_type": "stream",
     "text": [
      "C:\\Anaconda\\envs\\env_eosc510\\lib\\site-packages\\sklearn\\neural_network\\_multilayer_perceptron.py:542: UserWarning: Got `batch_size` less than 1 or larger than sample size. It is going to be clipped\n",
      "  warnings.warn(\"Got `batch_size` less than 1 or larger than \"\n",
      "C:\\Anaconda\\envs\\env_eosc510\\lib\\site-packages\\sklearn\\neural_network\\_multilayer_perceptron.py:614: ConvergenceWarning: Stochastic Optimizer: Maximum iterations (3000) reached and the optimization hasn't converged yet.\n",
      "  warnings.warn(\n",
      "C:\\Anaconda\\envs\\env_eosc510\\lib\\site-packages\\sklearn\\neural_network\\_multilayer_perceptron.py:542: UserWarning: Got `batch_size` less than 1 or larger than sample size. It is going to be clipped\n",
      "  warnings.warn(\"Got `batch_size` less than 1 or larger than \"\n",
      "C:\\Anaconda\\envs\\env_eosc510\\lib\\site-packages\\sklearn\\neural_network\\_multilayer_perceptron.py:542: UserWarning: Got `batch_size` less than 1 or larger than sample size. It is going to be clipped\n",
      "  warnings.warn(\"Got `batch_size` less than 1 or larger than \"\n"
     ]
    },
    {
     "name": "stdout",
     "output_type": "stream",
     "text": [
      "\t\t # hidden neurons = 2\n",
      "\t\t # hidden neurons = 3\n",
      "\t\t # hidden neurons = 4\n"
     ]
    },
    {
     "name": "stderr",
     "output_type": "stream",
     "text": [
      "C:\\Anaconda\\envs\\env_eosc510\\lib\\site-packages\\sklearn\\neural_network\\_multilayer_perceptron.py:542: UserWarning: Got `batch_size` less than 1 or larger than sample size. It is going to be clipped\n",
      "  warnings.warn(\"Got `batch_size` less than 1 or larger than \"\n"
     ]
    },
    {
     "name": "stdout",
     "output_type": "stream",
     "text": [
      "\t\t # hidden neurons = 5\n"
     ]
    },
    {
     "name": "stderr",
     "output_type": "stream",
     "text": [
      "C:\\Anaconda\\envs\\env_eosc510\\lib\\site-packages\\sklearn\\neural_network\\_multilayer_perceptron.py:542: UserWarning: Got `batch_size` less than 1 or larger than sample size. It is going to be clipped\n",
      "  warnings.warn(\"Got `batch_size` less than 1 or larger than \"\n",
      "C:\\Anaconda\\envs\\env_eosc510\\lib\\site-packages\\sklearn\\neural_network\\_multilayer_perceptron.py:542: UserWarning: Got `batch_size` less than 1 or larger than sample size. It is going to be clipped\n",
      "  warnings.warn(\"Got `batch_size` less than 1 or larger than \"\n",
      "C:\\Anaconda\\envs\\env_eosc510\\lib\\site-packages\\sklearn\\neural_network\\_multilayer_perceptron.py:542: UserWarning: Got `batch_size` less than 1 or larger than sample size. It is going to be clipped\n",
      "  warnings.warn(\"Got `batch_size` less than 1 or larger than \"\n"
     ]
    },
    {
     "name": "stdout",
     "output_type": "stream",
     "text": [
      "\t\t # hidden neurons = 6\n",
      "\t\t # hidden neurons = 7\n",
      "\t\t # hidden neurons = 8\n"
     ]
    },
    {
     "name": "stderr",
     "output_type": "stream",
     "text": [
      "C:\\Anaconda\\envs\\env_eosc510\\lib\\site-packages\\sklearn\\neural_network\\_multilayer_perceptron.py:542: UserWarning: Got `batch_size` less than 1 or larger than sample size. It is going to be clipped\n",
      "  warnings.warn(\"Got `batch_size` less than 1 or larger than \"\n"
     ]
    },
    {
     "name": "stdout",
     "output_type": "stream",
     "text": [
      "\t\t # hidden neurons = 9\n",
      "\t\t # hidden neurons = 10\n"
     ]
    },
    {
     "name": "stderr",
     "output_type": "stream",
     "text": [
      "C:\\Anaconda\\envs\\env_eosc510\\lib\\site-packages\\sklearn\\neural_network\\_multilayer_perceptron.py:542: UserWarning: Got `batch_size` less than 1 or larger than sample size. It is going to be clipped\n",
      "  warnings.warn(\"Got `batch_size` less than 1 or larger than \"\n",
      "C:\\Anaconda\\envs\\env_eosc510\\lib\\site-packages\\sklearn\\neural_network\\_multilayer_perceptron.py:542: UserWarning: Got `batch_size` less than 1 or larger than sample size. It is going to be clipped\n",
      "  warnings.warn(\"Got `batch_size` less than 1 or larger than \"\n",
      "C:\\Anaconda\\envs\\env_eosc510\\lib\\site-packages\\sklearn\\neural_network\\_multilayer_perceptron.py:542: UserWarning: Got `batch_size` less than 1 or larger than sample size. It is going to be clipped\n",
      "  warnings.warn(\"Got `batch_size` less than 1 or larger than \"\n"
     ]
    },
    {
     "name": "stdout",
     "output_type": "stream",
     "text": [
      "\t\t # hidden neurons = 11\n",
      "\t BEST: 6 hidden layers, 7 hidden neurons\n",
      "Model Number: 3\n",
      "\t # Hidden Layers = 1\n",
      "\t\t # hidden neurons = 1\n",
      "\t\t # hidden neurons = 2\n"
     ]
    },
    {
     "name": "stderr",
     "output_type": "stream",
     "text": [
      "C:\\Anaconda\\envs\\env_eosc510\\lib\\site-packages\\sklearn\\neural_network\\_multilayer_perceptron.py:542: UserWarning: Got `batch_size` less than 1 or larger than sample size. It is going to be clipped\n",
      "  warnings.warn(\"Got `batch_size` less than 1 or larger than \"\n",
      "C:\\Anaconda\\envs\\env_eosc510\\lib\\site-packages\\sklearn\\neural_network\\_multilayer_perceptron.py:542: UserWarning: Got `batch_size` less than 1 or larger than sample size. It is going to be clipped\n",
      "  warnings.warn(\"Got `batch_size` less than 1 or larger than \"\n"
     ]
    },
    {
     "name": "stdout",
     "output_type": "stream",
     "text": [
      "\t\t # hidden neurons = 3\n",
      "\t\t # hidden neurons = 4\n"
     ]
    },
    {
     "name": "stderr",
     "output_type": "stream",
     "text": [
      "C:\\Anaconda\\envs\\env_eosc510\\lib\\site-packages\\sklearn\\neural_network\\_multilayer_perceptron.py:542: UserWarning: Got `batch_size` less than 1 or larger than sample size. It is going to be clipped\n",
      "  warnings.warn(\"Got `batch_size` less than 1 or larger than \"\n",
      "C:\\Anaconda\\envs\\env_eosc510\\lib\\site-packages\\sklearn\\neural_network\\_multilayer_perceptron.py:542: UserWarning: Got `batch_size` less than 1 or larger than sample size. It is going to be clipped\n",
      "  warnings.warn(\"Got `batch_size` less than 1 or larger than \"\n"
     ]
    },
    {
     "name": "stdout",
     "output_type": "stream",
     "text": [
      "\t\t # hidden neurons = 5\n"
     ]
    },
    {
     "name": "stderr",
     "output_type": "stream",
     "text": [
      "C:\\Anaconda\\envs\\env_eosc510\\lib\\site-packages\\sklearn\\neural_network\\_multilayer_perceptron.py:542: UserWarning: Got `batch_size` less than 1 or larger than sample size. It is going to be clipped\n",
      "  warnings.warn(\"Got `batch_size` less than 1 or larger than \"\n"
     ]
    },
    {
     "name": "stdout",
     "output_type": "stream",
     "text": [
      "\t\t # hidden neurons = 6\n",
      "\t\t # hidden neurons = 7\n"
     ]
    },
    {
     "name": "stderr",
     "output_type": "stream",
     "text": [
      "C:\\Anaconda\\envs\\env_eosc510\\lib\\site-packages\\sklearn\\neural_network\\_multilayer_perceptron.py:542: UserWarning: Got `batch_size` less than 1 or larger than sample size. It is going to be clipped\n",
      "  warnings.warn(\"Got `batch_size` less than 1 or larger than \"\n",
      "C:\\Anaconda\\envs\\env_eosc510\\lib\\site-packages\\sklearn\\neural_network\\_multilayer_perceptron.py:542: UserWarning: Got `batch_size` less than 1 or larger than sample size. It is going to be clipped\n",
      "  warnings.warn(\"Got `batch_size` less than 1 or larger than \"\n",
      "C:\\Anaconda\\envs\\env_eosc510\\lib\\site-packages\\sklearn\\neural_network\\_multilayer_perceptron.py:614: ConvergenceWarning: Stochastic Optimizer: Maximum iterations (3000) reached and the optimization hasn't converged yet.\n",
      "  warnings.warn(\n",
      "C:\\Anaconda\\envs\\env_eosc510\\lib\\site-packages\\sklearn\\neural_network\\_multilayer_perceptron.py:542: UserWarning: Got `batch_size` less than 1 or larger than sample size. It is going to be clipped\n",
      "  warnings.warn(\"Got `batch_size` less than 1 or larger than \"\n",
      "C:\\Anaconda\\envs\\env_eosc510\\lib\\site-packages\\sklearn\\neural_network\\_multilayer_perceptron.py:542: UserWarning: Got `batch_size` less than 1 or larger than sample size. It is going to be clipped\n",
      "  warnings.warn(\"Got `batch_size` less than 1 or larger than \"\n"
     ]
    },
    {
     "name": "stdout",
     "output_type": "stream",
     "text": [
      "\t\t # hidden neurons = 8\n",
      "\t\t # hidden neurons = 9\n",
      "\t\t # hidden neurons = 10\n",
      "\t\t # hidden neurons = 11\n"
     ]
    },
    {
     "name": "stderr",
     "output_type": "stream",
     "text": [
      "C:\\Anaconda\\envs\\env_eosc510\\lib\\site-packages\\sklearn\\neural_network\\_multilayer_perceptron.py:542: UserWarning: Got `batch_size` less than 1 or larger than sample size. It is going to be clipped\n",
      "  warnings.warn(\"Got `batch_size` less than 1 or larger than \"\n",
      "C:\\Anaconda\\envs\\env_eosc510\\lib\\site-packages\\sklearn\\neural_network\\_multilayer_perceptron.py:542: UserWarning: Got `batch_size` less than 1 or larger than sample size. It is going to be clipped\n",
      "  warnings.warn(\"Got `batch_size` less than 1 or larger than \"\n",
      "C:\\Anaconda\\envs\\env_eosc510\\lib\\site-packages\\sklearn\\neural_network\\_multilayer_perceptron.py:614: ConvergenceWarning: Stochastic Optimizer: Maximum iterations (3000) reached and the optimization hasn't converged yet.\n",
      "  warnings.warn(\n",
      "C:\\Anaconda\\envs\\env_eosc510\\lib\\site-packages\\sklearn\\neural_network\\_multilayer_perceptron.py:542: UserWarning: Got `batch_size` less than 1 or larger than sample size. It is going to be clipped\n",
      "  warnings.warn(\"Got `batch_size` less than 1 or larger than \"\n",
      "C:\\Anaconda\\envs\\env_eosc510\\lib\\site-packages\\sklearn\\neural_network\\_multilayer_perceptron.py:542: UserWarning: Got `batch_size` less than 1 or larger than sample size. It is going to be clipped\n",
      "  warnings.warn(\"Got `batch_size` less than 1 or larger than \"\n",
      "C:\\Anaconda\\envs\\env_eosc510\\lib\\site-packages\\sklearn\\neural_network\\_multilayer_perceptron.py:542: UserWarning: Got `batch_size` less than 1 or larger than sample size. It is going to be clipped\n",
      "  warnings.warn(\"Got `batch_size` less than 1 or larger than \"\n",
      "C:\\Anaconda\\envs\\env_eosc510\\lib\\site-packages\\sklearn\\neural_network\\_multilayer_perceptron.py:542: UserWarning: Got `batch_size` less than 1 or larger than sample size. It is going to be clipped\n",
      "  warnings.warn(\"Got `batch_size` less than 1 or larger than \"\n",
      "C:\\Anaconda\\envs\\env_eosc510\\lib\\site-packages\\sklearn\\neural_network\\_multilayer_perceptron.py:542: UserWarning: Got `batch_size` less than 1 or larger than sample size. It is going to be clipped\n",
      "  warnings.warn(\"Got `batch_size` less than 1 or larger than \"\n",
      "C:\\Anaconda\\envs\\env_eosc510\\lib\\site-packages\\sklearn\\neural_network\\_multilayer_perceptron.py:542: UserWarning: Got `batch_size` less than 1 or larger than sample size. It is going to be clipped\n",
      "  warnings.warn(\"Got `batch_size` less than 1 or larger than \"\n",
      "C:\\Anaconda\\envs\\env_eosc510\\lib\\site-packages\\sklearn\\neural_network\\_multilayer_perceptron.py:542: UserWarning: Got `batch_size` less than 1 or larger than sample size. It is going to be clipped\n",
      "  warnings.warn(\"Got `batch_size` less than 1 or larger than \"\n"
     ]
    },
    {
     "name": "stdout",
     "output_type": "stream",
     "text": [
      "\t # Hidden Layers = 2\n",
      "\t\t # hidden neurons = 1\n",
      "\t\t # hidden neurons = 2\n",
      "\t\t # hidden neurons = 3\n",
      "\t\t # hidden neurons = 4\n",
      "\t\t # hidden neurons = 5\n",
      "\t\t # hidden neurons = 6\n",
      "\t\t # hidden neurons = 7\n",
      "\t\t # hidden neurons = 8\n",
      "\t\t # hidden neurons = 9\n",
      "\t\t # hidden neurons = 10\n"
     ]
    },
    {
     "name": "stderr",
     "output_type": "stream",
     "text": [
      "C:\\Anaconda\\envs\\env_eosc510\\lib\\site-packages\\sklearn\\neural_network\\_multilayer_perceptron.py:542: UserWarning: Got `batch_size` less than 1 or larger than sample size. It is going to be clipped\n",
      "  warnings.warn(\"Got `batch_size` less than 1 or larger than \"\n",
      "C:\\Anaconda\\envs\\env_eosc510\\lib\\site-packages\\sklearn\\neural_network\\_multilayer_perceptron.py:542: UserWarning: Got `batch_size` less than 1 or larger than sample size. It is going to be clipped\n",
      "  warnings.warn(\"Got `batch_size` less than 1 or larger than \"\n",
      "C:\\Anaconda\\envs\\env_eosc510\\lib\\site-packages\\sklearn\\neural_network\\_multilayer_perceptron.py:542: UserWarning: Got `batch_size` less than 1 or larger than sample size. It is going to be clipped\n",
      "  warnings.warn(\"Got `batch_size` less than 1 or larger than \"\n",
      "C:\\Anaconda\\envs\\env_eosc510\\lib\\site-packages\\sklearn\\neural_network\\_multilayer_perceptron.py:542: UserWarning: Got `batch_size` less than 1 or larger than sample size. It is going to be clipped\n",
      "  warnings.warn(\"Got `batch_size` less than 1 or larger than \"\n",
      "C:\\Anaconda\\envs\\env_eosc510\\lib\\site-packages\\sklearn\\neural_network\\_multilayer_perceptron.py:542: UserWarning: Got `batch_size` less than 1 or larger than sample size. It is going to be clipped\n",
      "  warnings.warn(\"Got `batch_size` less than 1 or larger than \"\n",
      "C:\\Anaconda\\envs\\env_eosc510\\lib\\site-packages\\sklearn\\neural_network\\_multilayer_perceptron.py:542: UserWarning: Got `batch_size` less than 1 or larger than sample size. It is going to be clipped\n",
      "  warnings.warn(\"Got `batch_size` less than 1 or larger than \"\n"
     ]
    },
    {
     "name": "stdout",
     "output_type": "stream",
     "text": [
      "\t\t # hidden neurons = 11\n",
      "\t # Hidden Layers = 3\n",
      "\t\t # hidden neurons = 1\n",
      "\t\t # hidden neurons = 2\n",
      "\t\t # hidden neurons = 3\n",
      "\t\t # hidden neurons = 4\n",
      "\t\t # hidden neurons = 5\n"
     ]
    },
    {
     "name": "stderr",
     "output_type": "stream",
     "text": [
      "C:\\Anaconda\\envs\\env_eosc510\\lib\\site-packages\\sklearn\\neural_network\\_multilayer_perceptron.py:542: UserWarning: Got `batch_size` less than 1 or larger than sample size. It is going to be clipped\n",
      "  warnings.warn(\"Got `batch_size` less than 1 or larger than \"\n",
      "C:\\Anaconda\\envs\\env_eosc510\\lib\\site-packages\\sklearn\\neural_network\\_multilayer_perceptron.py:542: UserWarning: Got `batch_size` less than 1 or larger than sample size. It is going to be clipped\n",
      "  warnings.warn(\"Got `batch_size` less than 1 or larger than \"\n",
      "C:\\Anaconda\\envs\\env_eosc510\\lib\\site-packages\\sklearn\\neural_network\\_multilayer_perceptron.py:542: UserWarning: Got `batch_size` less than 1 or larger than sample size. It is going to be clipped\n",
      "  warnings.warn(\"Got `batch_size` less than 1 or larger than \"\n"
     ]
    },
    {
     "name": "stdout",
     "output_type": "stream",
     "text": [
      "\t\t # hidden neurons = 6\n",
      "\t\t # hidden neurons = 7\n"
     ]
    },
    {
     "name": "stderr",
     "output_type": "stream",
     "text": [
      "C:\\Anaconda\\envs\\env_eosc510\\lib\\site-packages\\sklearn\\neural_network\\_multilayer_perceptron.py:542: UserWarning: Got `batch_size` less than 1 or larger than sample size. It is going to be clipped\n",
      "  warnings.warn(\"Got `batch_size` less than 1 or larger than \"\n",
      "C:\\Anaconda\\envs\\env_eosc510\\lib\\site-packages\\sklearn\\neural_network\\_multilayer_perceptron.py:542: UserWarning: Got `batch_size` less than 1 or larger than sample size. It is going to be clipped\n",
      "  warnings.warn(\"Got `batch_size` less than 1 or larger than \"\n"
     ]
    },
    {
     "name": "stdout",
     "output_type": "stream",
     "text": [
      "\t\t # hidden neurons = 8\n"
     ]
    },
    {
     "name": "stderr",
     "output_type": "stream",
     "text": [
      "C:\\Anaconda\\envs\\env_eosc510\\lib\\site-packages\\sklearn\\neural_network\\_multilayer_perceptron.py:542: UserWarning: Got `batch_size` less than 1 or larger than sample size. It is going to be clipped\n",
      "  warnings.warn(\"Got `batch_size` less than 1 or larger than \"\n"
     ]
    },
    {
     "name": "stdout",
     "output_type": "stream",
     "text": [
      "\t\t # hidden neurons = 9\n"
     ]
    },
    {
     "name": "stderr",
     "output_type": "stream",
     "text": [
      "C:\\Anaconda\\envs\\env_eosc510\\lib\\site-packages\\sklearn\\neural_network\\_multilayer_perceptron.py:542: UserWarning: Got `batch_size` less than 1 or larger than sample size. It is going to be clipped\n",
      "  warnings.warn(\"Got `batch_size` less than 1 or larger than \"\n"
     ]
    },
    {
     "name": "stdout",
     "output_type": "stream",
     "text": [
      "\t\t # hidden neurons = 10\n",
      "\t\t # hidden neurons = 11\n",
      "\t # Hidden Layers = 4\n",
      "\t\t # hidden neurons = 1\n",
      "\t\t # hidden neurons = 2\n",
      "\t\t # hidden neurons = 3\n"
     ]
    },
    {
     "name": "stderr",
     "output_type": "stream",
     "text": [
      "C:\\Anaconda\\envs\\env_eosc510\\lib\\site-packages\\sklearn\\neural_network\\_multilayer_perceptron.py:542: UserWarning: Got `batch_size` less than 1 or larger than sample size. It is going to be clipped\n",
      "  warnings.warn(\"Got `batch_size` less than 1 or larger than \"\n",
      "C:\\Anaconda\\envs\\env_eosc510\\lib\\site-packages\\sklearn\\neural_network\\_multilayer_perceptron.py:542: UserWarning: Got `batch_size` less than 1 or larger than sample size. It is going to be clipped\n",
      "  warnings.warn(\"Got `batch_size` less than 1 or larger than \"\n",
      "C:\\Anaconda\\envs\\env_eosc510\\lib\\site-packages\\sklearn\\neural_network\\_multilayer_perceptron.py:542: UserWarning: Got `batch_size` less than 1 or larger than sample size. It is going to be clipped\n",
      "  warnings.warn(\"Got `batch_size` less than 1 or larger than \"\n",
      "C:\\Anaconda\\envs\\env_eosc510\\lib\\site-packages\\sklearn\\neural_network\\_multilayer_perceptron.py:542: UserWarning: Got `batch_size` less than 1 or larger than sample size. It is going to be clipped\n",
      "  warnings.warn(\"Got `batch_size` less than 1 or larger than \"\n",
      "C:\\Anaconda\\envs\\env_eosc510\\lib\\site-packages\\sklearn\\neural_network\\_multilayer_perceptron.py:542: UserWarning: Got `batch_size` less than 1 or larger than sample size. It is going to be clipped\n",
      "  warnings.warn(\"Got `batch_size` less than 1 or larger than \"\n",
      "C:\\Anaconda\\envs\\env_eosc510\\lib\\site-packages\\sklearn\\neural_network\\_multilayer_perceptron.py:542: UserWarning: Got `batch_size` less than 1 or larger than sample size. It is going to be clipped\n",
      "  warnings.warn(\"Got `batch_size` less than 1 or larger than \"\n",
      "C:\\Anaconda\\envs\\env_eosc510\\lib\\site-packages\\sklearn\\neural_network\\_multilayer_perceptron.py:542: UserWarning: Got `batch_size` less than 1 or larger than sample size. It is going to be clipped\n",
      "  warnings.warn(\"Got `batch_size` less than 1 or larger than \"\n",
      "C:\\Anaconda\\envs\\env_eosc510\\lib\\site-packages\\sklearn\\neural_network\\_multilayer_perceptron.py:542: UserWarning: Got `batch_size` less than 1 or larger than sample size. It is going to be clipped\n",
      "  warnings.warn(\"Got `batch_size` less than 1 or larger than \"\n"
     ]
    },
    {
     "name": "stdout",
     "output_type": "stream",
     "text": [
      "\t\t # hidden neurons = 4\n",
      "\t\t # hidden neurons = 5\n",
      "\t\t # hidden neurons = 6\n",
      "\t\t # hidden neurons = 7\n"
     ]
    },
    {
     "name": "stderr",
     "output_type": "stream",
     "text": [
      "C:\\Anaconda\\envs\\env_eosc510\\lib\\site-packages\\sklearn\\neural_network\\_multilayer_perceptron.py:542: UserWarning: Got `batch_size` less than 1 or larger than sample size. It is going to be clipped\n",
      "  warnings.warn(\"Got `batch_size` less than 1 or larger than \"\n"
     ]
    },
    {
     "name": "stdout",
     "output_type": "stream",
     "text": [
      "\t\t # hidden neurons = 8\n",
      "\t\t # hidden neurons = 9\n",
      "\t\t # hidden neurons = 10\n"
     ]
    },
    {
     "name": "stderr",
     "output_type": "stream",
     "text": [
      "C:\\Anaconda\\envs\\env_eosc510\\lib\\site-packages\\sklearn\\neural_network\\_multilayer_perceptron.py:542: UserWarning: Got `batch_size` less than 1 or larger than sample size. It is going to be clipped\n",
      "  warnings.warn(\"Got `batch_size` less than 1 or larger than \"\n",
      "C:\\Anaconda\\envs\\env_eosc510\\lib\\site-packages\\sklearn\\neural_network\\_multilayer_perceptron.py:542: UserWarning: Got `batch_size` less than 1 or larger than sample size. It is going to be clipped\n",
      "  warnings.warn(\"Got `batch_size` less than 1 or larger than \"\n",
      "C:\\Anaconda\\envs\\env_eosc510\\lib\\site-packages\\sklearn\\neural_network\\_multilayer_perceptron.py:542: UserWarning: Got `batch_size` less than 1 or larger than sample size. It is going to be clipped\n",
      "  warnings.warn(\"Got `batch_size` less than 1 or larger than \"\n"
     ]
    },
    {
     "name": "stdout",
     "output_type": "stream",
     "text": [
      "\t\t # hidden neurons = 11\n",
      "\t # Hidden Layers = 5\n",
      "\t\t # hidden neurons = 1\n",
      "\t\t # hidden neurons = 2\n",
      "\t\t # hidden neurons = 3\n"
     ]
    },
    {
     "name": "stderr",
     "output_type": "stream",
     "text": [
      "C:\\Anaconda\\envs\\env_eosc510\\lib\\site-packages\\sklearn\\neural_network\\_multilayer_perceptron.py:542: UserWarning: Got `batch_size` less than 1 or larger than sample size. It is going to be clipped\n",
      "  warnings.warn(\"Got `batch_size` less than 1 or larger than \"\n",
      "C:\\Anaconda\\envs\\env_eosc510\\lib\\site-packages\\sklearn\\neural_network\\_multilayer_perceptron.py:542: UserWarning: Got `batch_size` less than 1 or larger than sample size. It is going to be clipped\n",
      "  warnings.warn(\"Got `batch_size` less than 1 or larger than \"\n",
      "C:\\Anaconda\\envs\\env_eosc510\\lib\\site-packages\\sklearn\\neural_network\\_multilayer_perceptron.py:542: UserWarning: Got `batch_size` less than 1 or larger than sample size. It is going to be clipped\n",
      "  warnings.warn(\"Got `batch_size` less than 1 or larger than \"\n",
      "C:\\Anaconda\\envs\\env_eosc510\\lib\\site-packages\\sklearn\\neural_network\\_multilayer_perceptron.py:542: UserWarning: Got `batch_size` less than 1 or larger than sample size. It is going to be clipped\n",
      "  warnings.warn(\"Got `batch_size` less than 1 or larger than \"\n",
      "C:\\Anaconda\\envs\\env_eosc510\\lib\\site-packages\\sklearn\\neural_network\\_multilayer_perceptron.py:614: ConvergenceWarning: Stochastic Optimizer: Maximum iterations (3000) reached and the optimization hasn't converged yet.\n",
      "  warnings.warn(\n",
      "C:\\Anaconda\\envs\\env_eosc510\\lib\\site-packages\\sklearn\\neural_network\\_multilayer_perceptron.py:542: UserWarning: Got `batch_size` less than 1 or larger than sample size. It is going to be clipped\n",
      "  warnings.warn(\"Got `batch_size` less than 1 or larger than \"\n",
      "C:\\Anaconda\\envs\\env_eosc510\\lib\\site-packages\\sklearn\\neural_network\\_multilayer_perceptron.py:542: UserWarning: Got `batch_size` less than 1 or larger than sample size. It is going to be clipped\n",
      "  warnings.warn(\"Got `batch_size` less than 1 or larger than \"\n",
      "C:\\Anaconda\\envs\\env_eosc510\\lib\\site-packages\\sklearn\\neural_network\\_multilayer_perceptron.py:542: UserWarning: Got `batch_size` less than 1 or larger than sample size. It is going to be clipped\n",
      "  warnings.warn(\"Got `batch_size` less than 1 or larger than \"\n"
     ]
    },
    {
     "name": "stdout",
     "output_type": "stream",
     "text": [
      "\t\t # hidden neurons = 4\n",
      "\t\t # hidden neurons = 5\n",
      "\t\t # hidden neurons = 6\n",
      "\t\t # hidden neurons = 7\n",
      "\t\t # hidden neurons = 8\n"
     ]
    },
    {
     "name": "stderr",
     "output_type": "stream",
     "text": [
      "C:\\Anaconda\\envs\\env_eosc510\\lib\\site-packages\\sklearn\\neural_network\\_multilayer_perceptron.py:542: UserWarning: Got `batch_size` less than 1 or larger than sample size. It is going to be clipped\n",
      "  warnings.warn(\"Got `batch_size` less than 1 or larger than \"\n",
      "C:\\Anaconda\\envs\\env_eosc510\\lib\\site-packages\\sklearn\\neural_network\\_multilayer_perceptron.py:542: UserWarning: Got `batch_size` less than 1 or larger than sample size. It is going to be clipped\n",
      "  warnings.warn(\"Got `batch_size` less than 1 or larger than \"\n"
     ]
    },
    {
     "name": "stdout",
     "output_type": "stream",
     "text": [
      "\t\t # hidden neurons = 9\n"
     ]
    },
    {
     "name": "stderr",
     "output_type": "stream",
     "text": [
      "C:\\Anaconda\\envs\\env_eosc510\\lib\\site-packages\\sklearn\\neural_network\\_multilayer_perceptron.py:542: UserWarning: Got `batch_size` less than 1 or larger than sample size. It is going to be clipped\n",
      "  warnings.warn(\"Got `batch_size` less than 1 or larger than \"\n"
     ]
    },
    {
     "name": "stdout",
     "output_type": "stream",
     "text": [
      "\t\t # hidden neurons = 10\n"
     ]
    },
    {
     "name": "stderr",
     "output_type": "stream",
     "text": [
      "C:\\Anaconda\\envs\\env_eosc510\\lib\\site-packages\\sklearn\\neural_network\\_multilayer_perceptron.py:542: UserWarning: Got `batch_size` less than 1 or larger than sample size. It is going to be clipped\n",
      "  warnings.warn(\"Got `batch_size` less than 1 or larger than \"\n"
     ]
    },
    {
     "name": "stdout",
     "output_type": "stream",
     "text": [
      "\t\t # hidden neurons = 11\n",
      "\t # Hidden Layers = 6\n",
      "\t\t # hidden neurons = 1\n"
     ]
    },
    {
     "name": "stderr",
     "output_type": "stream",
     "text": [
      "C:\\Anaconda\\envs\\env_eosc510\\lib\\site-packages\\sklearn\\neural_network\\_multilayer_perceptron.py:542: UserWarning: Got `batch_size` less than 1 or larger than sample size. It is going to be clipped\n",
      "  warnings.warn(\"Got `batch_size` less than 1 or larger than \"\n",
      "C:\\Anaconda\\envs\\env_eosc510\\lib\\site-packages\\sklearn\\neural_network\\_multilayer_perceptron.py:542: UserWarning: Got `batch_size` less than 1 or larger than sample size. It is going to be clipped\n",
      "  warnings.warn(\"Got `batch_size` less than 1 or larger than \"\n"
     ]
    },
    {
     "name": "stdout",
     "output_type": "stream",
     "text": [
      "\t\t # hidden neurons = 2\n",
      "\t\t # hidden neurons = 3\n"
     ]
    },
    {
     "name": "stderr",
     "output_type": "stream",
     "text": [
      "C:\\Anaconda\\envs\\env_eosc510\\lib\\site-packages\\sklearn\\neural_network\\_multilayer_perceptron.py:542: UserWarning: Got `batch_size` less than 1 or larger than sample size. It is going to be clipped\n",
      "  warnings.warn(\"Got `batch_size` less than 1 or larger than \"\n",
      "C:\\Anaconda\\envs\\env_eosc510\\lib\\site-packages\\sklearn\\neural_network\\_multilayer_perceptron.py:542: UserWarning: Got `batch_size` less than 1 or larger than sample size. It is going to be clipped\n",
      "  warnings.warn(\"Got `batch_size` less than 1 or larger than \"\n"
     ]
    },
    {
     "name": "stdout",
     "output_type": "stream",
     "text": [
      "\t\t # hidden neurons = 4\n",
      "\t\t # hidden neurons = 5\n"
     ]
    },
    {
     "name": "stderr",
     "output_type": "stream",
     "text": [
      "C:\\Anaconda\\envs\\env_eosc510\\lib\\site-packages\\sklearn\\neural_network\\_multilayer_perceptron.py:542: UserWarning: Got `batch_size` less than 1 or larger than sample size. It is going to be clipped\n",
      "  warnings.warn(\"Got `batch_size` less than 1 or larger than \"\n",
      "C:\\Anaconda\\envs\\env_eosc510\\lib\\site-packages\\sklearn\\neural_network\\_multilayer_perceptron.py:542: UserWarning: Got `batch_size` less than 1 or larger than sample size. It is going to be clipped\n",
      "  warnings.warn(\"Got `batch_size` less than 1 or larger than \"\n"
     ]
    },
    {
     "name": "stdout",
     "output_type": "stream",
     "text": [
      "\t\t # hidden neurons = 6\n",
      "\t\t # hidden neurons = 7\n",
      "\t\t # hidden neurons = 8\n"
     ]
    },
    {
     "name": "stderr",
     "output_type": "stream",
     "text": [
      "C:\\Anaconda\\envs\\env_eosc510\\lib\\site-packages\\sklearn\\neural_network\\_multilayer_perceptron.py:542: UserWarning: Got `batch_size` less than 1 or larger than sample size. It is going to be clipped\n",
      "  warnings.warn(\"Got `batch_size` less than 1 or larger than \"\n",
      "C:\\Anaconda\\envs\\env_eosc510\\lib\\site-packages\\sklearn\\neural_network\\_multilayer_perceptron.py:542: UserWarning: Got `batch_size` less than 1 or larger than sample size. It is going to be clipped\n",
      "  warnings.warn(\"Got `batch_size` less than 1 or larger than \"\n",
      "C:\\Anaconda\\envs\\env_eosc510\\lib\\site-packages\\sklearn\\neural_network\\_multilayer_perceptron.py:542: UserWarning: Got `batch_size` less than 1 or larger than sample size. It is going to be clipped\n",
      "  warnings.warn(\"Got `batch_size` less than 1 or larger than \"\n"
     ]
    },
    {
     "name": "stdout",
     "output_type": "stream",
     "text": [
      "\t\t # hidden neurons = 9\n",
      "\t\t # hidden neurons = 10\n"
     ]
    },
    {
     "name": "stderr",
     "output_type": "stream",
     "text": [
      "C:\\Anaconda\\envs\\env_eosc510\\lib\\site-packages\\sklearn\\neural_network\\_multilayer_perceptron.py:542: UserWarning: Got `batch_size` less than 1 or larger than sample size. It is going to be clipped\n",
      "  warnings.warn(\"Got `batch_size` less than 1 or larger than \"\n",
      "C:\\Anaconda\\envs\\env_eosc510\\lib\\site-packages\\sklearn\\neural_network\\_multilayer_perceptron.py:542: UserWarning: Got `batch_size` less than 1 or larger than sample size. It is going to be clipped\n",
      "  warnings.warn(\"Got `batch_size` less than 1 or larger than \"\n"
     ]
    },
    {
     "name": "stdout",
     "output_type": "stream",
     "text": [
      "\t\t # hidden neurons = 11\n"
     ]
    },
    {
     "name": "stderr",
     "output_type": "stream",
     "text": [
      "C:\\Anaconda\\envs\\env_eosc510\\lib\\site-packages\\sklearn\\neural_network\\_multilayer_perceptron.py:542: UserWarning: Got `batch_size` less than 1 or larger than sample size. It is going to be clipped\n",
      "  warnings.warn(\"Got `batch_size` less than 1 or larger than \"\n"
     ]
    },
    {
     "name": "stdout",
     "output_type": "stream",
     "text": [
      "\t # Hidden Layers = 7\n",
      "\t\t # hidden neurons = 1\n"
     ]
    },
    {
     "name": "stderr",
     "output_type": "stream",
     "text": [
      "C:\\Anaconda\\envs\\env_eosc510\\lib\\site-packages\\sklearn\\neural_network\\_multilayer_perceptron.py:542: UserWarning: Got `batch_size` less than 1 or larger than sample size. It is going to be clipped\n",
      "  warnings.warn(\"Got `batch_size` less than 1 or larger than \"\n"
     ]
    },
    {
     "name": "stdout",
     "output_type": "stream",
     "text": [
      "\t\t # hidden neurons = 2\n"
     ]
    },
    {
     "name": "stderr",
     "output_type": "stream",
     "text": [
      "C:\\Anaconda\\envs\\env_eosc510\\lib\\site-packages\\sklearn\\neural_network\\_multilayer_perceptron.py:542: UserWarning: Got `batch_size` less than 1 or larger than sample size. It is going to be clipped\n",
      "  warnings.warn(\"Got `batch_size` less than 1 or larger than \"\n"
     ]
    },
    {
     "name": "stdout",
     "output_type": "stream",
     "text": [
      "\t\t # hidden neurons = 3\n",
      "\t\t # hidden neurons = 4\n",
      "\t\t # hidden neurons = 5\n"
     ]
    },
    {
     "name": "stderr",
     "output_type": "stream",
     "text": [
      "C:\\Anaconda\\envs\\env_eosc510\\lib\\site-packages\\sklearn\\neural_network\\_multilayer_perceptron.py:542: UserWarning: Got `batch_size` less than 1 or larger than sample size. It is going to be clipped\n",
      "  warnings.warn(\"Got `batch_size` less than 1 or larger than \"\n",
      "C:\\Anaconda\\envs\\env_eosc510\\lib\\site-packages\\sklearn\\neural_network\\_multilayer_perceptron.py:542: UserWarning: Got `batch_size` less than 1 or larger than sample size. It is going to be clipped\n",
      "  warnings.warn(\"Got `batch_size` less than 1 or larger than \"\n",
      "C:\\Anaconda\\envs\\env_eosc510\\lib\\site-packages\\sklearn\\neural_network\\_multilayer_perceptron.py:542: UserWarning: Got `batch_size` less than 1 or larger than sample size. It is going to be clipped\n",
      "  warnings.warn(\"Got `batch_size` less than 1 or larger than \"\n"
     ]
    },
    {
     "name": "stdout",
     "output_type": "stream",
     "text": [
      "\t\t # hidden neurons = 6\n",
      "\t\t # hidden neurons = 7\n"
     ]
    },
    {
     "name": "stderr",
     "output_type": "stream",
     "text": [
      "C:\\Anaconda\\envs\\env_eosc510\\lib\\site-packages\\sklearn\\neural_network\\_multilayer_perceptron.py:542: UserWarning: Got `batch_size` less than 1 or larger than sample size. It is going to be clipped\n",
      "  warnings.warn(\"Got `batch_size` less than 1 or larger than \"\n",
      "C:\\Anaconda\\envs\\env_eosc510\\lib\\site-packages\\sklearn\\neural_network\\_multilayer_perceptron.py:542: UserWarning: Got `batch_size` less than 1 or larger than sample size. It is going to be clipped\n",
      "  warnings.warn(\"Got `batch_size` less than 1 or larger than \"\n"
     ]
    },
    {
     "name": "stdout",
     "output_type": "stream",
     "text": [
      "\t\t # hidden neurons = 8\n",
      "\t\t # hidden neurons = 9\n",
      "\t\t # hidden neurons = 10\n"
     ]
    },
    {
     "name": "stderr",
     "output_type": "stream",
     "text": [
      "C:\\Anaconda\\envs\\env_eosc510\\lib\\site-packages\\sklearn\\neural_network\\_multilayer_perceptron.py:542: UserWarning: Got `batch_size` less than 1 or larger than sample size. It is going to be clipped\n",
      "  warnings.warn(\"Got `batch_size` less than 1 or larger than \"\n",
      "C:\\Anaconda\\envs\\env_eosc510\\lib\\site-packages\\sklearn\\neural_network\\_multilayer_perceptron.py:542: UserWarning: Got `batch_size` less than 1 or larger than sample size. It is going to be clipped\n",
      "  warnings.warn(\"Got `batch_size` less than 1 or larger than \"\n",
      "C:\\Anaconda\\envs\\env_eosc510\\lib\\site-packages\\sklearn\\neural_network\\_multilayer_perceptron.py:542: UserWarning: Got `batch_size` less than 1 or larger than sample size. It is going to be clipped\n",
      "  warnings.warn(\"Got `batch_size` less than 1 or larger than \"\n"
     ]
    },
    {
     "name": "stdout",
     "output_type": "stream",
     "text": [
      "\t\t # hidden neurons = 11\n"
     ]
    },
    {
     "name": "stderr",
     "output_type": "stream",
     "text": [
      "C:\\Anaconda\\envs\\env_eosc510\\lib\\site-packages\\sklearn\\neural_network\\_multilayer_perceptron.py:542: UserWarning: Got `batch_size` less than 1 or larger than sample size. It is going to be clipped\n",
      "  warnings.warn(\"Got `batch_size` less than 1 or larger than \"\n"
     ]
    },
    {
     "name": "stdout",
     "output_type": "stream",
     "text": [
      "\t # Hidden Layers = 8\n",
      "\t\t # hidden neurons = 1\n",
      "\t\t # hidden neurons = 2\n"
     ]
    },
    {
     "name": "stderr",
     "output_type": "stream",
     "text": [
      "C:\\Anaconda\\envs\\env_eosc510\\lib\\site-packages\\sklearn\\neural_network\\_multilayer_perceptron.py:542: UserWarning: Got `batch_size` less than 1 or larger than sample size. It is going to be clipped\n",
      "  warnings.warn(\"Got `batch_size` less than 1 or larger than \"\n",
      "C:\\Anaconda\\envs\\env_eosc510\\lib\\site-packages\\sklearn\\neural_network\\_multilayer_perceptron.py:542: UserWarning: Got `batch_size` less than 1 or larger than sample size. It is going to be clipped\n",
      "  warnings.warn(\"Got `batch_size` less than 1 or larger than \"\n"
     ]
    },
    {
     "name": "stdout",
     "output_type": "stream",
     "text": [
      "\t\t # hidden neurons = 3\n"
     ]
    },
    {
     "name": "stderr",
     "output_type": "stream",
     "text": [
      "C:\\Anaconda\\envs\\env_eosc510\\lib\\site-packages\\sklearn\\neural_network\\_multilayer_perceptron.py:542: UserWarning: Got `batch_size` less than 1 or larger than sample size. It is going to be clipped\n",
      "  warnings.warn(\"Got `batch_size` less than 1 or larger than \"\n"
     ]
    },
    {
     "name": "stdout",
     "output_type": "stream",
     "text": [
      "\t\t # hidden neurons = 4\n",
      "\t\t # hidden neurons = 5\n",
      "\t\t # hidden neurons = 6\n"
     ]
    },
    {
     "name": "stderr",
     "output_type": "stream",
     "text": [
      "C:\\Anaconda\\envs\\env_eosc510\\lib\\site-packages\\sklearn\\neural_network\\_multilayer_perceptron.py:542: UserWarning: Got `batch_size` less than 1 or larger than sample size. It is going to be clipped\n",
      "  warnings.warn(\"Got `batch_size` less than 1 or larger than \"\n",
      "C:\\Anaconda\\envs\\env_eosc510\\lib\\site-packages\\sklearn\\neural_network\\_multilayer_perceptron.py:542: UserWarning: Got `batch_size` less than 1 or larger than sample size. It is going to be clipped\n",
      "  warnings.warn(\"Got `batch_size` less than 1 or larger than \"\n",
      "C:\\Anaconda\\envs\\env_eosc510\\lib\\site-packages\\sklearn\\neural_network\\_multilayer_perceptron.py:542: UserWarning: Got `batch_size` less than 1 or larger than sample size. It is going to be clipped\n",
      "  warnings.warn(\"Got `batch_size` less than 1 or larger than \"\n"
     ]
    },
    {
     "name": "stdout",
     "output_type": "stream",
     "text": [
      "\t\t # hidden neurons = 7\n"
     ]
    },
    {
     "name": "stderr",
     "output_type": "stream",
     "text": [
      "C:\\Anaconda\\envs\\env_eosc510\\lib\\site-packages\\sklearn\\neural_network\\_multilayer_perceptron.py:542: UserWarning: Got `batch_size` less than 1 or larger than sample size. It is going to be clipped\n",
      "  warnings.warn(\"Got `batch_size` less than 1 or larger than \"\n"
     ]
    },
    {
     "name": "stdout",
     "output_type": "stream",
     "text": [
      "\t\t # hidden neurons = 8\n"
     ]
    },
    {
     "name": "stderr",
     "output_type": "stream",
     "text": [
      "C:\\Anaconda\\envs\\env_eosc510\\lib\\site-packages\\sklearn\\neural_network\\_multilayer_perceptron.py:542: UserWarning: Got `batch_size` less than 1 or larger than sample size. It is going to be clipped\n",
      "  warnings.warn(\"Got `batch_size` less than 1 or larger than \"\n"
     ]
    },
    {
     "name": "stdout",
     "output_type": "stream",
     "text": [
      "\t\t # hidden neurons = 9\n",
      "\t\t # hidden neurons = 10\n",
      "\t\t # hidden neurons = 11\n"
     ]
    },
    {
     "name": "stderr",
     "output_type": "stream",
     "text": [
      "C:\\Anaconda\\envs\\env_eosc510\\lib\\site-packages\\sklearn\\neural_network\\_multilayer_perceptron.py:542: UserWarning: Got `batch_size` less than 1 or larger than sample size. It is going to be clipped\n",
      "  warnings.warn(\"Got `batch_size` less than 1 or larger than \"\n",
      "C:\\Anaconda\\envs\\env_eosc510\\lib\\site-packages\\sklearn\\neural_network\\_multilayer_perceptron.py:542: UserWarning: Got `batch_size` less than 1 or larger than sample size. It is going to be clipped\n",
      "  warnings.warn(\"Got `batch_size` less than 1 or larger than \"\n",
      "C:\\Anaconda\\envs\\env_eosc510\\lib\\site-packages\\sklearn\\neural_network\\_multilayer_perceptron.py:542: UserWarning: Got `batch_size` less than 1 or larger than sample size. It is going to be clipped\n",
      "  warnings.warn(\"Got `batch_size` less than 1 or larger than \"\n",
      "C:\\Anaconda\\envs\\env_eosc510\\lib\\site-packages\\sklearn\\neural_network\\_multilayer_perceptron.py:542: UserWarning: Got `batch_size` less than 1 or larger than sample size. It is going to be clipped\n",
      "  warnings.warn(\"Got `batch_size` less than 1 or larger than \"\n",
      "C:\\Anaconda\\envs\\env_eosc510\\lib\\site-packages\\sklearn\\neural_network\\_multilayer_perceptron.py:542: UserWarning: Got `batch_size` less than 1 or larger than sample size. It is going to be clipped\n",
      "  warnings.warn(\"Got `batch_size` less than 1 or larger than \"\n",
      "C:\\Anaconda\\envs\\env_eosc510\\lib\\site-packages\\sklearn\\neural_network\\_multilayer_perceptron.py:542: UserWarning: Got `batch_size` less than 1 or larger than sample size. It is going to be clipped\n",
      "  warnings.warn(\"Got `batch_size` less than 1 or larger than \"\n",
      "C:\\Anaconda\\envs\\env_eosc510\\lib\\site-packages\\sklearn\\neural_network\\_multilayer_perceptron.py:542: UserWarning: Got `batch_size` less than 1 or larger than sample size. It is going to be clipped\n",
      "  warnings.warn(\"Got `batch_size` less than 1 or larger than \"\n",
      "C:\\Anaconda\\envs\\env_eosc510\\lib\\site-packages\\sklearn\\neural_network\\_multilayer_perceptron.py:542: UserWarning: Got `batch_size` less than 1 or larger than sample size. It is going to be clipped\n",
      "  warnings.warn(\"Got `batch_size` less than 1 or larger than \"\n",
      "C:\\Anaconda\\envs\\env_eosc510\\lib\\site-packages\\sklearn\\neural_network\\_multilayer_perceptron.py:542: UserWarning: Got `batch_size` less than 1 or larger than sample size. It is going to be clipped\n",
      "  warnings.warn(\"Got `batch_size` less than 1 or larger than \"\n",
      "C:\\Anaconda\\envs\\env_eosc510\\lib\\site-packages\\sklearn\\neural_network\\_multilayer_perceptron.py:542: UserWarning: Got `batch_size` less than 1 or larger than sample size. It is going to be clipped\n",
      "  warnings.warn(\"Got `batch_size` less than 1 or larger than \"\n",
      "C:\\Anaconda\\envs\\env_eosc510\\lib\\site-packages\\sklearn\\neural_network\\_multilayer_perceptron.py:542: UserWarning: Got `batch_size` less than 1 or larger than sample size. It is going to be clipped\n",
      "  warnings.warn(\"Got `batch_size` less than 1 or larger than \"\n"
     ]
    },
    {
     "name": "stdout",
     "output_type": "stream",
     "text": [
      "\t BEST: 6 hidden layers, 8 hidden neurons\n",
      "Model Number: 4\n",
      "\t # Hidden Layers = 1\n",
      "\t\t # hidden neurons = 1\n",
      "\t\t # hidden neurons = 2\n",
      "\t\t # hidden neurons = 3\n",
      "\t\t # hidden neurons = 4\n",
      "\t\t # hidden neurons = 5\n",
      "\t\t # hidden neurons = 6\n",
      "\t\t # hidden neurons = 7\n",
      "\t\t # hidden neurons = 8\n",
      "\t\t # hidden neurons = 9\n",
      "\t\t # hidden neurons = 10\n",
      "\t\t # hidden neurons = 11\n"
     ]
    },
    {
     "name": "stderr",
     "output_type": "stream",
     "text": [
      "C:\\Anaconda\\envs\\env_eosc510\\lib\\site-packages\\sklearn\\neural_network\\_multilayer_perceptron.py:542: UserWarning: Got `batch_size` less than 1 or larger than sample size. It is going to be clipped\n",
      "  warnings.warn(\"Got `batch_size` less than 1 or larger than \"\n",
      "C:\\Anaconda\\envs\\env_eosc510\\lib\\site-packages\\sklearn\\neural_network\\_multilayer_perceptron.py:542: UserWarning: Got `batch_size` less than 1 or larger than sample size. It is going to be clipped\n",
      "  warnings.warn(\"Got `batch_size` less than 1 or larger than \"\n",
      "C:\\Anaconda\\envs\\env_eosc510\\lib\\site-packages\\sklearn\\neural_network\\_multilayer_perceptron.py:542: UserWarning: Got `batch_size` less than 1 or larger than sample size. It is going to be clipped\n",
      "  warnings.warn(\"Got `batch_size` less than 1 or larger than \"\n"
     ]
    },
    {
     "name": "stdout",
     "output_type": "stream",
     "text": [
      "\t # Hidden Layers = 2\n",
      "\t\t # hidden neurons = 1\n",
      "\t\t # hidden neurons = 2\n",
      "\t\t # hidden neurons = 3\n",
      "\t\t # hidden neurons = 4\n"
     ]
    },
    {
     "name": "stderr",
     "output_type": "stream",
     "text": [
      "C:\\Anaconda\\envs\\env_eosc510\\lib\\site-packages\\sklearn\\neural_network\\_multilayer_perceptron.py:542: UserWarning: Got `batch_size` less than 1 or larger than sample size. It is going to be clipped\n",
      "  warnings.warn(\"Got `batch_size` less than 1 or larger than \"\n",
      "C:\\Anaconda\\envs\\env_eosc510\\lib\\site-packages\\sklearn\\neural_network\\_multilayer_perceptron.py:542: UserWarning: Got `batch_size` less than 1 or larger than sample size. It is going to be clipped\n",
      "  warnings.warn(\"Got `batch_size` less than 1 or larger than \"\n",
      "C:\\Anaconda\\envs\\env_eosc510\\lib\\site-packages\\sklearn\\neural_network\\_multilayer_perceptron.py:542: UserWarning: Got `batch_size` less than 1 or larger than sample size. It is going to be clipped\n",
      "  warnings.warn(\"Got `batch_size` less than 1 or larger than \"\n",
      "C:\\Anaconda\\envs\\env_eosc510\\lib\\site-packages\\sklearn\\neural_network\\_multilayer_perceptron.py:542: UserWarning: Got `batch_size` less than 1 or larger than sample size. It is going to be clipped\n",
      "  warnings.warn(\"Got `batch_size` less than 1 or larger than \"\n",
      "C:\\Anaconda\\envs\\env_eosc510\\lib\\site-packages\\sklearn\\neural_network\\_multilayer_perceptron.py:614: ConvergenceWarning: Stochastic Optimizer: Maximum iterations (3000) reached and the optimization hasn't converged yet.\n",
      "  warnings.warn(\n",
      "C:\\Anaconda\\envs\\env_eosc510\\lib\\site-packages\\sklearn\\neural_network\\_multilayer_perceptron.py:542: UserWarning: Got `batch_size` less than 1 or larger than sample size. It is going to be clipped\n",
      "  warnings.warn(\"Got `batch_size` less than 1 or larger than \"\n",
      "C:\\Anaconda\\envs\\env_eosc510\\lib\\site-packages\\sklearn\\neural_network\\_multilayer_perceptron.py:542: UserWarning: Got `batch_size` less than 1 or larger than sample size. It is going to be clipped\n",
      "  warnings.warn(\"Got `batch_size` less than 1 or larger than \"\n",
      "C:\\Anaconda\\envs\\env_eosc510\\lib\\site-packages\\sklearn\\neural_network\\_multilayer_perceptron.py:542: UserWarning: Got `batch_size` less than 1 or larger than sample size. It is going to be clipped\n",
      "  warnings.warn(\"Got `batch_size` less than 1 or larger than \"\n",
      "C:\\Anaconda\\envs\\env_eosc510\\lib\\site-packages\\sklearn\\neural_network\\_multilayer_perceptron.py:542: UserWarning: Got `batch_size` less than 1 or larger than sample size. It is going to be clipped\n",
      "  warnings.warn(\"Got `batch_size` less than 1 or larger than \"\n",
      "C:\\Anaconda\\envs\\env_eosc510\\lib\\site-packages\\sklearn\\neural_network\\_multilayer_perceptron.py:542: UserWarning: Got `batch_size` less than 1 or larger than sample size. It is going to be clipped\n",
      "  warnings.warn(\"Got `batch_size` less than 1 or larger than \"\n",
      "C:\\Anaconda\\envs\\env_eosc510\\lib\\site-packages\\sklearn\\neural_network\\_multilayer_perceptron.py:542: UserWarning: Got `batch_size` less than 1 or larger than sample size. It is going to be clipped\n",
      "  warnings.warn(\"Got `batch_size` less than 1 or larger than \"\n"
     ]
    },
    {
     "name": "stdout",
     "output_type": "stream",
     "text": [
      "\t\t # hidden neurons = 5\n",
      "\t\t # hidden neurons = 6\n",
      "\t\t # hidden neurons = 7\n",
      "\t\t # hidden neurons = 8\n",
      "\t\t # hidden neurons = 9\n",
      "\t\t # hidden neurons = 10\n"
     ]
    },
    {
     "name": "stderr",
     "output_type": "stream",
     "text": [
      "C:\\Anaconda\\envs\\env_eosc510\\lib\\site-packages\\sklearn\\neural_network\\_multilayer_perceptron.py:614: ConvergenceWarning: Stochastic Optimizer: Maximum iterations (3000) reached and the optimization hasn't converged yet.\n",
      "  warnings.warn(\n",
      "C:\\Anaconda\\envs\\env_eosc510\\lib\\site-packages\\sklearn\\neural_network\\_multilayer_perceptron.py:542: UserWarning: Got `batch_size` less than 1 or larger than sample size. It is going to be clipped\n",
      "  warnings.warn(\"Got `batch_size` less than 1 or larger than \"\n"
     ]
    },
    {
     "name": "stdout",
     "output_type": "stream",
     "text": [
      "\t\t # hidden neurons = 11\n",
      "\t # Hidden Layers = 3\n",
      "\t\t # hidden neurons = 1\n",
      "\t\t # hidden neurons = 2\n",
      "\t\t # hidden neurons = 3\n",
      "\t\t # hidden neurons = 4\n",
      "\t\t # hidden neurons = 5\n",
      "\t\t # hidden neurons = 6\n",
      "\t\t # hidden neurons = 7\n"
     ]
    },
    {
     "name": "stderr",
     "output_type": "stream",
     "text": [
      "C:\\Anaconda\\envs\\env_eosc510\\lib\\site-packages\\sklearn\\neural_network\\_multilayer_perceptron.py:542: UserWarning: Got `batch_size` less than 1 or larger than sample size. It is going to be clipped\n",
      "  warnings.warn(\"Got `batch_size` less than 1 or larger than \"\n",
      "C:\\Anaconda\\envs\\env_eosc510\\lib\\site-packages\\sklearn\\neural_network\\_multilayer_perceptron.py:542: UserWarning: Got `batch_size` less than 1 or larger than sample size. It is going to be clipped\n",
      "  warnings.warn(\"Got `batch_size` less than 1 or larger than \"\n",
      "C:\\Anaconda\\envs\\env_eosc510\\lib\\site-packages\\sklearn\\neural_network\\_multilayer_perceptron.py:542: UserWarning: Got `batch_size` less than 1 or larger than sample size. It is going to be clipped\n",
      "  warnings.warn(\"Got `batch_size` less than 1 or larger than \"\n",
      "C:\\Anaconda\\envs\\env_eosc510\\lib\\site-packages\\sklearn\\neural_network\\_multilayer_perceptron.py:542: UserWarning: Got `batch_size` less than 1 or larger than sample size. It is going to be clipped\n",
      "  warnings.warn(\"Got `batch_size` less than 1 or larger than \"\n",
      "C:\\Anaconda\\envs\\env_eosc510\\lib\\site-packages\\sklearn\\neural_network\\_multilayer_perceptron.py:542: UserWarning: Got `batch_size` less than 1 or larger than sample size. It is going to be clipped\n",
      "  warnings.warn(\"Got `batch_size` less than 1 or larger than \"\n",
      "C:\\Anaconda\\envs\\env_eosc510\\lib\\site-packages\\sklearn\\neural_network\\_multilayer_perceptron.py:542: UserWarning: Got `batch_size` less than 1 or larger than sample size. It is going to be clipped\n",
      "  warnings.warn(\"Got `batch_size` less than 1 or larger than \"\n",
      "C:\\Anaconda\\envs\\env_eosc510\\lib\\site-packages\\sklearn\\neural_network\\_multilayer_perceptron.py:542: UserWarning: Got `batch_size` less than 1 or larger than sample size. It is going to be clipped\n",
      "  warnings.warn(\"Got `batch_size` less than 1 or larger than \"\n"
     ]
    },
    {
     "name": "stdout",
     "output_type": "stream",
     "text": [
      "\t\t # hidden neurons = 8\n",
      "\t\t # hidden neurons = 9\n",
      "\t\t # hidden neurons = 10\n",
      "\t\t # hidden neurons = 11\n"
     ]
    },
    {
     "name": "stderr",
     "output_type": "stream",
     "text": [
      "C:\\Anaconda\\envs\\env_eosc510\\lib\\site-packages\\sklearn\\neural_network\\_multilayer_perceptron.py:542: UserWarning: Got `batch_size` less than 1 or larger than sample size. It is going to be clipped\n",
      "  warnings.warn(\"Got `batch_size` less than 1 or larger than \"\n",
      "C:\\Anaconda\\envs\\env_eosc510\\lib\\site-packages\\sklearn\\neural_network\\_multilayer_perceptron.py:542: UserWarning: Got `batch_size` less than 1 or larger than sample size. It is going to be clipped\n",
      "  warnings.warn(\"Got `batch_size` less than 1 or larger than \"\n",
      "C:\\Anaconda\\envs\\env_eosc510\\lib\\site-packages\\sklearn\\neural_network\\_multilayer_perceptron.py:542: UserWarning: Got `batch_size` less than 1 or larger than sample size. It is going to be clipped\n",
      "  warnings.warn(\"Got `batch_size` less than 1 or larger than \"\n",
      "C:\\Anaconda\\envs\\env_eosc510\\lib\\site-packages\\sklearn\\neural_network\\_multilayer_perceptron.py:542: UserWarning: Got `batch_size` less than 1 or larger than sample size. It is going to be clipped\n",
      "  warnings.warn(\"Got `batch_size` less than 1 or larger than \"\n"
     ]
    },
    {
     "name": "stdout",
     "output_type": "stream",
     "text": [
      "\t # Hidden Layers = 4\n",
      "\t\t # hidden neurons = 1\n"
     ]
    },
    {
     "name": "stderr",
     "output_type": "stream",
     "text": [
      "C:\\Anaconda\\envs\\env_eosc510\\lib\\site-packages\\sklearn\\neural_network\\_multilayer_perceptron.py:542: UserWarning: Got `batch_size` less than 1 or larger than sample size. It is going to be clipped\n",
      "  warnings.warn(\"Got `batch_size` less than 1 or larger than \"\n",
      "C:\\Anaconda\\envs\\env_eosc510\\lib\\site-packages\\sklearn\\neural_network\\_multilayer_perceptron.py:614: ConvergenceWarning: Stochastic Optimizer: Maximum iterations (3000) reached and the optimization hasn't converged yet.\n",
      "  warnings.warn(\n",
      "C:\\Anaconda\\envs\\env_eosc510\\lib\\site-packages\\sklearn\\neural_network\\_multilayer_perceptron.py:542: UserWarning: Got `batch_size` less than 1 or larger than sample size. It is going to be clipped\n",
      "  warnings.warn(\"Got `batch_size` less than 1 or larger than \"\n"
     ]
    },
    {
     "name": "stdout",
     "output_type": "stream",
     "text": [
      "\t\t # hidden neurons = 2\n",
      "\t\t # hidden neurons = 3\n",
      "\t\t # hidden neurons = 4\n"
     ]
    },
    {
     "name": "stderr",
     "output_type": "stream",
     "text": [
      "C:\\Anaconda\\envs\\env_eosc510\\lib\\site-packages\\sklearn\\neural_network\\_multilayer_perceptron.py:542: UserWarning: Got `batch_size` less than 1 or larger than sample size. It is going to be clipped\n",
      "  warnings.warn(\"Got `batch_size` less than 1 or larger than \"\n",
      "C:\\Anaconda\\envs\\env_eosc510\\lib\\site-packages\\sklearn\\neural_network\\_multilayer_perceptron.py:542: UserWarning: Got `batch_size` less than 1 or larger than sample size. It is going to be clipped\n",
      "  warnings.warn(\"Got `batch_size` less than 1 or larger than \"\n"
     ]
    },
    {
     "name": "stdout",
     "output_type": "stream",
     "text": [
      "\t\t # hidden neurons = 5\n"
     ]
    },
    {
     "name": "stderr",
     "output_type": "stream",
     "text": [
      "C:\\Anaconda\\envs\\env_eosc510\\lib\\site-packages\\sklearn\\neural_network\\_multilayer_perceptron.py:542: UserWarning: Got `batch_size` less than 1 or larger than sample size. It is going to be clipped\n",
      "  warnings.warn(\"Got `batch_size` less than 1 or larger than \"\n"
     ]
    },
    {
     "name": "stdout",
     "output_type": "stream",
     "text": [
      "\t\t # hidden neurons = 6\n"
     ]
    },
    {
     "name": "stderr",
     "output_type": "stream",
     "text": [
      "C:\\Anaconda\\envs\\env_eosc510\\lib\\site-packages\\sklearn\\neural_network\\_multilayer_perceptron.py:542: UserWarning: Got `batch_size` less than 1 or larger than sample size. It is going to be clipped\n",
      "  warnings.warn(\"Got `batch_size` less than 1 or larger than \"\n"
     ]
    },
    {
     "name": "stdout",
     "output_type": "stream",
     "text": [
      "\t\t # hidden neurons = 7\n",
      "\t\t # hidden neurons = 8\n"
     ]
    },
    {
     "name": "stderr",
     "output_type": "stream",
     "text": [
      "C:\\Anaconda\\envs\\env_eosc510\\lib\\site-packages\\sklearn\\neural_network\\_multilayer_perceptron.py:542: UserWarning: Got `batch_size` less than 1 or larger than sample size. It is going to be clipped\n",
      "  warnings.warn(\"Got `batch_size` less than 1 or larger than \"\n",
      "C:\\Anaconda\\envs\\env_eosc510\\lib\\site-packages\\sklearn\\neural_network\\_multilayer_perceptron.py:542: UserWarning: Got `batch_size` less than 1 or larger than sample size. It is going to be clipped\n",
      "  warnings.warn(\"Got `batch_size` less than 1 or larger than \"\n"
     ]
    },
    {
     "name": "stdout",
     "output_type": "stream",
     "text": [
      "\t\t # hidden neurons = 9\n"
     ]
    },
    {
     "name": "stderr",
     "output_type": "stream",
     "text": [
      "C:\\Anaconda\\envs\\env_eosc510\\lib\\site-packages\\sklearn\\neural_network\\_multilayer_perceptron.py:542: UserWarning: Got `batch_size` less than 1 or larger than sample size. It is going to be clipped\n",
      "  warnings.warn(\"Got `batch_size` less than 1 or larger than \"\n"
     ]
    },
    {
     "name": "stdout",
     "output_type": "stream",
     "text": [
      "\t\t # hidden neurons = 10\n"
     ]
    },
    {
     "name": "stderr",
     "output_type": "stream",
     "text": [
      "C:\\Anaconda\\envs\\env_eosc510\\lib\\site-packages\\sklearn\\neural_network\\_multilayer_perceptron.py:542: UserWarning: Got `batch_size` less than 1 or larger than sample size. It is going to be clipped\n",
      "  warnings.warn(\"Got `batch_size` less than 1 or larger than \"\n"
     ]
    },
    {
     "name": "stdout",
     "output_type": "stream",
     "text": [
      "\t\t # hidden neurons = 11\n",
      "\t # Hidden Layers = 5\n",
      "\t\t # hidden neurons = 1\n"
     ]
    },
    {
     "name": "stderr",
     "output_type": "stream",
     "text": [
      "C:\\Anaconda\\envs\\env_eosc510\\lib\\site-packages\\sklearn\\neural_network\\_multilayer_perceptron.py:542: UserWarning: Got `batch_size` less than 1 or larger than sample size. It is going to be clipped\n",
      "  warnings.warn(\"Got `batch_size` less than 1 or larger than \"\n",
      "C:\\Anaconda\\envs\\env_eosc510\\lib\\site-packages\\sklearn\\neural_network\\_multilayer_perceptron.py:542: UserWarning: Got `batch_size` less than 1 or larger than sample size. It is going to be clipped\n",
      "  warnings.warn(\"Got `batch_size` less than 1 or larger than \"\n"
     ]
    },
    {
     "name": "stdout",
     "output_type": "stream",
     "text": [
      "\t\t # hidden neurons = 2\n",
      "\t\t # hidden neurons = 3\n",
      "\t\t # hidden neurons = 4\n",
      "\t\t # hidden neurons = 5\n"
     ]
    },
    {
     "name": "stderr",
     "output_type": "stream",
     "text": [
      "C:\\Anaconda\\envs\\env_eosc510\\lib\\site-packages\\sklearn\\neural_network\\_multilayer_perceptron.py:542: UserWarning: Got `batch_size` less than 1 or larger than sample size. It is going to be clipped\n",
      "  warnings.warn(\"Got `batch_size` less than 1 or larger than \"\n",
      "C:\\Anaconda\\envs\\env_eosc510\\lib\\site-packages\\sklearn\\neural_network\\_multilayer_perceptron.py:542: UserWarning: Got `batch_size` less than 1 or larger than sample size. It is going to be clipped\n",
      "  warnings.warn(\"Got `batch_size` less than 1 or larger than \"\n",
      "C:\\Anaconda\\envs\\env_eosc510\\lib\\site-packages\\sklearn\\neural_network\\_multilayer_perceptron.py:542: UserWarning: Got `batch_size` less than 1 or larger than sample size. It is going to be clipped\n",
      "  warnings.warn(\"Got `batch_size` less than 1 or larger than \"\n",
      "C:\\Anaconda\\envs\\env_eosc510\\lib\\site-packages\\sklearn\\neural_network\\_multilayer_perceptron.py:542: UserWarning: Got `batch_size` less than 1 or larger than sample size. It is going to be clipped\n",
      "  warnings.warn(\"Got `batch_size` less than 1 or larger than \"\n"
     ]
    },
    {
     "name": "stdout",
     "output_type": "stream",
     "text": [
      "\t\t # hidden neurons = 6\n",
      "\t\t # hidden neurons = 7\n"
     ]
    },
    {
     "name": "stderr",
     "output_type": "stream",
     "text": [
      "C:\\Anaconda\\envs\\env_eosc510\\lib\\site-packages\\sklearn\\neural_network\\_multilayer_perceptron.py:542: UserWarning: Got `batch_size` less than 1 or larger than sample size. It is going to be clipped\n",
      "  warnings.warn(\"Got `batch_size` less than 1 or larger than \"\n",
      "C:\\Anaconda\\envs\\env_eosc510\\lib\\site-packages\\sklearn\\neural_network\\_multilayer_perceptron.py:542: UserWarning: Got `batch_size` less than 1 or larger than sample size. It is going to be clipped\n",
      "  warnings.warn(\"Got `batch_size` less than 1 or larger than \"\n"
     ]
    },
    {
     "name": "stdout",
     "output_type": "stream",
     "text": [
      "\t\t # hidden neurons = 8\n"
     ]
    },
    {
     "name": "stderr",
     "output_type": "stream",
     "text": [
      "C:\\Anaconda\\envs\\env_eosc510\\lib\\site-packages\\sklearn\\neural_network\\_multilayer_perceptron.py:542: UserWarning: Got `batch_size` less than 1 or larger than sample size. It is going to be clipped\n",
      "  warnings.warn(\"Got `batch_size` less than 1 or larger than \"\n"
     ]
    },
    {
     "name": "stdout",
     "output_type": "stream",
     "text": [
      "\t\t # hidden neurons = 9\n",
      "\t\t # hidden neurons = 10\n",
      "\t\t # hidden neurons = 11\n"
     ]
    },
    {
     "name": "stderr",
     "output_type": "stream",
     "text": [
      "C:\\Anaconda\\envs\\env_eosc510\\lib\\site-packages\\sklearn\\neural_network\\_multilayer_perceptron.py:542: UserWarning: Got `batch_size` less than 1 or larger than sample size. It is going to be clipped\n",
      "  warnings.warn(\"Got `batch_size` less than 1 or larger than \"\n",
      "C:\\Anaconda\\envs\\env_eosc510\\lib\\site-packages\\sklearn\\neural_network\\_multilayer_perceptron.py:542: UserWarning: Got `batch_size` less than 1 or larger than sample size. It is going to be clipped\n",
      "  warnings.warn(\"Got `batch_size` less than 1 or larger than \"\n",
      "C:\\Anaconda\\envs\\env_eosc510\\lib\\site-packages\\sklearn\\neural_network\\_multilayer_perceptron.py:542: UserWarning: Got `batch_size` less than 1 or larger than sample size. It is going to be clipped\n",
      "  warnings.warn(\"Got `batch_size` less than 1 or larger than \"\n"
     ]
    },
    {
     "name": "stdout",
     "output_type": "stream",
     "text": [
      "\t # Hidden Layers = 6\n",
      "\t\t # hidden neurons = 1\n",
      "\t\t # hidden neurons = 2\n"
     ]
    },
    {
     "name": "stderr",
     "output_type": "stream",
     "text": [
      "C:\\Anaconda\\envs\\env_eosc510\\lib\\site-packages\\sklearn\\neural_network\\_multilayer_perceptron.py:542: UserWarning: Got `batch_size` less than 1 or larger than sample size. It is going to be clipped\n",
      "  warnings.warn(\"Got `batch_size` less than 1 or larger than \"\n",
      "C:\\Anaconda\\envs\\env_eosc510\\lib\\site-packages\\sklearn\\neural_network\\_multilayer_perceptron.py:542: UserWarning: Got `batch_size` less than 1 or larger than sample size. It is going to be clipped\n",
      "  warnings.warn(\"Got `batch_size` less than 1 or larger than \"\n"
     ]
    },
    {
     "name": "stdout",
     "output_type": "stream",
     "text": [
      "\t\t # hidden neurons = 3\n"
     ]
    },
    {
     "name": "stderr",
     "output_type": "stream",
     "text": [
      "C:\\Anaconda\\envs\\env_eosc510\\lib\\site-packages\\sklearn\\neural_network\\_multilayer_perceptron.py:542: UserWarning: Got `batch_size` less than 1 or larger than sample size. It is going to be clipped\n",
      "  warnings.warn(\"Got `batch_size` less than 1 or larger than \"\n"
     ]
    },
    {
     "name": "stdout",
     "output_type": "stream",
     "text": [
      "\t\t # hidden neurons = 4\n",
      "\t\t # hidden neurons = 5\n",
      "\t\t # hidden neurons = 6\n"
     ]
    },
    {
     "name": "stderr",
     "output_type": "stream",
     "text": [
      "C:\\Anaconda\\envs\\env_eosc510\\lib\\site-packages\\sklearn\\neural_network\\_multilayer_perceptron.py:542: UserWarning: Got `batch_size` less than 1 or larger than sample size. It is going to be clipped\n",
      "  warnings.warn(\"Got `batch_size` less than 1 or larger than \"\n",
      "C:\\Anaconda\\envs\\env_eosc510\\lib\\site-packages\\sklearn\\neural_network\\_multilayer_perceptron.py:542: UserWarning: Got `batch_size` less than 1 or larger than sample size. It is going to be clipped\n",
      "  warnings.warn(\"Got `batch_size` less than 1 or larger than \"\n",
      "C:\\Anaconda\\envs\\env_eosc510\\lib\\site-packages\\sklearn\\neural_network\\_multilayer_perceptron.py:542: UserWarning: Got `batch_size` less than 1 or larger than sample size. It is going to be clipped\n",
      "  warnings.warn(\"Got `batch_size` less than 1 or larger than \"\n"
     ]
    },
    {
     "name": "stdout",
     "output_type": "stream",
     "text": [
      "\t\t # hidden neurons = 7\n",
      "\t\t # hidden neurons = 8\n",
      "\t\t # hidden neurons = 9\n"
     ]
    },
    {
     "name": "stderr",
     "output_type": "stream",
     "text": [
      "C:\\Anaconda\\envs\\env_eosc510\\lib\\site-packages\\sklearn\\neural_network\\_multilayer_perceptron.py:542: UserWarning: Got `batch_size` less than 1 or larger than sample size. It is going to be clipped\n",
      "  warnings.warn(\"Got `batch_size` less than 1 or larger than \"\n",
      "C:\\Anaconda\\envs\\env_eosc510\\lib\\site-packages\\sklearn\\neural_network\\_multilayer_perceptron.py:542: UserWarning: Got `batch_size` less than 1 or larger than sample size. It is going to be clipped\n",
      "  warnings.warn(\"Got `batch_size` less than 1 or larger than \"\n",
      "C:\\Anaconda\\envs\\env_eosc510\\lib\\site-packages\\sklearn\\neural_network\\_multilayer_perceptron.py:542: UserWarning: Got `batch_size` less than 1 or larger than sample size. It is going to be clipped\n",
      "  warnings.warn(\"Got `batch_size` less than 1 or larger than \"\n"
     ]
    },
    {
     "name": "stdout",
     "output_type": "stream",
     "text": [
      "\t\t # hidden neurons = 10\n"
     ]
    },
    {
     "name": "stderr",
     "output_type": "stream",
     "text": [
      "C:\\Anaconda\\envs\\env_eosc510\\lib\\site-packages\\sklearn\\neural_network\\_multilayer_perceptron.py:542: UserWarning: Got `batch_size` less than 1 or larger than sample size. It is going to be clipped\n",
      "  warnings.warn(\"Got `batch_size` less than 1 or larger than \"\n"
     ]
    },
    {
     "name": "stdout",
     "output_type": "stream",
     "text": [
      "\t\t # hidden neurons = 11\n",
      "\t # Hidden Layers = 7\n",
      "\t\t # hidden neurons = 1\n",
      "\t\t # hidden neurons = 2\n"
     ]
    },
    {
     "name": "stderr",
     "output_type": "stream",
     "text": [
      "C:\\Anaconda\\envs\\env_eosc510\\lib\\site-packages\\sklearn\\neural_network\\_multilayer_perceptron.py:542: UserWarning: Got `batch_size` less than 1 or larger than sample size. It is going to be clipped\n",
      "  warnings.warn(\"Got `batch_size` less than 1 or larger than \"\n",
      "C:\\Anaconda\\envs\\env_eosc510\\lib\\site-packages\\sklearn\\neural_network\\_multilayer_perceptron.py:542: UserWarning: Got `batch_size` less than 1 or larger than sample size. It is going to be clipped\n",
      "  warnings.warn(\"Got `batch_size` less than 1 or larger than \"\n",
      "C:\\Anaconda\\envs\\env_eosc510\\lib\\site-packages\\sklearn\\neural_network\\_multilayer_perceptron.py:542: UserWarning: Got `batch_size` less than 1 or larger than sample size. It is going to be clipped\n",
      "  warnings.warn(\"Got `batch_size` less than 1 or larger than \"\n"
     ]
    },
    {
     "name": "stdout",
     "output_type": "stream",
     "text": [
      "\t\t # hidden neurons = 3\n"
     ]
    },
    {
     "name": "stderr",
     "output_type": "stream",
     "text": [
      "C:\\Anaconda\\envs\\env_eosc510\\lib\\site-packages\\sklearn\\neural_network\\_multilayer_perceptron.py:542: UserWarning: Got `batch_size` less than 1 or larger than sample size. It is going to be clipped\n",
      "  warnings.warn(\"Got `batch_size` less than 1 or larger than \"\n"
     ]
    },
    {
     "name": "stdout",
     "output_type": "stream",
     "text": [
      "\t\t # hidden neurons = 4\n"
     ]
    },
    {
     "name": "stderr",
     "output_type": "stream",
     "text": [
      "C:\\Anaconda\\envs\\env_eosc510\\lib\\site-packages\\sklearn\\neural_network\\_multilayer_perceptron.py:542: UserWarning: Got `batch_size` less than 1 or larger than sample size. It is going to be clipped\n",
      "  warnings.warn(\"Got `batch_size` less than 1 or larger than \"\n"
     ]
    },
    {
     "name": "stdout",
     "output_type": "stream",
     "text": [
      "\t\t # hidden neurons = 5\n",
      "\t\t # hidden neurons = 6\n"
     ]
    },
    {
     "name": "stderr",
     "output_type": "stream",
     "text": [
      "C:\\Anaconda\\envs\\env_eosc510\\lib\\site-packages\\sklearn\\neural_network\\_multilayer_perceptron.py:542: UserWarning: Got `batch_size` less than 1 or larger than sample size. It is going to be clipped\n",
      "  warnings.warn(\"Got `batch_size` less than 1 or larger than \"\n",
      "C:\\Anaconda\\envs\\env_eosc510\\lib\\site-packages\\sklearn\\neural_network\\_multilayer_perceptron.py:542: UserWarning: Got `batch_size` less than 1 or larger than sample size. It is going to be clipped\n",
      "  warnings.warn(\"Got `batch_size` less than 1 or larger than \"\n"
     ]
    },
    {
     "name": "stdout",
     "output_type": "stream",
     "text": [
      "\t\t # hidden neurons = 7\n",
      "\t\t # hidden neurons = 8\n"
     ]
    },
    {
     "name": "stderr",
     "output_type": "stream",
     "text": [
      "C:\\Anaconda\\envs\\env_eosc510\\lib\\site-packages\\sklearn\\neural_network\\_multilayer_perceptron.py:542: UserWarning: Got `batch_size` less than 1 or larger than sample size. It is going to be clipped\n",
      "  warnings.warn(\"Got `batch_size` less than 1 or larger than \"\n",
      "C:\\Anaconda\\envs\\env_eosc510\\lib\\site-packages\\sklearn\\neural_network\\_multilayer_perceptron.py:542: UserWarning: Got `batch_size` less than 1 or larger than sample size. It is going to be clipped\n",
      "  warnings.warn(\"Got `batch_size` less than 1 or larger than \"\n"
     ]
    },
    {
     "name": "stdout",
     "output_type": "stream",
     "text": [
      "\t\t # hidden neurons = 9\n"
     ]
    },
    {
     "name": "stderr",
     "output_type": "stream",
     "text": [
      "C:\\Anaconda\\envs\\env_eosc510\\lib\\site-packages\\sklearn\\neural_network\\_multilayer_perceptron.py:542: UserWarning: Got `batch_size` less than 1 or larger than sample size. It is going to be clipped\n",
      "  warnings.warn(\"Got `batch_size` less than 1 or larger than \"\n"
     ]
    },
    {
     "name": "stdout",
     "output_type": "stream",
     "text": [
      "\t\t # hidden neurons = 10\n"
     ]
    },
    {
     "name": "stderr",
     "output_type": "stream",
     "text": [
      "C:\\Anaconda\\envs\\env_eosc510\\lib\\site-packages\\sklearn\\neural_network\\_multilayer_perceptron.py:542: UserWarning: Got `batch_size` less than 1 or larger than sample size. It is going to be clipped\n",
      "  warnings.warn(\"Got `batch_size` less than 1 or larger than \"\n"
     ]
    },
    {
     "name": "stdout",
     "output_type": "stream",
     "text": [
      "\t\t # hidden neurons = 11\n",
      "\t # Hidden Layers = 8\n",
      "\t\t # hidden neurons = 1\n",
      "\t\t # hidden neurons = 2\n"
     ]
    },
    {
     "name": "stderr",
     "output_type": "stream",
     "text": [
      "C:\\Anaconda\\envs\\env_eosc510\\lib\\site-packages\\sklearn\\neural_network\\_multilayer_perceptron.py:542: UserWarning: Got `batch_size` less than 1 or larger than sample size. It is going to be clipped\n",
      "  warnings.warn(\"Got `batch_size` less than 1 or larger than \"\n",
      "C:\\Anaconda\\envs\\env_eosc510\\lib\\site-packages\\sklearn\\neural_network\\_multilayer_perceptron.py:542: UserWarning: Got `batch_size` less than 1 or larger than sample size. It is going to be clipped\n",
      "  warnings.warn(\"Got `batch_size` less than 1 or larger than \"\n",
      "C:\\Anaconda\\envs\\env_eosc510\\lib\\site-packages\\sklearn\\neural_network\\_multilayer_perceptron.py:542: UserWarning: Got `batch_size` less than 1 or larger than sample size. It is going to be clipped\n",
      "  warnings.warn(\"Got `batch_size` less than 1 or larger than \"\n",
      "C:\\Anaconda\\envs\\env_eosc510\\lib\\site-packages\\sklearn\\neural_network\\_multilayer_perceptron.py:542: UserWarning: Got `batch_size` less than 1 or larger than sample size. It is going to be clipped\n",
      "  warnings.warn(\"Got `batch_size` less than 1 or larger than \"\n"
     ]
    },
    {
     "name": "stdout",
     "output_type": "stream",
     "text": [
      "\t\t # hidden neurons = 3\n",
      "\t\t # hidden neurons = 4\n"
     ]
    },
    {
     "name": "stderr",
     "output_type": "stream",
     "text": [
      "C:\\Anaconda\\envs\\env_eosc510\\lib\\site-packages\\sklearn\\neural_network\\_multilayer_perceptron.py:542: UserWarning: Got `batch_size` less than 1 or larger than sample size. It is going to be clipped\n",
      "  warnings.warn(\"Got `batch_size` less than 1 or larger than \"\n"
     ]
    },
    {
     "name": "stdout",
     "output_type": "stream",
     "text": [
      "\t\t # hidden neurons = 5\n"
     ]
    },
    {
     "name": "stderr",
     "output_type": "stream",
     "text": [
      "C:\\Anaconda\\envs\\env_eosc510\\lib\\site-packages\\sklearn\\neural_network\\_multilayer_perceptron.py:542: UserWarning: Got `batch_size` less than 1 or larger than sample size. It is going to be clipped\n",
      "  warnings.warn(\"Got `batch_size` less than 1 or larger than \"\n"
     ]
    },
    {
     "name": "stdout",
     "output_type": "stream",
     "text": [
      "\t\t # hidden neurons = 6\n",
      "\t\t # hidden neurons = 7\n"
     ]
    },
    {
     "name": "stderr",
     "output_type": "stream",
     "text": [
      "C:\\Anaconda\\envs\\env_eosc510\\lib\\site-packages\\sklearn\\neural_network\\_multilayer_perceptron.py:542: UserWarning: Got `batch_size` less than 1 or larger than sample size. It is going to be clipped\n",
      "  warnings.warn(\"Got `batch_size` less than 1 or larger than \"\n",
      "C:\\Anaconda\\envs\\env_eosc510\\lib\\site-packages\\sklearn\\neural_network\\_multilayer_perceptron.py:542: UserWarning: Got `batch_size` less than 1 or larger than sample size. It is going to be clipped\n",
      "  warnings.warn(\"Got `batch_size` less than 1 or larger than \"\n"
     ]
    },
    {
     "name": "stdout",
     "output_type": "stream",
     "text": [
      "\t\t # hidden neurons = 8\n",
      "\t\t # hidden neurons = 9\n"
     ]
    },
    {
     "name": "stderr",
     "output_type": "stream",
     "text": [
      "C:\\Anaconda\\envs\\env_eosc510\\lib\\site-packages\\sklearn\\neural_network\\_multilayer_perceptron.py:542: UserWarning: Got `batch_size` less than 1 or larger than sample size. It is going to be clipped\n",
      "  warnings.warn(\"Got `batch_size` less than 1 or larger than \"\n",
      "C:\\Anaconda\\envs\\env_eosc510\\lib\\site-packages\\sklearn\\neural_network\\_multilayer_perceptron.py:542: UserWarning: Got `batch_size` less than 1 or larger than sample size. It is going to be clipped\n",
      "  warnings.warn(\"Got `batch_size` less than 1 or larger than \"\n"
     ]
    },
    {
     "name": "stdout",
     "output_type": "stream",
     "text": [
      "\t\t # hidden neurons = 10\n",
      "\t\t # hidden neurons = 11\n"
     ]
    },
    {
     "name": "stderr",
     "output_type": "stream",
     "text": [
      "C:\\Anaconda\\envs\\env_eosc510\\lib\\site-packages\\sklearn\\neural_network\\_multilayer_perceptron.py:542: UserWarning: Got `batch_size` less than 1 or larger than sample size. It is going to be clipped\n",
      "  warnings.warn(\"Got `batch_size` less than 1 or larger than \"\n",
      "C:\\Anaconda\\envs\\env_eosc510\\lib\\site-packages\\sklearn\\neural_network\\_multilayer_perceptron.py:542: UserWarning: Got `batch_size` less than 1 or larger than sample size. It is going to be clipped\n",
      "  warnings.warn(\"Got `batch_size` less than 1 or larger than \"\n"
     ]
    },
    {
     "name": "stdout",
     "output_type": "stream",
     "text": [
      "\t BEST: 6 hidden layers, 2 hidden neurons\n",
      "Model Number: 5\n",
      "\t # Hidden Layers = 1\n",
      "\t\t # hidden neurons = 1\n",
      "\t\t # hidden neurons = 2\n"
     ]
    },
    {
     "name": "stderr",
     "output_type": "stream",
     "text": [
      "C:\\Anaconda\\envs\\env_eosc510\\lib\\site-packages\\sklearn\\neural_network\\_multilayer_perceptron.py:542: UserWarning: Got `batch_size` less than 1 or larger than sample size. It is going to be clipped\n",
      "  warnings.warn(\"Got `batch_size` less than 1 or larger than \"\n",
      "C:\\Anaconda\\envs\\env_eosc510\\lib\\site-packages\\sklearn\\neural_network\\_multilayer_perceptron.py:542: UserWarning: Got `batch_size` less than 1 or larger than sample size. It is going to be clipped\n",
      "  warnings.warn(\"Got `batch_size` less than 1 or larger than \"\n"
     ]
    },
    {
     "name": "stdout",
     "output_type": "stream",
     "text": [
      "\t\t # hidden neurons = 3\n",
      "\t\t # hidden neurons = 4\n"
     ]
    },
    {
     "name": "stderr",
     "output_type": "stream",
     "text": [
      "C:\\Anaconda\\envs\\env_eosc510\\lib\\site-packages\\sklearn\\neural_network\\_multilayer_perceptron.py:542: UserWarning: Got `batch_size` less than 1 or larger than sample size. It is going to be clipped\n",
      "  warnings.warn(\"Got `batch_size` less than 1 or larger than \"\n",
      "C:\\Anaconda\\envs\\env_eosc510\\lib\\site-packages\\sklearn\\neural_network\\_multilayer_perceptron.py:542: UserWarning: Got `batch_size` less than 1 or larger than sample size. It is going to be clipped\n",
      "  warnings.warn(\"Got `batch_size` less than 1 or larger than \"\n",
      "C:\\Anaconda\\envs\\env_eosc510\\lib\\site-packages\\sklearn\\neural_network\\_multilayer_perceptron.py:614: ConvergenceWarning: Stochastic Optimizer: Maximum iterations (3000) reached and the optimization hasn't converged yet.\n",
      "  warnings.warn(\n",
      "C:\\Anaconda\\envs\\env_eosc510\\lib\\site-packages\\sklearn\\neural_network\\_multilayer_perceptron.py:542: UserWarning: Got `batch_size` less than 1 or larger than sample size. It is going to be clipped\n",
      "  warnings.warn(\"Got `batch_size` less than 1 or larger than \"\n",
      "C:\\Anaconda\\envs\\env_eosc510\\lib\\site-packages\\sklearn\\neural_network\\_multilayer_perceptron.py:542: UserWarning: Got `batch_size` less than 1 or larger than sample size. It is going to be clipped\n",
      "  warnings.warn(\"Got `batch_size` less than 1 or larger than \"\n",
      "C:\\Anaconda\\envs\\env_eosc510\\lib\\site-packages\\sklearn\\neural_network\\_multilayer_perceptron.py:542: UserWarning: Got `batch_size` less than 1 or larger than sample size. It is going to be clipped\n",
      "  warnings.warn(\"Got `batch_size` less than 1 or larger than \"\n",
      "C:\\Anaconda\\envs\\env_eosc510\\lib\\site-packages\\sklearn\\neural_network\\_multilayer_perceptron.py:542: UserWarning: Got `batch_size` less than 1 or larger than sample size. It is going to be clipped\n",
      "  warnings.warn(\"Got `batch_size` less than 1 or larger than \"\n"
     ]
    },
    {
     "name": "stdout",
     "output_type": "stream",
     "text": [
      "\t\t # hidden neurons = 5\n",
      "\t\t # hidden neurons = 6\n",
      "\t\t # hidden neurons = 7\n",
      "\t\t # hidden neurons = 8\n",
      "\t\t # hidden neurons = 9\n"
     ]
    },
    {
     "name": "stderr",
     "output_type": "stream",
     "text": [
      "C:\\Anaconda\\envs\\env_eosc510\\lib\\site-packages\\sklearn\\neural_network\\_multilayer_perceptron.py:542: UserWarning: Got `batch_size` less than 1 or larger than sample size. It is going to be clipped\n",
      "  warnings.warn(\"Got `batch_size` less than 1 or larger than \"\n",
      "C:\\Anaconda\\envs\\env_eosc510\\lib\\site-packages\\sklearn\\neural_network\\_multilayer_perceptron.py:614: ConvergenceWarning: Stochastic Optimizer: Maximum iterations (3000) reached and the optimization hasn't converged yet.\n",
      "  warnings.warn(\n",
      "C:\\Anaconda\\envs\\env_eosc510\\lib\\site-packages\\sklearn\\neural_network\\_multilayer_perceptron.py:542: UserWarning: Got `batch_size` less than 1 or larger than sample size. It is going to be clipped\n",
      "  warnings.warn(\"Got `batch_size` less than 1 or larger than \"\n",
      "C:\\Anaconda\\envs\\env_eosc510\\lib\\site-packages\\sklearn\\neural_network\\_multilayer_perceptron.py:542: UserWarning: Got `batch_size` less than 1 or larger than sample size. It is going to be clipped\n",
      "  warnings.warn(\"Got `batch_size` less than 1 or larger than \"\n",
      "C:\\Anaconda\\envs\\env_eosc510\\lib\\site-packages\\sklearn\\neural_network\\_multilayer_perceptron.py:542: UserWarning: Got `batch_size` less than 1 or larger than sample size. It is going to be clipped\n",
      "  warnings.warn(\"Got `batch_size` less than 1 or larger than \"\n",
      "C:\\Anaconda\\envs\\env_eosc510\\lib\\site-packages\\sklearn\\neural_network\\_multilayer_perceptron.py:542: UserWarning: Got `batch_size` less than 1 or larger than sample size. It is going to be clipped\n",
      "  warnings.warn(\"Got `batch_size` less than 1 or larger than \"\n",
      "C:\\Anaconda\\envs\\env_eosc510\\lib\\site-packages\\sklearn\\neural_network\\_multilayer_perceptron.py:542: UserWarning: Got `batch_size` less than 1 or larger than sample size. It is going to be clipped\n",
      "  warnings.warn(\"Got `batch_size` less than 1 or larger than \"\n",
      "C:\\Anaconda\\envs\\env_eosc510\\lib\\site-packages\\sklearn\\neural_network\\_multilayer_perceptron.py:542: UserWarning: Got `batch_size` less than 1 or larger than sample size. It is going to be clipped\n",
      "  warnings.warn(\"Got `batch_size` less than 1 or larger than \"\n",
      "C:\\Anaconda\\envs\\env_eosc510\\lib\\site-packages\\sklearn\\neural_network\\_multilayer_perceptron.py:542: UserWarning: Got `batch_size` less than 1 or larger than sample size. It is going to be clipped\n",
      "  warnings.warn(\"Got `batch_size` less than 1 or larger than \"\n"
     ]
    },
    {
     "name": "stdout",
     "output_type": "stream",
     "text": [
      "\t\t # hidden neurons = 10\n",
      "\t\t # hidden neurons = 11\n",
      "\t # Hidden Layers = 2\n",
      "\t\t # hidden neurons = 1\n",
      "\t\t # hidden neurons = 2\n",
      "\t\t # hidden neurons = 3\n",
      "\t\t # hidden neurons = 4\n",
      "\t\t # hidden neurons = 5\n"
     ]
    },
    {
     "name": "stderr",
     "output_type": "stream",
     "text": [
      "C:\\Anaconda\\envs\\env_eosc510\\lib\\site-packages\\sklearn\\neural_network\\_multilayer_perceptron.py:614: ConvergenceWarning: Stochastic Optimizer: Maximum iterations (3000) reached and the optimization hasn't converged yet.\n",
      "  warnings.warn(\n",
      "C:\\Anaconda\\envs\\env_eosc510\\lib\\site-packages\\sklearn\\neural_network\\_multilayer_perceptron.py:542: UserWarning: Got `batch_size` less than 1 or larger than sample size. It is going to be clipped\n",
      "  warnings.warn(\"Got `batch_size` less than 1 or larger than \"\n"
     ]
    },
    {
     "name": "stdout",
     "output_type": "stream",
     "text": [
      "\t\t # hidden neurons = 6\n",
      "\t\t # hidden neurons = 7\n",
      "\t\t # hidden neurons = 8\n",
      "\t\t # hidden neurons = 9\n",
      "\t\t # hidden neurons = 10\n",
      "\t\t # hidden neurons = 11\n",
      "\t # Hidden Layers = 3\n",
      "\t\t # hidden neurons = 1\n"
     ]
    },
    {
     "name": "stderr",
     "output_type": "stream",
     "text": [
      "C:\\Anaconda\\envs\\env_eosc510\\lib\\site-packages\\sklearn\\neural_network\\_multilayer_perceptron.py:542: UserWarning: Got `batch_size` less than 1 or larger than sample size. It is going to be clipped\n",
      "  warnings.warn(\"Got `batch_size` less than 1 or larger than \"\n",
      "C:\\Anaconda\\envs\\env_eosc510\\lib\\site-packages\\sklearn\\neural_network\\_multilayer_perceptron.py:542: UserWarning: Got `batch_size` less than 1 or larger than sample size. It is going to be clipped\n",
      "  warnings.warn(\"Got `batch_size` less than 1 or larger than \"\n",
      "C:\\Anaconda\\envs\\env_eosc510\\lib\\site-packages\\sklearn\\neural_network\\_multilayer_perceptron.py:542: UserWarning: Got `batch_size` less than 1 or larger than sample size. It is going to be clipped\n",
      "  warnings.warn(\"Got `batch_size` less than 1 or larger than \"\n",
      "C:\\Anaconda\\envs\\env_eosc510\\lib\\site-packages\\sklearn\\neural_network\\_multilayer_perceptron.py:542: UserWarning: Got `batch_size` less than 1 or larger than sample size. It is going to be clipped\n",
      "  warnings.warn(\"Got `batch_size` less than 1 or larger than \"\n",
      "C:\\Anaconda\\envs\\env_eosc510\\lib\\site-packages\\sklearn\\neural_network\\_multilayer_perceptron.py:542: UserWarning: Got `batch_size` less than 1 or larger than sample size. It is going to be clipped\n",
      "  warnings.warn(\"Got `batch_size` less than 1 or larger than \"\n",
      "C:\\Anaconda\\envs\\env_eosc510\\lib\\site-packages\\sklearn\\neural_network\\_multilayer_perceptron.py:542: UserWarning: Got `batch_size` less than 1 or larger than sample size. It is going to be clipped\n",
      "  warnings.warn(\"Got `batch_size` less than 1 or larger than \"\n",
      "C:\\Anaconda\\envs\\env_eosc510\\lib\\site-packages\\sklearn\\neural_network\\_multilayer_perceptron.py:542: UserWarning: Got `batch_size` less than 1 or larger than sample size. It is going to be clipped\n",
      "  warnings.warn(\"Got `batch_size` less than 1 or larger than \"\n",
      "C:\\Anaconda\\envs\\env_eosc510\\lib\\site-packages\\sklearn\\neural_network\\_multilayer_perceptron.py:542: UserWarning: Got `batch_size` less than 1 or larger than sample size. It is going to be clipped\n",
      "  warnings.warn(\"Got `batch_size` less than 1 or larger than \"\n"
     ]
    },
    {
     "name": "stdout",
     "output_type": "stream",
     "text": [
      "\t\t # hidden neurons = 2\n",
      "\t\t # hidden neurons = 3\n"
     ]
    },
    {
     "name": "stderr",
     "output_type": "stream",
     "text": [
      "C:\\Anaconda\\envs\\env_eosc510\\lib\\site-packages\\sklearn\\neural_network\\_multilayer_perceptron.py:614: ConvergenceWarning: Stochastic Optimizer: Maximum iterations (3000) reached and the optimization hasn't converged yet.\n",
      "  warnings.warn(\n",
      "C:\\Anaconda\\envs\\env_eosc510\\lib\\site-packages\\sklearn\\neural_network\\_multilayer_perceptron.py:542: UserWarning: Got `batch_size` less than 1 or larger than sample size. It is going to be clipped\n",
      "  warnings.warn(\"Got `batch_size` less than 1 or larger than \"\n"
     ]
    },
    {
     "name": "stdout",
     "output_type": "stream",
     "text": [
      "\t\t # hidden neurons = 4\n",
      "\t\t # hidden neurons = 5\n"
     ]
    },
    {
     "name": "stderr",
     "output_type": "stream",
     "text": [
      "C:\\Anaconda\\envs\\env_eosc510\\lib\\site-packages\\sklearn\\neural_network\\_multilayer_perceptron.py:542: UserWarning: Got `batch_size` less than 1 or larger than sample size. It is going to be clipped\n",
      "  warnings.warn(\"Got `batch_size` less than 1 or larger than \"\n"
     ]
    },
    {
     "name": "stdout",
     "output_type": "stream",
     "text": [
      "\t\t # hidden neurons = 6\n"
     ]
    },
    {
     "name": "stderr",
     "output_type": "stream",
     "text": [
      "C:\\Anaconda\\envs\\env_eosc510\\lib\\site-packages\\sklearn\\neural_network\\_multilayer_perceptron.py:542: UserWarning: Got `batch_size` less than 1 or larger than sample size. It is going to be clipped\n",
      "  warnings.warn(\"Got `batch_size` less than 1 or larger than \"\n"
     ]
    },
    {
     "name": "stdout",
     "output_type": "stream",
     "text": [
      "\t\t # hidden neurons = 7\n",
      "\t\t # hidden neurons = 8\n"
     ]
    },
    {
     "name": "stderr",
     "output_type": "stream",
     "text": [
      "C:\\Anaconda\\envs\\env_eosc510\\lib\\site-packages\\sklearn\\neural_network\\_multilayer_perceptron.py:542: UserWarning: Got `batch_size` less than 1 or larger than sample size. It is going to be clipped\n",
      "  warnings.warn(\"Got `batch_size` less than 1 or larger than \"\n",
      "C:\\Anaconda\\envs\\env_eosc510\\lib\\site-packages\\sklearn\\neural_network\\_multilayer_perceptron.py:542: UserWarning: Got `batch_size` less than 1 or larger than sample size. It is going to be clipped\n",
      "  warnings.warn(\"Got `batch_size` less than 1 or larger than \"\n"
     ]
    },
    {
     "name": "stdout",
     "output_type": "stream",
     "text": [
      "\t\t # hidden neurons = 9\n",
      "\t\t # hidden neurons = 10\n"
     ]
    },
    {
     "name": "stderr",
     "output_type": "stream",
     "text": [
      "C:\\Anaconda\\envs\\env_eosc510\\lib\\site-packages\\sklearn\\neural_network\\_multilayer_perceptron.py:542: UserWarning: Got `batch_size` less than 1 or larger than sample size. It is going to be clipped\n",
      "  warnings.warn(\"Got `batch_size` less than 1 or larger than \"\n",
      "C:\\Anaconda\\envs\\env_eosc510\\lib\\site-packages\\sklearn\\neural_network\\_multilayer_perceptron.py:542: UserWarning: Got `batch_size` less than 1 or larger than sample size. It is going to be clipped\n",
      "  warnings.warn(\"Got `batch_size` less than 1 or larger than \"\n",
      "C:\\Anaconda\\envs\\env_eosc510\\lib\\site-packages\\sklearn\\neural_network\\_multilayer_perceptron.py:542: UserWarning: Got `batch_size` less than 1 or larger than sample size. It is going to be clipped\n",
      "  warnings.warn(\"Got `batch_size` less than 1 or larger than \"\n"
     ]
    },
    {
     "name": "stdout",
     "output_type": "stream",
     "text": [
      "\t\t # hidden neurons = 11\n",
      "\t # Hidden Layers = 4\n",
      "\t\t # hidden neurons = 1\n"
     ]
    },
    {
     "name": "stderr",
     "output_type": "stream",
     "text": [
      "C:\\Anaconda\\envs\\env_eosc510\\lib\\site-packages\\sklearn\\neural_network\\_multilayer_perceptron.py:542: UserWarning: Got `batch_size` less than 1 or larger than sample size. It is going to be clipped\n",
      "  warnings.warn(\"Got `batch_size` less than 1 or larger than \"\n"
     ]
    },
    {
     "name": "stdout",
     "output_type": "stream",
     "text": [
      "\t\t # hidden neurons = 2\n"
     ]
    },
    {
     "name": "stderr",
     "output_type": "stream",
     "text": [
      "C:\\Anaconda\\envs\\env_eosc510\\lib\\site-packages\\sklearn\\neural_network\\_multilayer_perceptron.py:542: UserWarning: Got `batch_size` less than 1 or larger than sample size. It is going to be clipped\n",
      "  warnings.warn(\"Got `batch_size` less than 1 or larger than \"\n"
     ]
    },
    {
     "name": "stdout",
     "output_type": "stream",
     "text": [
      "\t\t # hidden neurons = 3\n"
     ]
    },
    {
     "name": "stderr",
     "output_type": "stream",
     "text": [
      "C:\\Anaconda\\envs\\env_eosc510\\lib\\site-packages\\sklearn\\neural_network\\_multilayer_perceptron.py:542: UserWarning: Got `batch_size` less than 1 or larger than sample size. It is going to be clipped\n",
      "  warnings.warn(\"Got `batch_size` less than 1 or larger than \"\n"
     ]
    },
    {
     "name": "stdout",
     "output_type": "stream",
     "text": [
      "\t\t # hidden neurons = 4\n",
      "\t\t # hidden neurons = 5\n",
      "\t\t # hidden neurons = 6\n",
      "\t\t # hidden neurons = 7\n"
     ]
    },
    {
     "name": "stderr",
     "output_type": "stream",
     "text": [
      "C:\\Anaconda\\envs\\env_eosc510\\lib\\site-packages\\sklearn\\neural_network\\_multilayer_perceptron.py:542: UserWarning: Got `batch_size` less than 1 or larger than sample size. It is going to be clipped\n",
      "  warnings.warn(\"Got `batch_size` less than 1 or larger than \"\n",
      "C:\\Anaconda\\envs\\env_eosc510\\lib\\site-packages\\sklearn\\neural_network\\_multilayer_perceptron.py:542: UserWarning: Got `batch_size` less than 1 or larger than sample size. It is going to be clipped\n",
      "  warnings.warn(\"Got `batch_size` less than 1 or larger than \"\n",
      "C:\\Anaconda\\envs\\env_eosc510\\lib\\site-packages\\sklearn\\neural_network\\_multilayer_perceptron.py:542: UserWarning: Got `batch_size` less than 1 or larger than sample size. It is going to be clipped\n",
      "  warnings.warn(\"Got `batch_size` less than 1 or larger than \"\n",
      "C:\\Anaconda\\envs\\env_eosc510\\lib\\site-packages\\sklearn\\neural_network\\_multilayer_perceptron.py:542: UserWarning: Got `batch_size` less than 1 or larger than sample size. It is going to be clipped\n",
      "  warnings.warn(\"Got `batch_size` less than 1 or larger than \"\n"
     ]
    },
    {
     "name": "stdout",
     "output_type": "stream",
     "text": [
      "\t\t # hidden neurons = 8\n",
      "\t\t # hidden neurons = 9\n",
      "\t\t # hidden neurons = 10\n"
     ]
    },
    {
     "name": "stderr",
     "output_type": "stream",
     "text": [
      "C:\\Anaconda\\envs\\env_eosc510\\lib\\site-packages\\sklearn\\neural_network\\_multilayer_perceptron.py:542: UserWarning: Got `batch_size` less than 1 or larger than sample size. It is going to be clipped\n",
      "  warnings.warn(\"Got `batch_size` less than 1 or larger than \"\n",
      "C:\\Anaconda\\envs\\env_eosc510\\lib\\site-packages\\sklearn\\neural_network\\_multilayer_perceptron.py:542: UserWarning: Got `batch_size` less than 1 or larger than sample size. It is going to be clipped\n",
      "  warnings.warn(\"Got `batch_size` less than 1 or larger than \"\n",
      "C:\\Anaconda\\envs\\env_eosc510\\lib\\site-packages\\sklearn\\neural_network\\_multilayer_perceptron.py:542: UserWarning: Got `batch_size` less than 1 or larger than sample size. It is going to be clipped\n",
      "  warnings.warn(\"Got `batch_size` less than 1 or larger than \"\n"
     ]
    },
    {
     "name": "stdout",
     "output_type": "stream",
     "text": [
      "\t\t # hidden neurons = 11\n",
      "\t # Hidden Layers = 5\n",
      "\t\t # hidden neurons = 1\n",
      "\t\t # hidden neurons = 2\n",
      "\t\t # hidden neurons = 3\n",
      "\t\t # hidden neurons = 4\n",
      "\t\t # hidden neurons = 5\n"
     ]
    },
    {
     "name": "stderr",
     "output_type": "stream",
     "text": [
      "C:\\Anaconda\\envs\\env_eosc510\\lib\\site-packages\\sklearn\\neural_network\\_multilayer_perceptron.py:542: UserWarning: Got `batch_size` less than 1 or larger than sample size. It is going to be clipped\n",
      "  warnings.warn(\"Got `batch_size` less than 1 or larger than \"\n",
      "C:\\Anaconda\\envs\\env_eosc510\\lib\\site-packages\\sklearn\\neural_network\\_multilayer_perceptron.py:542: UserWarning: Got `batch_size` less than 1 or larger than sample size. It is going to be clipped\n",
      "  warnings.warn(\"Got `batch_size` less than 1 or larger than \"\n",
      "C:\\Anaconda\\envs\\env_eosc510\\lib\\site-packages\\sklearn\\neural_network\\_multilayer_perceptron.py:542: UserWarning: Got `batch_size` less than 1 or larger than sample size. It is going to be clipped\n",
      "  warnings.warn(\"Got `batch_size` less than 1 or larger than \"\n",
      "C:\\Anaconda\\envs\\env_eosc510\\lib\\site-packages\\sklearn\\neural_network\\_multilayer_perceptron.py:542: UserWarning: Got `batch_size` less than 1 or larger than sample size. It is going to be clipped\n",
      "  warnings.warn(\"Got `batch_size` less than 1 or larger than \"\n",
      "C:\\Anaconda\\envs\\env_eosc510\\lib\\site-packages\\sklearn\\neural_network\\_multilayer_perceptron.py:542: UserWarning: Got `batch_size` less than 1 or larger than sample size. It is going to be clipped\n",
      "  warnings.warn(\"Got `batch_size` less than 1 or larger than \"\n",
      "C:\\Anaconda\\envs\\env_eosc510\\lib\\site-packages\\sklearn\\neural_network\\_multilayer_perceptron.py:542: UserWarning: Got `batch_size` less than 1 or larger than sample size. It is going to be clipped\n",
      "  warnings.warn(\"Got `batch_size` less than 1 or larger than \"\n"
     ]
    },
    {
     "name": "stdout",
     "output_type": "stream",
     "text": [
      "\t\t # hidden neurons = 6\n"
     ]
    },
    {
     "name": "stderr",
     "output_type": "stream",
     "text": [
      "C:\\Anaconda\\envs\\env_eosc510\\lib\\site-packages\\sklearn\\neural_network\\_multilayer_perceptron.py:542: UserWarning: Got `batch_size` less than 1 or larger than sample size. It is going to be clipped\n",
      "  warnings.warn(\"Got `batch_size` less than 1 or larger than \"\n"
     ]
    },
    {
     "name": "stdout",
     "output_type": "stream",
     "text": [
      "\t\t # hidden neurons = 7\n"
     ]
    },
    {
     "name": "stderr",
     "output_type": "stream",
     "text": [
      "C:\\Anaconda\\envs\\env_eosc510\\lib\\site-packages\\sklearn\\neural_network\\_multilayer_perceptron.py:542: UserWarning: Got `batch_size` less than 1 or larger than sample size. It is going to be clipped\n",
      "  warnings.warn(\"Got `batch_size` less than 1 or larger than \"\n",
      "C:\\Anaconda\\envs\\env_eosc510\\lib\\site-packages\\sklearn\\neural_network\\_multilayer_perceptron.py:542: UserWarning: Got `batch_size` less than 1 or larger than sample size. It is going to be clipped\n",
      "  warnings.warn(\"Got `batch_size` less than 1 or larger than \"\n"
     ]
    },
    {
     "name": "stdout",
     "output_type": "stream",
     "text": [
      "\t\t # hidden neurons = 8\n",
      "\t\t # hidden neurons = 9\n",
      "\t\t # hidden neurons = 10\n"
     ]
    },
    {
     "name": "stderr",
     "output_type": "stream",
     "text": [
      "C:\\Anaconda\\envs\\env_eosc510\\lib\\site-packages\\sklearn\\neural_network\\_multilayer_perceptron.py:542: UserWarning: Got `batch_size` less than 1 or larger than sample size. It is going to be clipped\n",
      "  warnings.warn(\"Got `batch_size` less than 1 or larger than \"\n",
      "C:\\Anaconda\\envs\\env_eosc510\\lib\\site-packages\\sklearn\\neural_network\\_multilayer_perceptron.py:542: UserWarning: Got `batch_size` less than 1 or larger than sample size. It is going to be clipped\n",
      "  warnings.warn(\"Got `batch_size` less than 1 or larger than \"\n"
     ]
    },
    {
     "name": "stdout",
     "output_type": "stream",
     "text": [
      "\t\t # hidden neurons = 11\n",
      "\t # Hidden Layers = 6\n",
      "\t\t # hidden neurons = 1\n"
     ]
    },
    {
     "name": "stderr",
     "output_type": "stream",
     "text": [
      "C:\\Anaconda\\envs\\env_eosc510\\lib\\site-packages\\sklearn\\neural_network\\_multilayer_perceptron.py:542: UserWarning: Got `batch_size` less than 1 or larger than sample size. It is going to be clipped\n",
      "  warnings.warn(\"Got `batch_size` less than 1 or larger than \"\n",
      "C:\\Anaconda\\envs\\env_eosc510\\lib\\site-packages\\sklearn\\neural_network\\_multilayer_perceptron.py:542: UserWarning: Got `batch_size` less than 1 or larger than sample size. It is going to be clipped\n",
      "  warnings.warn(\"Got `batch_size` less than 1 or larger than \"\n",
      "C:\\Anaconda\\envs\\env_eosc510\\lib\\site-packages\\sklearn\\neural_network\\_multilayer_perceptron.py:542: UserWarning: Got `batch_size` less than 1 or larger than sample size. It is going to be clipped\n",
      "  warnings.warn(\"Got `batch_size` less than 1 or larger than \"\n",
      "C:\\Anaconda\\envs\\env_eosc510\\lib\\site-packages\\sklearn\\neural_network\\_multilayer_perceptron.py:542: UserWarning: Got `batch_size` less than 1 or larger than sample size. It is going to be clipped\n",
      "  warnings.warn(\"Got `batch_size` less than 1 or larger than \"\n",
      "C:\\Anaconda\\envs\\env_eosc510\\lib\\site-packages\\sklearn\\neural_network\\_multilayer_perceptron.py:542: UserWarning: Got `batch_size` less than 1 or larger than sample size. It is going to be clipped\n",
      "  warnings.warn(\"Got `batch_size` less than 1 or larger than \"\n"
     ]
    },
    {
     "name": "stdout",
     "output_type": "stream",
     "text": [
      "\t\t # hidden neurons = 2\n",
      "\t\t # hidden neurons = 3\n",
      "\t\t # hidden neurons = 4\n"
     ]
    },
    {
     "name": "stderr",
     "output_type": "stream",
     "text": [
      "C:\\Anaconda\\envs\\env_eosc510\\lib\\site-packages\\sklearn\\neural_network\\_multilayer_perceptron.py:614: ConvergenceWarning: Stochastic Optimizer: Maximum iterations (3000) reached and the optimization hasn't converged yet.\n",
      "  warnings.warn(\n",
      "C:\\Anaconda\\envs\\env_eosc510\\lib\\site-packages\\sklearn\\neural_network\\_multilayer_perceptron.py:542: UserWarning: Got `batch_size` less than 1 or larger than sample size. It is going to be clipped\n",
      "  warnings.warn(\"Got `batch_size` less than 1 or larger than \"\n",
      "C:\\Anaconda\\envs\\env_eosc510\\lib\\site-packages\\sklearn\\neural_network\\_multilayer_perceptron.py:542: UserWarning: Got `batch_size` less than 1 or larger than sample size. It is going to be clipped\n",
      "  warnings.warn(\"Got `batch_size` less than 1 or larger than \"\n"
     ]
    },
    {
     "name": "stdout",
     "output_type": "stream",
     "text": [
      "\t\t # hidden neurons = 5\n",
      "\t\t # hidden neurons = 6\n",
      "\t\t # hidden neurons = 7\n",
      "\t\t # hidden neurons = 8\n"
     ]
    },
    {
     "name": "stderr",
     "output_type": "stream",
     "text": [
      "C:\\Anaconda\\envs\\env_eosc510\\lib\\site-packages\\sklearn\\neural_network\\_multilayer_perceptron.py:542: UserWarning: Got `batch_size` less than 1 or larger than sample size. It is going to be clipped\n",
      "  warnings.warn(\"Got `batch_size` less than 1 or larger than \"\n",
      "C:\\Anaconda\\envs\\env_eosc510\\lib\\site-packages\\sklearn\\neural_network\\_multilayer_perceptron.py:542: UserWarning: Got `batch_size` less than 1 or larger than sample size. It is going to be clipped\n",
      "  warnings.warn(\"Got `batch_size` less than 1 or larger than \"\n"
     ]
    },
    {
     "name": "stdout",
     "output_type": "stream",
     "text": [
      "\t\t # hidden neurons = 9\n"
     ]
    },
    {
     "name": "stderr",
     "output_type": "stream",
     "text": [
      "C:\\Anaconda\\envs\\env_eosc510\\lib\\site-packages\\sklearn\\neural_network\\_multilayer_perceptron.py:542: UserWarning: Got `batch_size` less than 1 or larger than sample size. It is going to be clipped\n",
      "  warnings.warn(\"Got `batch_size` less than 1 or larger than \"\n"
     ]
    },
    {
     "name": "stdout",
     "output_type": "stream",
     "text": [
      "\t\t # hidden neurons = 10\n",
      "\t\t # hidden neurons = 11\n"
     ]
    },
    {
     "name": "stderr",
     "output_type": "stream",
     "text": [
      "C:\\Anaconda\\envs\\env_eosc510\\lib\\site-packages\\sklearn\\neural_network\\_multilayer_perceptron.py:542: UserWarning: Got `batch_size` less than 1 or larger than sample size. It is going to be clipped\n",
      "  warnings.warn(\"Got `batch_size` less than 1 or larger than \"\n",
      "C:\\Anaconda\\envs\\env_eosc510\\lib\\site-packages\\sklearn\\neural_network\\_multilayer_perceptron.py:542: UserWarning: Got `batch_size` less than 1 or larger than sample size. It is going to be clipped\n",
      "  warnings.warn(\"Got `batch_size` less than 1 or larger than \"\n"
     ]
    },
    {
     "name": "stdout",
     "output_type": "stream",
     "text": [
      "\t # Hidden Layers = 7\n",
      "\t\t # hidden neurons = 1\n"
     ]
    },
    {
     "name": "stderr",
     "output_type": "stream",
     "text": [
      "C:\\Anaconda\\envs\\env_eosc510\\lib\\site-packages\\sklearn\\neural_network\\_multilayer_perceptron.py:542: UserWarning: Got `batch_size` less than 1 or larger than sample size. It is going to be clipped\n",
      "  warnings.warn(\"Got `batch_size` less than 1 or larger than \"\n",
      "C:\\Anaconda\\envs\\env_eosc510\\lib\\site-packages\\sklearn\\neural_network\\_multilayer_perceptron.py:614: ConvergenceWarning: Stochastic Optimizer: Maximum iterations (3000) reached and the optimization hasn't converged yet.\n",
      "  warnings.warn(\n",
      "C:\\Anaconda\\envs\\env_eosc510\\lib\\site-packages\\sklearn\\neural_network\\_multilayer_perceptron.py:542: UserWarning: Got `batch_size` less than 1 or larger than sample size. It is going to be clipped\n",
      "  warnings.warn(\"Got `batch_size` less than 1 or larger than \"\n",
      "C:\\Anaconda\\envs\\env_eosc510\\lib\\site-packages\\sklearn\\neural_network\\_multilayer_perceptron.py:542: UserWarning: Got `batch_size` less than 1 or larger than sample size. It is going to be clipped\n",
      "  warnings.warn(\"Got `batch_size` less than 1 or larger than \"\n"
     ]
    },
    {
     "name": "stdout",
     "output_type": "stream",
     "text": [
      "\t\t # hidden neurons = 2\n",
      "\t\t # hidden neurons = 3\n",
      "\t\t # hidden neurons = 4\n"
     ]
    },
    {
     "name": "stderr",
     "output_type": "stream",
     "text": [
      "C:\\Anaconda\\envs\\env_eosc510\\lib\\site-packages\\sklearn\\neural_network\\_multilayer_perceptron.py:542: UserWarning: Got `batch_size` less than 1 or larger than sample size. It is going to be clipped\n",
      "  warnings.warn(\"Got `batch_size` less than 1 or larger than \"\n",
      "C:\\Anaconda\\envs\\env_eosc510\\lib\\site-packages\\sklearn\\neural_network\\_multilayer_perceptron.py:542: UserWarning: Got `batch_size` less than 1 or larger than sample size. It is going to be clipped\n",
      "  warnings.warn(\"Got `batch_size` less than 1 or larger than \"\n"
     ]
    },
    {
     "name": "stdout",
     "output_type": "stream",
     "text": [
      "\t\t # hidden neurons = 5\n",
      "\t\t # hidden neurons = 6\n"
     ]
    },
    {
     "name": "stderr",
     "output_type": "stream",
     "text": [
      "C:\\Anaconda\\envs\\env_eosc510\\lib\\site-packages\\sklearn\\neural_network\\_multilayer_perceptron.py:542: UserWarning: Got `batch_size` less than 1 or larger than sample size. It is going to be clipped\n",
      "  warnings.warn(\"Got `batch_size` less than 1 or larger than \"\n"
     ]
    },
    {
     "name": "stdout",
     "output_type": "stream",
     "text": [
      "\t\t # hidden neurons = 7\n"
     ]
    },
    {
     "name": "stderr",
     "output_type": "stream",
     "text": [
      "C:\\Anaconda\\envs\\env_eosc510\\lib\\site-packages\\sklearn\\neural_network\\_multilayer_perceptron.py:542: UserWarning: Got `batch_size` less than 1 or larger than sample size. It is going to be clipped\n",
      "  warnings.warn(\"Got `batch_size` less than 1 or larger than \"\n"
     ]
    },
    {
     "name": "stdout",
     "output_type": "stream",
     "text": [
      "\t\t # hidden neurons = 8\n",
      "\t\t # hidden neurons = 9\n"
     ]
    },
    {
     "name": "stderr",
     "output_type": "stream",
     "text": [
      "C:\\Anaconda\\envs\\env_eosc510\\lib\\site-packages\\sklearn\\neural_network\\_multilayer_perceptron.py:542: UserWarning: Got `batch_size` less than 1 or larger than sample size. It is going to be clipped\n",
      "  warnings.warn(\"Got `batch_size` less than 1 or larger than \"\n",
      "C:\\Anaconda\\envs\\env_eosc510\\lib\\site-packages\\sklearn\\neural_network\\_multilayer_perceptron.py:542: UserWarning: Got `batch_size` less than 1 or larger than sample size. It is going to be clipped\n",
      "  warnings.warn(\"Got `batch_size` less than 1 or larger than \"\n"
     ]
    },
    {
     "name": "stdout",
     "output_type": "stream",
     "text": [
      "\t\t # hidden neurons = 10\n",
      "\t\t # hidden neurons = 11\n"
     ]
    },
    {
     "name": "stderr",
     "output_type": "stream",
     "text": [
      "C:\\Anaconda\\envs\\env_eosc510\\lib\\site-packages\\sklearn\\neural_network\\_multilayer_perceptron.py:542: UserWarning: Got `batch_size` less than 1 or larger than sample size. It is going to be clipped\n",
      "  warnings.warn(\"Got `batch_size` less than 1 or larger than \"\n",
      "C:\\Anaconda\\envs\\env_eosc510\\lib\\site-packages\\sklearn\\neural_network\\_multilayer_perceptron.py:542: UserWarning: Got `batch_size` less than 1 or larger than sample size. It is going to be clipped\n",
      "  warnings.warn(\"Got `batch_size` less than 1 or larger than \"\n"
     ]
    },
    {
     "name": "stdout",
     "output_type": "stream",
     "text": [
      "\t # Hidden Layers = 8\n",
      "\t\t # hidden neurons = 1\n",
      "\t\t # hidden neurons = 2\n"
     ]
    },
    {
     "name": "stderr",
     "output_type": "stream",
     "text": [
      "C:\\Anaconda\\envs\\env_eosc510\\lib\\site-packages\\sklearn\\neural_network\\_multilayer_perceptron.py:542: UserWarning: Got `batch_size` less than 1 or larger than sample size. It is going to be clipped\n",
      "  warnings.warn(\"Got `batch_size` less than 1 or larger than \"\n",
      "C:\\Anaconda\\envs\\env_eosc510\\lib\\site-packages\\sklearn\\neural_network\\_multilayer_perceptron.py:542: UserWarning: Got `batch_size` less than 1 or larger than sample size. It is going to be clipped\n",
      "  warnings.warn(\"Got `batch_size` less than 1 or larger than \"\n"
     ]
    },
    {
     "name": "stdout",
     "output_type": "stream",
     "text": [
      "\t\t # hidden neurons = 3\n"
     ]
    },
    {
     "name": "stderr",
     "output_type": "stream",
     "text": [
      "C:\\Anaconda\\envs\\env_eosc510\\lib\\site-packages\\sklearn\\neural_network\\_multilayer_perceptron.py:542: UserWarning: Got `batch_size` less than 1 or larger than sample size. It is going to be clipped\n",
      "  warnings.warn(\"Got `batch_size` less than 1 or larger than \"\n"
     ]
    },
    {
     "name": "stdout",
     "output_type": "stream",
     "text": [
      "\t\t # hidden neurons = 4\n"
     ]
    },
    {
     "name": "stderr",
     "output_type": "stream",
     "text": [
      "C:\\Anaconda\\envs\\env_eosc510\\lib\\site-packages\\sklearn\\neural_network\\_multilayer_perceptron.py:542: UserWarning: Got `batch_size` less than 1 or larger than sample size. It is going to be clipped\n",
      "  warnings.warn(\"Got `batch_size` less than 1 or larger than \"\n"
     ]
    },
    {
     "name": "stdout",
     "output_type": "stream",
     "text": [
      "\t\t # hidden neurons = 5\n"
     ]
    },
    {
     "name": "stderr",
     "output_type": "stream",
     "text": [
      "C:\\Anaconda\\envs\\env_eosc510\\lib\\site-packages\\sklearn\\neural_network\\_multilayer_perceptron.py:542: UserWarning: Got `batch_size` less than 1 or larger than sample size. It is going to be clipped\n",
      "  warnings.warn(\"Got `batch_size` less than 1 or larger than \"\n"
     ]
    },
    {
     "name": "stdout",
     "output_type": "stream",
     "text": [
      "\t\t # hidden neurons = 6\n",
      "\t\t # hidden neurons = 7\n"
     ]
    },
    {
     "name": "stderr",
     "output_type": "stream",
     "text": [
      "C:\\Anaconda\\envs\\env_eosc510\\lib\\site-packages\\sklearn\\neural_network\\_multilayer_perceptron.py:542: UserWarning: Got `batch_size` less than 1 or larger than sample size. It is going to be clipped\n",
      "  warnings.warn(\"Got `batch_size` less than 1 or larger than \"\n",
      "C:\\Anaconda\\envs\\env_eosc510\\lib\\site-packages\\sklearn\\neural_network\\_multilayer_perceptron.py:542: UserWarning: Got `batch_size` less than 1 or larger than sample size. It is going to be clipped\n",
      "  warnings.warn(\"Got `batch_size` less than 1 or larger than \"\n"
     ]
    },
    {
     "name": "stdout",
     "output_type": "stream",
     "text": [
      "\t\t # hidden neurons = 8\n",
      "\t\t # hidden neurons = 9\n"
     ]
    },
    {
     "name": "stderr",
     "output_type": "stream",
     "text": [
      "C:\\Anaconda\\envs\\env_eosc510\\lib\\site-packages\\sklearn\\neural_network\\_multilayer_perceptron.py:542: UserWarning: Got `batch_size` less than 1 or larger than sample size. It is going to be clipped\n",
      "  warnings.warn(\"Got `batch_size` less than 1 or larger than \"\n",
      "C:\\Anaconda\\envs\\env_eosc510\\lib\\site-packages\\sklearn\\neural_network\\_multilayer_perceptron.py:542: UserWarning: Got `batch_size` less than 1 or larger than sample size. It is going to be clipped\n",
      "  warnings.warn(\"Got `batch_size` less than 1 or larger than \"\n",
      "C:\\Anaconda\\envs\\env_eosc510\\lib\\site-packages\\sklearn\\neural_network\\_multilayer_perceptron.py:542: UserWarning: Got `batch_size` less than 1 or larger than sample size. It is going to be clipped\n",
      "  warnings.warn(\"Got `batch_size` less than 1 or larger than \"\n"
     ]
    },
    {
     "name": "stdout",
     "output_type": "stream",
     "text": [
      "\t\t # hidden neurons = 10\n",
      "\t\t # hidden neurons = 11\n",
      "\t BEST: 7 hidden layers, 1 hidden neurons\n",
      "Model Number: 6\n",
      "\t # Hidden Layers = 1\n",
      "\t\t # hidden neurons = 1\n"
     ]
    },
    {
     "name": "stderr",
     "output_type": "stream",
     "text": [
      "C:\\Anaconda\\envs\\env_eosc510\\lib\\site-packages\\sklearn\\neural_network\\_multilayer_perceptron.py:542: UserWarning: Got `batch_size` less than 1 or larger than sample size. It is going to be clipped\n",
      "  warnings.warn(\"Got `batch_size` less than 1 or larger than \"\n",
      "C:\\Anaconda\\envs\\env_eosc510\\lib\\site-packages\\sklearn\\neural_network\\_multilayer_perceptron.py:542: UserWarning: Got `batch_size` less than 1 or larger than sample size. It is going to be clipped\n",
      "  warnings.warn(\"Got `batch_size` less than 1 or larger than \"\n",
      "C:\\Anaconda\\envs\\env_eosc510\\lib\\site-packages\\sklearn\\neural_network\\_multilayer_perceptron.py:542: UserWarning: Got `batch_size` less than 1 or larger than sample size. It is going to be clipped\n",
      "  warnings.warn(\"Got `batch_size` less than 1 or larger than \"\n",
      "C:\\Anaconda\\envs\\env_eosc510\\lib\\site-packages\\sklearn\\neural_network\\_multilayer_perceptron.py:542: UserWarning: Got `batch_size` less than 1 or larger than sample size. It is going to be clipped\n",
      "  warnings.warn(\"Got `batch_size` less than 1 or larger than \"\n",
      "C:\\Anaconda\\envs\\env_eosc510\\lib\\site-packages\\sklearn\\neural_network\\_multilayer_perceptron.py:542: UserWarning: Got `batch_size` less than 1 or larger than sample size. It is going to be clipped\n",
      "  warnings.warn(\"Got `batch_size` less than 1 or larger than \"\n",
      "C:\\Anaconda\\envs\\env_eosc510\\lib\\site-packages\\sklearn\\neural_network\\_multilayer_perceptron.py:542: UserWarning: Got `batch_size` less than 1 or larger than sample size. It is going to be clipped\n",
      "  warnings.warn(\"Got `batch_size` less than 1 or larger than \"\n"
     ]
    },
    {
     "name": "stdout",
     "output_type": "stream",
     "text": [
      "\t\t # hidden neurons = 2\n",
      "\t\t # hidden neurons = 3\n",
      "\t\t # hidden neurons = 4\n",
      "\t\t # hidden neurons = 5\n",
      "\t\t # hidden neurons = 6\n",
      "\t\t # hidden neurons = 7\n",
      "\t\t # hidden neurons = 8\n"
     ]
    },
    {
     "name": "stderr",
     "output_type": "stream",
     "text": [
      "C:\\Anaconda\\envs\\env_eosc510\\lib\\site-packages\\sklearn\\neural_network\\_multilayer_perceptron.py:542: UserWarning: Got `batch_size` less than 1 or larger than sample size. It is going to be clipped\n",
      "  warnings.warn(\"Got `batch_size` less than 1 or larger than \"\n",
      "C:\\Anaconda\\envs\\env_eosc510\\lib\\site-packages\\sklearn\\neural_network\\_multilayer_perceptron.py:542: UserWarning: Got `batch_size` less than 1 or larger than sample size. It is going to be clipped\n",
      "  warnings.warn(\"Got `batch_size` less than 1 or larger than \"\n",
      "C:\\Anaconda\\envs\\env_eosc510\\lib\\site-packages\\sklearn\\neural_network\\_multilayer_perceptron.py:542: UserWarning: Got `batch_size` less than 1 or larger than sample size. It is going to be clipped\n",
      "  warnings.warn(\"Got `batch_size` less than 1 or larger than \"\n"
     ]
    },
    {
     "name": "stdout",
     "output_type": "stream",
     "text": [
      "\t\t # hidden neurons = 9\n",
      "\t\t # hidden neurons = 10\n",
      "\t\t # hidden neurons = 11\n",
      "\t # Hidden Layers = 2\n",
      "\t\t # hidden neurons = 1\n",
      "\t\t # hidden neurons = 2\n",
      "\t\t # hidden neurons = 3\n"
     ]
    },
    {
     "name": "stderr",
     "output_type": "stream",
     "text": [
      "C:\\Anaconda\\envs\\env_eosc510\\lib\\site-packages\\sklearn\\neural_network\\_multilayer_perceptron.py:542: UserWarning: Got `batch_size` less than 1 or larger than sample size. It is going to be clipped\n",
      "  warnings.warn(\"Got `batch_size` less than 1 or larger than \"\n",
      "C:\\Anaconda\\envs\\env_eosc510\\lib\\site-packages\\sklearn\\neural_network\\_multilayer_perceptron.py:542: UserWarning: Got `batch_size` less than 1 or larger than sample size. It is going to be clipped\n",
      "  warnings.warn(\"Got `batch_size` less than 1 or larger than \"\n",
      "C:\\Anaconda\\envs\\env_eosc510\\lib\\site-packages\\sklearn\\neural_network\\_multilayer_perceptron.py:542: UserWarning: Got `batch_size` less than 1 or larger than sample size. It is going to be clipped\n",
      "  warnings.warn(\"Got `batch_size` less than 1 or larger than \"\n",
      "C:\\Anaconda\\envs\\env_eosc510\\lib\\site-packages\\sklearn\\neural_network\\_multilayer_perceptron.py:542: UserWarning: Got `batch_size` less than 1 or larger than sample size. It is going to be clipped\n",
      "  warnings.warn(\"Got `batch_size` less than 1 or larger than \"\n",
      "C:\\Anaconda\\envs\\env_eosc510\\lib\\site-packages\\sklearn\\neural_network\\_multilayer_perceptron.py:542: UserWarning: Got `batch_size` less than 1 or larger than sample size. It is going to be clipped\n",
      "  warnings.warn(\"Got `batch_size` less than 1 or larger than \"\n",
      "C:\\Anaconda\\envs\\env_eosc510\\lib\\site-packages\\sklearn\\neural_network\\_multilayer_perceptron.py:542: UserWarning: Got `batch_size` less than 1 or larger than sample size. It is going to be clipped\n",
      "  warnings.warn(\"Got `batch_size` less than 1 or larger than \"\n"
     ]
    },
    {
     "name": "stdout",
     "output_type": "stream",
     "text": [
      "\t\t # hidden neurons = 4\n"
     ]
    },
    {
     "name": "stderr",
     "output_type": "stream",
     "text": [
      "C:\\Anaconda\\envs\\env_eosc510\\lib\\site-packages\\sklearn\\neural_network\\_multilayer_perceptron.py:542: UserWarning: Got `batch_size` less than 1 or larger than sample size. It is going to be clipped\n",
      "  warnings.warn(\"Got `batch_size` less than 1 or larger than \"\n"
     ]
    },
    {
     "name": "stdout",
     "output_type": "stream",
     "text": [
      "\t\t # hidden neurons = 5\n",
      "\t\t # hidden neurons = 6\n"
     ]
    },
    {
     "name": "stderr",
     "output_type": "stream",
     "text": [
      "C:\\Anaconda\\envs\\env_eosc510\\lib\\site-packages\\sklearn\\neural_network\\_multilayer_perceptron.py:542: UserWarning: Got `batch_size` less than 1 or larger than sample size. It is going to be clipped\n",
      "  warnings.warn(\"Got `batch_size` less than 1 or larger than \"\n",
      "C:\\Anaconda\\envs\\env_eosc510\\lib\\site-packages\\sklearn\\neural_network\\_multilayer_perceptron.py:542: UserWarning: Got `batch_size` less than 1 or larger than sample size. It is going to be clipped\n",
      "  warnings.warn(\"Got `batch_size` less than 1 or larger than \"\n"
     ]
    },
    {
     "name": "stdout",
     "output_type": "stream",
     "text": [
      "\t\t # hidden neurons = 7\n",
      "\t\t # hidden neurons = 8\n",
      "\t\t # hidden neurons = 9\n"
     ]
    },
    {
     "name": "stderr",
     "output_type": "stream",
     "text": [
      "C:\\Anaconda\\envs\\env_eosc510\\lib\\site-packages\\sklearn\\neural_network\\_multilayer_perceptron.py:542: UserWarning: Got `batch_size` less than 1 or larger than sample size. It is going to be clipped\n",
      "  warnings.warn(\"Got `batch_size` less than 1 or larger than \"\n",
      "C:\\Anaconda\\envs\\env_eosc510\\lib\\site-packages\\sklearn\\neural_network\\_multilayer_perceptron.py:542: UserWarning: Got `batch_size` less than 1 or larger than sample size. It is going to be clipped\n",
      "  warnings.warn(\"Got `batch_size` less than 1 or larger than \"\n",
      "C:\\Anaconda\\envs\\env_eosc510\\lib\\site-packages\\sklearn\\neural_network\\_multilayer_perceptron.py:542: UserWarning: Got `batch_size` less than 1 or larger than sample size. It is going to be clipped\n",
      "  warnings.warn(\"Got `batch_size` less than 1 or larger than \"\n"
     ]
    },
    {
     "name": "stdout",
     "output_type": "stream",
     "text": [
      "\t\t # hidden neurons = 10\n",
      "\t\t # hidden neurons = 11\n",
      "\t # Hidden Layers = 3\n",
      "\t\t # hidden neurons = 1\n",
      "\t\t # hidden neurons = 2\n",
      "\t\t # hidden neurons = 3\n"
     ]
    },
    {
     "name": "stderr",
     "output_type": "stream",
     "text": [
      "C:\\Anaconda\\envs\\env_eosc510\\lib\\site-packages\\sklearn\\neural_network\\_multilayer_perceptron.py:542: UserWarning: Got `batch_size` less than 1 or larger than sample size. It is going to be clipped\n",
      "  warnings.warn(\"Got `batch_size` less than 1 or larger than \"\n",
      "C:\\Anaconda\\envs\\env_eosc510\\lib\\site-packages\\sklearn\\neural_network\\_multilayer_perceptron.py:542: UserWarning: Got `batch_size` less than 1 or larger than sample size. It is going to be clipped\n",
      "  warnings.warn(\"Got `batch_size` less than 1 or larger than \"\n",
      "C:\\Anaconda\\envs\\env_eosc510\\lib\\site-packages\\sklearn\\neural_network\\_multilayer_perceptron.py:542: UserWarning: Got `batch_size` less than 1 or larger than sample size. It is going to be clipped\n",
      "  warnings.warn(\"Got `batch_size` less than 1 or larger than \"\n",
      "C:\\Anaconda\\envs\\env_eosc510\\lib\\site-packages\\sklearn\\neural_network\\_multilayer_perceptron.py:542: UserWarning: Got `batch_size` less than 1 or larger than sample size. It is going to be clipped\n",
      "  warnings.warn(\"Got `batch_size` less than 1 or larger than \"\n",
      "C:\\Anaconda\\envs\\env_eosc510\\lib\\site-packages\\sklearn\\neural_network\\_multilayer_perceptron.py:542: UserWarning: Got `batch_size` less than 1 or larger than sample size. It is going to be clipped\n",
      "  warnings.warn(\"Got `batch_size` less than 1 or larger than \"\n"
     ]
    },
    {
     "name": "stdout",
     "output_type": "stream",
     "text": [
      "\t\t # hidden neurons = 4\n",
      "\t\t # hidden neurons = 5\n",
      "\t\t # hidden neurons = 6\n",
      "\t\t # hidden neurons = 7\n"
     ]
    },
    {
     "name": "stderr",
     "output_type": "stream",
     "text": [
      "C:\\Anaconda\\envs\\env_eosc510\\lib\\site-packages\\sklearn\\neural_network\\_multilayer_perceptron.py:542: UserWarning: Got `batch_size` less than 1 or larger than sample size. It is going to be clipped\n",
      "  warnings.warn(\"Got `batch_size` less than 1 or larger than \"\n",
      "C:\\Anaconda\\envs\\env_eosc510\\lib\\site-packages\\sklearn\\neural_network\\_multilayer_perceptron.py:542: UserWarning: Got `batch_size` less than 1 or larger than sample size. It is going to be clipped\n",
      "  warnings.warn(\"Got `batch_size` less than 1 or larger than \"\n",
      "C:\\Anaconda\\envs\\env_eosc510\\lib\\site-packages\\sklearn\\neural_network\\_multilayer_perceptron.py:542: UserWarning: Got `batch_size` less than 1 or larger than sample size. It is going to be clipped\n",
      "  warnings.warn(\"Got `batch_size` less than 1 or larger than \"\n",
      "C:\\Anaconda\\envs\\env_eosc510\\lib\\site-packages\\sklearn\\neural_network\\_multilayer_perceptron.py:542: UserWarning: Got `batch_size` less than 1 or larger than sample size. It is going to be clipped\n",
      "  warnings.warn(\"Got `batch_size` less than 1 or larger than \"\n"
     ]
    },
    {
     "name": "stdout",
     "output_type": "stream",
     "text": [
      "\t\t # hidden neurons = 8\n",
      "\t\t # hidden neurons = 9\n",
      "\t\t # hidden neurons = 10\n"
     ]
    },
    {
     "name": "stderr",
     "output_type": "stream",
     "text": [
      "C:\\Anaconda\\envs\\env_eosc510\\lib\\site-packages\\sklearn\\neural_network\\_multilayer_perceptron.py:542: UserWarning: Got `batch_size` less than 1 or larger than sample size. It is going to be clipped\n",
      "  warnings.warn(\"Got `batch_size` less than 1 or larger than \"\n",
      "C:\\Anaconda\\envs\\env_eosc510\\lib\\site-packages\\sklearn\\neural_network\\_multilayer_perceptron.py:542: UserWarning: Got `batch_size` less than 1 or larger than sample size. It is going to be clipped\n",
      "  warnings.warn(\"Got `batch_size` less than 1 or larger than \"\n",
      "C:\\Anaconda\\envs\\env_eosc510\\lib\\site-packages\\sklearn\\neural_network\\_multilayer_perceptron.py:542: UserWarning: Got `batch_size` less than 1 or larger than sample size. It is going to be clipped\n",
      "  warnings.warn(\"Got `batch_size` less than 1 or larger than \"\n",
      "C:\\Anaconda\\envs\\env_eosc510\\lib\\site-packages\\sklearn\\neural_network\\_multilayer_perceptron.py:614: ConvergenceWarning: Stochastic Optimizer: Maximum iterations (3000) reached and the optimization hasn't converged yet.\n",
      "  warnings.warn(\n",
      "C:\\Anaconda\\envs\\env_eosc510\\lib\\site-packages\\sklearn\\neural_network\\_multilayer_perceptron.py:542: UserWarning: Got `batch_size` less than 1 or larger than sample size. It is going to be clipped\n",
      "  warnings.warn(\"Got `batch_size` less than 1 or larger than \"\n",
      "C:\\Anaconda\\envs\\env_eosc510\\lib\\site-packages\\sklearn\\neural_network\\_multilayer_perceptron.py:542: UserWarning: Got `batch_size` less than 1 or larger than sample size. It is going to be clipped\n",
      "  warnings.warn(\"Got `batch_size` less than 1 or larger than \"\n",
      "C:\\Anaconda\\envs\\env_eosc510\\lib\\site-packages\\sklearn\\neural_network\\_multilayer_perceptron.py:542: UserWarning: Got `batch_size` less than 1 or larger than sample size. It is going to be clipped\n",
      "  warnings.warn(\"Got `batch_size` less than 1 or larger than \"\n",
      "C:\\Anaconda\\envs\\env_eosc510\\lib\\site-packages\\sklearn\\neural_network\\_multilayer_perceptron.py:542: UserWarning: Got `batch_size` less than 1 or larger than sample size. It is going to be clipped\n",
      "  warnings.warn(\"Got `batch_size` less than 1 or larger than \"\n",
      "C:\\Anaconda\\envs\\env_eosc510\\lib\\site-packages\\sklearn\\neural_network\\_multilayer_perceptron.py:542: UserWarning: Got `batch_size` less than 1 or larger than sample size. It is going to be clipped\n",
      "  warnings.warn(\"Got `batch_size` less than 1 or larger than \"\n"
     ]
    },
    {
     "name": "stdout",
     "output_type": "stream",
     "text": [
      "\t\t # hidden neurons = 11\n",
      "\t # Hidden Layers = 4\n",
      "\t\t # hidden neurons = 1\n",
      "\t\t # hidden neurons = 2\n",
      "\t\t # hidden neurons = 3\n",
      "\t\t # hidden neurons = 4\n",
      "\t\t # hidden neurons = 5\n",
      "\t\t # hidden neurons = 6\n"
     ]
    },
    {
     "name": "stderr",
     "output_type": "stream",
     "text": [
      "C:\\Anaconda\\envs\\env_eosc510\\lib\\site-packages\\sklearn\\neural_network\\_multilayer_perceptron.py:542: UserWarning: Got `batch_size` less than 1 or larger than sample size. It is going to be clipped\n",
      "  warnings.warn(\"Got `batch_size` less than 1 or larger than \"\n",
      "C:\\Anaconda\\envs\\env_eosc510\\lib\\site-packages\\sklearn\\neural_network\\_multilayer_perceptron.py:542: UserWarning: Got `batch_size` less than 1 or larger than sample size. It is going to be clipped\n",
      "  warnings.warn(\"Got `batch_size` less than 1 or larger than \"\n"
     ]
    },
    {
     "name": "stdout",
     "output_type": "stream",
     "text": [
      "\t\t # hidden neurons = 7\n",
      "\t\t # hidden neurons = 8\n"
     ]
    },
    {
     "name": "stderr",
     "output_type": "stream",
     "text": [
      "C:\\Anaconda\\envs\\env_eosc510\\lib\\site-packages\\sklearn\\neural_network\\_multilayer_perceptron.py:542: UserWarning: Got `batch_size` less than 1 or larger than sample size. It is going to be clipped\n",
      "  warnings.warn(\"Got `batch_size` less than 1 or larger than \"\n",
      "C:\\Anaconda\\envs\\env_eosc510\\lib\\site-packages\\sklearn\\neural_network\\_multilayer_perceptron.py:542: UserWarning: Got `batch_size` less than 1 or larger than sample size. It is going to be clipped\n",
      "  warnings.warn(\"Got `batch_size` less than 1 or larger than \"\n"
     ]
    },
    {
     "name": "stdout",
     "output_type": "stream",
     "text": [
      "\t\t # hidden neurons = 9\n",
      "\t\t # hidden neurons = 10\n"
     ]
    },
    {
     "name": "stderr",
     "output_type": "stream",
     "text": [
      "C:\\Anaconda\\envs\\env_eosc510\\lib\\site-packages\\sklearn\\neural_network\\_multilayer_perceptron.py:542: UserWarning: Got `batch_size` less than 1 or larger than sample size. It is going to be clipped\n",
      "  warnings.warn(\"Got `batch_size` less than 1 or larger than \"\n",
      "C:\\Anaconda\\envs\\env_eosc510\\lib\\site-packages\\sklearn\\neural_network\\_multilayer_perceptron.py:542: UserWarning: Got `batch_size` less than 1 or larger than sample size. It is going to be clipped\n",
      "  warnings.warn(\"Got `batch_size` less than 1 or larger than \"\n"
     ]
    },
    {
     "name": "stdout",
     "output_type": "stream",
     "text": [
      "\t\t # hidden neurons = 11\n"
     ]
    },
    {
     "name": "stderr",
     "output_type": "stream",
     "text": [
      "C:\\Anaconda\\envs\\env_eosc510\\lib\\site-packages\\sklearn\\neural_network\\_multilayer_perceptron.py:542: UserWarning: Got `batch_size` less than 1 or larger than sample size. It is going to be clipped\n",
      "  warnings.warn(\"Got `batch_size` less than 1 or larger than \"\n"
     ]
    },
    {
     "name": "stdout",
     "output_type": "stream",
     "text": [
      "\t # Hidden Layers = 5\n",
      "\t\t # hidden neurons = 1\n",
      "\t\t # hidden neurons = 2\n",
      "\t\t # hidden neurons = 3\n"
     ]
    },
    {
     "name": "stderr",
     "output_type": "stream",
     "text": [
      "C:\\Anaconda\\envs\\env_eosc510\\lib\\site-packages\\sklearn\\neural_network\\_multilayer_perceptron.py:542: UserWarning: Got `batch_size` less than 1 or larger than sample size. It is going to be clipped\n",
      "  warnings.warn(\"Got `batch_size` less than 1 or larger than \"\n",
      "C:\\Anaconda\\envs\\env_eosc510\\lib\\site-packages\\sklearn\\neural_network\\_multilayer_perceptron.py:542: UserWarning: Got `batch_size` less than 1 or larger than sample size. It is going to be clipped\n",
      "  warnings.warn(\"Got `batch_size` less than 1 or larger than \"\n",
      "C:\\Anaconda\\envs\\env_eosc510\\lib\\site-packages\\sklearn\\neural_network\\_multilayer_perceptron.py:542: UserWarning: Got `batch_size` less than 1 or larger than sample size. It is going to be clipped\n",
      "  warnings.warn(\"Got `batch_size` less than 1 or larger than \"\n"
     ]
    },
    {
     "name": "stdout",
     "output_type": "stream",
     "text": [
      "\t\t # hidden neurons = 4\n",
      "\t\t # hidden neurons = 5\n"
     ]
    },
    {
     "name": "stderr",
     "output_type": "stream",
     "text": [
      "C:\\Anaconda\\envs\\env_eosc510\\lib\\site-packages\\sklearn\\neural_network\\_multilayer_perceptron.py:542: UserWarning: Got `batch_size` less than 1 or larger than sample size. It is going to be clipped\n",
      "  warnings.warn(\"Got `batch_size` less than 1 or larger than \"\n",
      "C:\\Anaconda\\envs\\env_eosc510\\lib\\site-packages\\sklearn\\neural_network\\_multilayer_perceptron.py:542: UserWarning: Got `batch_size` less than 1 or larger than sample size. It is going to be clipped\n",
      "  warnings.warn(\"Got `batch_size` less than 1 or larger than \"\n"
     ]
    },
    {
     "name": "stdout",
     "output_type": "stream",
     "text": [
      "\t\t # hidden neurons = 6\n"
     ]
    },
    {
     "name": "stderr",
     "output_type": "stream",
     "text": [
      "C:\\Anaconda\\envs\\env_eosc510\\lib\\site-packages\\sklearn\\neural_network\\_multilayer_perceptron.py:542: UserWarning: Got `batch_size` less than 1 or larger than sample size. It is going to be clipped\n",
      "  warnings.warn(\"Got `batch_size` less than 1 or larger than \"\n"
     ]
    },
    {
     "name": "stdout",
     "output_type": "stream",
     "text": [
      "\t\t # hidden neurons = 7\n",
      "\t\t # hidden neurons = 8\n"
     ]
    },
    {
     "name": "stderr",
     "output_type": "stream",
     "text": [
      "C:\\Anaconda\\envs\\env_eosc510\\lib\\site-packages\\sklearn\\neural_network\\_multilayer_perceptron.py:542: UserWarning: Got `batch_size` less than 1 or larger than sample size. It is going to be clipped\n",
      "  warnings.warn(\"Got `batch_size` less than 1 or larger than \"\n",
      "C:\\Anaconda\\envs\\env_eosc510\\lib\\site-packages\\sklearn\\neural_network\\_multilayer_perceptron.py:542: UserWarning: Got `batch_size` less than 1 or larger than sample size. It is going to be clipped\n",
      "  warnings.warn(\"Got `batch_size` less than 1 or larger than \"\n"
     ]
    },
    {
     "name": "stdout",
     "output_type": "stream",
     "text": [
      "\t\t # hidden neurons = 9\n",
      "\t\t # hidden neurons = 10\n"
     ]
    },
    {
     "name": "stderr",
     "output_type": "stream",
     "text": [
      "C:\\Anaconda\\envs\\env_eosc510\\lib\\site-packages\\sklearn\\neural_network\\_multilayer_perceptron.py:542: UserWarning: Got `batch_size` less than 1 or larger than sample size. It is going to be clipped\n",
      "  warnings.warn(\"Got `batch_size` less than 1 or larger than \"\n",
      "C:\\Anaconda\\envs\\env_eosc510\\lib\\site-packages\\sklearn\\neural_network\\_multilayer_perceptron.py:542: UserWarning: Got `batch_size` less than 1 or larger than sample size. It is going to be clipped\n",
      "  warnings.warn(\"Got `batch_size` less than 1 or larger than \"\n"
     ]
    },
    {
     "name": "stdout",
     "output_type": "stream",
     "text": [
      "\t\t # hidden neurons = 11\n",
      "\t # Hidden Layers = 6\n",
      "\t\t # hidden neurons = 1\n"
     ]
    },
    {
     "name": "stderr",
     "output_type": "stream",
     "text": [
      "C:\\Anaconda\\envs\\env_eosc510\\lib\\site-packages\\sklearn\\neural_network\\_multilayer_perceptron.py:542: UserWarning: Got `batch_size` less than 1 or larger than sample size. It is going to be clipped\n",
      "  warnings.warn(\"Got `batch_size` less than 1 or larger than \"\n",
      "C:\\Anaconda\\envs\\env_eosc510\\lib\\site-packages\\sklearn\\neural_network\\_multilayer_perceptron.py:542: UserWarning: Got `batch_size` less than 1 or larger than sample size. It is going to be clipped\n",
      "  warnings.warn(\"Got `batch_size` less than 1 or larger than \"\n"
     ]
    },
    {
     "name": "stdout",
     "output_type": "stream",
     "text": [
      "\t\t # hidden neurons = 2\n",
      "\t\t # hidden neurons = 3\n"
     ]
    },
    {
     "name": "stderr",
     "output_type": "stream",
     "text": [
      "C:\\Anaconda\\envs\\env_eosc510\\lib\\site-packages\\sklearn\\neural_network\\_multilayer_perceptron.py:542: UserWarning: Got `batch_size` less than 1 or larger than sample size. It is going to be clipped\n",
      "  warnings.warn(\"Got `batch_size` less than 1 or larger than \"\n",
      "C:\\Anaconda\\envs\\env_eosc510\\lib\\site-packages\\sklearn\\neural_network\\_multilayer_perceptron.py:542: UserWarning: Got `batch_size` less than 1 or larger than sample size. It is going to be clipped\n",
      "  warnings.warn(\"Got `batch_size` less than 1 or larger than \"\n"
     ]
    },
    {
     "name": "stdout",
     "output_type": "stream",
     "text": [
      "\t\t # hidden neurons = 4\n"
     ]
    },
    {
     "name": "stderr",
     "output_type": "stream",
     "text": [
      "C:\\Anaconda\\envs\\env_eosc510\\lib\\site-packages\\sklearn\\neural_network\\_multilayer_perceptron.py:542: UserWarning: Got `batch_size` less than 1 or larger than sample size. It is going to be clipped\n",
      "  warnings.warn(\"Got `batch_size` less than 1 or larger than \"\n"
     ]
    },
    {
     "name": "stdout",
     "output_type": "stream",
     "text": [
      "\t\t # hidden neurons = 5\n",
      "\t\t # hidden neurons = 6\n",
      "\t\t # hidden neurons = 7\n"
     ]
    },
    {
     "name": "stderr",
     "output_type": "stream",
     "text": [
      "C:\\Anaconda\\envs\\env_eosc510\\lib\\site-packages\\sklearn\\neural_network\\_multilayer_perceptron.py:542: UserWarning: Got `batch_size` less than 1 or larger than sample size. It is going to be clipped\n",
      "  warnings.warn(\"Got `batch_size` less than 1 or larger than \"\n",
      "C:\\Anaconda\\envs\\env_eosc510\\lib\\site-packages\\sklearn\\neural_network\\_multilayer_perceptron.py:542: UserWarning: Got `batch_size` less than 1 or larger than sample size. It is going to be clipped\n",
      "  warnings.warn(\"Got `batch_size` less than 1 or larger than \"\n",
      "C:\\Anaconda\\envs\\env_eosc510\\lib\\site-packages\\sklearn\\neural_network\\_multilayer_perceptron.py:542: UserWarning: Got `batch_size` less than 1 or larger than sample size. It is going to be clipped\n",
      "  warnings.warn(\"Got `batch_size` less than 1 or larger than \"\n"
     ]
    },
    {
     "name": "stdout",
     "output_type": "stream",
     "text": [
      "\t\t # hidden neurons = 8\n"
     ]
    },
    {
     "name": "stderr",
     "output_type": "stream",
     "text": [
      "C:\\Anaconda\\envs\\env_eosc510\\lib\\site-packages\\sklearn\\neural_network\\_multilayer_perceptron.py:542: UserWarning: Got `batch_size` less than 1 or larger than sample size. It is going to be clipped\n",
      "  warnings.warn(\"Got `batch_size` less than 1 or larger than \"\n"
     ]
    },
    {
     "name": "stdout",
     "output_type": "stream",
     "text": [
      "\t\t # hidden neurons = 9\n"
     ]
    },
    {
     "name": "stderr",
     "output_type": "stream",
     "text": [
      "C:\\Anaconda\\envs\\env_eosc510\\lib\\site-packages\\sklearn\\neural_network\\_multilayer_perceptron.py:542: UserWarning: Got `batch_size` less than 1 or larger than sample size. It is going to be clipped\n",
      "  warnings.warn(\"Got `batch_size` less than 1 or larger than \"\n"
     ]
    },
    {
     "name": "stdout",
     "output_type": "stream",
     "text": [
      "\t\t # hidden neurons = 10\n"
     ]
    },
    {
     "name": "stderr",
     "output_type": "stream",
     "text": [
      "C:\\Anaconda\\envs\\env_eosc510\\lib\\site-packages\\sklearn\\neural_network\\_multilayer_perceptron.py:542: UserWarning: Got `batch_size` less than 1 or larger than sample size. It is going to be clipped\n",
      "  warnings.warn(\"Got `batch_size` less than 1 or larger than \"\n"
     ]
    },
    {
     "name": "stdout",
     "output_type": "stream",
     "text": [
      "\t\t # hidden neurons = 11\n",
      "\t # Hidden Layers = 7\n",
      "\t\t # hidden neurons = 1\n"
     ]
    },
    {
     "name": "stderr",
     "output_type": "stream",
     "text": [
      "C:\\Anaconda\\envs\\env_eosc510\\lib\\site-packages\\sklearn\\neural_network\\_multilayer_perceptron.py:542: UserWarning: Got `batch_size` less than 1 or larger than sample size. It is going to be clipped\n",
      "  warnings.warn(\"Got `batch_size` less than 1 or larger than \"\n",
      "C:\\Anaconda\\envs\\env_eosc510\\lib\\site-packages\\sklearn\\neural_network\\_multilayer_perceptron.py:542: UserWarning: Got `batch_size` less than 1 or larger than sample size. It is going to be clipped\n",
      "  warnings.warn(\"Got `batch_size` less than 1 or larger than \"\n"
     ]
    },
    {
     "name": "stdout",
     "output_type": "stream",
     "text": [
      "\t\t # hidden neurons = 2\n",
      "\t\t # hidden neurons = 3\n",
      "\t\t # hidden neurons = 4\n"
     ]
    },
    {
     "name": "stderr",
     "output_type": "stream",
     "text": [
      "C:\\Anaconda\\envs\\env_eosc510\\lib\\site-packages\\sklearn\\neural_network\\_multilayer_perceptron.py:542: UserWarning: Got `batch_size` less than 1 or larger than sample size. It is going to be clipped\n",
      "  warnings.warn(\"Got `batch_size` less than 1 or larger than \"\n",
      "C:\\Anaconda\\envs\\env_eosc510\\lib\\site-packages\\sklearn\\neural_network\\_multilayer_perceptron.py:542: UserWarning: Got `batch_size` less than 1 or larger than sample size. It is going to be clipped\n",
      "  warnings.warn(\"Got `batch_size` less than 1 or larger than \"\n",
      "C:\\Anaconda\\envs\\env_eosc510\\lib\\site-packages\\sklearn\\neural_network\\_multilayer_perceptron.py:542: UserWarning: Got `batch_size` less than 1 or larger than sample size. It is going to be clipped\n",
      "  warnings.warn(\"Got `batch_size` less than 1 or larger than \"\n"
     ]
    },
    {
     "name": "stdout",
     "output_type": "stream",
     "text": [
      "\t\t # hidden neurons = 5\n"
     ]
    },
    {
     "name": "stderr",
     "output_type": "stream",
     "text": [
      "C:\\Anaconda\\envs\\env_eosc510\\lib\\site-packages\\sklearn\\neural_network\\_multilayer_perceptron.py:542: UserWarning: Got `batch_size` less than 1 or larger than sample size. It is going to be clipped\n",
      "  warnings.warn(\"Got `batch_size` less than 1 or larger than \"\n"
     ]
    },
    {
     "name": "stdout",
     "output_type": "stream",
     "text": [
      "\t\t # hidden neurons = 6\n"
     ]
    },
    {
     "name": "stderr",
     "output_type": "stream",
     "text": [
      "C:\\Anaconda\\envs\\env_eosc510\\lib\\site-packages\\sklearn\\neural_network\\_multilayer_perceptron.py:542: UserWarning: Got `batch_size` less than 1 or larger than sample size. It is going to be clipped\n",
      "  warnings.warn(\"Got `batch_size` less than 1 or larger than \"\n"
     ]
    },
    {
     "name": "stdout",
     "output_type": "stream",
     "text": [
      "\t\t # hidden neurons = 7\n",
      "\t\t # hidden neurons = 8\n"
     ]
    },
    {
     "name": "stderr",
     "output_type": "stream",
     "text": [
      "C:\\Anaconda\\envs\\env_eosc510\\lib\\site-packages\\sklearn\\neural_network\\_multilayer_perceptron.py:542: UserWarning: Got `batch_size` less than 1 or larger than sample size. It is going to be clipped\n",
      "  warnings.warn(\"Got `batch_size` less than 1 or larger than \"\n",
      "C:\\Anaconda\\envs\\env_eosc510\\lib\\site-packages\\sklearn\\neural_network\\_multilayer_perceptron.py:542: UserWarning: Got `batch_size` less than 1 or larger than sample size. It is going to be clipped\n",
      "  warnings.warn(\"Got `batch_size` less than 1 or larger than \"\n"
     ]
    },
    {
     "name": "stdout",
     "output_type": "stream",
     "text": [
      "\t\t # hidden neurons = 9\n",
      "\t\t # hidden neurons = 10\n"
     ]
    },
    {
     "name": "stderr",
     "output_type": "stream",
     "text": [
      "C:\\Anaconda\\envs\\env_eosc510\\lib\\site-packages\\sklearn\\neural_network\\_multilayer_perceptron.py:542: UserWarning: Got `batch_size` less than 1 or larger than sample size. It is going to be clipped\n",
      "  warnings.warn(\"Got `batch_size` less than 1 or larger than \"\n",
      "C:\\Anaconda\\envs\\env_eosc510\\lib\\site-packages\\sklearn\\neural_network\\_multilayer_perceptron.py:542: UserWarning: Got `batch_size` less than 1 or larger than sample size. It is going to be clipped\n",
      "  warnings.warn(\"Got `batch_size` less than 1 or larger than \"\n",
      "C:\\Anaconda\\envs\\env_eosc510\\lib\\site-packages\\sklearn\\neural_network\\_multilayer_perceptron.py:542: UserWarning: Got `batch_size` less than 1 or larger than sample size. It is going to be clipped\n",
      "  warnings.warn(\"Got `batch_size` less than 1 or larger than \"\n"
     ]
    },
    {
     "name": "stdout",
     "output_type": "stream",
     "text": [
      "\t\t # hidden neurons = 11\n",
      "\t # Hidden Layers = 8\n",
      "\t\t # hidden neurons = 1\n",
      "\t\t # hidden neurons = 2\n"
     ]
    },
    {
     "name": "stderr",
     "output_type": "stream",
     "text": [
      "C:\\Anaconda\\envs\\env_eosc510\\lib\\site-packages\\sklearn\\neural_network\\_multilayer_perceptron.py:542: UserWarning: Got `batch_size` less than 1 or larger than sample size. It is going to be clipped\n",
      "  warnings.warn(\"Got `batch_size` less than 1 or larger than \"\n",
      "C:\\Anaconda\\envs\\env_eosc510\\lib\\site-packages\\sklearn\\neural_network\\_multilayer_perceptron.py:542: UserWarning: Got `batch_size` less than 1 or larger than sample size. It is going to be clipped\n",
      "  warnings.warn(\"Got `batch_size` less than 1 or larger than \"\n"
     ]
    },
    {
     "name": "stdout",
     "output_type": "stream",
     "text": [
      "\t\t # hidden neurons = 3\n"
     ]
    },
    {
     "name": "stderr",
     "output_type": "stream",
     "text": [
      "C:\\Anaconda\\envs\\env_eosc510\\lib\\site-packages\\sklearn\\neural_network\\_multilayer_perceptron.py:542: UserWarning: Got `batch_size` less than 1 or larger than sample size. It is going to be clipped\n",
      "  warnings.warn(\"Got `batch_size` less than 1 or larger than \"\n"
     ]
    },
    {
     "name": "stdout",
     "output_type": "stream",
     "text": [
      "\t\t # hidden neurons = 4\n"
     ]
    },
    {
     "name": "stderr",
     "output_type": "stream",
     "text": [
      "C:\\Anaconda\\envs\\env_eosc510\\lib\\site-packages\\sklearn\\neural_network\\_multilayer_perceptron.py:542: UserWarning: Got `batch_size` less than 1 or larger than sample size. It is going to be clipped\n",
      "  warnings.warn(\"Got `batch_size` less than 1 or larger than \"\n"
     ]
    },
    {
     "name": "stdout",
     "output_type": "stream",
     "text": [
      "\t\t # hidden neurons = 5\n"
     ]
    },
    {
     "name": "stderr",
     "output_type": "stream",
     "text": [
      "C:\\Anaconda\\envs\\env_eosc510\\lib\\site-packages\\sklearn\\neural_network\\_multilayer_perceptron.py:542: UserWarning: Got `batch_size` less than 1 or larger than sample size. It is going to be clipped\n",
      "  warnings.warn(\"Got `batch_size` less than 1 or larger than \"\n"
     ]
    },
    {
     "name": "stdout",
     "output_type": "stream",
     "text": [
      "\t\t # hidden neurons = 6\n",
      "\t\t # hidden neurons = 7\n"
     ]
    },
    {
     "name": "stderr",
     "output_type": "stream",
     "text": [
      "C:\\Anaconda\\envs\\env_eosc510\\lib\\site-packages\\sklearn\\neural_network\\_multilayer_perceptron.py:542: UserWarning: Got `batch_size` less than 1 or larger than sample size. It is going to be clipped\n",
      "  warnings.warn(\"Got `batch_size` less than 1 or larger than \"\n",
      "C:\\Anaconda\\envs\\env_eosc510\\lib\\site-packages\\sklearn\\neural_network\\_multilayer_perceptron.py:542: UserWarning: Got `batch_size` less than 1 or larger than sample size. It is going to be clipped\n",
      "  warnings.warn(\"Got `batch_size` less than 1 or larger than \"\n"
     ]
    },
    {
     "name": "stdout",
     "output_type": "stream",
     "text": [
      "\t\t # hidden neurons = 8\n",
      "\t\t # hidden neurons = 9\n"
     ]
    },
    {
     "name": "stderr",
     "output_type": "stream",
     "text": [
      "C:\\Anaconda\\envs\\env_eosc510\\lib\\site-packages\\sklearn\\neural_network\\_multilayer_perceptron.py:542: UserWarning: Got `batch_size` less than 1 or larger than sample size. It is going to be clipped\n",
      "  warnings.warn(\"Got `batch_size` less than 1 or larger than \"\n",
      "C:\\Anaconda\\envs\\env_eosc510\\lib\\site-packages\\sklearn\\neural_network\\_multilayer_perceptron.py:542: UserWarning: Got `batch_size` less than 1 or larger than sample size. It is going to be clipped\n",
      "  warnings.warn(\"Got `batch_size` less than 1 or larger than \"\n"
     ]
    },
    {
     "name": "stdout",
     "output_type": "stream",
     "text": [
      "\t\t # hidden neurons = 10\n",
      "\t\t # hidden neurons = 11\n"
     ]
    },
    {
     "name": "stderr",
     "output_type": "stream",
     "text": [
      "C:\\Anaconda\\envs\\env_eosc510\\lib\\site-packages\\sklearn\\neural_network\\_multilayer_perceptron.py:542: UserWarning: Got `batch_size` less than 1 or larger than sample size. It is going to be clipped\n",
      "  warnings.warn(\"Got `batch_size` less than 1 or larger than \"\n",
      "C:\\Anaconda\\envs\\env_eosc510\\lib\\site-packages\\sklearn\\neural_network\\_multilayer_perceptron.py:542: UserWarning: Got `batch_size` less than 1 or larger than sample size. It is going to be clipped\n",
      "  warnings.warn(\"Got `batch_size` less than 1 or larger than \"\n"
     ]
    },
    {
     "name": "stdout",
     "output_type": "stream",
     "text": [
      "\t BEST: 5 hidden layers, 5 hidden neurons\n",
      "Model Number: 7\n",
      "\t # Hidden Layers = 1\n",
      "\t\t # hidden neurons = 1\n",
      "\t\t # hidden neurons = 2\n",
      "\t\t # hidden neurons = 3\n",
      "\t\t # hidden neurons = 4\n",
      "\t\t # hidden neurons = 5\n"
     ]
    },
    {
     "name": "stderr",
     "output_type": "stream",
     "text": [
      "C:\\Anaconda\\envs\\env_eosc510\\lib\\site-packages\\sklearn\\neural_network\\_multilayer_perceptron.py:542: UserWarning: Got `batch_size` less than 1 or larger than sample size. It is going to be clipped\n",
      "  warnings.warn(\"Got `batch_size` less than 1 or larger than \"\n",
      "C:\\Anaconda\\envs\\env_eosc510\\lib\\site-packages\\sklearn\\neural_network\\_multilayer_perceptron.py:542: UserWarning: Got `batch_size` less than 1 or larger than sample size. It is going to be clipped\n",
      "  warnings.warn(\"Got `batch_size` less than 1 or larger than \"\n",
      "C:\\Anaconda\\envs\\env_eosc510\\lib\\site-packages\\sklearn\\neural_network\\_multilayer_perceptron.py:542: UserWarning: Got `batch_size` less than 1 or larger than sample size. It is going to be clipped\n",
      "  warnings.warn(\"Got `batch_size` less than 1 or larger than \"\n",
      "C:\\Anaconda\\envs\\env_eosc510\\lib\\site-packages\\sklearn\\neural_network\\_multilayer_perceptron.py:542: UserWarning: Got `batch_size` less than 1 or larger than sample size. It is going to be clipped\n",
      "  warnings.warn(\"Got `batch_size` less than 1 or larger than \"\n",
      "C:\\Anaconda\\envs\\env_eosc510\\lib\\site-packages\\sklearn\\neural_network\\_multilayer_perceptron.py:542: UserWarning: Got `batch_size` less than 1 or larger than sample size. It is going to be clipped\n",
      "  warnings.warn(\"Got `batch_size` less than 1 or larger than \"\n"
     ]
    },
    {
     "name": "stdout",
     "output_type": "stream",
     "text": [
      "\t\t # hidden neurons = 6\n"
     ]
    },
    {
     "name": "stderr",
     "output_type": "stream",
     "text": [
      "C:\\Anaconda\\envs\\env_eosc510\\lib\\site-packages\\sklearn\\neural_network\\_multilayer_perceptron.py:542: UserWarning: Got `batch_size` less than 1 or larger than sample size. It is going to be clipped\n",
      "  warnings.warn(\"Got `batch_size` less than 1 or larger than \"\n"
     ]
    },
    {
     "name": "stdout",
     "output_type": "stream",
     "text": [
      "\t\t # hidden neurons = 7\n"
     ]
    },
    {
     "name": "stderr",
     "output_type": "stream",
     "text": [
      "C:\\Anaconda\\envs\\env_eosc510\\lib\\site-packages\\sklearn\\neural_network\\_multilayer_perceptron.py:542: UserWarning: Got `batch_size` less than 1 or larger than sample size. It is going to be clipped\n",
      "  warnings.warn(\"Got `batch_size` less than 1 or larger than \"\n",
      "C:\\Anaconda\\envs\\env_eosc510\\lib\\site-packages\\sklearn\\neural_network\\_multilayer_perceptron.py:614: ConvergenceWarning: Stochastic Optimizer: Maximum iterations (3000) reached and the optimization hasn't converged yet.\n",
      "  warnings.warn(\n",
      "C:\\Anaconda\\envs\\env_eosc510\\lib\\site-packages\\sklearn\\neural_network\\_multilayer_perceptron.py:542: UserWarning: Got `batch_size` less than 1 or larger than sample size. It is going to be clipped\n",
      "  warnings.warn(\"Got `batch_size` less than 1 or larger than \"\n"
     ]
    },
    {
     "name": "stdout",
     "output_type": "stream",
     "text": [
      "\t\t # hidden neurons = 8\n",
      "\t\t # hidden neurons = 9\n",
      "\t\t # hidden neurons = 10\n",
      "\t\t # hidden neurons = 11\n",
      "\t # Hidden Layers = 2\n",
      "\t\t # hidden neurons = 1\n"
     ]
    },
    {
     "name": "stderr",
     "output_type": "stream",
     "text": [
      "C:\\Anaconda\\envs\\env_eosc510\\lib\\site-packages\\sklearn\\neural_network\\_multilayer_perceptron.py:542: UserWarning: Got `batch_size` less than 1 or larger than sample size. It is going to be clipped\n",
      "  warnings.warn(\"Got `batch_size` less than 1 or larger than \"\n",
      "C:\\Anaconda\\envs\\env_eosc510\\lib\\site-packages\\sklearn\\neural_network\\_multilayer_perceptron.py:542: UserWarning: Got `batch_size` less than 1 or larger than sample size. It is going to be clipped\n",
      "  warnings.warn(\"Got `batch_size` less than 1 or larger than \"\n",
      "C:\\Anaconda\\envs\\env_eosc510\\lib\\site-packages\\sklearn\\neural_network\\_multilayer_perceptron.py:542: UserWarning: Got `batch_size` less than 1 or larger than sample size. It is going to be clipped\n",
      "  warnings.warn(\"Got `batch_size` less than 1 or larger than \"\n",
      "C:\\Anaconda\\envs\\env_eosc510\\lib\\site-packages\\sklearn\\neural_network\\_multilayer_perceptron.py:542: UserWarning: Got `batch_size` less than 1 or larger than sample size. It is going to be clipped\n",
      "  warnings.warn(\"Got `batch_size` less than 1 or larger than \"\n"
     ]
    },
    {
     "name": "stdout",
     "output_type": "stream",
     "text": [
      "\t\t # hidden neurons = 2\n",
      "\t\t # hidden neurons = 3\n"
     ]
    },
    {
     "name": "stderr",
     "output_type": "stream",
     "text": [
      "C:\\Anaconda\\envs\\env_eosc510\\lib\\site-packages\\sklearn\\neural_network\\_multilayer_perceptron.py:542: UserWarning: Got `batch_size` less than 1 or larger than sample size. It is going to be clipped\n",
      "  warnings.warn(\"Got `batch_size` less than 1 or larger than \"\n",
      "C:\\Anaconda\\envs\\env_eosc510\\lib\\site-packages\\sklearn\\neural_network\\_multilayer_perceptron.py:542: UserWarning: Got `batch_size` less than 1 or larger than sample size. It is going to be clipped\n",
      "  warnings.warn(\"Got `batch_size` less than 1 or larger than \"\n",
      "C:\\Anaconda\\envs\\env_eosc510\\lib\\site-packages\\sklearn\\neural_network\\_multilayer_perceptron.py:614: ConvergenceWarning: Stochastic Optimizer: Maximum iterations (3000) reached and the optimization hasn't converged yet.\n",
      "  warnings.warn(\n",
      "C:\\Anaconda\\envs\\env_eosc510\\lib\\site-packages\\sklearn\\neural_network\\_multilayer_perceptron.py:542: UserWarning: Got `batch_size` less than 1 or larger than sample size. It is going to be clipped\n",
      "  warnings.warn(\"Got `batch_size` less than 1 or larger than \"\n",
      "C:\\Anaconda\\envs\\env_eosc510\\lib\\site-packages\\sklearn\\neural_network\\_multilayer_perceptron.py:542: UserWarning: Got `batch_size` less than 1 or larger than sample size. It is going to be clipped\n",
      "  warnings.warn(\"Got `batch_size` less than 1 or larger than \"\n"
     ]
    },
    {
     "name": "stdout",
     "output_type": "stream",
     "text": [
      "\t\t # hidden neurons = 4\n",
      "\t\t # hidden neurons = 5\n"
     ]
    },
    {
     "name": "stderr",
     "output_type": "stream",
     "text": [
      "C:\\Anaconda\\envs\\env_eosc510\\lib\\site-packages\\sklearn\\neural_network\\_multilayer_perceptron.py:542: UserWarning: Got `batch_size` less than 1 or larger than sample size. It is going to be clipped\n",
      "  warnings.warn(\"Got `batch_size` less than 1 or larger than \"\n",
      "C:\\Anaconda\\envs\\env_eosc510\\lib\\site-packages\\sklearn\\neural_network\\_multilayer_perceptron.py:542: UserWarning: Got `batch_size` less than 1 or larger than sample size. It is going to be clipped\n",
      "  warnings.warn(\"Got `batch_size` less than 1 or larger than \"\n",
      "C:\\Anaconda\\envs\\env_eosc510\\lib\\site-packages\\sklearn\\neural_network\\_multilayer_perceptron.py:542: UserWarning: Got `batch_size` less than 1 or larger than sample size. It is going to be clipped\n",
      "  warnings.warn(\"Got `batch_size` less than 1 or larger than \"\n"
     ]
    },
    {
     "name": "stdout",
     "output_type": "stream",
     "text": [
      "\t\t # hidden neurons = 6\n",
      "\t\t # hidden neurons = 7\n",
      "\t\t # hidden neurons = 8\n",
      "\t\t # hidden neurons = 9\n",
      "\t\t # hidden neurons = 10\n",
      "\t\t # hidden neurons = 11\n",
      "\t # Hidden Layers = 3\n",
      "\t\t # hidden neurons = 1\n"
     ]
    },
    {
     "name": "stderr",
     "output_type": "stream",
     "text": [
      "C:\\Anaconda\\envs\\env_eosc510\\lib\\site-packages\\sklearn\\neural_network\\_multilayer_perceptron.py:542: UserWarning: Got `batch_size` less than 1 or larger than sample size. It is going to be clipped\n",
      "  warnings.warn(\"Got `batch_size` less than 1 or larger than \"\n",
      "C:\\Anaconda\\envs\\env_eosc510\\lib\\site-packages\\sklearn\\neural_network\\_multilayer_perceptron.py:542: UserWarning: Got `batch_size` less than 1 or larger than sample size. It is going to be clipped\n",
      "  warnings.warn(\"Got `batch_size` less than 1 or larger than \"\n",
      "C:\\Anaconda\\envs\\env_eosc510\\lib\\site-packages\\sklearn\\neural_network\\_multilayer_perceptron.py:542: UserWarning: Got `batch_size` less than 1 or larger than sample size. It is going to be clipped\n",
      "  warnings.warn(\"Got `batch_size` less than 1 or larger than \"\n",
      "C:\\Anaconda\\envs\\env_eosc510\\lib\\site-packages\\sklearn\\neural_network\\_multilayer_perceptron.py:542: UserWarning: Got `batch_size` less than 1 or larger than sample size. It is going to be clipped\n",
      "  warnings.warn(\"Got `batch_size` less than 1 or larger than \"\n"
     ]
    },
    {
     "name": "stdout",
     "output_type": "stream",
     "text": [
      "\t\t # hidden neurons = 2\n"
     ]
    },
    {
     "name": "stderr",
     "output_type": "stream",
     "text": [
      "C:\\Anaconda\\envs\\env_eosc510\\lib\\site-packages\\sklearn\\neural_network\\_multilayer_perceptron.py:542: UserWarning: Got `batch_size` less than 1 or larger than sample size. It is going to be clipped\n",
      "  warnings.warn(\"Got `batch_size` less than 1 or larger than \"\n"
     ]
    },
    {
     "name": "stdout",
     "output_type": "stream",
     "text": [
      "\t\t # hidden neurons = 3\n",
      "\t\t # hidden neurons = 4\n"
     ]
    },
    {
     "name": "stderr",
     "output_type": "stream",
     "text": [
      "C:\\Anaconda\\envs\\env_eosc510\\lib\\site-packages\\sklearn\\neural_network\\_multilayer_perceptron.py:542: UserWarning: Got `batch_size` less than 1 or larger than sample size. It is going to be clipped\n",
      "  warnings.warn(\"Got `batch_size` less than 1 or larger than \"\n",
      "C:\\Anaconda\\envs\\env_eosc510\\lib\\site-packages\\sklearn\\neural_network\\_multilayer_perceptron.py:542: UserWarning: Got `batch_size` less than 1 or larger than sample size. It is going to be clipped\n",
      "  warnings.warn(\"Got `batch_size` less than 1 or larger than \"\n"
     ]
    },
    {
     "name": "stdout",
     "output_type": "stream",
     "text": [
      "\t\t # hidden neurons = 5\n",
      "\t\t # hidden neurons = 6\n",
      "\t\t # hidden neurons = 7\n",
      "\t\t # hidden neurons = 8\n",
      "\t\t # hidden neurons = 9\n"
     ]
    },
    {
     "name": "stderr",
     "output_type": "stream",
     "text": [
      "C:\\Anaconda\\envs\\env_eosc510\\lib\\site-packages\\sklearn\\neural_network\\_multilayer_perceptron.py:542: UserWarning: Got `batch_size` less than 1 or larger than sample size. It is going to be clipped\n",
      "  warnings.warn(\"Got `batch_size` less than 1 or larger than \"\n",
      "C:\\Anaconda\\envs\\env_eosc510\\lib\\site-packages\\sklearn\\neural_network\\_multilayer_perceptron.py:542: UserWarning: Got `batch_size` less than 1 or larger than sample size. It is going to be clipped\n",
      "  warnings.warn(\"Got `batch_size` less than 1 or larger than \"\n",
      "C:\\Anaconda\\envs\\env_eosc510\\lib\\site-packages\\sklearn\\neural_network\\_multilayer_perceptron.py:542: UserWarning: Got `batch_size` less than 1 or larger than sample size. It is going to be clipped\n",
      "  warnings.warn(\"Got `batch_size` less than 1 or larger than \"\n",
      "C:\\Anaconda\\envs\\env_eosc510\\lib\\site-packages\\sklearn\\neural_network\\_multilayer_perceptron.py:542: UserWarning: Got `batch_size` less than 1 or larger than sample size. It is going to be clipped\n",
      "  warnings.warn(\"Got `batch_size` less than 1 or larger than \"\n",
      "C:\\Anaconda\\envs\\env_eosc510\\lib\\site-packages\\sklearn\\neural_network\\_multilayer_perceptron.py:542: UserWarning: Got `batch_size` less than 1 or larger than sample size. It is going to be clipped\n",
      "  warnings.warn(\"Got `batch_size` less than 1 or larger than \"\n"
     ]
    },
    {
     "name": "stdout",
     "output_type": "stream",
     "text": [
      "\t\t # hidden neurons = 10\n"
     ]
    },
    {
     "name": "stderr",
     "output_type": "stream",
     "text": [
      "C:\\Anaconda\\envs\\env_eosc510\\lib\\site-packages\\sklearn\\neural_network\\_multilayer_perceptron.py:542: UserWarning: Got `batch_size` less than 1 or larger than sample size. It is going to be clipped\n",
      "  warnings.warn(\"Got `batch_size` less than 1 or larger than \"\n"
     ]
    },
    {
     "name": "stdout",
     "output_type": "stream",
     "text": [
      "\t\t # hidden neurons = 11\n",
      "\t # Hidden Layers = 4\n",
      "\t\t # hidden neurons = 1\n",
      "\t\t # hidden neurons = 2\n",
      "\t\t # hidden neurons = 3\n",
      "\t\t # hidden neurons = 4\n"
     ]
    },
    {
     "name": "stderr",
     "output_type": "stream",
     "text": [
      "C:\\Anaconda\\envs\\env_eosc510\\lib\\site-packages\\sklearn\\neural_network\\_multilayer_perceptron.py:542: UserWarning: Got `batch_size` less than 1 or larger than sample size. It is going to be clipped\n",
      "  warnings.warn(\"Got `batch_size` less than 1 or larger than \"\n",
      "C:\\Anaconda\\envs\\env_eosc510\\lib\\site-packages\\sklearn\\neural_network\\_multilayer_perceptron.py:542: UserWarning: Got `batch_size` less than 1 or larger than sample size. It is going to be clipped\n",
      "  warnings.warn(\"Got `batch_size` less than 1 or larger than \"\n",
      "C:\\Anaconda\\envs\\env_eosc510\\lib\\site-packages\\sklearn\\neural_network\\_multilayer_perceptron.py:542: UserWarning: Got `batch_size` less than 1 or larger than sample size. It is going to be clipped\n",
      "  warnings.warn(\"Got `batch_size` less than 1 or larger than \"\n",
      "C:\\Anaconda\\envs\\env_eosc510\\lib\\site-packages\\sklearn\\neural_network\\_multilayer_perceptron.py:542: UserWarning: Got `batch_size` less than 1 or larger than sample size. It is going to be clipped\n",
      "  warnings.warn(\"Got `batch_size` less than 1 or larger than \"\n",
      "C:\\Anaconda\\envs\\env_eosc510\\lib\\site-packages\\sklearn\\neural_network\\_multilayer_perceptron.py:542: UserWarning: Got `batch_size` less than 1 or larger than sample size. It is going to be clipped\n",
      "  warnings.warn(\"Got `batch_size` less than 1 or larger than \"\n"
     ]
    },
    {
     "name": "stdout",
     "output_type": "stream",
     "text": [
      "\t\t # hidden neurons = 5\n",
      "\t\t # hidden neurons = 6\n",
      "\t\t # hidden neurons = 7\n",
      "\t\t # hidden neurons = 8\n"
     ]
    },
    {
     "name": "stderr",
     "output_type": "stream",
     "text": [
      "C:\\Anaconda\\envs\\env_eosc510\\lib\\site-packages\\sklearn\\neural_network\\_multilayer_perceptron.py:542: UserWarning: Got `batch_size` less than 1 or larger than sample size. It is going to be clipped\n",
      "  warnings.warn(\"Got `batch_size` less than 1 or larger than \"\n",
      "C:\\Anaconda\\envs\\env_eosc510\\lib\\site-packages\\sklearn\\neural_network\\_multilayer_perceptron.py:542: UserWarning: Got `batch_size` less than 1 or larger than sample size. It is going to be clipped\n",
      "  warnings.warn(\"Got `batch_size` less than 1 or larger than \"\n",
      "C:\\Anaconda\\envs\\env_eosc510\\lib\\site-packages\\sklearn\\neural_network\\_multilayer_perceptron.py:542: UserWarning: Got `batch_size` less than 1 or larger than sample size. It is going to be clipped\n",
      "  warnings.warn(\"Got `batch_size` less than 1 or larger than \"\n",
      "C:\\Anaconda\\envs\\env_eosc510\\lib\\site-packages\\sklearn\\neural_network\\_multilayer_perceptron.py:542: UserWarning: Got `batch_size` less than 1 or larger than sample size. It is going to be clipped\n",
      "  warnings.warn(\"Got `batch_size` less than 1 or larger than \"\n"
     ]
    },
    {
     "name": "stdout",
     "output_type": "stream",
     "text": [
      "\t\t # hidden neurons = 9\n",
      "\t\t # hidden neurons = 10\n"
     ]
    },
    {
     "name": "stderr",
     "output_type": "stream",
     "text": [
      "C:\\Anaconda\\envs\\env_eosc510\\lib\\site-packages\\sklearn\\neural_network\\_multilayer_perceptron.py:542: UserWarning: Got `batch_size` less than 1 or larger than sample size. It is going to be clipped\n",
      "  warnings.warn(\"Got `batch_size` less than 1 or larger than \"\n",
      "C:\\Anaconda\\envs\\env_eosc510\\lib\\site-packages\\sklearn\\neural_network\\_multilayer_perceptron.py:542: UserWarning: Got `batch_size` less than 1 or larger than sample size. It is going to be clipped\n",
      "  warnings.warn(\"Got `batch_size` less than 1 or larger than \"\n",
      "C:\\Anaconda\\envs\\env_eosc510\\lib\\site-packages\\sklearn\\neural_network\\_multilayer_perceptron.py:542: UserWarning: Got `batch_size` less than 1 or larger than sample size. It is going to be clipped\n",
      "  warnings.warn(\"Got `batch_size` less than 1 or larger than \"\n"
     ]
    },
    {
     "name": "stdout",
     "output_type": "stream",
     "text": [
      "\t\t # hidden neurons = 11\n",
      "\t # Hidden Layers = 5\n",
      "\t\t # hidden neurons = 1\n"
     ]
    },
    {
     "name": "stderr",
     "output_type": "stream",
     "text": [
      "C:\\Anaconda\\envs\\env_eosc510\\lib\\site-packages\\sklearn\\neural_network\\_multilayer_perceptron.py:542: UserWarning: Got `batch_size` less than 1 or larger than sample size. It is going to be clipped\n",
      "  warnings.warn(\"Got `batch_size` less than 1 or larger than \"\n",
      "C:\\Anaconda\\envs\\env_eosc510\\lib\\site-packages\\sklearn\\neural_network\\_multilayer_perceptron.py:614: ConvergenceWarning: Stochastic Optimizer: Maximum iterations (3000) reached and the optimization hasn't converged yet.\n",
      "  warnings.warn(\n",
      "C:\\Anaconda\\envs\\env_eosc510\\lib\\site-packages\\sklearn\\neural_network\\_multilayer_perceptron.py:542: UserWarning: Got `batch_size` less than 1 or larger than sample size. It is going to be clipped\n",
      "  warnings.warn(\"Got `batch_size` less than 1 or larger than \"\n",
      "C:\\Anaconda\\envs\\env_eosc510\\lib\\site-packages\\sklearn\\neural_network\\_multilayer_perceptron.py:542: UserWarning: Got `batch_size` less than 1 or larger than sample size. It is going to be clipped\n",
      "  warnings.warn(\"Got `batch_size` less than 1 or larger than \"\n"
     ]
    },
    {
     "name": "stdout",
     "output_type": "stream",
     "text": [
      "\t\t # hidden neurons = 2\n",
      "\t\t # hidden neurons = 3\n"
     ]
    },
    {
     "name": "stderr",
     "output_type": "stream",
     "text": [
      "C:\\Anaconda\\envs\\env_eosc510\\lib\\site-packages\\sklearn\\neural_network\\_multilayer_perceptron.py:614: ConvergenceWarning: Stochastic Optimizer: Maximum iterations (3000) reached and the optimization hasn't converged yet.\n",
      "  warnings.warn(\n",
      "C:\\Anaconda\\envs\\env_eosc510\\lib\\site-packages\\sklearn\\neural_network\\_multilayer_perceptron.py:542: UserWarning: Got `batch_size` less than 1 or larger than sample size. It is going to be clipped\n",
      "  warnings.warn(\"Got `batch_size` less than 1 or larger than \"\n"
     ]
    },
    {
     "name": "stdout",
     "output_type": "stream",
     "text": [
      "\t\t # hidden neurons = 4\n"
     ]
    },
    {
     "name": "stderr",
     "output_type": "stream",
     "text": [
      "C:\\Anaconda\\envs\\env_eosc510\\lib\\site-packages\\sklearn\\neural_network\\_multilayer_perceptron.py:614: ConvergenceWarning: Stochastic Optimizer: Maximum iterations (3000) reached and the optimization hasn't converged yet.\n",
      "  warnings.warn(\n",
      "C:\\Anaconda\\envs\\env_eosc510\\lib\\site-packages\\sklearn\\neural_network\\_multilayer_perceptron.py:542: UserWarning: Got `batch_size` less than 1 or larger than sample size. It is going to be clipped\n",
      "  warnings.warn(\"Got `batch_size` less than 1 or larger than \"\n"
     ]
    },
    {
     "name": "stdout",
     "output_type": "stream",
     "text": [
      "\t\t # hidden neurons = 5\n",
      "\t\t # hidden neurons = 6\n",
      "\t\t # hidden neurons = 7\n"
     ]
    },
    {
     "name": "stderr",
     "output_type": "stream",
     "text": [
      "C:\\Anaconda\\envs\\env_eosc510\\lib\\site-packages\\sklearn\\neural_network\\_multilayer_perceptron.py:542: UserWarning: Got `batch_size` less than 1 or larger than sample size. It is going to be clipped\n",
      "  warnings.warn(\"Got `batch_size` less than 1 or larger than \"\n",
      "C:\\Anaconda\\envs\\env_eosc510\\lib\\site-packages\\sklearn\\neural_network\\_multilayer_perceptron.py:542: UserWarning: Got `batch_size` less than 1 or larger than sample size. It is going to be clipped\n",
      "  warnings.warn(\"Got `batch_size` less than 1 or larger than \"\n"
     ]
    },
    {
     "name": "stdout",
     "output_type": "stream",
     "text": [
      "\t\t # hidden neurons = 8\n",
      "\t\t # hidden neurons = 9\n"
     ]
    },
    {
     "name": "stderr",
     "output_type": "stream",
     "text": [
      "C:\\Anaconda\\envs\\env_eosc510\\lib\\site-packages\\sklearn\\neural_network\\_multilayer_perceptron.py:542: UserWarning: Got `batch_size` less than 1 or larger than sample size. It is going to be clipped\n",
      "  warnings.warn(\"Got `batch_size` less than 1 or larger than \"\n",
      "C:\\Anaconda\\envs\\env_eosc510\\lib\\site-packages\\sklearn\\neural_network\\_multilayer_perceptron.py:542: UserWarning: Got `batch_size` less than 1 or larger than sample size. It is going to be clipped\n",
      "  warnings.warn(\"Got `batch_size` less than 1 or larger than \"\n",
      "C:\\Anaconda\\envs\\env_eosc510\\lib\\site-packages\\sklearn\\neural_network\\_multilayer_perceptron.py:542: UserWarning: Got `batch_size` less than 1 or larger than sample size. It is going to be clipped\n",
      "  warnings.warn(\"Got `batch_size` less than 1 or larger than \"\n"
     ]
    },
    {
     "name": "stdout",
     "output_type": "stream",
     "text": [
      "\t\t # hidden neurons = 10\n",
      "\t\t # hidden neurons = 11\n",
      "\t # Hidden Layers = 6\n",
      "\t\t # hidden neurons = 1\n",
      "\t\t # hidden neurons = 2\n",
      "\t\t # hidden neurons = 3\n",
      "\t\t # hidden neurons = 4\n"
     ]
    },
    {
     "name": "stderr",
     "output_type": "stream",
     "text": [
      "C:\\Anaconda\\envs\\env_eosc510\\lib\\site-packages\\sklearn\\neural_network\\_multilayer_perceptron.py:542: UserWarning: Got `batch_size` less than 1 or larger than sample size. It is going to be clipped\n",
      "  warnings.warn(\"Got `batch_size` less than 1 or larger than \"\n",
      "C:\\Anaconda\\envs\\env_eosc510\\lib\\site-packages\\sklearn\\neural_network\\_multilayer_perceptron.py:542: UserWarning: Got `batch_size` less than 1 or larger than sample size. It is going to be clipped\n",
      "  warnings.warn(\"Got `batch_size` less than 1 or larger than \"\n",
      "C:\\Anaconda\\envs\\env_eosc510\\lib\\site-packages\\sklearn\\neural_network\\_multilayer_perceptron.py:542: UserWarning: Got `batch_size` less than 1 or larger than sample size. It is going to be clipped\n",
      "  warnings.warn(\"Got `batch_size` less than 1 or larger than \"\n",
      "C:\\Anaconda\\envs\\env_eosc510\\lib\\site-packages\\sklearn\\neural_network\\_multilayer_perceptron.py:542: UserWarning: Got `batch_size` less than 1 or larger than sample size. It is going to be clipped\n",
      "  warnings.warn(\"Got `batch_size` less than 1 or larger than \"\n",
      "C:\\Anaconda\\envs\\env_eosc510\\lib\\site-packages\\sklearn\\neural_network\\_multilayer_perceptron.py:542: UserWarning: Got `batch_size` less than 1 or larger than sample size. It is going to be clipped\n",
      "  warnings.warn(\"Got `batch_size` less than 1 or larger than \"\n",
      "C:\\Anaconda\\envs\\env_eosc510\\lib\\site-packages\\sklearn\\neural_network\\_multilayer_perceptron.py:542: UserWarning: Got `batch_size` less than 1 or larger than sample size. It is going to be clipped\n",
      "  warnings.warn(\"Got `batch_size` less than 1 or larger than \"\n"
     ]
    },
    {
     "name": "stdout",
     "output_type": "stream",
     "text": [
      "\t\t # hidden neurons = 5\n",
      "\t\t # hidden neurons = 6\n"
     ]
    },
    {
     "name": "stderr",
     "output_type": "stream",
     "text": [
      "C:\\Anaconda\\envs\\env_eosc510\\lib\\site-packages\\sklearn\\neural_network\\_multilayer_perceptron.py:542: UserWarning: Got `batch_size` less than 1 or larger than sample size. It is going to be clipped\n",
      "  warnings.warn(\"Got `batch_size` less than 1 or larger than \"\n"
     ]
    },
    {
     "name": "stdout",
     "output_type": "stream",
     "text": [
      "\t\t # hidden neurons = 7\n",
      "\t\t # hidden neurons = 8\n"
     ]
    },
    {
     "name": "stderr",
     "output_type": "stream",
     "text": [
      "C:\\Anaconda\\envs\\env_eosc510\\lib\\site-packages\\sklearn\\neural_network\\_multilayer_perceptron.py:542: UserWarning: Got `batch_size` less than 1 or larger than sample size. It is going to be clipped\n",
      "  warnings.warn(\"Got `batch_size` less than 1 or larger than \"\n",
      "C:\\Anaconda\\envs\\env_eosc510\\lib\\site-packages\\sklearn\\neural_network\\_multilayer_perceptron.py:542: UserWarning: Got `batch_size` less than 1 or larger than sample size. It is going to be clipped\n",
      "  warnings.warn(\"Got `batch_size` less than 1 or larger than \"\n"
     ]
    },
    {
     "name": "stdout",
     "output_type": "stream",
     "text": [
      "\t\t # hidden neurons = 9\n"
     ]
    },
    {
     "name": "stderr",
     "output_type": "stream",
     "text": [
      "C:\\Anaconda\\envs\\env_eosc510\\lib\\site-packages\\sklearn\\neural_network\\_multilayer_perceptron.py:542: UserWarning: Got `batch_size` less than 1 or larger than sample size. It is going to be clipped\n",
      "  warnings.warn(\"Got `batch_size` less than 1 or larger than \"\n"
     ]
    },
    {
     "name": "stdout",
     "output_type": "stream",
     "text": [
      "\t\t # hidden neurons = 10\n"
     ]
    },
    {
     "name": "stderr",
     "output_type": "stream",
     "text": [
      "C:\\Anaconda\\envs\\env_eosc510\\lib\\site-packages\\sklearn\\neural_network\\_multilayer_perceptron.py:542: UserWarning: Got `batch_size` less than 1 or larger than sample size. It is going to be clipped\n",
      "  warnings.warn(\"Got `batch_size` less than 1 or larger than \"\n"
     ]
    },
    {
     "name": "stdout",
     "output_type": "stream",
     "text": [
      "\t\t # hidden neurons = 11\n",
      "\t # Hidden Layers = 7\n",
      "\t\t # hidden neurons = 1\n"
     ]
    },
    {
     "name": "stderr",
     "output_type": "stream",
     "text": [
      "C:\\Anaconda\\envs\\env_eosc510\\lib\\site-packages\\sklearn\\neural_network\\_multilayer_perceptron.py:542: UserWarning: Got `batch_size` less than 1 or larger than sample size. It is going to be clipped\n",
      "  warnings.warn(\"Got `batch_size` less than 1 or larger than \"\n",
      "C:\\Anaconda\\envs\\env_eosc510\\lib\\site-packages\\sklearn\\neural_network\\_multilayer_perceptron.py:542: UserWarning: Got `batch_size` less than 1 or larger than sample size. It is going to be clipped\n",
      "  warnings.warn(\"Got `batch_size` less than 1 or larger than \"\n"
     ]
    },
    {
     "name": "stdout",
     "output_type": "stream",
     "text": [
      "\t\t # hidden neurons = 2\n"
     ]
    },
    {
     "name": "stderr",
     "output_type": "stream",
     "text": [
      "C:\\Anaconda\\envs\\env_eosc510\\lib\\site-packages\\sklearn\\neural_network\\_multilayer_perceptron.py:542: UserWarning: Got `batch_size` less than 1 or larger than sample size. It is going to be clipped\n",
      "  warnings.warn(\"Got `batch_size` less than 1 or larger than \"\n"
     ]
    },
    {
     "name": "stdout",
     "output_type": "stream",
     "text": [
      "\t\t # hidden neurons = 3\n"
     ]
    },
    {
     "name": "stderr",
     "output_type": "stream",
     "text": [
      "C:\\Anaconda\\envs\\env_eosc510\\lib\\site-packages\\sklearn\\neural_network\\_multilayer_perceptron.py:542: UserWarning: Got `batch_size` less than 1 or larger than sample size. It is going to be clipped\n",
      "  warnings.warn(\"Got `batch_size` less than 1 or larger than \"\n"
     ]
    },
    {
     "name": "stdout",
     "output_type": "stream",
     "text": [
      "\t\t # hidden neurons = 4\n",
      "\t\t # hidden neurons = 5\n",
      "\t\t # hidden neurons = 6\n"
     ]
    },
    {
     "name": "stderr",
     "output_type": "stream",
     "text": [
      "C:\\Anaconda\\envs\\env_eosc510\\lib\\site-packages\\sklearn\\neural_network\\_multilayer_perceptron.py:542: UserWarning: Got `batch_size` less than 1 or larger than sample size. It is going to be clipped\n",
      "  warnings.warn(\"Got `batch_size` less than 1 or larger than \"\n",
      "C:\\Anaconda\\envs\\env_eosc510\\lib\\site-packages\\sklearn\\neural_network\\_multilayer_perceptron.py:542: UserWarning: Got `batch_size` less than 1 or larger than sample size. It is going to be clipped\n",
      "  warnings.warn(\"Got `batch_size` less than 1 or larger than \"\n",
      "C:\\Anaconda\\envs\\env_eosc510\\lib\\site-packages\\sklearn\\neural_network\\_multilayer_perceptron.py:542: UserWarning: Got `batch_size` less than 1 or larger than sample size. It is going to be clipped\n",
      "  warnings.warn(\"Got `batch_size` less than 1 or larger than \"\n"
     ]
    },
    {
     "name": "stdout",
     "output_type": "stream",
     "text": [
      "\t\t # hidden neurons = 7\n"
     ]
    },
    {
     "name": "stderr",
     "output_type": "stream",
     "text": [
      "C:\\Anaconda\\envs\\env_eosc510\\lib\\site-packages\\sklearn\\neural_network\\_multilayer_perceptron.py:542: UserWarning: Got `batch_size` less than 1 or larger than sample size. It is going to be clipped\n",
      "  warnings.warn(\"Got `batch_size` less than 1 or larger than \"\n"
     ]
    },
    {
     "name": "stdout",
     "output_type": "stream",
     "text": [
      "\t\t # hidden neurons = 8\n",
      "\t\t # hidden neurons = 9\n"
     ]
    },
    {
     "name": "stderr",
     "output_type": "stream",
     "text": [
      "C:\\Anaconda\\envs\\env_eosc510\\lib\\site-packages\\sklearn\\neural_network\\_multilayer_perceptron.py:542: UserWarning: Got `batch_size` less than 1 or larger than sample size. It is going to be clipped\n",
      "  warnings.warn(\"Got `batch_size` less than 1 or larger than \"\n",
      "C:\\Anaconda\\envs\\env_eosc510\\lib\\site-packages\\sklearn\\neural_network\\_multilayer_perceptron.py:542: UserWarning: Got `batch_size` less than 1 or larger than sample size. It is going to be clipped\n",
      "  warnings.warn(\"Got `batch_size` less than 1 or larger than \"\n"
     ]
    },
    {
     "name": "stdout",
     "output_type": "stream",
     "text": [
      "\t\t # hidden neurons = 10\n"
     ]
    },
    {
     "name": "stderr",
     "output_type": "stream",
     "text": [
      "C:\\Anaconda\\envs\\env_eosc510\\lib\\site-packages\\sklearn\\neural_network\\_multilayer_perceptron.py:542: UserWarning: Got `batch_size` less than 1 or larger than sample size. It is going to be clipped\n",
      "  warnings.warn(\"Got `batch_size` less than 1 or larger than \"\n"
     ]
    },
    {
     "name": "stdout",
     "output_type": "stream",
     "text": [
      "\t\t # hidden neurons = 11\n"
     ]
    },
    {
     "name": "stderr",
     "output_type": "stream",
     "text": [
      "C:\\Anaconda\\envs\\env_eosc510\\lib\\site-packages\\sklearn\\neural_network\\_multilayer_perceptron.py:542: UserWarning: Got `batch_size` less than 1 or larger than sample size. It is going to be clipped\n",
      "  warnings.warn(\"Got `batch_size` less than 1 or larger than \"\n"
     ]
    },
    {
     "name": "stdout",
     "output_type": "stream",
     "text": [
      "\t # Hidden Layers = 8\n",
      "\t\t # hidden neurons = 1\n"
     ]
    },
    {
     "name": "stderr",
     "output_type": "stream",
     "text": [
      "C:\\Anaconda\\envs\\env_eosc510\\lib\\site-packages\\sklearn\\neural_network\\_multilayer_perceptron.py:542: UserWarning: Got `batch_size` less than 1 or larger than sample size. It is going to be clipped\n",
      "  warnings.warn(\"Got `batch_size` less than 1 or larger than \"\n"
     ]
    },
    {
     "name": "stdout",
     "output_type": "stream",
     "text": [
      "\t\t # hidden neurons = 2\n"
     ]
    },
    {
     "name": "stderr",
     "output_type": "stream",
     "text": [
      "C:\\Anaconda\\envs\\env_eosc510\\lib\\site-packages\\sklearn\\neural_network\\_multilayer_perceptron.py:542: UserWarning: Got `batch_size` less than 1 or larger than sample size. It is going to be clipped\n",
      "  warnings.warn(\"Got `batch_size` less than 1 or larger than \"\n"
     ]
    },
    {
     "name": "stdout",
     "output_type": "stream",
     "text": [
      "\t\t # hidden neurons = 3\n",
      "\t\t # hidden neurons = 4\n"
     ]
    },
    {
     "name": "stderr",
     "output_type": "stream",
     "text": [
      "C:\\Anaconda\\envs\\env_eosc510\\lib\\site-packages\\sklearn\\neural_network\\_multilayer_perceptron.py:542: UserWarning: Got `batch_size` less than 1 or larger than sample size. It is going to be clipped\n",
      "  warnings.warn(\"Got `batch_size` less than 1 or larger than \"\n",
      "C:\\Anaconda\\envs\\env_eosc510\\lib\\site-packages\\sklearn\\neural_network\\_multilayer_perceptron.py:542: UserWarning: Got `batch_size` less than 1 or larger than sample size. It is going to be clipped\n",
      "  warnings.warn(\"Got `batch_size` less than 1 or larger than \"\n",
      "C:\\Anaconda\\envs\\env_eosc510\\lib\\site-packages\\sklearn\\neural_network\\_multilayer_perceptron.py:614: ConvergenceWarning: Stochastic Optimizer: Maximum iterations (3000) reached and the optimization hasn't converged yet.\n",
      "  warnings.warn(\n",
      "C:\\Anaconda\\envs\\env_eosc510\\lib\\site-packages\\sklearn\\neural_network\\_multilayer_perceptron.py:542: UserWarning: Got `batch_size` less than 1 or larger than sample size. It is going to be clipped\n",
      "  warnings.warn(\"Got `batch_size` less than 1 or larger than \"\n"
     ]
    },
    {
     "name": "stdout",
     "output_type": "stream",
     "text": [
      "\t\t # hidden neurons = 5\n",
      "\t\t # hidden neurons = 6\n"
     ]
    },
    {
     "name": "stderr",
     "output_type": "stream",
     "text": [
      "C:\\Anaconda\\envs\\env_eosc510\\lib\\site-packages\\sklearn\\neural_network\\_multilayer_perceptron.py:542: UserWarning: Got `batch_size` less than 1 or larger than sample size. It is going to be clipped\n",
      "  warnings.warn(\"Got `batch_size` less than 1 or larger than \"\n"
     ]
    },
    {
     "name": "stdout",
     "output_type": "stream",
     "text": [
      "\t\t # hidden neurons = 7\n"
     ]
    },
    {
     "name": "stderr",
     "output_type": "stream",
     "text": [
      "C:\\Anaconda\\envs\\env_eosc510\\lib\\site-packages\\sklearn\\neural_network\\_multilayer_perceptron.py:542: UserWarning: Got `batch_size` less than 1 or larger than sample size. It is going to be clipped\n",
      "  warnings.warn(\"Got `batch_size` less than 1 or larger than \"\n"
     ]
    },
    {
     "name": "stdout",
     "output_type": "stream",
     "text": [
      "\t\t # hidden neurons = 8\n"
     ]
    },
    {
     "name": "stderr",
     "output_type": "stream",
     "text": [
      "C:\\Anaconda\\envs\\env_eosc510\\lib\\site-packages\\sklearn\\neural_network\\_multilayer_perceptron.py:542: UserWarning: Got `batch_size` less than 1 or larger than sample size. It is going to be clipped\n",
      "  warnings.warn(\"Got `batch_size` less than 1 or larger than \"\n"
     ]
    },
    {
     "name": "stdout",
     "output_type": "stream",
     "text": [
      "\t\t # hidden neurons = 9\n"
     ]
    },
    {
     "name": "stderr",
     "output_type": "stream",
     "text": [
      "C:\\Anaconda\\envs\\env_eosc510\\lib\\site-packages\\sklearn\\neural_network\\_multilayer_perceptron.py:542: UserWarning: Got `batch_size` less than 1 or larger than sample size. It is going to be clipped\n",
      "  warnings.warn(\"Got `batch_size` less than 1 or larger than \"\n"
     ]
    },
    {
     "name": "stdout",
     "output_type": "stream",
     "text": [
      "\t\t # hidden neurons = 10\n"
     ]
    },
    {
     "name": "stderr",
     "output_type": "stream",
     "text": [
      "C:\\Anaconda\\envs\\env_eosc510\\lib\\site-packages\\sklearn\\neural_network\\_multilayer_perceptron.py:542: UserWarning: Got `batch_size` less than 1 or larger than sample size. It is going to be clipped\n",
      "  warnings.warn(\"Got `batch_size` less than 1 or larger than \"\n"
     ]
    },
    {
     "name": "stdout",
     "output_type": "stream",
     "text": [
      "\t\t # hidden neurons = 11\n"
     ]
    },
    {
     "name": "stderr",
     "output_type": "stream",
     "text": [
      "C:\\Anaconda\\envs\\env_eosc510\\lib\\site-packages\\sklearn\\neural_network\\_multilayer_perceptron.py:542: UserWarning: Got `batch_size` less than 1 or larger than sample size. It is going to be clipped\n",
      "  warnings.warn(\"Got `batch_size` less than 1 or larger than \"\n",
      "C:\\Anaconda\\envs\\env_eosc510\\lib\\site-packages\\sklearn\\neural_network\\_multilayer_perceptron.py:542: UserWarning: Got `batch_size` less than 1 or larger than sample size. It is going to be clipped\n",
      "  warnings.warn(\"Got `batch_size` less than 1 or larger than \"\n",
      "C:\\Anaconda\\envs\\env_eosc510\\lib\\site-packages\\sklearn\\neural_network\\_multilayer_perceptron.py:542: UserWarning: Got `batch_size` less than 1 or larger than sample size. It is going to be clipped\n",
      "  warnings.warn(\"Got `batch_size` less than 1 or larger than \"\n",
      "C:\\Anaconda\\envs\\env_eosc510\\lib\\site-packages\\sklearn\\neural_network\\_multilayer_perceptron.py:542: UserWarning: Got `batch_size` less than 1 or larger than sample size. It is going to be clipped\n",
      "  warnings.warn(\"Got `batch_size` less than 1 or larger than \"\n",
      "C:\\Anaconda\\envs\\env_eosc510\\lib\\site-packages\\sklearn\\neural_network\\_multilayer_perceptron.py:542: UserWarning: Got `batch_size` less than 1 or larger than sample size. It is going to be clipped\n",
      "  warnings.warn(\"Got `batch_size` less than 1 or larger than \"\n",
      "C:\\Anaconda\\envs\\env_eosc510\\lib\\site-packages\\sklearn\\neural_network\\_multilayer_perceptron.py:542: UserWarning: Got `batch_size` less than 1 or larger than sample size. It is going to be clipped\n",
      "  warnings.warn(\"Got `batch_size` less than 1 or larger than \"\n",
      "C:\\Anaconda\\envs\\env_eosc510\\lib\\site-packages\\sklearn\\neural_network\\_multilayer_perceptron.py:542: UserWarning: Got `batch_size` less than 1 or larger than sample size. It is going to be clipped\n",
      "  warnings.warn(\"Got `batch_size` less than 1 or larger than \"\n",
      "C:\\Anaconda\\envs\\env_eosc510\\lib\\site-packages\\sklearn\\neural_network\\_multilayer_perceptron.py:542: UserWarning: Got `batch_size` less than 1 or larger than sample size. It is going to be clipped\n",
      "  warnings.warn(\"Got `batch_size` less than 1 or larger than \"\n"
     ]
    },
    {
     "name": "stdout",
     "output_type": "stream",
     "text": [
      "\t BEST: 8 hidden layers, 4 hidden neurons\n",
      "Model Number: 8\n",
      "\t # Hidden Layers = 1\n",
      "\t\t # hidden neurons = 1\n",
      "\t\t # hidden neurons = 2\n",
      "\t\t # hidden neurons = 3\n",
      "\t\t # hidden neurons = 4\n",
      "\t\t # hidden neurons = 5\n",
      "\t\t # hidden neurons = 6\n",
      "\t\t # hidden neurons = 7\n",
      "\t\t # hidden neurons = 8\n",
      "\t\t # hidden neurons = 9\n",
      "\t\t # hidden neurons = 10\n"
     ]
    },
    {
     "name": "stderr",
     "output_type": "stream",
     "text": [
      "C:\\Anaconda\\envs\\env_eosc510\\lib\\site-packages\\sklearn\\neural_network\\_multilayer_perceptron.py:542: UserWarning: Got `batch_size` less than 1 or larger than sample size. It is going to be clipped\n",
      "  warnings.warn(\"Got `batch_size` less than 1 or larger than \"\n",
      "C:\\Anaconda\\envs\\env_eosc510\\lib\\site-packages\\sklearn\\neural_network\\_multilayer_perceptron.py:542: UserWarning: Got `batch_size` less than 1 or larger than sample size. It is going to be clipped\n",
      "  warnings.warn(\"Got `batch_size` less than 1 or larger than \"\n",
      "C:\\Anaconda\\envs\\env_eosc510\\lib\\site-packages\\sklearn\\neural_network\\_multilayer_perceptron.py:542: UserWarning: Got `batch_size` less than 1 or larger than sample size. It is going to be clipped\n",
      "  warnings.warn(\"Got `batch_size` less than 1 or larger than \"\n",
      "C:\\Anaconda\\envs\\env_eosc510\\lib\\site-packages\\sklearn\\neural_network\\_multilayer_perceptron.py:614: ConvergenceWarning: Stochastic Optimizer: Maximum iterations (3000) reached and the optimization hasn't converged yet.\n",
      "  warnings.warn(\n",
      "C:\\Anaconda\\envs\\env_eosc510\\lib\\site-packages\\sklearn\\neural_network\\_multilayer_perceptron.py:542: UserWarning: Got `batch_size` less than 1 or larger than sample size. It is going to be clipped\n",
      "  warnings.warn(\"Got `batch_size` less than 1 or larger than \"\n",
      "C:\\Anaconda\\envs\\env_eosc510\\lib\\site-packages\\sklearn\\neural_network\\_multilayer_perceptron.py:542: UserWarning: Got `batch_size` less than 1 or larger than sample size. It is going to be clipped\n",
      "  warnings.warn(\"Got `batch_size` less than 1 or larger than \"\n",
      "C:\\Anaconda\\envs\\env_eosc510\\lib\\site-packages\\sklearn\\neural_network\\_multilayer_perceptron.py:542: UserWarning: Got `batch_size` less than 1 or larger than sample size. It is going to be clipped\n",
      "  warnings.warn(\"Got `batch_size` less than 1 or larger than \"\n",
      "C:\\Anaconda\\envs\\env_eosc510\\lib\\site-packages\\sklearn\\neural_network\\_multilayer_perceptron.py:542: UserWarning: Got `batch_size` less than 1 or larger than sample size. It is going to be clipped\n",
      "  warnings.warn(\"Got `batch_size` less than 1 or larger than \"\n",
      "C:\\Anaconda\\envs\\env_eosc510\\lib\\site-packages\\sklearn\\neural_network\\_multilayer_perceptron.py:542: UserWarning: Got `batch_size` less than 1 or larger than sample size. It is going to be clipped\n",
      "  warnings.warn(\"Got `batch_size` less than 1 or larger than \"\n"
     ]
    },
    {
     "name": "stdout",
     "output_type": "stream",
     "text": [
      "\t\t # hidden neurons = 11\n",
      "\t # Hidden Layers = 2\n",
      "\t\t # hidden neurons = 1\n",
      "\t\t # hidden neurons = 2\n",
      "\t\t # hidden neurons = 3\n",
      "\t\t # hidden neurons = 4\n",
      "\t\t # hidden neurons = 5\n"
     ]
    },
    {
     "name": "stderr",
     "output_type": "stream",
     "text": [
      "C:\\Anaconda\\envs\\env_eosc510\\lib\\site-packages\\sklearn\\neural_network\\_multilayer_perceptron.py:542: UserWarning: Got `batch_size` less than 1 or larger than sample size. It is going to be clipped\n",
      "  warnings.warn(\"Got `batch_size` less than 1 or larger than \"\n"
     ]
    },
    {
     "name": "stdout",
     "output_type": "stream",
     "text": [
      "\t\t # hidden neurons = 6\n",
      "\t\t # hidden neurons = 7\n",
      "\t\t # hidden neurons = 8\n"
     ]
    },
    {
     "name": "stderr",
     "output_type": "stream",
     "text": [
      "C:\\Anaconda\\envs\\env_eosc510\\lib\\site-packages\\sklearn\\neural_network\\_multilayer_perceptron.py:542: UserWarning: Got `batch_size` less than 1 or larger than sample size. It is going to be clipped\n",
      "  warnings.warn(\"Got `batch_size` less than 1 or larger than \"\n",
      "C:\\Anaconda\\envs\\env_eosc510\\lib\\site-packages\\sklearn\\neural_network\\_multilayer_perceptron.py:542: UserWarning: Got `batch_size` less than 1 or larger than sample size. It is going to be clipped\n",
      "  warnings.warn(\"Got `batch_size` less than 1 or larger than \"\n",
      "C:\\Anaconda\\envs\\env_eosc510\\lib\\site-packages\\sklearn\\neural_network\\_multilayer_perceptron.py:542: UserWarning: Got `batch_size` less than 1 or larger than sample size. It is going to be clipped\n",
      "  warnings.warn(\"Got `batch_size` less than 1 or larger than \"\n",
      "C:\\Anaconda\\envs\\env_eosc510\\lib\\site-packages\\sklearn\\neural_network\\_multilayer_perceptron.py:614: ConvergenceWarning: Stochastic Optimizer: Maximum iterations (3000) reached and the optimization hasn't converged yet.\n",
      "  warnings.warn(\n",
      "C:\\Anaconda\\envs\\env_eosc510\\lib\\site-packages\\sklearn\\neural_network\\_multilayer_perceptron.py:542: UserWarning: Got `batch_size` less than 1 or larger than sample size. It is going to be clipped\n",
      "  warnings.warn(\"Got `batch_size` less than 1 or larger than \"\n",
      "C:\\Anaconda\\envs\\env_eosc510\\lib\\site-packages\\sklearn\\neural_network\\_multilayer_perceptron.py:542: UserWarning: Got `batch_size` less than 1 or larger than sample size. It is going to be clipped\n",
      "  warnings.warn(\"Got `batch_size` less than 1 or larger than \"\n"
     ]
    },
    {
     "name": "stdout",
     "output_type": "stream",
     "text": [
      "\t\t # hidden neurons = 9\n",
      "\t\t # hidden neurons = 10\n",
      "\t\t # hidden neurons = 11\n"
     ]
    },
    {
     "name": "stderr",
     "output_type": "stream",
     "text": [
      "C:\\Anaconda\\envs\\env_eosc510\\lib\\site-packages\\sklearn\\neural_network\\_multilayer_perceptron.py:542: UserWarning: Got `batch_size` less than 1 or larger than sample size. It is going to be clipped\n",
      "  warnings.warn(\"Got `batch_size` less than 1 or larger than \"\n"
     ]
    },
    {
     "name": "stdout",
     "output_type": "stream",
     "text": [
      "\t # Hidden Layers = 3\n",
      "\t\t # hidden neurons = 1\n"
     ]
    },
    {
     "name": "stderr",
     "output_type": "stream",
     "text": [
      "C:\\Anaconda\\envs\\env_eosc510\\lib\\site-packages\\sklearn\\neural_network\\_multilayer_perceptron.py:542: UserWarning: Got `batch_size` less than 1 or larger than sample size. It is going to be clipped\n",
      "  warnings.warn(\"Got `batch_size` less than 1 or larger than \"\n"
     ]
    },
    {
     "name": "stdout",
     "output_type": "stream",
     "text": [
      "\t\t # hidden neurons = 2\n",
      "\t\t # hidden neurons = 3\n"
     ]
    },
    {
     "name": "stderr",
     "output_type": "stream",
     "text": [
      "C:\\Anaconda\\envs\\env_eosc510\\lib\\site-packages\\sklearn\\neural_network\\_multilayer_perceptron.py:542: UserWarning: Got `batch_size` less than 1 or larger than sample size. It is going to be clipped\n",
      "  warnings.warn(\"Got `batch_size` less than 1 or larger than \"\n",
      "C:\\Anaconda\\envs\\env_eosc510\\lib\\site-packages\\sklearn\\neural_network\\_multilayer_perceptron.py:542: UserWarning: Got `batch_size` less than 1 or larger than sample size. It is going to be clipped\n",
      "  warnings.warn(\"Got `batch_size` less than 1 or larger than \"\n"
     ]
    },
    {
     "name": "stdout",
     "output_type": "stream",
     "text": [
      "\t\t # hidden neurons = 4\n",
      "\t\t # hidden neurons = 5\n",
      "\t\t # hidden neurons = 6\n"
     ]
    },
    {
     "name": "stderr",
     "output_type": "stream",
     "text": [
      "C:\\Anaconda\\envs\\env_eosc510\\lib\\site-packages\\sklearn\\neural_network\\_multilayer_perceptron.py:542: UserWarning: Got `batch_size` less than 1 or larger than sample size. It is going to be clipped\n",
      "  warnings.warn(\"Got `batch_size` less than 1 or larger than \"\n",
      "C:\\Anaconda\\envs\\env_eosc510\\lib\\site-packages\\sklearn\\neural_network\\_multilayer_perceptron.py:542: UserWarning: Got `batch_size` less than 1 or larger than sample size. It is going to be clipped\n",
      "  warnings.warn(\"Got `batch_size` less than 1 or larger than \"\n",
      "C:\\Anaconda\\envs\\env_eosc510\\lib\\site-packages\\sklearn\\neural_network\\_multilayer_perceptron.py:542: UserWarning: Got `batch_size` less than 1 or larger than sample size. It is going to be clipped\n",
      "  warnings.warn(\"Got `batch_size` less than 1 or larger than \"\n"
     ]
    },
    {
     "name": "stdout",
     "output_type": "stream",
     "text": [
      "\t\t # hidden neurons = 7\n"
     ]
    },
    {
     "name": "stderr",
     "output_type": "stream",
     "text": [
      "C:\\Anaconda\\envs\\env_eosc510\\lib\\site-packages\\sklearn\\neural_network\\_multilayer_perceptron.py:542: UserWarning: Got `batch_size` less than 1 or larger than sample size. It is going to be clipped\n",
      "  warnings.warn(\"Got `batch_size` less than 1 or larger than \"\n"
     ]
    },
    {
     "name": "stdout",
     "output_type": "stream",
     "text": [
      "\t\t # hidden neurons = 8\n"
     ]
    },
    {
     "name": "stderr",
     "output_type": "stream",
     "text": [
      "C:\\Anaconda\\envs\\env_eosc510\\lib\\site-packages\\sklearn\\neural_network\\_multilayer_perceptron.py:542: UserWarning: Got `batch_size` less than 1 or larger than sample size. It is going to be clipped\n",
      "  warnings.warn(\"Got `batch_size` less than 1 or larger than \"\n",
      "C:\\Anaconda\\envs\\env_eosc510\\lib\\site-packages\\sklearn\\neural_network\\_multilayer_perceptron.py:614: ConvergenceWarning: Stochastic Optimizer: Maximum iterations (3000) reached and the optimization hasn't converged yet.\n",
      "  warnings.warn(\n",
      "C:\\Anaconda\\envs\\env_eosc510\\lib\\site-packages\\sklearn\\neural_network\\_multilayer_perceptron.py:542: UserWarning: Got `batch_size` less than 1 or larger than sample size. It is going to be clipped\n",
      "  warnings.warn(\"Got `batch_size` less than 1 or larger than \"\n"
     ]
    },
    {
     "name": "stdout",
     "output_type": "stream",
     "text": [
      "\t\t # hidden neurons = 9\n",
      "\t\t # hidden neurons = 10\n",
      "\t\t # hidden neurons = 11\n",
      "\t # Hidden Layers = 4\n",
      "\t\t # hidden neurons = 1\n",
      "\t\t # hidden neurons = 2\n",
      "\t\t # hidden neurons = 3\n",
      "\t\t # hidden neurons = 4\n",
      "\t\t # hidden neurons = 5\n"
     ]
    },
    {
     "name": "stderr",
     "output_type": "stream",
     "text": [
      "C:\\Anaconda\\envs\\env_eosc510\\lib\\site-packages\\sklearn\\neural_network\\_multilayer_perceptron.py:542: UserWarning: Got `batch_size` less than 1 or larger than sample size. It is going to be clipped\n",
      "  warnings.warn(\"Got `batch_size` less than 1 or larger than \"\n",
      "C:\\Anaconda\\envs\\env_eosc510\\lib\\site-packages\\sklearn\\neural_network\\_multilayer_perceptron.py:542: UserWarning: Got `batch_size` less than 1 or larger than sample size. It is going to be clipped\n",
      "  warnings.warn(\"Got `batch_size` less than 1 or larger than \"\n",
      "C:\\Anaconda\\envs\\env_eosc510\\lib\\site-packages\\sklearn\\neural_network\\_multilayer_perceptron.py:542: UserWarning: Got `batch_size` less than 1 or larger than sample size. It is going to be clipped\n",
      "  warnings.warn(\"Got `batch_size` less than 1 or larger than \"\n",
      "C:\\Anaconda\\envs\\env_eosc510\\lib\\site-packages\\sklearn\\neural_network\\_multilayer_perceptron.py:542: UserWarning: Got `batch_size` less than 1 or larger than sample size. It is going to be clipped\n",
      "  warnings.warn(\"Got `batch_size` less than 1 or larger than \"\n",
      "C:\\Anaconda\\envs\\env_eosc510\\lib\\site-packages\\sklearn\\neural_network\\_multilayer_perceptron.py:542: UserWarning: Got `batch_size` less than 1 or larger than sample size. It is going to be clipped\n",
      "  warnings.warn(\"Got `batch_size` less than 1 or larger than \"\n",
      "C:\\Anaconda\\envs\\env_eosc510\\lib\\site-packages\\sklearn\\neural_network\\_multilayer_perceptron.py:542: UserWarning: Got `batch_size` less than 1 or larger than sample size. It is going to be clipped\n",
      "  warnings.warn(\"Got `batch_size` less than 1 or larger than \"\n",
      "C:\\Anaconda\\envs\\env_eosc510\\lib\\site-packages\\sklearn\\neural_network\\_multilayer_perceptron.py:542: UserWarning: Got `batch_size` less than 1 or larger than sample size. It is going to be clipped\n",
      "  warnings.warn(\"Got `batch_size` less than 1 or larger than \"\n"
     ]
    },
    {
     "name": "stdout",
     "output_type": "stream",
     "text": [
      "\t\t # hidden neurons = 6\n",
      "\t\t # hidden neurons = 7\n"
     ]
    },
    {
     "name": "stderr",
     "output_type": "stream",
     "text": [
      "C:\\Anaconda\\envs\\env_eosc510\\lib\\site-packages\\sklearn\\neural_network\\_multilayer_perceptron.py:542: UserWarning: Got `batch_size` less than 1 or larger than sample size. It is going to be clipped\n",
      "  warnings.warn(\"Got `batch_size` less than 1 or larger than \"\n",
      "C:\\Anaconda\\envs\\env_eosc510\\lib\\site-packages\\sklearn\\neural_network\\_multilayer_perceptron.py:542: UserWarning: Got `batch_size` less than 1 or larger than sample size. It is going to be clipped\n",
      "  warnings.warn(\"Got `batch_size` less than 1 or larger than \"\n"
     ]
    },
    {
     "name": "stdout",
     "output_type": "stream",
     "text": [
      "\t\t # hidden neurons = 8\n"
     ]
    },
    {
     "name": "stderr",
     "output_type": "stream",
     "text": [
      "C:\\Anaconda\\envs\\env_eosc510\\lib\\site-packages\\sklearn\\neural_network\\_multilayer_perceptron.py:542: UserWarning: Got `batch_size` less than 1 or larger than sample size. It is going to be clipped\n",
      "  warnings.warn(\"Got `batch_size` less than 1 or larger than \"\n"
     ]
    },
    {
     "name": "stdout",
     "output_type": "stream",
     "text": [
      "\t\t # hidden neurons = 9\n"
     ]
    },
    {
     "name": "stderr",
     "output_type": "stream",
     "text": [
      "C:\\Anaconda\\envs\\env_eosc510\\lib\\site-packages\\sklearn\\neural_network\\_multilayer_perceptron.py:542: UserWarning: Got `batch_size` less than 1 or larger than sample size. It is going to be clipped\n",
      "  warnings.warn(\"Got `batch_size` less than 1 or larger than \"\n"
     ]
    },
    {
     "name": "stdout",
     "output_type": "stream",
     "text": [
      "\t\t # hidden neurons = 10\n",
      "\t\t # hidden neurons = 11\n"
     ]
    },
    {
     "name": "stderr",
     "output_type": "stream",
     "text": [
      "C:\\Anaconda\\envs\\env_eosc510\\lib\\site-packages\\sklearn\\neural_network\\_multilayer_perceptron.py:542: UserWarning: Got `batch_size` less than 1 or larger than sample size. It is going to be clipped\n",
      "  warnings.warn(\"Got `batch_size` less than 1 or larger than \"\n",
      "C:\\Anaconda\\envs\\env_eosc510\\lib\\site-packages\\sklearn\\neural_network\\_multilayer_perceptron.py:542: UserWarning: Got `batch_size` less than 1 or larger than sample size. It is going to be clipped\n",
      "  warnings.warn(\"Got `batch_size` less than 1 or larger than \"\n"
     ]
    },
    {
     "name": "stdout",
     "output_type": "stream",
     "text": [
      "\t # Hidden Layers = 5\n",
      "\t\t # hidden neurons = 1\n",
      "\t\t # hidden neurons = 2\n"
     ]
    },
    {
     "name": "stderr",
     "output_type": "stream",
     "text": [
      "C:\\Anaconda\\envs\\env_eosc510\\lib\\site-packages\\sklearn\\neural_network\\_multilayer_perceptron.py:542: UserWarning: Got `batch_size` less than 1 or larger than sample size. It is going to be clipped\n",
      "  warnings.warn(\"Got `batch_size` less than 1 or larger than \"\n",
      "C:\\Anaconda\\envs\\env_eosc510\\lib\\site-packages\\sklearn\\neural_network\\_multilayer_perceptron.py:542: UserWarning: Got `batch_size` less than 1 or larger than sample size. It is going to be clipped\n",
      "  warnings.warn(\"Got `batch_size` less than 1 or larger than \"\n"
     ]
    },
    {
     "name": "stdout",
     "output_type": "stream",
     "text": [
      "\t\t # hidden neurons = 3\n",
      "\t\t # hidden neurons = 4\n"
     ]
    },
    {
     "name": "stderr",
     "output_type": "stream",
     "text": [
      "C:\\Anaconda\\envs\\env_eosc510\\lib\\site-packages\\sklearn\\neural_network\\_multilayer_perceptron.py:542: UserWarning: Got `batch_size` less than 1 or larger than sample size. It is going to be clipped\n",
      "  warnings.warn(\"Got `batch_size` less than 1 or larger than \"\n",
      "C:\\Anaconda\\envs\\env_eosc510\\lib\\site-packages\\sklearn\\neural_network\\_multilayer_perceptron.py:542: UserWarning: Got `batch_size` less than 1 or larger than sample size. It is going to be clipped\n",
      "  warnings.warn(\"Got `batch_size` less than 1 or larger than \"\n"
     ]
    },
    {
     "name": "stdout",
     "output_type": "stream",
     "text": [
      "\t\t # hidden neurons = 5\n"
     ]
    },
    {
     "name": "stderr",
     "output_type": "stream",
     "text": [
      "C:\\Anaconda\\envs\\env_eosc510\\lib\\site-packages\\sklearn\\neural_network\\_multilayer_perceptron.py:542: UserWarning: Got `batch_size` less than 1 or larger than sample size. It is going to be clipped\n",
      "  warnings.warn(\"Got `batch_size` less than 1 or larger than \"\n"
     ]
    },
    {
     "name": "stdout",
     "output_type": "stream",
     "text": [
      "\t\t # hidden neurons = 6\n"
     ]
    },
    {
     "name": "stderr",
     "output_type": "stream",
     "text": [
      "C:\\Anaconda\\envs\\env_eosc510\\lib\\site-packages\\sklearn\\neural_network\\_multilayer_perceptron.py:542: UserWarning: Got `batch_size` less than 1 or larger than sample size. It is going to be clipped\n",
      "  warnings.warn(\"Got `batch_size` less than 1 or larger than \"\n"
     ]
    },
    {
     "name": "stdout",
     "output_type": "stream",
     "text": [
      "\t\t # hidden neurons = 7\n"
     ]
    },
    {
     "name": "stderr",
     "output_type": "stream",
     "text": [
      "C:\\Anaconda\\envs\\env_eosc510\\lib\\site-packages\\sklearn\\neural_network\\_multilayer_perceptron.py:542: UserWarning: Got `batch_size` less than 1 or larger than sample size. It is going to be clipped\n",
      "  warnings.warn(\"Got `batch_size` less than 1 or larger than \"\n"
     ]
    },
    {
     "name": "stdout",
     "output_type": "stream",
     "text": [
      "\t\t # hidden neurons = 8\n"
     ]
    },
    {
     "name": "stderr",
     "output_type": "stream",
     "text": [
      "C:\\Anaconda\\envs\\env_eosc510\\lib\\site-packages\\sklearn\\neural_network\\_multilayer_perceptron.py:542: UserWarning: Got `batch_size` less than 1 or larger than sample size. It is going to be clipped\n",
      "  warnings.warn(\"Got `batch_size` less than 1 or larger than \"\n"
     ]
    },
    {
     "name": "stdout",
     "output_type": "stream",
     "text": [
      "\t\t # hidden neurons = 9\n",
      "\t\t # hidden neurons = 10\n"
     ]
    },
    {
     "name": "stderr",
     "output_type": "stream",
     "text": [
      "C:\\Anaconda\\envs\\env_eosc510\\lib\\site-packages\\sklearn\\neural_network\\_multilayer_perceptron.py:542: UserWarning: Got `batch_size` less than 1 or larger than sample size. It is going to be clipped\n",
      "  warnings.warn(\"Got `batch_size` less than 1 or larger than \"\n",
      "C:\\Anaconda\\envs\\env_eosc510\\lib\\site-packages\\sklearn\\neural_network\\_multilayer_perceptron.py:542: UserWarning: Got `batch_size` less than 1 or larger than sample size. It is going to be clipped\n",
      "  warnings.warn(\"Got `batch_size` less than 1 or larger than \"\n"
     ]
    },
    {
     "name": "stdout",
     "output_type": "stream",
     "text": [
      "\t\t # hidden neurons = 11\n",
      "\t # Hidden Layers = 6\n",
      "\t\t # hidden neurons = 1\n",
      "\t\t # hidden neurons = 2\n"
     ]
    },
    {
     "name": "stderr",
     "output_type": "stream",
     "text": [
      "C:\\Anaconda\\envs\\env_eosc510\\lib\\site-packages\\sklearn\\neural_network\\_multilayer_perceptron.py:542: UserWarning: Got `batch_size` less than 1 or larger than sample size. It is going to be clipped\n",
      "  warnings.warn(\"Got `batch_size` less than 1 or larger than \"\n",
      "C:\\Anaconda\\envs\\env_eosc510\\lib\\site-packages\\sklearn\\neural_network\\_multilayer_perceptron.py:542: UserWarning: Got `batch_size` less than 1 or larger than sample size. It is going to be clipped\n",
      "  warnings.warn(\"Got `batch_size` less than 1 or larger than \"\n",
      "C:\\Anaconda\\envs\\env_eosc510\\lib\\site-packages\\sklearn\\neural_network\\_multilayer_perceptron.py:542: UserWarning: Got `batch_size` less than 1 or larger than sample size. It is going to be clipped\n",
      "  warnings.warn(\"Got `batch_size` less than 1 or larger than \"\n"
     ]
    },
    {
     "name": "stdout",
     "output_type": "stream",
     "text": [
      "\t\t # hidden neurons = 3\n",
      "\t\t # hidden neurons = 4\n"
     ]
    },
    {
     "name": "stderr",
     "output_type": "stream",
     "text": [
      "C:\\Anaconda\\envs\\env_eosc510\\lib\\site-packages\\sklearn\\neural_network\\_multilayer_perceptron.py:542: UserWarning: Got `batch_size` less than 1 or larger than sample size. It is going to be clipped\n",
      "  warnings.warn(\"Got `batch_size` less than 1 or larger than \"\n",
      "C:\\Anaconda\\envs\\env_eosc510\\lib\\site-packages\\sklearn\\neural_network\\_multilayer_perceptron.py:542: UserWarning: Got `batch_size` less than 1 or larger than sample size. It is going to be clipped\n",
      "  warnings.warn(\"Got `batch_size` less than 1 or larger than \"\n"
     ]
    },
    {
     "name": "stdout",
     "output_type": "stream",
     "text": [
      "\t\t # hidden neurons = 5\n",
      "\t\t # hidden neurons = 6\n",
      "\t\t # hidden neurons = 7\n"
     ]
    },
    {
     "name": "stderr",
     "output_type": "stream",
     "text": [
      "C:\\Anaconda\\envs\\env_eosc510\\lib\\site-packages\\sklearn\\neural_network\\_multilayer_perceptron.py:542: UserWarning: Got `batch_size` less than 1 or larger than sample size. It is going to be clipped\n",
      "  warnings.warn(\"Got `batch_size` less than 1 or larger than \"\n",
      "C:\\Anaconda\\envs\\env_eosc510\\lib\\site-packages\\sklearn\\neural_network\\_multilayer_perceptron.py:542: UserWarning: Got `batch_size` less than 1 or larger than sample size. It is going to be clipped\n",
      "  warnings.warn(\"Got `batch_size` less than 1 or larger than \"\n",
      "C:\\Anaconda\\envs\\env_eosc510\\lib\\site-packages\\sklearn\\neural_network\\_multilayer_perceptron.py:542: UserWarning: Got `batch_size` less than 1 or larger than sample size. It is going to be clipped\n",
      "  warnings.warn(\"Got `batch_size` less than 1 or larger than \"\n"
     ]
    },
    {
     "name": "stdout",
     "output_type": "stream",
     "text": [
      "\t\t # hidden neurons = 8\n"
     ]
    },
    {
     "name": "stderr",
     "output_type": "stream",
     "text": [
      "C:\\Anaconda\\envs\\env_eosc510\\lib\\site-packages\\sklearn\\neural_network\\_multilayer_perceptron.py:542: UserWarning: Got `batch_size` less than 1 or larger than sample size. It is going to be clipped\n",
      "  warnings.warn(\"Got `batch_size` less than 1 or larger than \"\n"
     ]
    },
    {
     "name": "stdout",
     "output_type": "stream",
     "text": [
      "\t\t # hidden neurons = 9\n",
      "\t\t # hidden neurons = 10\n",
      "\t\t # hidden neurons = 11\n"
     ]
    },
    {
     "name": "stderr",
     "output_type": "stream",
     "text": [
      "C:\\Anaconda\\envs\\env_eosc510\\lib\\site-packages\\sklearn\\neural_network\\_multilayer_perceptron.py:542: UserWarning: Got `batch_size` less than 1 or larger than sample size. It is going to be clipped\n",
      "  warnings.warn(\"Got `batch_size` less than 1 or larger than \"\n",
      "C:\\Anaconda\\envs\\env_eosc510\\lib\\site-packages\\sklearn\\neural_network\\_multilayer_perceptron.py:542: UserWarning: Got `batch_size` less than 1 or larger than sample size. It is going to be clipped\n",
      "  warnings.warn(\"Got `batch_size` less than 1 or larger than \"\n",
      "C:\\Anaconda\\envs\\env_eosc510\\lib\\site-packages\\sklearn\\neural_network\\_multilayer_perceptron.py:542: UserWarning: Got `batch_size` less than 1 or larger than sample size. It is going to be clipped\n",
      "  warnings.warn(\"Got `batch_size` less than 1 or larger than \"\n"
     ]
    },
    {
     "name": "stdout",
     "output_type": "stream",
     "text": [
      "\t # Hidden Layers = 7\n",
      "\t\t # hidden neurons = 1\n"
     ]
    },
    {
     "name": "stderr",
     "output_type": "stream",
     "text": [
      "C:\\Anaconda\\envs\\env_eosc510\\lib\\site-packages\\sklearn\\neural_network\\_multilayer_perceptron.py:542: UserWarning: Got `batch_size` less than 1 or larger than sample size. It is going to be clipped\n",
      "  warnings.warn(\"Got `batch_size` less than 1 or larger than \"\n"
     ]
    },
    {
     "name": "stdout",
     "output_type": "stream",
     "text": [
      "\t\t # hidden neurons = 2\n",
      "\t\t # hidden neurons = 3\n"
     ]
    },
    {
     "name": "stderr",
     "output_type": "stream",
     "text": [
      "C:\\Anaconda\\envs\\env_eosc510\\lib\\site-packages\\sklearn\\neural_network\\_multilayer_perceptron.py:542: UserWarning: Got `batch_size` less than 1 or larger than sample size. It is going to be clipped\n",
      "  warnings.warn(\"Got `batch_size` less than 1 or larger than \"\n",
      "C:\\Anaconda\\envs\\env_eosc510\\lib\\site-packages\\sklearn\\neural_network\\_multilayer_perceptron.py:542: UserWarning: Got `batch_size` less than 1 or larger than sample size. It is going to be clipped\n",
      "  warnings.warn(\"Got `batch_size` less than 1 or larger than \"\n"
     ]
    },
    {
     "name": "stdout",
     "output_type": "stream",
     "text": [
      "\t\t # hidden neurons = 4\n",
      "\t\t # hidden neurons = 5\n"
     ]
    },
    {
     "name": "stderr",
     "output_type": "stream",
     "text": [
      "C:\\Anaconda\\envs\\env_eosc510\\lib\\site-packages\\sklearn\\neural_network\\_multilayer_perceptron.py:542: UserWarning: Got `batch_size` less than 1 or larger than sample size. It is going to be clipped\n",
      "  warnings.warn(\"Got `batch_size` less than 1 or larger than \"\n",
      "C:\\Anaconda\\envs\\env_eosc510\\lib\\site-packages\\sklearn\\neural_network\\_multilayer_perceptron.py:542: UserWarning: Got `batch_size` less than 1 or larger than sample size. It is going to be clipped\n",
      "  warnings.warn(\"Got `batch_size` less than 1 or larger than \"\n"
     ]
    },
    {
     "name": "stdout",
     "output_type": "stream",
     "text": [
      "\t\t # hidden neurons = 6\n"
     ]
    },
    {
     "name": "stderr",
     "output_type": "stream",
     "text": [
      "C:\\Anaconda\\envs\\env_eosc510\\lib\\site-packages\\sklearn\\neural_network\\_multilayer_perceptron.py:542: UserWarning: Got `batch_size` less than 1 or larger than sample size. It is going to be clipped\n",
      "  warnings.warn(\"Got `batch_size` less than 1 or larger than \"\n"
     ]
    },
    {
     "name": "stdout",
     "output_type": "stream",
     "text": [
      "\t\t # hidden neurons = 7\n",
      "\t\t # hidden neurons = 8\n"
     ]
    },
    {
     "name": "stderr",
     "output_type": "stream",
     "text": [
      "C:\\Anaconda\\envs\\env_eosc510\\lib\\site-packages\\sklearn\\neural_network\\_multilayer_perceptron.py:542: UserWarning: Got `batch_size` less than 1 or larger than sample size. It is going to be clipped\n",
      "  warnings.warn(\"Got `batch_size` less than 1 or larger than \"\n",
      "C:\\Anaconda\\envs\\env_eosc510\\lib\\site-packages\\sklearn\\neural_network\\_multilayer_perceptron.py:542: UserWarning: Got `batch_size` less than 1 or larger than sample size. It is going to be clipped\n",
      "  warnings.warn(\"Got `batch_size` less than 1 or larger than \"\n"
     ]
    },
    {
     "name": "stdout",
     "output_type": "stream",
     "text": [
      "\t\t # hidden neurons = 9\n",
      "\t\t # hidden neurons = 10\n"
     ]
    },
    {
     "name": "stderr",
     "output_type": "stream",
     "text": [
      "C:\\Anaconda\\envs\\env_eosc510\\lib\\site-packages\\sklearn\\neural_network\\_multilayer_perceptron.py:542: UserWarning: Got `batch_size` less than 1 or larger than sample size. It is going to be clipped\n",
      "  warnings.warn(\"Got `batch_size` less than 1 or larger than \"\n",
      "C:\\Anaconda\\envs\\env_eosc510\\lib\\site-packages\\sklearn\\neural_network\\_multilayer_perceptron.py:542: UserWarning: Got `batch_size` less than 1 or larger than sample size. It is going to be clipped\n",
      "  warnings.warn(\"Got `batch_size` less than 1 or larger than \"\n",
      "C:\\Anaconda\\envs\\env_eosc510\\lib\\site-packages\\sklearn\\neural_network\\_multilayer_perceptron.py:542: UserWarning: Got `batch_size` less than 1 or larger than sample size. It is going to be clipped\n",
      "  warnings.warn(\"Got `batch_size` less than 1 or larger than \"\n"
     ]
    },
    {
     "name": "stdout",
     "output_type": "stream",
     "text": [
      "\t\t # hidden neurons = 11\n",
      "\t # Hidden Layers = 8\n",
      "\t\t # hidden neurons = 1\n",
      "\t\t # hidden neurons = 2\n"
     ]
    },
    {
     "name": "stderr",
     "output_type": "stream",
     "text": [
      "C:\\Anaconda\\envs\\env_eosc510\\lib\\site-packages\\sklearn\\neural_network\\_multilayer_perceptron.py:542: UserWarning: Got `batch_size` less than 1 or larger than sample size. It is going to be clipped\n",
      "  warnings.warn(\"Got `batch_size` less than 1 or larger than \"\n",
      "C:\\Anaconda\\envs\\env_eosc510\\lib\\site-packages\\sklearn\\neural_network\\_multilayer_perceptron.py:542: UserWarning: Got `batch_size` less than 1 or larger than sample size. It is going to be clipped\n",
      "  warnings.warn(\"Got `batch_size` less than 1 or larger than \"\n"
     ]
    },
    {
     "name": "stdout",
     "output_type": "stream",
     "text": [
      "\t\t # hidden neurons = 3\n"
     ]
    },
    {
     "name": "stderr",
     "output_type": "stream",
     "text": [
      "C:\\Anaconda\\envs\\env_eosc510\\lib\\site-packages\\sklearn\\neural_network\\_multilayer_perceptron.py:542: UserWarning: Got `batch_size` less than 1 or larger than sample size. It is going to be clipped\n",
      "  warnings.warn(\"Got `batch_size` less than 1 or larger than \"\n"
     ]
    },
    {
     "name": "stdout",
     "output_type": "stream",
     "text": [
      "\t\t # hidden neurons = 4\n",
      "\t\t # hidden neurons = 5\n"
     ]
    },
    {
     "name": "stderr",
     "output_type": "stream",
     "text": [
      "C:\\Anaconda\\envs\\env_eosc510\\lib\\site-packages\\sklearn\\neural_network\\_multilayer_perceptron.py:542: UserWarning: Got `batch_size` less than 1 or larger than sample size. It is going to be clipped\n",
      "  warnings.warn(\"Got `batch_size` less than 1 or larger than \"\n",
      "C:\\Anaconda\\envs\\env_eosc510\\lib\\site-packages\\sklearn\\neural_network\\_multilayer_perceptron.py:542: UserWarning: Got `batch_size` less than 1 or larger than sample size. It is going to be clipped\n",
      "  warnings.warn(\"Got `batch_size` less than 1 or larger than \"\n"
     ]
    },
    {
     "name": "stdout",
     "output_type": "stream",
     "text": [
      "\t\t # hidden neurons = 6\n",
      "\t\t # hidden neurons = 7\n"
     ]
    },
    {
     "name": "stderr",
     "output_type": "stream",
     "text": [
      "C:\\Anaconda\\envs\\env_eosc510\\lib\\site-packages\\sklearn\\neural_network\\_multilayer_perceptron.py:542: UserWarning: Got `batch_size` less than 1 or larger than sample size. It is going to be clipped\n",
      "  warnings.warn(\"Got `batch_size` less than 1 or larger than \"\n",
      "C:\\Anaconda\\envs\\env_eosc510\\lib\\site-packages\\sklearn\\neural_network\\_multilayer_perceptron.py:542: UserWarning: Got `batch_size` less than 1 or larger than sample size. It is going to be clipped\n",
      "  warnings.warn(\"Got `batch_size` less than 1 or larger than \"\n"
     ]
    },
    {
     "name": "stdout",
     "output_type": "stream",
     "text": [
      "\t\t # hidden neurons = 8\n"
     ]
    },
    {
     "name": "stderr",
     "output_type": "stream",
     "text": [
      "C:\\Anaconda\\envs\\env_eosc510\\lib\\site-packages\\sklearn\\neural_network\\_multilayer_perceptron.py:542: UserWarning: Got `batch_size` less than 1 or larger than sample size. It is going to be clipped\n",
      "  warnings.warn(\"Got `batch_size` less than 1 or larger than \"\n"
     ]
    },
    {
     "name": "stdout",
     "output_type": "stream",
     "text": [
      "\t\t # hidden neurons = 9\n"
     ]
    },
    {
     "name": "stderr",
     "output_type": "stream",
     "text": [
      "C:\\Anaconda\\envs\\env_eosc510\\lib\\site-packages\\sklearn\\neural_network\\_multilayer_perceptron.py:542: UserWarning: Got `batch_size` less than 1 or larger than sample size. It is going to be clipped\n",
      "  warnings.warn(\"Got `batch_size` less than 1 or larger than \"\n"
     ]
    },
    {
     "name": "stdout",
     "output_type": "stream",
     "text": [
      "\t\t # hidden neurons = 10\n",
      "\t\t # hidden neurons = 11\n"
     ]
    },
    {
     "name": "stderr",
     "output_type": "stream",
     "text": [
      "C:\\Anaconda\\envs\\env_eosc510\\lib\\site-packages\\sklearn\\neural_network\\_multilayer_perceptron.py:542: UserWarning: Got `batch_size` less than 1 or larger than sample size. It is going to be clipped\n",
      "  warnings.warn(\"Got `batch_size` less than 1 or larger than \"\n",
      "C:\\Anaconda\\envs\\env_eosc510\\lib\\site-packages\\sklearn\\neural_network\\_multilayer_perceptron.py:542: UserWarning: Got `batch_size` less than 1 or larger than sample size. It is going to be clipped\n",
      "  warnings.warn(\"Got `batch_size` less than 1 or larger than \"\n"
     ]
    },
    {
     "name": "stdout",
     "output_type": "stream",
     "text": [
      "\t BEST: 6 hidden layers, 5 hidden neurons\n",
      "Model Number: 9\n",
      "\t # Hidden Layers = 1\n",
      "\t\t # hidden neurons = 1\n"
     ]
    },
    {
     "name": "stderr",
     "output_type": "stream",
     "text": [
      "C:\\Anaconda\\envs\\env_eosc510\\lib\\site-packages\\sklearn\\neural_network\\_multilayer_perceptron.py:542: UserWarning: Got `batch_size` less than 1 or larger than sample size. It is going to be clipped\n",
      "  warnings.warn(\"Got `batch_size` less than 1 or larger than \"\n"
     ]
    },
    {
     "name": "stdout",
     "output_type": "stream",
     "text": [
      "\t\t # hidden neurons = 2\n",
      "\t\t # hidden neurons = 3\n",
      "\t\t # hidden neurons = 4\n"
     ]
    },
    {
     "name": "stderr",
     "output_type": "stream",
     "text": [
      "C:\\Anaconda\\envs\\env_eosc510\\lib\\site-packages\\sklearn\\neural_network\\_multilayer_perceptron.py:542: UserWarning: Got `batch_size` less than 1 or larger than sample size. It is going to be clipped\n",
      "  warnings.warn(\"Got `batch_size` less than 1 or larger than \"\n",
      "C:\\Anaconda\\envs\\env_eosc510\\lib\\site-packages\\sklearn\\neural_network\\_multilayer_perceptron.py:542: UserWarning: Got `batch_size` less than 1 or larger than sample size. It is going to be clipped\n",
      "  warnings.warn(\"Got `batch_size` less than 1 or larger than \"\n",
      "C:\\Anaconda\\envs\\env_eosc510\\lib\\site-packages\\sklearn\\neural_network\\_multilayer_perceptron.py:542: UserWarning: Got `batch_size` less than 1 or larger than sample size. It is going to be clipped\n",
      "  warnings.warn(\"Got `batch_size` less than 1 or larger than \"\n"
     ]
    },
    {
     "name": "stdout",
     "output_type": "stream",
     "text": [
      "\t\t # hidden neurons = 5\n",
      "\t\t # hidden neurons = 6\n"
     ]
    },
    {
     "name": "stderr",
     "output_type": "stream",
     "text": [
      "C:\\Anaconda\\envs\\env_eosc510\\lib\\site-packages\\sklearn\\neural_network\\_multilayer_perceptron.py:542: UserWarning: Got `batch_size` less than 1 or larger than sample size. It is going to be clipped\n",
      "  warnings.warn(\"Got `batch_size` less than 1 or larger than \"\n",
      "C:\\Anaconda\\envs\\env_eosc510\\lib\\site-packages\\sklearn\\neural_network\\_multilayer_perceptron.py:542: UserWarning: Got `batch_size` less than 1 or larger than sample size. It is going to be clipped\n",
      "  warnings.warn(\"Got `batch_size` less than 1 or larger than \"\n",
      "C:\\Anaconda\\envs\\env_eosc510\\lib\\site-packages\\sklearn\\neural_network\\_multilayer_perceptron.py:614: ConvergenceWarning: Stochastic Optimizer: Maximum iterations (3000) reached and the optimization hasn't converged yet.\n",
      "  warnings.warn(\n",
      "C:\\Anaconda\\envs\\env_eosc510\\lib\\site-packages\\sklearn\\neural_network\\_multilayer_perceptron.py:542: UserWarning: Got `batch_size` less than 1 or larger than sample size. It is going to be clipped\n",
      "  warnings.warn(\"Got `batch_size` less than 1 or larger than \"\n",
      "C:\\Anaconda\\envs\\env_eosc510\\lib\\site-packages\\sklearn\\neural_network\\_multilayer_perceptron.py:542: UserWarning: Got `batch_size` less than 1 or larger than sample size. It is going to be clipped\n",
      "  warnings.warn(\"Got `batch_size` less than 1 or larger than \"\n",
      "C:\\Anaconda\\envs\\env_eosc510\\lib\\site-packages\\sklearn\\neural_network\\_multilayer_perceptron.py:542: UserWarning: Got `batch_size` less than 1 or larger than sample size. It is going to be clipped\n",
      "  warnings.warn(\"Got `batch_size` less than 1 or larger than \"\n"
     ]
    },
    {
     "name": "stdout",
     "output_type": "stream",
     "text": [
      "\t\t # hidden neurons = 7\n",
      "\t\t # hidden neurons = 8\n",
      "\t\t # hidden neurons = 9\n",
      "\t\t # hidden neurons = 10\n"
     ]
    },
    {
     "name": "stderr",
     "output_type": "stream",
     "text": [
      "C:\\Anaconda\\envs\\env_eosc510\\lib\\site-packages\\sklearn\\neural_network\\_multilayer_perceptron.py:542: UserWarning: Got `batch_size` less than 1 or larger than sample size. It is going to be clipped\n",
      "  warnings.warn(\"Got `batch_size` less than 1 or larger than \"\n"
     ]
    },
    {
     "name": "stdout",
     "output_type": "stream",
     "text": [
      "\t\t # hidden neurons = 11\n",
      "\t # Hidden Layers = 2\n",
      "\t\t # hidden neurons = 1\n",
      "\t\t # hidden neurons = 2\n"
     ]
    },
    {
     "name": "stderr",
     "output_type": "stream",
     "text": [
      "C:\\Anaconda\\envs\\env_eosc510\\lib\\site-packages\\sklearn\\neural_network\\_multilayer_perceptron.py:542: UserWarning: Got `batch_size` less than 1 or larger than sample size. It is going to be clipped\n",
      "  warnings.warn(\"Got `batch_size` less than 1 or larger than \"\n",
      "C:\\Anaconda\\envs\\env_eosc510\\lib\\site-packages\\sklearn\\neural_network\\_multilayer_perceptron.py:542: UserWarning: Got `batch_size` less than 1 or larger than sample size. It is going to be clipped\n",
      "  warnings.warn(\"Got `batch_size` less than 1 or larger than \"\n",
      "C:\\Anaconda\\envs\\env_eosc510\\lib\\site-packages\\sklearn\\neural_network\\_multilayer_perceptron.py:542: UserWarning: Got `batch_size` less than 1 or larger than sample size. It is going to be clipped\n",
      "  warnings.warn(\"Got `batch_size` less than 1 or larger than \"\n",
      "C:\\Anaconda\\envs\\env_eosc510\\lib\\site-packages\\sklearn\\neural_network\\_multilayer_perceptron.py:614: ConvergenceWarning: Stochastic Optimizer: Maximum iterations (3000) reached and the optimization hasn't converged yet.\n",
      "  warnings.warn(\n",
      "C:\\Anaconda\\envs\\env_eosc510\\lib\\site-packages\\sklearn\\neural_network\\_multilayer_perceptron.py:542: UserWarning: Got `batch_size` less than 1 or larger than sample size. It is going to be clipped\n",
      "  warnings.warn(\"Got `batch_size` less than 1 or larger than \"\n"
     ]
    },
    {
     "name": "stdout",
     "output_type": "stream",
     "text": [
      "\t\t # hidden neurons = 3\n"
     ]
    },
    {
     "name": "stderr",
     "output_type": "stream",
     "text": [
      "C:\\Anaconda\\envs\\env_eosc510\\lib\\site-packages\\sklearn\\neural_network\\_multilayer_perceptron.py:614: ConvergenceWarning: Stochastic Optimizer: Maximum iterations (3000) reached and the optimization hasn't converged yet.\n",
      "  warnings.warn(\n",
      "C:\\Anaconda\\envs\\env_eosc510\\lib\\site-packages\\sklearn\\neural_network\\_multilayer_perceptron.py:542: UserWarning: Got `batch_size` less than 1 or larger than sample size. It is going to be clipped\n",
      "  warnings.warn(\"Got `batch_size` less than 1 or larger than \"\n",
      "C:\\Anaconda\\envs\\env_eosc510\\lib\\site-packages\\sklearn\\neural_network\\_multilayer_perceptron.py:542: UserWarning: Got `batch_size` less than 1 or larger than sample size. It is going to be clipped\n",
      "  warnings.warn(\"Got `batch_size` less than 1 or larger than \"\n"
     ]
    },
    {
     "name": "stdout",
     "output_type": "stream",
     "text": [
      "\t\t # hidden neurons = 4\n",
      "\t\t # hidden neurons = 5\n",
      "\t\t # hidden neurons = 6\n",
      "\t\t # hidden neurons = 7\n"
     ]
    },
    {
     "name": "stderr",
     "output_type": "stream",
     "text": [
      "C:\\Anaconda\\envs\\env_eosc510\\lib\\site-packages\\sklearn\\neural_network\\_multilayer_perceptron.py:542: UserWarning: Got `batch_size` less than 1 or larger than sample size. It is going to be clipped\n",
      "  warnings.warn(\"Got `batch_size` less than 1 or larger than \"\n",
      "C:\\Anaconda\\envs\\env_eosc510\\lib\\site-packages\\sklearn\\neural_network\\_multilayer_perceptron.py:542: UserWarning: Got `batch_size` less than 1 or larger than sample size. It is going to be clipped\n",
      "  warnings.warn(\"Got `batch_size` less than 1 or larger than \"\n"
     ]
    },
    {
     "name": "stdout",
     "output_type": "stream",
     "text": [
      "\t\t # hidden neurons = 8\n",
      "\t\t # hidden neurons = 9\n",
      "\t\t # hidden neurons = 10\n",
      "\t\t # hidden neurons = 11\n",
      "\t # Hidden Layers = 3\n",
      "\t\t # hidden neurons = 1\n",
      "\t\t # hidden neurons = 2\n"
     ]
    },
    {
     "name": "stderr",
     "output_type": "stream",
     "text": [
      "C:\\Anaconda\\envs\\env_eosc510\\lib\\site-packages\\sklearn\\neural_network\\_multilayer_perceptron.py:542: UserWarning: Got `batch_size` less than 1 or larger than sample size. It is going to be clipped\n",
      "  warnings.warn(\"Got `batch_size` less than 1 or larger than \"\n",
      "C:\\Anaconda\\envs\\env_eosc510\\lib\\site-packages\\sklearn\\neural_network\\_multilayer_perceptron.py:542: UserWarning: Got `batch_size` less than 1 or larger than sample size. It is going to be clipped\n",
      "  warnings.warn(\"Got `batch_size` less than 1 or larger than \"\n",
      "C:\\Anaconda\\envs\\env_eosc510\\lib\\site-packages\\sklearn\\neural_network\\_multilayer_perceptron.py:542: UserWarning: Got `batch_size` less than 1 or larger than sample size. It is going to be clipped\n",
      "  warnings.warn(\"Got `batch_size` less than 1 or larger than \"\n",
      "C:\\Anaconda\\envs\\env_eosc510\\lib\\site-packages\\sklearn\\neural_network\\_multilayer_perceptron.py:542: UserWarning: Got `batch_size` less than 1 or larger than sample size. It is going to be clipped\n",
      "  warnings.warn(\"Got `batch_size` less than 1 or larger than \"\n",
      "C:\\Anaconda\\envs\\env_eosc510\\lib\\site-packages\\sklearn\\neural_network\\_multilayer_perceptron.py:542: UserWarning: Got `batch_size` less than 1 or larger than sample size. It is going to be clipped\n",
      "  warnings.warn(\"Got `batch_size` less than 1 or larger than \"\n",
      "C:\\Anaconda\\envs\\env_eosc510\\lib\\site-packages\\sklearn\\neural_network\\_multilayer_perceptron.py:542: UserWarning: Got `batch_size` less than 1 or larger than sample size. It is going to be clipped\n",
      "  warnings.warn(\"Got `batch_size` less than 1 or larger than \"\n",
      "C:\\Anaconda\\envs\\env_eosc510\\lib\\site-packages\\sklearn\\neural_network\\_multilayer_perceptron.py:614: ConvergenceWarning: Stochastic Optimizer: Maximum iterations (3000) reached and the optimization hasn't converged yet.\n",
      "  warnings.warn(\n",
      "C:\\Anaconda\\envs\\env_eosc510\\lib\\site-packages\\sklearn\\neural_network\\_multilayer_perceptron.py:542: UserWarning: Got `batch_size` less than 1 or larger than sample size. It is going to be clipped\n",
      "  warnings.warn(\"Got `batch_size` less than 1 or larger than \"\n",
      "C:\\Anaconda\\envs\\env_eosc510\\lib\\site-packages\\sklearn\\neural_network\\_multilayer_perceptron.py:542: UserWarning: Got `batch_size` less than 1 or larger than sample size. It is going to be clipped\n",
      "  warnings.warn(\"Got `batch_size` less than 1 or larger than \"\n"
     ]
    },
    {
     "name": "stdout",
     "output_type": "stream",
     "text": [
      "\t\t # hidden neurons = 3\n",
      "\t\t # hidden neurons = 4\n",
      "\t\t # hidden neurons = 5\n"
     ]
    },
    {
     "name": "stderr",
     "output_type": "stream",
     "text": [
      "C:\\Anaconda\\envs\\env_eosc510\\lib\\site-packages\\sklearn\\neural_network\\_multilayer_perceptron.py:542: UserWarning: Got `batch_size` less than 1 or larger than sample size. It is going to be clipped\n",
      "  warnings.warn(\"Got `batch_size` less than 1 or larger than \"\n"
     ]
    },
    {
     "name": "stdout",
     "output_type": "stream",
     "text": [
      "\t\t # hidden neurons = 6\n",
      "\t\t # hidden neurons = 7\n"
     ]
    },
    {
     "name": "stderr",
     "output_type": "stream",
     "text": [
      "C:\\Anaconda\\envs\\env_eosc510\\lib\\site-packages\\sklearn\\neural_network\\_multilayer_perceptron.py:542: UserWarning: Got `batch_size` less than 1 or larger than sample size. It is going to be clipped\n",
      "  warnings.warn(\"Got `batch_size` less than 1 or larger than \"\n",
      "C:\\Anaconda\\envs\\env_eosc510\\lib\\site-packages\\sklearn\\neural_network\\_multilayer_perceptron.py:542: UserWarning: Got `batch_size` less than 1 or larger than sample size. It is going to be clipped\n",
      "  warnings.warn(\"Got `batch_size` less than 1 or larger than \"\n"
     ]
    },
    {
     "name": "stdout",
     "output_type": "stream",
     "text": [
      "\t\t # hidden neurons = 8\n",
      "\t\t # hidden neurons = 9\n",
      "\t\t # hidden neurons = 10\n"
     ]
    },
    {
     "name": "stderr",
     "output_type": "stream",
     "text": [
      "C:\\Anaconda\\envs\\env_eosc510\\lib\\site-packages\\sklearn\\neural_network\\_multilayer_perceptron.py:542: UserWarning: Got `batch_size` less than 1 or larger than sample size. It is going to be clipped\n",
      "  warnings.warn(\"Got `batch_size` less than 1 or larger than \"\n",
      "C:\\Anaconda\\envs\\env_eosc510\\lib\\site-packages\\sklearn\\neural_network\\_multilayer_perceptron.py:542: UserWarning: Got `batch_size` less than 1 or larger than sample size. It is going to be clipped\n",
      "  warnings.warn(\"Got `batch_size` less than 1 or larger than \"\n",
      "C:\\Anaconda\\envs\\env_eosc510\\lib\\site-packages\\sklearn\\neural_network\\_multilayer_perceptron.py:542: UserWarning: Got `batch_size` less than 1 or larger than sample size. It is going to be clipped\n",
      "  warnings.warn(\"Got `batch_size` less than 1 or larger than \"\n"
     ]
    },
    {
     "name": "stdout",
     "output_type": "stream",
     "text": [
      "\t\t # hidden neurons = 11\n"
     ]
    },
    {
     "name": "stderr",
     "output_type": "stream",
     "text": [
      "C:\\Anaconda\\envs\\env_eosc510\\lib\\site-packages\\sklearn\\neural_network\\_multilayer_perceptron.py:542: UserWarning: Got `batch_size` less than 1 or larger than sample size. It is going to be clipped\n",
      "  warnings.warn(\"Got `batch_size` less than 1 or larger than \"\n"
     ]
    },
    {
     "name": "stdout",
     "output_type": "stream",
     "text": [
      "\t # Hidden Layers = 4\n",
      "\t\t # hidden neurons = 1\n"
     ]
    },
    {
     "name": "stderr",
     "output_type": "stream",
     "text": [
      "C:\\Anaconda\\envs\\env_eosc510\\lib\\site-packages\\sklearn\\neural_network\\_multilayer_perceptron.py:542: UserWarning: Got `batch_size` less than 1 or larger than sample size. It is going to be clipped\n",
      "  warnings.warn(\"Got `batch_size` less than 1 or larger than \"\n",
      "C:\\Anaconda\\envs\\env_eosc510\\lib\\site-packages\\sklearn\\neural_network\\_multilayer_perceptron.py:614: ConvergenceWarning: Stochastic Optimizer: Maximum iterations (3000) reached and the optimization hasn't converged yet.\n",
      "  warnings.warn(\n",
      "C:\\Anaconda\\envs\\env_eosc510\\lib\\site-packages\\sklearn\\neural_network\\_multilayer_perceptron.py:542: UserWarning: Got `batch_size` less than 1 or larger than sample size. It is going to be clipped\n",
      "  warnings.warn(\"Got `batch_size` less than 1 or larger than \"\n"
     ]
    },
    {
     "name": "stdout",
     "output_type": "stream",
     "text": [
      "\t\t # hidden neurons = 2\n"
     ]
    },
    {
     "name": "stderr",
     "output_type": "stream",
     "text": [
      "C:\\Anaconda\\envs\\env_eosc510\\lib\\site-packages\\sklearn\\neural_network\\_multilayer_perceptron.py:614: ConvergenceWarning: Stochastic Optimizer: Maximum iterations (3000) reached and the optimization hasn't converged yet.\n",
      "  warnings.warn(\n",
      "C:\\Anaconda\\envs\\env_eosc510\\lib\\site-packages\\sklearn\\neural_network\\_multilayer_perceptron.py:542: UserWarning: Got `batch_size` less than 1 or larger than sample size. It is going to be clipped\n",
      "  warnings.warn(\"Got `batch_size` less than 1 or larger than \"\n"
     ]
    },
    {
     "name": "stdout",
     "output_type": "stream",
     "text": [
      "\t\t # hidden neurons = 3\n",
      "\t\t # hidden neurons = 4\n",
      "\t\t # hidden neurons = 5\n",
      "\t\t # hidden neurons = 6\n",
      "\t\t # hidden neurons = 7\n"
     ]
    },
    {
     "name": "stderr",
     "output_type": "stream",
     "text": [
      "C:\\Anaconda\\envs\\env_eosc510\\lib\\site-packages\\sklearn\\neural_network\\_multilayer_perceptron.py:542: UserWarning: Got `batch_size` less than 1 or larger than sample size. It is going to be clipped\n",
      "  warnings.warn(\"Got `batch_size` less than 1 or larger than \"\n",
      "C:\\Anaconda\\envs\\env_eosc510\\lib\\site-packages\\sklearn\\neural_network\\_multilayer_perceptron.py:542: UserWarning: Got `batch_size` less than 1 or larger than sample size. It is going to be clipped\n",
      "  warnings.warn(\"Got `batch_size` less than 1 or larger than \"\n",
      "C:\\Anaconda\\envs\\env_eosc510\\lib\\site-packages\\sklearn\\neural_network\\_multilayer_perceptron.py:542: UserWarning: Got `batch_size` less than 1 or larger than sample size. It is going to be clipped\n",
      "  warnings.warn(\"Got `batch_size` less than 1 or larger than \"\n",
      "C:\\Anaconda\\envs\\env_eosc510\\lib\\site-packages\\sklearn\\neural_network\\_multilayer_perceptron.py:542: UserWarning: Got `batch_size` less than 1 or larger than sample size. It is going to be clipped\n",
      "  warnings.warn(\"Got `batch_size` less than 1 or larger than \"\n",
      "C:\\Anaconda\\envs\\env_eosc510\\lib\\site-packages\\sklearn\\neural_network\\_multilayer_perceptron.py:542: UserWarning: Got `batch_size` less than 1 or larger than sample size. It is going to be clipped\n",
      "  warnings.warn(\"Got `batch_size` less than 1 or larger than \"\n"
     ]
    },
    {
     "name": "stdout",
     "output_type": "stream",
     "text": [
      "\t\t # hidden neurons = 8\n",
      "\t\t # hidden neurons = 9\n"
     ]
    },
    {
     "name": "stderr",
     "output_type": "stream",
     "text": [
      "C:\\Anaconda\\envs\\env_eosc510\\lib\\site-packages\\sklearn\\neural_network\\_multilayer_perceptron.py:542: UserWarning: Got `batch_size` less than 1 or larger than sample size. It is going to be clipped\n",
      "  warnings.warn(\"Got `batch_size` less than 1 or larger than \"\n"
     ]
    },
    {
     "name": "stdout",
     "output_type": "stream",
     "text": [
      "\t\t # hidden neurons = 10\n",
      "\t\t # hidden neurons = 11\n",
      "\t # Hidden Layers = 5\n",
      "\t\t # hidden neurons = 1\n"
     ]
    },
    {
     "name": "stderr",
     "output_type": "stream",
     "text": [
      "C:\\Anaconda\\envs\\env_eosc510\\lib\\site-packages\\sklearn\\neural_network\\_multilayer_perceptron.py:542: UserWarning: Got `batch_size` less than 1 or larger than sample size. It is going to be clipped\n",
      "  warnings.warn(\"Got `batch_size` less than 1 or larger than \"\n",
      "C:\\Anaconda\\envs\\env_eosc510\\lib\\site-packages\\sklearn\\neural_network\\_multilayer_perceptron.py:542: UserWarning: Got `batch_size` less than 1 or larger than sample size. It is going to be clipped\n",
      "  warnings.warn(\"Got `batch_size` less than 1 or larger than \"\n",
      "C:\\Anaconda\\envs\\env_eosc510\\lib\\site-packages\\sklearn\\neural_network\\_multilayer_perceptron.py:542: UserWarning: Got `batch_size` less than 1 or larger than sample size. It is going to be clipped\n",
      "  warnings.warn(\"Got `batch_size` less than 1 or larger than \"\n",
      "C:\\Anaconda\\envs\\env_eosc510\\lib\\site-packages\\sklearn\\neural_network\\_multilayer_perceptron.py:614: ConvergenceWarning: Stochastic Optimizer: Maximum iterations (3000) reached and the optimization hasn't converged yet.\n",
      "  warnings.warn(\n",
      "C:\\Anaconda\\envs\\env_eosc510\\lib\\site-packages\\sklearn\\neural_network\\_multilayer_perceptron.py:542: UserWarning: Got `batch_size` less than 1 or larger than sample size. It is going to be clipped\n",
      "  warnings.warn(\"Got `batch_size` less than 1 or larger than \"\n"
     ]
    },
    {
     "name": "stdout",
     "output_type": "stream",
     "text": [
      "\t\t # hidden neurons = 2\n",
      "\t\t # hidden neurons = 3\n"
     ]
    },
    {
     "name": "stderr",
     "output_type": "stream",
     "text": [
      "C:\\Anaconda\\envs\\env_eosc510\\lib\\site-packages\\sklearn\\neural_network\\_multilayer_perceptron.py:542: UserWarning: Got `batch_size` less than 1 or larger than sample size. It is going to be clipped\n",
      "  warnings.warn(\"Got `batch_size` less than 1 or larger than \"\n"
     ]
    },
    {
     "name": "stdout",
     "output_type": "stream",
     "text": [
      "\t\t # hidden neurons = 4\n",
      "\t\t # hidden neurons = 5\n"
     ]
    },
    {
     "name": "stderr",
     "output_type": "stream",
     "text": [
      "C:\\Anaconda\\envs\\env_eosc510\\lib\\site-packages\\sklearn\\neural_network\\_multilayer_perceptron.py:542: UserWarning: Got `batch_size` less than 1 or larger than sample size. It is going to be clipped\n",
      "  warnings.warn(\"Got `batch_size` less than 1 or larger than \"\n",
      "C:\\Anaconda\\envs\\env_eosc510\\lib\\site-packages\\sklearn\\neural_network\\_multilayer_perceptron.py:542: UserWarning: Got `batch_size` less than 1 or larger than sample size. It is going to be clipped\n",
      "  warnings.warn(\"Got `batch_size` less than 1 or larger than \"\n"
     ]
    },
    {
     "name": "stdout",
     "output_type": "stream",
     "text": [
      "\t\t # hidden neurons = 6\n"
     ]
    },
    {
     "name": "stderr",
     "output_type": "stream",
     "text": [
      "C:\\Anaconda\\envs\\env_eosc510\\lib\\site-packages\\sklearn\\neural_network\\_multilayer_perceptron.py:542: UserWarning: Got `batch_size` less than 1 or larger than sample size. It is going to be clipped\n",
      "  warnings.warn(\"Got `batch_size` less than 1 or larger than \"\n"
     ]
    },
    {
     "name": "stdout",
     "output_type": "stream",
     "text": [
      "\t\t # hidden neurons = 7\n"
     ]
    },
    {
     "name": "stderr",
     "output_type": "stream",
     "text": [
      "C:\\Anaconda\\envs\\env_eosc510\\lib\\site-packages\\sklearn\\neural_network\\_multilayer_perceptron.py:542: UserWarning: Got `batch_size` less than 1 or larger than sample size. It is going to be clipped\n",
      "  warnings.warn(\"Got `batch_size` less than 1 or larger than \"\n"
     ]
    },
    {
     "name": "stdout",
     "output_type": "stream",
     "text": [
      "\t\t # hidden neurons = 8\n"
     ]
    },
    {
     "name": "stderr",
     "output_type": "stream",
     "text": [
      "C:\\Anaconda\\envs\\env_eosc510\\lib\\site-packages\\sklearn\\neural_network\\_multilayer_perceptron.py:542: UserWarning: Got `batch_size` less than 1 or larger than sample size. It is going to be clipped\n",
      "  warnings.warn(\"Got `batch_size` less than 1 or larger than \"\n"
     ]
    },
    {
     "name": "stdout",
     "output_type": "stream",
     "text": [
      "\t\t # hidden neurons = 9\n"
     ]
    },
    {
     "name": "stderr",
     "output_type": "stream",
     "text": [
      "C:\\Anaconda\\envs\\env_eosc510\\lib\\site-packages\\sklearn\\neural_network\\_multilayer_perceptron.py:542: UserWarning: Got `batch_size` less than 1 or larger than sample size. It is going to be clipped\n",
      "  warnings.warn(\"Got `batch_size` less than 1 or larger than \"\n"
     ]
    },
    {
     "name": "stdout",
     "output_type": "stream",
     "text": [
      "\t\t # hidden neurons = 10\n"
     ]
    },
    {
     "name": "stderr",
     "output_type": "stream",
     "text": [
      "C:\\Anaconda\\envs\\env_eosc510\\lib\\site-packages\\sklearn\\neural_network\\_multilayer_perceptron.py:542: UserWarning: Got `batch_size` less than 1 or larger than sample size. It is going to be clipped\n",
      "  warnings.warn(\"Got `batch_size` less than 1 or larger than \"\n"
     ]
    },
    {
     "name": "stdout",
     "output_type": "stream",
     "text": [
      "\t\t # hidden neurons = 11\n",
      "\t # Hidden Layers = 6\n",
      "\t\t # hidden neurons = 1\n"
     ]
    },
    {
     "name": "stderr",
     "output_type": "stream",
     "text": [
      "C:\\Anaconda\\envs\\env_eosc510\\lib\\site-packages\\sklearn\\neural_network\\_multilayer_perceptron.py:542: UserWarning: Got `batch_size` less than 1 or larger than sample size. It is going to be clipped\n",
      "  warnings.warn(\"Got `batch_size` less than 1 or larger than \"\n",
      "C:\\Anaconda\\envs\\env_eosc510\\lib\\site-packages\\sklearn\\neural_network\\_multilayer_perceptron.py:542: UserWarning: Got `batch_size` less than 1 or larger than sample size. It is going to be clipped\n",
      "  warnings.warn(\"Got `batch_size` less than 1 or larger than \"\n"
     ]
    },
    {
     "name": "stdout",
     "output_type": "stream",
     "text": [
      "\t\t # hidden neurons = 2\n",
      "\t\t # hidden neurons = 3\n"
     ]
    },
    {
     "name": "stderr",
     "output_type": "stream",
     "text": [
      "C:\\Anaconda\\envs\\env_eosc510\\lib\\site-packages\\sklearn\\neural_network\\_multilayer_perceptron.py:542: UserWarning: Got `batch_size` less than 1 or larger than sample size. It is going to be clipped\n",
      "  warnings.warn(\"Got `batch_size` less than 1 or larger than \"\n",
      "C:\\Anaconda\\envs\\env_eosc510\\lib\\site-packages\\sklearn\\neural_network\\_multilayer_perceptron.py:542: UserWarning: Got `batch_size` less than 1 or larger than sample size. It is going to be clipped\n",
      "  warnings.warn(\"Got `batch_size` less than 1 or larger than \"\n",
      "C:\\Anaconda\\envs\\env_eosc510\\lib\\site-packages\\sklearn\\neural_network\\_multilayer_perceptron.py:542: UserWarning: Got `batch_size` less than 1 or larger than sample size. It is going to be clipped\n",
      "  warnings.warn(\"Got `batch_size` less than 1 or larger than \"\n",
      "C:\\Anaconda\\envs\\env_eosc510\\lib\\site-packages\\sklearn\\neural_network\\_multilayer_perceptron.py:542: UserWarning: Got `batch_size` less than 1 or larger than sample size. It is going to be clipped\n",
      "  warnings.warn(\"Got `batch_size` less than 1 or larger than \"\n"
     ]
    },
    {
     "name": "stdout",
     "output_type": "stream",
     "text": [
      "\t\t # hidden neurons = 4\n",
      "\t\t # hidden neurons = 5\n",
      "\t\t # hidden neurons = 6\n",
      "\t\t # hidden neurons = 7\n"
     ]
    },
    {
     "name": "stderr",
     "output_type": "stream",
     "text": [
      "C:\\Anaconda\\envs\\env_eosc510\\lib\\site-packages\\sklearn\\neural_network\\_multilayer_perceptron.py:542: UserWarning: Got `batch_size` less than 1 or larger than sample size. It is going to be clipped\n",
      "  warnings.warn(\"Got `batch_size` less than 1 or larger than \"\n",
      "C:\\Anaconda\\envs\\env_eosc510\\lib\\site-packages\\sklearn\\neural_network\\_multilayer_perceptron.py:542: UserWarning: Got `batch_size` less than 1 or larger than sample size. It is going to be clipped\n",
      "  warnings.warn(\"Got `batch_size` less than 1 or larger than \"\n"
     ]
    },
    {
     "name": "stdout",
     "output_type": "stream",
     "text": [
      "\t\t # hidden neurons = 8\n"
     ]
    },
    {
     "name": "stderr",
     "output_type": "stream",
     "text": [
      "C:\\Anaconda\\envs\\env_eosc510\\lib\\site-packages\\sklearn\\neural_network\\_multilayer_perceptron.py:542: UserWarning: Got `batch_size` less than 1 or larger than sample size. It is going to be clipped\n",
      "  warnings.warn(\"Got `batch_size` less than 1 or larger than \"\n"
     ]
    },
    {
     "name": "stdout",
     "output_type": "stream",
     "text": [
      "\t\t # hidden neurons = 9\n"
     ]
    },
    {
     "name": "stderr",
     "output_type": "stream",
     "text": [
      "C:\\Anaconda\\envs\\env_eosc510\\lib\\site-packages\\sklearn\\neural_network\\_multilayer_perceptron.py:542: UserWarning: Got `batch_size` less than 1 or larger than sample size. It is going to be clipped\n",
      "  warnings.warn(\"Got `batch_size` less than 1 or larger than \"\n"
     ]
    },
    {
     "name": "stdout",
     "output_type": "stream",
     "text": [
      "\t\t # hidden neurons = 10\n"
     ]
    },
    {
     "name": "stderr",
     "output_type": "stream",
     "text": [
      "C:\\Anaconda\\envs\\env_eosc510\\lib\\site-packages\\sklearn\\neural_network\\_multilayer_perceptron.py:542: UserWarning: Got `batch_size` less than 1 or larger than sample size. It is going to be clipped\n",
      "  warnings.warn(\"Got `batch_size` less than 1 or larger than \"\n"
     ]
    },
    {
     "name": "stdout",
     "output_type": "stream",
     "text": [
      "\t\t # hidden neurons = 11\n"
     ]
    },
    {
     "name": "stderr",
     "output_type": "stream",
     "text": [
      "C:\\Anaconda\\envs\\env_eosc510\\lib\\site-packages\\sklearn\\neural_network\\_multilayer_perceptron.py:542: UserWarning: Got `batch_size` less than 1 or larger than sample size. It is going to be clipped\n",
      "  warnings.warn(\"Got `batch_size` less than 1 or larger than \"\n"
     ]
    },
    {
     "name": "stdout",
     "output_type": "stream",
     "text": [
      "\t # Hidden Layers = 7\n",
      "\t\t # hidden neurons = 1\n"
     ]
    },
    {
     "name": "stderr",
     "output_type": "stream",
     "text": [
      "C:\\Anaconda\\envs\\env_eosc510\\lib\\site-packages\\sklearn\\neural_network\\_multilayer_perceptron.py:542: UserWarning: Got `batch_size` less than 1 or larger than sample size. It is going to be clipped\n",
      "  warnings.warn(\"Got `batch_size` less than 1 or larger than \"\n",
      "C:\\Anaconda\\envs\\env_eosc510\\lib\\site-packages\\sklearn\\neural_network\\_multilayer_perceptron.py:614: ConvergenceWarning: Stochastic Optimizer: Maximum iterations (3000) reached and the optimization hasn't converged yet.\n",
      "  warnings.warn(\n",
      "C:\\Anaconda\\envs\\env_eosc510\\lib\\site-packages\\sklearn\\neural_network\\_multilayer_perceptron.py:542: UserWarning: Got `batch_size` less than 1 or larger than sample size. It is going to be clipped\n",
      "  warnings.warn(\"Got `batch_size` less than 1 or larger than \"\n",
      "C:\\Anaconda\\envs\\env_eosc510\\lib\\site-packages\\sklearn\\neural_network\\_multilayer_perceptron.py:542: UserWarning: Got `batch_size` less than 1 or larger than sample size. It is going to be clipped\n",
      "  warnings.warn(\"Got `batch_size` less than 1 or larger than \"\n"
     ]
    },
    {
     "name": "stdout",
     "output_type": "stream",
     "text": [
      "\t\t # hidden neurons = 2\n",
      "\t\t # hidden neurons = 3\n",
      "\t\t # hidden neurons = 4\n"
     ]
    },
    {
     "name": "stderr",
     "output_type": "stream",
     "text": [
      "C:\\Anaconda\\envs\\env_eosc510\\lib\\site-packages\\sklearn\\neural_network\\_multilayer_perceptron.py:542: UserWarning: Got `batch_size` less than 1 or larger than sample size. It is going to be clipped\n",
      "  warnings.warn(\"Got `batch_size` less than 1 or larger than \"\n"
     ]
    },
    {
     "name": "stdout",
     "output_type": "stream",
     "text": [
      "\t\t # hidden neurons = 5\n",
      "\t\t # hidden neurons = 6\n",
      "\t\t # hidden neurons = 7\n"
     ]
    },
    {
     "name": "stderr",
     "output_type": "stream",
     "text": [
      "C:\\Anaconda\\envs\\env_eosc510\\lib\\site-packages\\sklearn\\neural_network\\_multilayer_perceptron.py:542: UserWarning: Got `batch_size` less than 1 or larger than sample size. It is going to be clipped\n",
      "  warnings.warn(\"Got `batch_size` less than 1 or larger than \"\n",
      "C:\\Anaconda\\envs\\env_eosc510\\lib\\site-packages\\sklearn\\neural_network\\_multilayer_perceptron.py:542: UserWarning: Got `batch_size` less than 1 or larger than sample size. It is going to be clipped\n",
      "  warnings.warn(\"Got `batch_size` less than 1 or larger than \"\n",
      "C:\\Anaconda\\envs\\env_eosc510\\lib\\site-packages\\sklearn\\neural_network\\_multilayer_perceptron.py:542: UserWarning: Got `batch_size` less than 1 or larger than sample size. It is going to be clipped\n",
      "  warnings.warn(\"Got `batch_size` less than 1 or larger than \"\n"
     ]
    },
    {
     "name": "stdout",
     "output_type": "stream",
     "text": [
      "\t\t # hidden neurons = 8\n",
      "\t\t # hidden neurons = 9\n"
     ]
    },
    {
     "name": "stderr",
     "output_type": "stream",
     "text": [
      "C:\\Anaconda\\envs\\env_eosc510\\lib\\site-packages\\sklearn\\neural_network\\_multilayer_perceptron.py:542: UserWarning: Got `batch_size` less than 1 or larger than sample size. It is going to be clipped\n",
      "  warnings.warn(\"Got `batch_size` less than 1 or larger than \"\n",
      "C:\\Anaconda\\envs\\env_eosc510\\lib\\site-packages\\sklearn\\neural_network\\_multilayer_perceptron.py:542: UserWarning: Got `batch_size` less than 1 or larger than sample size. It is going to be clipped\n",
      "  warnings.warn(\"Got `batch_size` less than 1 or larger than \"\n"
     ]
    },
    {
     "name": "stdout",
     "output_type": "stream",
     "text": [
      "\t\t # hidden neurons = 10\n"
     ]
    },
    {
     "name": "stderr",
     "output_type": "stream",
     "text": [
      "C:\\Anaconda\\envs\\env_eosc510\\lib\\site-packages\\sklearn\\neural_network\\_multilayer_perceptron.py:542: UserWarning: Got `batch_size` less than 1 or larger than sample size. It is going to be clipped\n",
      "  warnings.warn(\"Got `batch_size` less than 1 or larger than \"\n"
     ]
    },
    {
     "name": "stdout",
     "output_type": "stream",
     "text": [
      "\t\t # hidden neurons = 11\n",
      "\t # Hidden Layers = 8\n",
      "\t\t # hidden neurons = 1\n"
     ]
    },
    {
     "name": "stderr",
     "output_type": "stream",
     "text": [
      "C:\\Anaconda\\envs\\env_eosc510\\lib\\site-packages\\sklearn\\neural_network\\_multilayer_perceptron.py:542: UserWarning: Got `batch_size` less than 1 or larger than sample size. It is going to be clipped\n",
      "  warnings.warn(\"Got `batch_size` less than 1 or larger than \"\n",
      "C:\\Anaconda\\envs\\env_eosc510\\lib\\site-packages\\sklearn\\neural_network\\_multilayer_perceptron.py:542: UserWarning: Got `batch_size` less than 1 or larger than sample size. It is going to be clipped\n",
      "  warnings.warn(\"Got `batch_size` less than 1 or larger than \"\n",
      "C:\\Anaconda\\envs\\env_eosc510\\lib\\site-packages\\sklearn\\neural_network\\_multilayer_perceptron.py:614: ConvergenceWarning: Stochastic Optimizer: Maximum iterations (3000) reached and the optimization hasn't converged yet.\n",
      "  warnings.warn(\n",
      "C:\\Anaconda\\envs\\env_eosc510\\lib\\site-packages\\sklearn\\neural_network\\_multilayer_perceptron.py:542: UserWarning: Got `batch_size` less than 1 or larger than sample size. It is going to be clipped\n",
      "  warnings.warn(\"Got `batch_size` less than 1 or larger than \"\n",
      "C:\\Anaconda\\envs\\env_eosc510\\lib\\site-packages\\sklearn\\neural_network\\_multilayer_perceptron.py:542: UserWarning: Got `batch_size` less than 1 or larger than sample size. It is going to be clipped\n",
      "  warnings.warn(\"Got `batch_size` less than 1 or larger than \"\n"
     ]
    },
    {
     "name": "stdout",
     "output_type": "stream",
     "text": [
      "\t\t # hidden neurons = 2\n",
      "\t\t # hidden neurons = 3\n",
      "\t\t # hidden neurons = 4\n"
     ]
    },
    {
     "name": "stderr",
     "output_type": "stream",
     "text": [
      "C:\\Anaconda\\envs\\env_eosc510\\lib\\site-packages\\sklearn\\neural_network\\_multilayer_perceptron.py:542: UserWarning: Got `batch_size` less than 1 or larger than sample size. It is going to be clipped\n",
      "  warnings.warn(\"Got `batch_size` less than 1 or larger than \"\n"
     ]
    },
    {
     "name": "stdout",
     "output_type": "stream",
     "text": [
      "\t\t # hidden neurons = 5\n"
     ]
    },
    {
     "name": "stderr",
     "output_type": "stream",
     "text": [
      "C:\\Anaconda\\envs\\env_eosc510\\lib\\site-packages\\sklearn\\neural_network\\_multilayer_perceptron.py:542: UserWarning: Got `batch_size` less than 1 or larger than sample size. It is going to be clipped\n",
      "  warnings.warn(\"Got `batch_size` less than 1 or larger than \"\n",
      "C:\\Anaconda\\envs\\env_eosc510\\lib\\site-packages\\sklearn\\neural_network\\_multilayer_perceptron.py:614: ConvergenceWarning: Stochastic Optimizer: Maximum iterations (3000) reached and the optimization hasn't converged yet.\n",
      "  warnings.warn(\n",
      "C:\\Anaconda\\envs\\env_eosc510\\lib\\site-packages\\sklearn\\neural_network\\_multilayer_perceptron.py:542: UserWarning: Got `batch_size` less than 1 or larger than sample size. It is going to be clipped\n",
      "  warnings.warn(\"Got `batch_size` less than 1 or larger than \"\n"
     ]
    },
    {
     "name": "stdout",
     "output_type": "stream",
     "text": [
      "\t\t # hidden neurons = 6\n",
      "\t\t # hidden neurons = 7\n"
     ]
    },
    {
     "name": "stderr",
     "output_type": "stream",
     "text": [
      "C:\\Anaconda\\envs\\env_eosc510\\lib\\site-packages\\sklearn\\neural_network\\_multilayer_perceptron.py:542: UserWarning: Got `batch_size` less than 1 or larger than sample size. It is going to be clipped\n",
      "  warnings.warn(\"Got `batch_size` less than 1 or larger than \"\n"
     ]
    },
    {
     "name": "stdout",
     "output_type": "stream",
     "text": [
      "\t\t # hidden neurons = 8\n"
     ]
    },
    {
     "name": "stderr",
     "output_type": "stream",
     "text": [
      "C:\\Anaconda\\envs\\env_eosc510\\lib\\site-packages\\sklearn\\neural_network\\_multilayer_perceptron.py:542: UserWarning: Got `batch_size` less than 1 or larger than sample size. It is going to be clipped\n",
      "  warnings.warn(\"Got `batch_size` less than 1 or larger than \"\n"
     ]
    },
    {
     "name": "stdout",
     "output_type": "stream",
     "text": [
      "\t\t # hidden neurons = 9\n"
     ]
    },
    {
     "name": "stderr",
     "output_type": "stream",
     "text": [
      "C:\\Anaconda\\envs\\env_eosc510\\lib\\site-packages\\sklearn\\neural_network\\_multilayer_perceptron.py:542: UserWarning: Got `batch_size` less than 1 or larger than sample size. It is going to be clipped\n",
      "  warnings.warn(\"Got `batch_size` less than 1 or larger than \"\n"
     ]
    },
    {
     "name": "stdout",
     "output_type": "stream",
     "text": [
      "\t\t # hidden neurons = 10\n",
      "\t\t # hidden neurons = 11\n"
     ]
    },
    {
     "name": "stderr",
     "output_type": "stream",
     "text": [
      "C:\\Anaconda\\envs\\env_eosc510\\lib\\site-packages\\sklearn\\neural_network\\_multilayer_perceptron.py:542: UserWarning: Got `batch_size` less than 1 or larger than sample size. It is going to be clipped\n",
      "  warnings.warn(\"Got `batch_size` less than 1 or larger than \"\n",
      "C:\\Anaconda\\envs\\env_eosc510\\lib\\site-packages\\sklearn\\neural_network\\_multilayer_perceptron.py:542: UserWarning: Got `batch_size` less than 1 or larger than sample size. It is going to be clipped\n",
      "  warnings.warn(\"Got `batch_size` less than 1 or larger than \"\n"
     ]
    },
    {
     "name": "stdout",
     "output_type": "stream",
     "text": [
      "\t BEST: 4 hidden layers, 1 hidden neurons\n"
     ]
    }
   ],
   "source": [
    "# kernal restart stopper\n",
    "#log(0)\n",
    "\n",
    "#This chunk of code is relatively flexible and can be used to loop through a range of parameters\n",
    "# iterate through model combinations and store those with 'best' RMSE\n",
    "# Each model run will start with randomn initialization parameters, and then learn to optimize. \n",
    "\n",
    "# Try combinations e.g., \n",
    "#MLP using 1 hidden layer with 10 neurons\n",
    "#MLP using 1 hidden layer with 1-10 neurons\n",
    "\n",
    "##### Play around with these parameters\n",
    "num_models = 10 #number of models to build for the ensemble\n",
    "min_nhn = 1 #minimum number of hidden neurons to loop through (nhn = 'number hidden neurons')\n",
    "max_nhn = 11 #maximum number of hidden neurons to loop through\n",
    "max_hidden_layers = 8 #maximum number of hidden layers to loop through (nhl = 'number hidden layers')\n",
    "batch_size = 32\n",
    "solver = 'adam' #use stochastic gradient descent as an optimization method (weight updating algorithm)\n",
    "activation = 'relu'\n",
    "learning_rate_init = 0.001\n",
    "momentum = 0.7\n",
    "max_iter = 3000 #max number of epochs to run\n",
    "early_stopping = True #True = stop early if validation error begins to rise\n",
    "validation_fraction = 0.20 #fraction of training data to use as validation\n",
    "alpha = 0.01\n",
    "#####\n",
    "\n",
    "y_out_all_nhn = []\n",
    "y_out_ensemble = [] #store predicted y values from each model in final ensemble\n",
    "RMSE_ensemble = [] #RMSE for each model in the ensemble\n",
    "nhn_best = []\n",
    "nhl_best = []\n",
    "model_best = [] # store lsit of best model in each run (lowest RMSE)\n",
    "\n",
    "for model_num in range(num_models): #for each model in the ensemble\n",
    "    \n",
    "    print('Model Number: ' + str(model_num))\n",
    "    \n",
    "    RMSE = []\n",
    "    y_out_all_nhn = []\n",
    "    nhn = []\n",
    "    nhl = []\n",
    "    model_store = []\n",
    "    for num_hidden_layers in range(1,max_hidden_layers+1):\n",
    "    \n",
    "        print('\\t # Hidden Layers = ' + str(num_hidden_layers))\n",
    "    \n",
    "        for num_hidden_neurons in range(min_nhn,max_nhn+1): #for each number of hidden neurons\n",
    "\n",
    "            print('\\t\\t # hidden neurons = ' + str(num_hidden_neurons))\n",
    "            \n",
    "            hidden_layer_sizes = (num_hidden_neurons,num_hidden_layers)\n",
    "            model = MLPRegressor(hidden_layer_sizes=hidden_layer_sizes, \n",
    "                                 verbose=False,\n",
    "                                 max_iter=max_iter, \n",
    "                                 early_stopping = early_stopping,\n",
    "                                 validation_fraction = validation_fraction,\n",
    "                                 batch_size = batch_size,\n",
    "                                 solver = solver,\n",
    "                                 activation = activation,\n",
    "                                 learning_rate_init = learning_rate_init,\n",
    "                                 momentum = momentum,\n",
    "                                alpha = alpha)\n",
    "\n",
    "            model.fit(x_train,y_train) #train the model\n",
    "\n",
    "            y_out_this_nhn = model.predict(x_test) #model prediction for this number of hidden neurons (nhn)\n",
    "            y_out_all_nhn.append(y_out_this_nhn) #store all models -- will select best one best on RMSE\n",
    "\n",
    "            RMSE.append(rmse(y_test,y_out_this_nhn)) #RMSE between cumulative curves\n",
    "            \n",
    "            nhn.append(num_hidden_neurons)\n",
    "            nhl.append(num_hidden_layers)\n",
    "            model_store.append(model)\n",
    "        \n",
    "    indBest = RMSE.index(np.min(RMSE)) #index of model with lowest RMSE\n",
    "    RMSE_ensemble.append(np.min(RMSE))\n",
    "    nhn_best.append(nhn[indBest])\n",
    "    nhl_best.append(nhl[indBest])\n",
    "    #nhn_best.append(indBest+1) #the number of hidden neurons that achieved best model performance of this model iteration\n",
    "    y_out_ensemble.append(y_out_all_nhn[indBest])\n",
    "    model_best.append(model_store[indBest])\n",
    "    \n",
    "    print('\\t BEST: ' + str(nhl_best[model_num]) + ' hidden layers, '+ str(nhn_best[model_num]) + ' hidden neurons')\n",
    "    \n",
    "y_out_ensemble_mean = np.mean(y_out_ensemble,axis=0)\n",
    "RMSE_ensemble_mean = rmse(y_test, y_out_ensemble_mean)"
   ]
  },
  {
   "cell_type": "code",
   "execution_count": 13,
   "id": "d69114ab-ed78-43cb-a8e5-20e93a35951b",
   "metadata": {},
   "outputs": [
    {
     "name": "stdout",
     "output_type": "stream",
     "text": [
      "[36.56101189 33.44208933 35.63981972 33.30130091]\n",
      "42.52668953740312\n"
     ]
    }
   ],
   "source": [
    "# Extract 'best' model of each model run, and store as a list of models\n",
    "# this wil be run as an ensemble\n",
    "\n",
    "y_pred_best = []\n",
    "RMSE_best = []\n",
    "\n",
    "for i in range (len(model_best)):\n",
    "    y_pred = model_best[i].predict(x_test)\n",
    "    RMSE_best.append(rmse(y_test,y_pred))\n",
    "    y_pred_best.append(y_pred)\n",
    "\n",
    "y_pred_ensemble = np.mean(y_pred_best,axis=0)\n",
    "RMSE_best_ensemble = rmse(y_test, y_out_ensemble_mean)\n",
    "\n",
    "print(y_pred_ensemble)\n",
    "print(RMSE_best_ensemble)"
   ]
  },
  {
   "cell_type": "code",
   "execution_count": 14,
   "id": "0e5f693a-ec1b-45c1-afd6-5589a94a2ec0",
   "metadata": {},
   "outputs": [
    {
     "name": "stderr",
     "output_type": "stream",
     "text": [
      "C:\\Users\\htccr\\AppData\\Local\\Temp/ipykernel_20760/239109608.py:35: MatplotlibDeprecationWarning: Case-insensitive properties were deprecated in 3.3 and support will be removed two minor releases later\n",
      "  plt.xlabel('Testing Data (Observation n)', Size = 12)\n"
     ]
    },
    {
     "data": {
      "image/png": "[encoded data removed]",
      "text/plain": [
       "<Figure size 864x576 with 5 Axes>"
      ]
     },
     "metadata": {
      "needs_background": "light"
     },
     "output_type": "display_data"
    }
   ],
   "source": [
    "#visualize\n",
    "\n",
    "plt.figure(figsize=(12,8))\n",
    "\n",
    "plt.subplot(241)\n",
    "plt.scatter(len(RMSE_ensemble),RMSE_ensemble_mean,c='k',marker='*')\n",
    "plt.scatter(range(len(RMSE_ensemble)),RMSE_ensemble)\n",
    "plt.xlabel('Model #')\n",
    "plt.ylabel('RMSE')\n",
    "plt.title('Error')\n",
    "\n",
    "plt.subplot(242)\n",
    "plt.scatter(range(len(nhn_best)),nhn_best)\n",
    "plt.xlabel('Model #')\n",
    "plt.ylabel('# Hidden Neurons')\n",
    "plt.title('Hidden Neurons')\n",
    "\n",
    "plt.subplot(243)\n",
    "plt.scatter(range(len(nhl_best)),nhl_best)\n",
    "plt.xlabel('Model #')\n",
    "plt.ylabel('# Hidden Layers')\n",
    "plt.title('Hidden Layers')\n",
    "\n",
    "plt.subplot(244)\n",
    "plt.scatter(y_test,y_out_ensemble_mean)\n",
    "#plt.plot((np.min(y_test),np.max(y_test)),'k--')\n",
    "plt.xlabel('y_test')\n",
    "plt.ylabel('y_model')\n",
    "plt.title('Ensemble')\n",
    "\n",
    "plt.subplot(212)\n",
    "plt.plot(y_out_ensemble_mean, color = 'red', label = 'Ensemble prediction', linestyle = '--')\n",
    "plt.plot(np.array(y_test),alpha = 0.5, color = 'black', label = 'Observed', linestyle = '-')\n",
    "plt.title('Model Testing', size = 14)\n",
    "plt.xlabel('Testing Data (Observation n)', Size = 12)\n",
    "plt.ylabel('Exhumation km/Ma', size = 12)\n",
    "plt.legend()\n",
    "plt.xlim()\n",
    "\n",
    "plt.tight_layout()"
   ]
  },
  {
   "cell_type": "code",
   "execution_count": 15,
   "id": "cbe741d9-2173-404f-ac49-16743f58548a",
   "metadata": {},
   "outputs": [
    {
     "data": {
      "image/png": "[encoded data removed]",
      "text/plain": [
       "<Figure size 1152x288 with 4 Axes>"
      ]
     },
     "metadata": {
      "needs_background": "light"
     },
     "output_type": "display_data"
    }
   ],
   "source": [
    "#visualize performance metrics/etc\n",
    "\n",
    "saveIt = 0\n",
    "\n",
    "plt.figure(figsize=(16,4))\n",
    "\n",
    "plt.subplot(141)\n",
    "plt.scatter(range(len(nhn_best)),nhn_best, s = 150)\n",
    "plt.xlabel('Model #', fontsize = 20)\n",
    "plt.ylabel('# Hidden Neurons', fontsize = 20)\n",
    "plt.xticks(fontsize = 16)\n",
    "plt.yticks(fontsize = 16)\n",
    "plt.title('Hidden Neurons', fontsize = 20)\n",
    "\n",
    "plt.subplot(142)\n",
    "plt.scatter(range(len(nhl_best)),nhl_best, s = 150)\n",
    "plt.xlabel('Model #', fontsize = 20)\n",
    "plt.ylabel('# Hidden Layers', fontsize = 20)\n",
    "plt.xticks(fontsize = 16)\n",
    "plt.yticks(fontsize = 16)\n",
    "plt.title('Hidden Layers', fontsize = 20)\n",
    "\n",
    "plt.subplot(143)\n",
    "plt.scatter(len(RMSE_ensemble),RMSE_ensemble_mean,c='k',marker='*', s = 150)\n",
    "plt.scatter(range(len(RMSE_ensemble)),RMSE_ensemble, s = 150)\n",
    "plt.xlabel('Model #', fontsize = 20)\n",
    "plt.ylabel('RMSE', fontsize = 20)\n",
    "plt.xticks(fontsize = 16)\n",
    "plt.yticks(fontsize = 16)\n",
    "#plt.ylim((np.min(RMSE_ensemble) - 0.005, np.max(RMSE_ensemble)+0.005))\n",
    "plt.title('Error', fontsize = 20)\n",
    "\n",
    "plt.subplot(144)\n",
    "plt.scatter(y_test,y_out_ensemble_mean)\n",
    "#plt.plot((np.min(y_test),np.max(y_test)),'k--')\n",
    "plt.xlabel('y_test', fontsize = 20)\n",
    "plt.ylabel('y_model', fontsize = 20)\n",
    "plt.title('Ensemble', fontsize = 20)\n",
    "\n",
    "plt.tight_layout()\n",
    "\n",
    "if saveIt:\n",
    "    plt.savefig('model_diagnostics.png')\n",
    "    \n",
    "plt.show()"
   ]
  },
  {
   "cell_type": "code",
   "execution_count": 16,
   "id": "bfff2a60-090b-45ae-ae00-4cb78b6b7039",
   "metadata": {},
   "outputs": [
    {
     "data": {
      "text/plain": [
       "Text(0.5, 1.0, 'Error')"
      ]
     },
     "execution_count": 16,
     "metadata": {},
     "output_type": "execute_result"
    },
    {
     "data": {
      "image/png": "[encoded data removed]",
      "text/plain": [
       "<Figure size 1152x288 with 1 Axes>"
      ]
     },
     "metadata": {
      "needs_background": "light"
     },
     "output_type": "display_data"
    }
   ],
   "source": [
    "# plot just RMSE \n",
    "plt.figure(figsize=(16,4))\n",
    "plt.subplot(131)\n",
    "plt.scatter(len(RMSE_ensemble),RMSE_ensemble_mean,c='k',marker='*', s = 150)\n",
    "plt.scatter(range(len(RMSE_ensemble)),RMSE_ensemble, s = 150)\n",
    "plt.xlabel('Model #', fontsize = 20)\n",
    "plt.ylabel('RMSE', fontsize = 20)\n",
    "plt.xticks(fontsize = 16)\n",
    "plt.yticks(fontsize = 16)\n",
    "#plt.ylim((np.min(RMSE_ensemble) - 0.005, np.max(RMSE_ensemble)+0.005))\n",
    "plt.title('Error', fontsize = 20)"
   ]
  },
  {
   "cell_type": "code",
   "execution_count": 17,
   "id": "9c3bad2e-6de2-4f1e-ac96-2ac7d8bef9e1",
   "metadata": {},
   "outputs": [
    {
     "data": {
      "image/png": "[encoded data removed]",
      "text/plain": [
       "<Figure size 1080x432 with 1 Axes>"
      ]
     },
     "metadata": {
      "needs_background": "light"
     },
     "output_type": "display_data"
    }
   ],
   "source": [
    "#visualize individual model runs\n",
    "\n",
    "saveIt = 0\n",
    "\n",
    "plt.figure(figsize = (15,6))\n",
    "\n",
    "plt.plot(range(len(y_test)),y_test,label='Observed exhumation',zorder = 3, color = 'red', alpha = 0.7)\n",
    "plt.plot(range(len(y_test)),np.transpose(y_out_ensemble[0]),color = 'k',alpha = 0.4,label='Individual Models',zorder=1) #plot first ensemble member with a label\n",
    "plt.plot(range(len(y_test)),np.transpose(y_out_ensemble[1:]),color = 'k',alpha = 0.4, zorder=1) #plot remaining ensemble members without labels for a nicer legend\n",
    "plt.plot(range(len(y_test)),y_out_ensemble_mean,color = 'k',label = 'Ensemble',zorder=2, linewidth = 3) # plot ensemble\n",
    "\n",
    "plt.title('MLP Variables; sorted', size = 24)\n",
    "plt.xlabel('Testing Data X (observation n)', size = 20)\n",
    "plt.ylabel('Exhumation (Km/Ma)', size = 20)\n",
    "\n",
    "plt.xticks(fontsize = 16)\n",
    "plt.yticks(fontsize = 16)\n",
    "plt.title('MLP Model Results (ROI)', fontsize = 24)\n",
    "plt.legend(fontsize = 14, loc = 'best')\n",
    "\n",
    "plt.tight_layout()\n",
    "\n",
    "if saveIt:\n",
    "    plt.savefig('model_results.png')\n",
    "plt.xlim(0,100)\n",
    "plt.show()"
   ]
  },
  {
   "cell_type": "markdown",
   "id": "98e12fb1-4fa1-4054-a094-afc8d5eb6181",
   "metadata": {},
   "source": [
    "### STOP, save and/or load models, will overwrite existing!!"
   ]
  },
  {
   "cell_type": "code",
   "execution_count": null,
   "id": "2ce6b5b6-5f5e-4e0d-b7f5-1d315cd87e4b",
   "metadata": {},
   "outputs": [],
   "source": [
    "#log(0) # stop kernal reset\n",
    "\n",
    "# save model(s)\n",
    "for i in range (len(model_best)):\n",
    "    filename = 'saved_models/model_best_andes_nonorm{}.sav'.format(i)\n",
    "    joblib.dump(model_best[i], filename)\n"
   ]
  },
  {
   "cell_type": "code",
   "execution_count": null,
   "id": "0d795aa6-e495-49ee-82b7-32ea1bacb45e",
   "metadata": {},
   "outputs": [],
   "source": [
    "log(0) # stop kernal reset\n",
    "\n",
    "# load the model from disk\n",
    "model_loaded = []\n",
    "\n",
    "for i in range (len(model_best)):\n",
    "    filename = 'saved_models/model_best_andes{}.sav'.format(i)\n",
    "    store_model = joblib.load(filename)\n",
    "    model_loaded.append(store_model)\n",
    "\n",
    "# Use the following to run model now\n",
    "# imported_models[i].predict(x_new)"
   ]
  },
  {
   "cell_type": "code",
   "execution_count": null,
   "id": "cac24cac-8387-465d-b3c3-a609c68b0f8d",
   "metadata": {},
   "outputs": [],
   "source": [
    "run_model = model_best[].predict(x_new)"
   ]
  },
  {
   "cell_type": "markdown",
   "id": "bac3994f-4bd2-4ac8-967e-858228aaa727",
   "metadata": {},
   "source": [
    "### predict NEW data"
   ]
  },
  {
   "cell_type": "code",
   "execution_count": null,
   "id": "625fd1fe-12de-449d-bde5-50e22b4cbbcd",
   "metadata": {},
   "outputs": [],
   "source": [
    "log(0) # stop for kernal reset, only run if new model!\n",
    "\n",
    "## IMPORT NEW X DATA, PREDICT Y, EXPORT .CSV ##\n",
    "\n",
    "# import new data \n",
    "x_new = x_new_norm # choose x data, in same order as model\n",
    "\n",
    "# run model ensemble against new x data\n",
    "y_pred_ensemble = []\n",
    "\n",
    "for i in range (len(model_best)):\n",
    "    y_pred_new = model_best[i].predict(x_new)\n",
    "    y_pred_ensemble.append(y_pred_new)\n",
    "\n",
    "y_pred_ensemble_mean = np.mean(y_pred_ensemble,axis=0) # predicted y values from ensemble\n",
    "\n",
    "# convert to physical units i.e. un-normalize \n",
    "y_pred_ensemble_mean = y_pred_ensemble_mean.reshape(1,-1)\n",
    "exhumation_phys = y_pred_ensemble_mean[0]\n",
    "exhumation_phys[exhumation_phys<0] = 0\n",
    "\n",
    "# export precited data and varibales as csv\n",
    "# load x_new (non-normalized)\n",
    "target_file = 'data/final_dataset/x_new_andes1.csv'\n",
    "x_new_orig = pd.read_csv(target_file, header = 0) \n",
    "x_new_orig = x_new_orig.dropna().reset_index(drop=True) #drop any row with an nan.\n",
    "\n",
    "# create dataframe of predicted y, and given x variables (non-normalized)\n",
    "y_pred_andes = pd.DataFrame({'X':lon_new, \n",
    "                             'Y':lat_new, \n",
    "                             'exhumation': exhumation_phys, # predicted exuamtion rates\n",
    "                             'precip':x_new_og['precip'],\n",
    "                            'QSS_den':x_new_og['QSS_den'],\n",
    "                            'QSS_tyr':x_new_og['QSS_tyr'],\n",
    "                            'geo':x_new_og['geo']})\n",
    "\n",
    "# export data\n",
    "y_pred_andes.to_csv(r'data/final_dataset/y_pred_andes_nonorm.csv', index = False)\n",
    "y_pred_andes.head()\n",
    "\n",
    "## SAVE ## inverse normalizations...\n",
    "#exhumation_phys = scaler.inverse_transform(exhumation_phys)\n",
    "#exhumation_phys = np.exp(exhumation_phys)\n",
    "#exhumation_phys = (y_pred_ensemble_mean * ((exhumation.max()-exhumation.min()))) + exhumation.min()\n",
    "#exhumation_phys = y_pred_ensemble_mean + exhumation_norm.min()\n",
    "#exhumation_phys = (exhumation_phys*exhumation.std()) + exhumation.mean()\n",
    "#exhumation_phys = exhumation_phys - exhumation_phys.min()"
   ]
  },
  {
   "cell_type": "code",
   "execution_count": null,
   "id": "e5fd7df0-2251-445b-b589-97db8b44fbef",
   "metadata": {},
   "outputs": [],
   "source": [
    "# read in modeled data with predictor variables (from saved model)\n",
    "target_file = 'data/final_dataset/y_pred_andes_nonorm.csv'\n",
    "y_pred_andes = pd.read_csv(target_file, header = 0)\n",
    "y_pred_andes"
   ]
  },
  {
   "cell_type": "code",
   "execution_count": null,
   "id": "778d04df-8b28-4cc3-9408-0a084d135d0a",
   "metadata": {},
   "outputs": [],
   "source": [
    "# DONT PLOT AGAINST EXISTING Y DATA\n",
    "#visualize individual model runs for predicted data\n",
    "\n",
    "saveIt = 0\n",
    "\n",
    "plt.figure(figsize = (15,6))\n",
    "plt.scatter(y_pred_andes['Y'], y_pred_andes['exhumation'],label='Ensemble Predictions', c =  y_pred_andes['precip'], cmap = 'viridis', alpha = 0.5)\n",
    "\n",
    "plt.xlabel('Latitude (degrees)', fontsize = 20)\n",
    "plt.ylabel('km/Ma', fontsize = 20)\n",
    "plt.xticks(fontsize = 16)\n",
    "plt.yticks(fontsize = 16)\n",
    "plt.title('Modeled Exhumation', fontsize = 24)\n",
    "plt.legend(fontsize = 16, loc = 'best')\n",
    "\n",
    "plt.tight_layout()\n",
    "\n",
    "if saveIt:\n",
    "    plt.savefig('model_predictions.png')\n",
    "\n",
    "plt.show()"
   ]
  },
  {
   "cell_type": "code",
   "execution_count": null,
   "id": "e4b38e92-a58e-406b-a8ba-b6a9ee2f1351",
   "metadata": {},
   "outputs": [],
   "source": [
    "# plot predictions spatially\n",
    "plt.figure(figsize = (15,10))\n",
    "\n",
    "plt.subplot(131)\n",
    "plt.scatter(x_dat['X'],x_dat['Y'], c = x_dat['exhumation'], cmap = 'hot', vmax = 1.2)\n",
    "#plt.scatter(lon_modeled,lat_modeled, c = exhumation, cmap = 'hot')\n",
    "plt.colorbar()\n",
    "plt.xlim(-72,-61)\n",
    "plt.ylim(-37,-18)\n",
    "plt.ylabel('Latitude')\n",
    "plt.xlabel('Longitude')\n",
    "plt.title('Exhumation: Raw')\n",
    "\n",
    "plt.subplot(132)\n",
    "plt.scatter(lon_modeled,lat_modeled, c = exhumation, cmap = 'hot')\n",
    "plt.colorbar()\n",
    "plt.xlim(-72,-61)\n",
    "plt.ylim(-37,-18)\n",
    "plt.ylabel('Latitude')\n",
    "plt.xlabel('Longitude')\n",
    "plt.title('Exhumation: MLP Model Input')\n",
    "\n",
    "\n",
    "plt.subplot(133)\n",
    "plt.scatter(y_pred_andes['X'], y_pred_andes['Y'], c = y_pred_andes['exhumation'], cmap = 'hot')\n",
    "#plt.scatter(x_dat['X'],x_dat['Y'], c = 'red', vmax = 2)\n",
    "plt.colorbar(label = 'mm/yr')\n",
    "plt.xlim(-72,-61)\n",
    "plt.ylim(-37,-18)\n",
    "plt.ylabel('Latitude')\n",
    "plt.xlabel('Longitude')\n",
    "plt.title('Modeled Exhumation')\n"
   ]
  },
  {
   "cell_type": "code",
   "execution_count": null,
   "id": "294542bb-d981-4348-824f-30ca01b6e251",
   "metadata": {},
   "outputs": [],
   "source": [
    "plt.figure(figsize = (5,10))\n",
    "plt.grid()\n",
    "plt.scatter(y_pred_andes['X'], y_pred_andes['Y'], c = y_pred_andes['exhumation'], cmap = 'inferno')\n",
    "plt.ylabel('Latitude')\n",
    "plt.xlabel('Longitude')\n",
    "plt.title('Modeled Exhumation')\n",
    "plt.colorbar(label = 'km/Ma')\n",
    "\n",
    "line_list = [2,-15, -28, -33.3] # flat-slab zones, norhten, central, and Andes\n",
    "\n",
    "for i in line_list:\n",
    "    plt.axhline(y=i, color='r', linestyle='-')"
   ]
  },
  {
   "cell_type": "code",
   "execution_count": null,
   "id": "68b194d0-d3b0-4f02-8dcc-5379c9ec6d50",
   "metadata": {
    "tags": []
   },
   "outputs": [],
   "source": [
    "# by 1 degree lat\n",
    "# lon width wont work sice the trange bends\n",
    "\n",
    "lat_start = np.arange(10, -49, -1).tolist()\n",
    "lat_end = np.arange(9, -50, -1).tolist()\n",
    "\n",
    "lon_width = []\n",
    "avg_ex = []\n",
    "avg_precip = []\n",
    "avg_den = []\n",
    "avg_tyr = []\n",
    "\n",
    "for i, j in zip(lat_start, lat_end):\n",
    "    arr_min = y_pred_andes['X'][(y_pred_andes['Y'] < i) & (y_pred_andes['Y'] > j)].min()\n",
    "    arr_max = y_pred_andes['X'][(y_pred_andes['Y'] < i) & (y_pred_andes['Y'] > j)].max()\n",
    "    width = arr_max - arr_min\n",
    "    \n",
    "    ex_mean = y_pred_andes['exhumation'][(y_pred_andes['Y'] < i) & (y_pred_andes['Y'] > j)].mean()\n",
    "    precip_mean = y_pred_andes['precip'][(y_pred_andes['Y'] < i) & (y_pred_andes['Y'] > j)].mean()\n",
    "    den_mean = y_pred_andes['QSS_den'][(y_pred_andes['Y'] < i) & (y_pred_andes['Y'] > j)].mean()\n",
    "    tyr_mean = y_pred_andes['QSS_tyr'][(y_pred_andes['Y'] < i) & (y_pred_andes['Y'] > j)].mean()\n",
    "    \n",
    "    lon_width.append(width)\n",
    "    avg_ex.append(ex_mean)\n",
    "    avg_precip.append(precip_mean)\n",
    "    avg_den.append(den_mean)\n",
    "    avg_tyr.append(tyr_mean)\n",
    "\n",
    "lon_width_km = np.array(lon_width)*113.3\n",
    "den_km_ma = np.array(avg_den) * 0.000001 # to km/ ka\n",
    "den_km_ma = den_km_ma * 1000 # to km/Ma\n",
    "\n",
    "ex_over_den = np.array(avg_ex)/np.array(den_km_ma) # av_den\n",
    "ex_min_den = np.array(avg_ex) - np.array(den_km_ma)\n",
    "\n",
    "width = pd.DataFrame({'width':lon_width,\n",
    "                      'width_km': lon_width_km, #convert from degrees to km\n",
    "                         'avg_ex':avg_ex,\n",
    "                        'avg_precip': avg_precip,\n",
    "                        'avg_den': avg_den,\n",
    "                      'avg_tyr': avg_tyr,\n",
    "                      'ex_over_den':ex_over_den,\n",
    "                     'ex_min_den': ex_min_den})\n",
    "#width = width.sort_values(by=['avg_ex']).reset_index(drop = True)"
   ]
  },
  {
   "cell_type": "code",
   "execution_count": null,
   "id": "05677536-0b08-41ee-8072-b3cd8b88b7df",
   "metadata": {},
   "outputs": [],
   "source": [
    "#width = width.sort_values(by=['width']).reset_index(drop = True)\n",
    "plt.figure(figsize=(16,4))\n",
    "\n",
    "plt.subplot(141)\n",
    "plt.bar(lat_start,width['avg_ex'], color = 'red')\n",
    "plt.ylabel('km/Ma', size = 12)\n",
    "plt.title('Exhumation', size = 14)\n",
    "\n",
    "\n",
    "plt.subplot(142)\n",
    "plt.bar(lat_start,width['avg_precip'], color = 'lightblue')\n",
    "plt.ylabel('mm/yr', size = 12)\n",
    "plt.title('Precipitation', size = 14)\n",
    "\n",
    "plt.subplot(143)\n",
    "plt.bar(lat_start,width['avg_den'], color = 'brown')\n",
    "plt.ylabel('mm/ky', size = 12)\n",
    "plt.title('Deunudation', size = 14)\n",
    "\n",
    "plt.subplot(144)\n",
    "plt.bar(lat_start,width['avg_tyr'], color = 'darkblue')\n",
    "plt.ylabel('tons/yr', size = 12)\n",
    "plt.title('Suspended Sediment', size = 14)\n",
    "\n",
    "plt.tight_layout()"
   ]
  },
  {
   "cell_type": "code",
   "execution_count": null,
   "id": "8a17e708-3d30-4511-a8f8-6f00bb3eb9de",
   "metadata": {},
   "outputs": [],
   "source": [
    "# explore relative relations\n",
    "test =  y_pred_andes['exhumation']/y_pred_andes['QSS_den']\n",
    "\n",
    "plt.figure(figsize = (8,5))\n",
    "plt.scatter(lat_new, test, c = y_pred_andes['precip']<400, cmap = 'PiYG', alpha = 0.5, label = 'Precip > 400 mm/yr')\n",
    "plt.xlabel('Latitude', size = 12)\n",
    "plt.ylabel('Ratio', size = 12)\n",
    "plt.title('Exumation/Precipitation', size = 14)\n",
    "plt.legend()\n",
    "\n",
    "for i in line_list:\n",
    "    plt.axvline(x=i, color='r', linestyle='-')\n",
    "plt.xlim()"
   ]
  },
  {
   "cell_type": "code",
   "execution_count": null,
   "id": "33404305-677f-4e9f-bae8-0f592035c170",
   "metadata": {},
   "outputs": [],
   "source": [
    "# DONT PLOT AGAINST EXISTING Y DATA\n",
    "#visualize individual model runs for predicted data\n",
    "\n",
    "saveIt = 0\n",
    "\n",
    "plt.figure(figsize = (5,4))\n",
    "#plt.scatter(y_pred_andes['Y'], y_pred_andes['exhumation'],label='Ensemble Predictions', c =  y_pred_andes['precip'], cmap = 'viridis', alpha = 0.5)\n",
    "plt.scatter(y_pred_andes['precip'], y_pred_andes['QSS_den'],label='Ensemble Predictions', alpha = 0.5)\n",
    "\n",
    "\n",
    "plt.xlabel('Mean Precipitation (mm/yr)', fontsize = 12)\n",
    "plt.ylabel('Denudation  (mm/ky)', fontsize = 12)\n",
    "plt.xticks(fontsize = 10, rotation = 45)\n",
    "plt.yticks(fontsize = 10)\n",
    "#plt.title('', fontsize = 24)\n",
    "#plt.legend(fontsize = 16, loc = 'best')\n",
    "\n",
    "plt.tight_layout()\n",
    "\n",
    "if saveIt:\n",
    "    plt.savefig('model_predictions.png')\n",
    "\n",
    "plt.show()"
   ]
  },
  {
   "cell_type": "code",
   "execution_count": null,
   "id": "4deeb4bb-a3d5-4366-ad91-948ee58362d0",
   "metadata": {},
   "outputs": [],
   "source": [
    "# plot exhumation by width of range\n",
    "\n",
    "from sklearn.linear_model import LinearRegression\n",
    "import scipy\n",
    "from scipy import stats\n",
    "\n",
    "avg_ex = np.array(avg_ex).reshape(-1,1)\n",
    "lon_width = np.array(lon_width).reshape(-1,1)\n",
    "\n",
    "model_lm = LinearRegression().fit(avg_ex,lon_width_km)\n",
    "r_sq = model_lm.score(avg_ex,lon_width_km)\n",
    "print('coefficient of determination:', r_sq)\n",
    "\n",
    "y_pred_lm = model_lm.predict(avg_ex)\n",
    "\n",
    "plt.figure(figsize = (8,5))\n",
    "#plt.scatter(avg_ex, lon_width_km, c =  'darkblue')\n",
    "plt.scatter(width['avg_ex'], width['width_km'], c = width['ex_over_den'])\n",
    "#plt.plot(avg_ex, y_pred_lm, c = 'red', linestyle = '--', alpha = 0.3)\n",
    "#plt.plot(X_unpacked, Y_pred_unpacked, color='red')\n",
    "plt.ylabel('Width (km)', size = 12)\n",
    "plt.xlabel('Predicted exhumation (km/Ma)', size = 12)\n",
    "#plt.title('Relations to Critical Wedge ($r^2$ = {})'.format(round(r_sq,2)), size = 14)\n",
    "plt.colorbar(label = 'exumation/denundation', format='%.0e')"
   ]
  },
  {
   "cell_type": "code",
   "execution_count": null,
   "id": "70c8d73b-cd9e-4da5-bc16-5a343aba6b52",
   "metadata": {},
   "outputs": [],
   "source": [
    "# exumation over denundation\n",
    "den_km_ma_all = np.array(y_pred_andes['QSS_den']) * 0.000001 # to km/ ka\n",
    "den_km_ma_all = den_km_ma_all * 1000 # to km/Ma\n",
    "\n",
    "plt.figure(figsize = (5,10))\n",
    "plt.grid()\n",
    "plt.scatter(y_pred_andes['X'], y_pred_andes['Y'], c = y_pred_andes['exhumation'] / den_km_ma_all, cmap = 'cividis', vmax = 2e5)\n",
    "plt.ylabel('Latitude')\n",
    "plt.xlabel('Longitude')\n",
    "plt.title('Verticle Growth Proxy')\n",
    "plt.colorbar(label = 'Exumation/Denundation', format='%.0e')\n",
    "\n",
    "line_list = [2,-15, -28, -33.3] # flat-slab zones, norhten, central, and Andes\n",
    "\n",
    "for i in line_list:\n",
    "    plt.axhline(y=i, color='r', linestyle='-')"
   ]
  },
  {
   "cell_type": "code",
   "execution_count": null,
   "id": "3100846a-eda1-46e0-a698-adaa3543b2a4",
   "metadata": {},
   "outputs": [],
   "source": [
    "# Fit Power law or linear model\n",
    "# take ln of x and y, run linear regression, plot and unpack\n",
    "import math\n",
    "from sklearn.linear_model import LinearRegression\n",
    "from sklearn.metrics import r2_score\n",
    "from scipy.stats import spearmanr\n",
    "\n",
    "# data\n",
    "width_copy = width\n",
    "width = width.sort_values(by=['ex_over_den']).reset_index(drop = True)\n",
    "\n",
    "X_start = np.array(width_copy['ex_over_den']).reshape(-1,1)\n",
    "X = X_start\n",
    "Y_start = np.array(np.array(width_copy['width_km']).reshape(-1,1))\n",
    "Y = Y_start\n",
    "\n",
    "#X = np.array(width_copy['ex_over_den']).reshape(-1,1)\n",
    "#Y = np.array(np.array(width_copy['width_km']).reshape(-1,1))\n",
    "\n",
    "# run linear regression\n",
    "model_lm = LinearRegression().fit(X,Y)\n",
    "Y_pred_lm = model_lm.predict(X)\n",
    "r2_lm = model_lm.score(X,Y)\n",
    "\n",
    "# take natural log\n",
    "X = np.log(X) \n",
    "Y = np.log(Y)\n",
    "\n",
    "# run linear regression on log data \n",
    "X = X.reshape(-1,1) # values converts it into a numpy array\n",
    "Y = Y.reshape(-1,1) # -1 means that calculate the dimension of rows, but have 1 column\n",
    "linear_regressor = LinearRegression(fit_intercept=True)  # create object for the class\n",
    "linear_regressor.fit(X, Y)  # perform linear regression\n",
    "Y_pred = linear_regressor.predict(X)  # make Y predictions from regression line\n",
    "\n",
    "# calculate residuals\n",
    "residuals = Y - Y_pred\n",
    "residuals = residuals.reshape(1,-1)\n",
    "residuals = residuals[0]\n",
    "\n",
    "# unpack from log-log into linear space, as origionally scaled \n",
    "Y_pred_unpacked = (np.exp(Y_pred))\n",
    "Y_unpacked = (np.exp(Y))\n",
    "X_unpacked = (np.exp(X))\n",
    "\n",
    "# correlation coefficient (r^2)\n",
    "r2 = r2_score(Y, Y_pred)\n",
    "r2 = round(r2,2)\n",
    "\n",
    "#rho, p = spearmanr(Y, Y_pred)\n",
    "#spearmans_r2 = rho**2\n",
    "\n",
    "# plot results\n",
    "plt.figure(figsize = (15,4))\n",
    "plt.subplot(1,3,1)\n",
    "plt.scatter(X_start, Y_start)\n",
    "plt.plot(X_start, Y_pred_lm, color='red')\n",
    "plt.xlabel('Exhumation/Denudation')\n",
    "plt.ylabel('Width (km)')\n",
    "plt.title('Linear Model (R^2: {})'.format(round(r2_lm,2)))\n",
    "\n",
    "plt.subplot(1,3,2)\n",
    "plt.scatter(X, Y)\n",
    "plt.plot(X, Y_pred, color='red')\n",
    "plt.xlabel('Exhumation/Denudation')\n",
    "plt.ylabel('Width (km)')\n",
    "plt.title('lm log space (R^2: {})'.format(r2))\n",
    "\n",
    "plt.subplot(1,3,3)\n",
    "plt.scatter(X_unpacked, Y_start)\n",
    "plt.plot(X_unpacked, Y_pred_unpacked, color='red', linestyle = '--')\n",
    "plt.xlabel('Exhumation/Denudation')\n",
    "plt.ylabel('Width (km)')\n",
    "plt.title('Power law, linear space ($r^2:$ {})'.format(r2))\n",
    "\n",
    "# Equations\n",
    "B = np.round(linear_regressor.coef_,2)\n",
    "A = np.round(linear_regressor.intercept_,2)\n",
    "A_pl = np.round(np.exp(A),2)\n",
    "print('linear: y={}x+{}'.format(A,B))\n",
    "print('Power funtion: y = {}x^{}'.format(A_pl,B))"
   ]
  },
  {
   "cell_type": "code",
   "execution_count": null,
   "id": "0ddcc980-189e-4b1e-a442-a9a412f51124",
   "metadata": {},
   "outputs": [],
   "source": [
    "# LOOKS LIKE A POWER LAW THAT TAPERS OFF, CHECK EARLY DATA ONLY\n",
    "# Fit Power law or linear model\n",
    "# take ln of x and y, run linear regression, plot and unpack\n",
    "import math\n",
    "from sklearn.linear_model import LinearRegression\n",
    "from sklearn.metrics import r2_score\n",
    "from scipy.stats import spearmanr\n",
    "\n",
    "# data\n",
    "width_copy = width\n",
    "width_copy = width.sort_values(by=['ex_over_den']).reset_index(drop = True)\n",
    "X_start = np.array(width_copy['ex_over_den'][width_copy['ex_over_den'] <2.5]).reshape(-1,1)\n",
    "X = X_start\n",
    "\n",
    "Y_start = np.array(np.array(width_copy['width_km'][width_copy['ex_over_den'] <2.5]).reshape(-1,1))\n",
    "Y = Y_start\n",
    "\n",
    "#X = np.array(width_copy['ex_over_den']).reshape(-1,1)\n",
    "#Y = np.array(np.array(width_copy['width_km']).reshape(-1,1))\n",
    "\n",
    "# run linear regression\n",
    "model_lm = LinearRegression().fit(X,Y)\n",
    "Y_pred_lm = model_lm.predict(X)\n",
    "r2_lm = model_lm.score(X,Y)\n",
    "\n",
    "# take natural log\n",
    "X = np.log(X) \n",
    "Y = np.log(Y)\n",
    "\n",
    "# run linear regression on log data \n",
    "X = X.reshape(-1,1) # values converts it into a numpy array\n",
    "Y = Y.reshape(-1,1) # -1 means that calculate the dimension of rows, but have 1 column\n",
    "linear_regressor = LinearRegression(fit_intercept=True)  # create object for the class\n",
    "linear_regressor.fit(X, Y)  # perform linear regression\n",
    "Y_pred = linear_regressor.predict(X)  # make Y predictions from regression line\n",
    "\n",
    "# calculate residuals\n",
    "residuals = Y - Y_pred\n",
    "residuals = residuals.reshape(1,-1)\n",
    "residuals = residuals[0]\n",
    "\n",
    "# unpack from log-log into linear space, as origionally scaled \n",
    "Y_pred_unpacked = (np.exp(Y_pred))\n",
    "Y_unpacked = (np.exp(Y))\n",
    "X_unpacked = (np.exp(X))\n",
    "\n",
    "# correlation coefficient (r^2)\n",
    "r2 = r2_score(Y, Y_pred)\n",
    "r2 = round(r2,2)\n",
    "\n",
    "#rho, p = spearmanr(Y, Y_pred)\n",
    "#spearmans_r2 = rho**2\n",
    "\n",
    "# plot results\n",
    "plt.figure(figsize = (15,4))\n",
    "plt.subplot(1,3,1)\n",
    "plt.scatter(X_start, Y_start)\n",
    "plt.plot(X_start, Y_pred_lm, color='red')\n",
    "plt.xlabel('Exhumation/Denudation')\n",
    "plt.ylabel('Width (km)')\n",
    "plt.title('Linear Model (R^2: {})'.format(round(r2_lm,2)))\n",
    "\n",
    "plt.subplot(1,3,2)\n",
    "plt.scatter(X, Y)\n",
    "plt.plot(X, Y_pred, color='red')\n",
    "plt.xlabel('Exhumation/Denudation')\n",
    "plt.ylabel('Width (km)')\n",
    "plt.title('lm log space (R^2: {})'.format(r2))\n",
    "\n",
    "plt.subplot(1,3,3)\n",
    "plt.scatter(X_unpacked, Y_start)\n",
    "plt.plot(X_unpacked, Y_pred_unpacked, color='red', linestyle = '--')\n",
    "plt.xlabel('Exhumation/Denudation')\n",
    "plt.ylabel('Width (km)')\n",
    "plt.title('Power law, linear space ($r^2:$ {})'.format(r2))\n",
    "\n",
    "# Equations\n",
    "B = np.round(linear_regressor.coef_,2)\n",
    "A = np.round(linear_regressor.intercept_,2)\n",
    "A_pl = np.round(np.exp(A),2)\n",
    "print('linear: y={}x+{}'.format(A,B))\n",
    "print('Power funtion: y = {}x^{}'.format(A_pl,B))\n"
   ]
  },
  {
   "cell_type": "code",
   "execution_count": null,
   "id": "e7ea9e90-8fc6-4264-89e4-51c07ff33874",
   "metadata": {},
   "outputs": [],
   "source": [
    "precip_plot = np.array(np.array(width_copy['avg_precip'][width_copy['ex_over_den'] <2.5]).reshape(-1,1))\n",
    "\n",
    "# plot regresson nice\n",
    "plt.figure(figsize = (15,5))\n",
    "plt.scatter(X_start, Y_start, c = precip_plot, cmap = 'BrBG', edgecolors='gray')\n",
    "plt.plot(X_unpacked, Y_pred_unpacked, color='red', linestyle = '--', alpha = 0.5)\n",
    "plt.ylabel('Width (km)', size = 12)\n",
    "plt.xlabel('Exumation/Denundation', size = 12)\n",
    "plt.title('Exumation / Denundation ($r^2$ = {})'.format(r2), size = 14)\n",
    "plt.colorbar(label = 'Precipitation (mm/yr)')"
   ]
  },
  {
   "cell_type": "markdown",
   "id": "d87f52a9-04f2-4bef-9d23-a3c09ac75316",
   "metadata": {},
   "source": [
    "### Exumation - Denudation ?\n",
    "#### all units in km/ ma"
   ]
  },
  {
   "cell_type": "code",
   "execution_count": null,
   "id": "365513c5-d92b-45c7-b2eb-d1d5b24d7fa5",
   "metadata": {},
   "outputs": [],
   "source": [
    "# exumation over denundation\n",
    "den_km_ma_all = np.array(y_pred_andes['QSS_den']) * 0.000001 # to km/ ka\n",
    "den_km_ma_all = den_km_ma_all * 1000 # to km/Ma\n",
    "\n",
    "plt.figure(figsize = (5,10))\n",
    "plt.grid()\n",
    "plt.scatter(y_pred_andes['X'], y_pred_andes['Y'], c = y_pred_andes['exhumation'] - den_km_ma_all, cmap = 'seismic', vmin = -2, vmax = 2) # limit range so 0 is white\n",
    "plt.ylabel('Latitude')\n",
    "plt.xlabel('Longitude')\n",
    "plt.title('Absolute Change')\n",
    "plt.colorbar(label = 'km/Ma')\n",
    "\n",
    "line_list = [2,-15, -28, -33.3] # flat-slab zones, norhten, central, and Andes\n",
    "\n",
    "for i in line_list:\n",
    "    plt.axhline(y=i, color='r', linestyle='-')"
   ]
  },
  {
   "cell_type": "code",
   "execution_count": null,
   "id": "c5aa82d1-c90b-4c3e-a6cb-f0e4c3cb80b3",
   "metadata": {},
   "outputs": [],
   "source": [
    "# Fit Power law function or linear model\n",
    "# take ln of x and y, run linear regression, plot and unpack\n",
    "import math\n",
    "from sklearn.linear_model import LinearRegression\n",
    "from sklearn.metrics import r2_score\n",
    "from scipy.stats import spearmanr\n",
    "\n",
    "# data\n",
    "width_copy = width\n",
    "width_copy = width.sort_values(by=['ex_min_den']).reset_index(drop = True)\n",
    "\n",
    "X_start = np.array(width_copy['ex_min_den']).reshape(-1,1)\n",
    "X = X_start\n",
    "\n",
    "Y_start = np.array(np.array(width_copy['width_km']).reshape(-1,1))\n",
    "Y = Y_start\n",
    "\n",
    "\n",
    "# run linear regression\n",
    "model_lm = LinearRegression().fit(X_start,Y_start)\n",
    "Y_pred_lm = model_lm.predict(X_start)\n",
    "r2_lm = model_lm.score(X_start,Y_start)\n",
    "\n",
    "# take natural log\n",
    "X = (X - X.min()) + 1\n",
    "X = np.log(X) \n",
    "Y = np.log(Y)\n",
    "\n",
    "# run linear regression on log data \n",
    "X = X.reshape(-1,1) # values converts it into a numpy array\n",
    "Y = Y.reshape(-1,1) # -1 means that calculate the dimension of rows, but have 1 column\n",
    "linear_regressor = LinearRegression(fit_intercept=True)  # create object for the class\n",
    "linear_regressor.fit(X, Y)  # perform linear regression\n",
    "Y_pred = linear_regressor.predict(X)  # make Y predictions from regression line\n",
    "\n",
    "# calculate residuals\n",
    "residuals = Y - Y_pred\n",
    "residuals = residuals.reshape(1,-1)\n",
    "residuals = residuals[0]\n",
    "\n",
    "# unpack from log-log into linear space, as origionally scaled \n",
    "Y_pred_unpacked = (np.exp(Y_pred))\n",
    "Y_unpacked = (np.exp(Y))\n",
    "X_unpacked = ((np.exp(X)) -1)  + X_start.min()\n",
    "\n",
    "# correlation coefficient (r^2)\n",
    "r2 = r2_score(Y, Y_pred)\n",
    "r2 = round(r2,2)\n",
    "\n",
    "#rho, p = spearmanr(Y, Y_pred)\n",
    "#spearmans_r2 = rho**2\n",
    "\n",
    "# plot results\n",
    "plt.figure(figsize = (15,4))\n",
    "plt.subplot(1,3,1)\n",
    "plt.scatter(X_start, Y_start)\n",
    "plt.plot(X_start, Y_pred_lm, color='red')\n",
    "plt.xlabel('Verticle Change (km)')\n",
    "plt.ylabel('Width (km)')\n",
    "plt.title('Linear Model (R^2: {})'.format(round(r2_lm,2)))\n",
    "\n",
    "plt.subplot(1,3,2)\n",
    "plt.scatter(X, Y)\n",
    "plt.plot(X, Y_pred, color='red')\n",
    "plt.xlabel('Verticle Change (km)')\n",
    "plt.ylabel('Width (km)')\n",
    "plt.title('lm log space (R^2: {})'.format(r2))\n",
    "\n",
    "plt.subplot(1,3,3)\n",
    "plt.scatter(X_unpacked, Y_start)\n",
    "plt.plot(X_unpacked, Y_pred_unpacked, color='red', linestyle = '--')\n",
    "plt.xlabel('Verticle Change (km)')\n",
    "plt.ylabel('Width (km)')\n",
    "plt.title('Power law, linear space ($r^2:$ {})'.format(r2))\n",
    "\n",
    "# Equations\n",
    "B = np.round(linear_regressor.coef_,2)\n",
    "A = np.round(linear_regressor.intercept_,2)\n",
    "A_pl = np.round(np.exp(A),2)\n",
    "print('linear: y={}x+{}'.format(A,B))\n",
    "print('Power funtion: y = {}x^{}'.format(A_pl,B))\n"
   ]
  },
  {
   "cell_type": "code",
   "execution_count": null,
   "id": "2d72ee41-5d98-44e2-815b-0ab26f70eb38",
   "metadata": {},
   "outputs": [],
   "source": [
    "precip_plot = np.array(np.array(width_copy['avg_precip'][width_copy['ex_min_den'] <2.5]).reshape(-1,1))\n",
    "\n",
    "# plot regresson nice\n",
    "plt.figure(figsize = (15,5))\n",
    "plt.scatter(X_start, Y_start, c = precip_plot, cmap = 'BrBG', edgecolors='gray')\n",
    "plt.plot(X_unpacked, Y_pred_unpacked, color='red', linestyle = '--', alpha = 0.5)\n",
    "plt.ylabel('Width (km)', size = 12)\n",
    "plt.xlabel('Verticle Change', size = 12)\n",
    "plt.title('Exumation - Denundation ($r^2$ = {})'.format(r2), size = 14)\n",
    "plt.colorbar(label = 'Precipitation (mm/yr)')"
   ]
  },
  {
   "cell_type": "code",
   "execution_count": null,
   "id": "edbeb348-df17-49f0-b75b-d92438401a5e",
   "metadata": {},
   "outputs": [],
   "source": [
    "# by geogrpahic unit\n",
    "# Northern Andes, Flat Slab 1, Central Andes, Flat Slab 2, SOuthern Andes\n",
    "# lon width wont work sice the trange bends\n",
    "\n",
    "lat_start = [10,2,-15,-28,-33.3]\n",
    "lat_end = [2,-15,-28,-33.3,-50]\n",
    "\n",
    "#lon_width = []\n",
    "avg_ex = []\n",
    "avg_precip = []\n",
    "avg_den = []\n",
    "avg_tyr = []\n",
    "\n",
    "for i, j in zip(lat_start, lat_end):\n",
    "    #arr_min = y_pred_andes['X'][(y_pred_andes['Y'] < i) & (y_pred_andes['Y'] > j)].min()\n",
    "    #arr_max = y_pred_andes['X'][(y_pred_andes['Y'] < i) & (y_pred_andes['Y'] > j)].max()\n",
    "    width = arr_max - arr_min\n",
    "    \n",
    "    ex_mean = y_pred_andes['exhumation'][(y_pred_andes['Y'] < i) & (y_pred_andes['Y'] > j)].mean()\n",
    "    precip_mean = y_pred_andes['precip'][(y_pred_andes['Y'] < i) & (y_pred_andes['Y'] > j)].mean()\n",
    "    den_mean = y_pred_andes['QSS_den'][(y_pred_andes['Y'] < i) & (y_pred_andes['Y'] > j)].mean()\n",
    "    tyr_mean = y_pred_andes['QSS_tyr'][(y_pred_andes['Y'] < i) & (y_pred_andes['Y'] > j)].mean()\n",
    "    \n",
    "    #lon_width.append(width)\n",
    "    avg_ex.append(ex_mean)\n",
    "    avg_precip.append(precip_mean)\n",
    "    avg_den.append(den_mean)\n",
    "    avg_tyr.append(tyr_mean)"
   ]
  },
  {
   "cell_type": "code",
   "execution_count": null,
   "id": "75858f1b-160b-4378-8fab-06096ff36268",
   "metadata": {},
   "outputs": [],
   "source": [
    "width = pd.DataFrame({ 'avg_ex':avg_ex,\n",
    "                        'avg_precip': avg_precip,\n",
    "                        'avg_den': avg_den,\n",
    "                      'avg_tyr': avg_tyr,\n",
    "                      'geog':['N','FS1','CA','FS2','SA']})\n",
    "\n",
    "#width = width.sort_values(by=['width']).reset_index(drop = True)\n",
    "plt.figure(figsize=(16,4))\n",
    "\n",
    "plt.subplot(141)\n",
    "plt.bar(width['geog'],width['avg_ex'], color = 'red')\n",
    "plt.ylabel('km/Ma', size = 12)\n",
    "plt.title('Exhumation', size = 14)\n",
    "\n",
    "plt.subplot(142)\n",
    "plt.bar(width['geog'],width['avg_precip'], color = 'lightblue')\n",
    "plt.ylabel('mm/yr', size = 12)\n",
    "plt.title('Precipitation', size = 14)\n",
    "\n",
    "plt.subplot(143)\n",
    "plt.bar(width['geog'],width['avg_den'], color = 'brown')\n",
    "plt.ylabel('mm/ky', size = 12)\n",
    "plt.title('Deunudation', size = 14)\n",
    "\n",
    "plt.subplot(144)\n",
    "plt.bar(width['geog'],width['avg_tyr'], color = 'darkblue')\n",
    "plt.ylabel('tons/yr', size = 12)\n",
    "plt.title('Suspended Sediment', size = 14)\n",
    "\n",
    "plt.tight_layout()"
   ]
  }
 ],
 "metadata": {
  "kernelspec": {
   "display_name": "env_eosc510",
   "language": "python",
   "name": "env_eosc510"
  },
  "language_info": {
   "codemirror_mode": {
    "name": "ipython",
    "version": 3
   },
   "file_extension": ".py",
   "mimetype": "text/x-python",
   "name": "python",
   "nbconvert_exporter": "python",
   "pygments_lexer": "ipython3",
   "version": "3.8.10"
  }
 },
 "nbformat": 4,
 "nbformat_minor": 5
}
