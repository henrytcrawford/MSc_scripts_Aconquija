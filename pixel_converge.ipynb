{
 "cells": [
  {
   "cell_type": "code",
   "execution_count": null,
   "id": "7aac42bf-6fcd-44ff-ad11-f3f7c4a7af81",
   "metadata": {},
   "outputs": [],
   "source": [
    "## Idenitfy how many pixels need to be avergaed until mean converges to a steady value.\n",
    "\n",
    "# 1. identify sample SPOTS in raster scene as polygons\n",
    "# 2. mask raster to only show data within these polygonns\n",
    "# 3. extract individual pixel values for given Band/wavelength\n",
    "# 4. sort pixels randomly\n",
    "# 5. iterativly calculate mean spectral value as pixels are added one at a time. \n",
    "# 6. identify number of pixels where mean spectral value begins to stabalize. This is the minimum number of pixels needed to charectorize a targeted surface.\n",
    "# 7. Conver minimum number of pixels to minimum number of SPOT polygons at the 50-meter, 100-meter, and 150-meter radius (e.g. 9 pixels, 20 pixels, and X pixels each)"
   ]
  },
  {
   "cell_type": "code",
   "execution_count": null,
   "id": "7d055d95-b3a6-4e7c-b9a7-fa36d26ba443",
   "metadata": {},
   "outputs": [],
   "source": []
  }
 ],
 "metadata": {
  "kernelspec": {
   "display_name": "geo_env",
   "language": "python",
   "name": "geo_env"
  },
  "language_info": {
   "codemirror_mode": {
    "name": "ipython",
    "version": 3
   },
   "file_extension": ".py",
   "mimetype": "text/x-python",
   "name": "python",
   "nbconvert_exporter": "python",
   "pygments_lexer": "ipython3",
   "version": "3.9.6"
  }
 },
 "nbformat": 4,
 "nbformat_minor": 5
}
